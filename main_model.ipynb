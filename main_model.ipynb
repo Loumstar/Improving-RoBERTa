{
  "cells": [
    {
      "cell_type": "markdown",
      "metadata": {
        "id": "view-in-github",
        "colab_type": "text"
      },
      "source": [
        "<a href=\"https://colab.research.google.com/github/Loumstar/Improving-RoBERTa/blob/master/main_model.ipynb\" target=\"_parent\"><img src=\"https://colab.research.google.com/assets/colab-badge.svg\" alt=\"Open In Colab\"/></a>"
      ]
    },
    {
      "cell_type": "code",
      "execution_count": 1,
      "metadata": {
        "colab": {
          "base_uri": "https://localhost:8080/"
        },
        "id": "UYyLA2fddXcB",
        "outputId": "ec1db834-ef8b-449f-de86-eb0911fe8202"
      },
      "outputs": [
        {
          "output_type": "stream",
          "name": "stdout",
          "text": [
            "Fri Mar  4 15:49:00 2022       \n",
            "+-----------------------------------------------------------------------------+\n",
            "| NVIDIA-SMI 460.32.03    Driver Version: 460.32.03    CUDA Version: 11.2     |\n",
            "|-------------------------------+----------------------+----------------------+\n",
            "| GPU  Name        Persistence-M| Bus-Id        Disp.A | Volatile Uncorr. ECC |\n",
            "| Fan  Temp  Perf  Pwr:Usage/Cap|         Memory-Usage | GPU-Util  Compute M. |\n",
            "|                               |                      |               MIG M. |\n",
            "|===============================+======================+======================|\n",
            "|   0  Tesla P100-PCIE...  Off  | 00000000:00:04.0 Off |                    0 |\n",
            "| N/A   36C    P0    25W / 250W |      0MiB / 16280MiB |      0%      Default |\n",
            "|                               |                      |                  N/A |\n",
            "+-------------------------------+----------------------+----------------------+\n",
            "                                                                               \n",
            "+-----------------------------------------------------------------------------+\n",
            "| Processes:                                                                  |\n",
            "|  GPU   GI   CI        PID   Type   Process name                  GPU Memory |\n",
            "|        ID   ID                                                   Usage      |\n",
            "|=============================================================================|\n",
            "|  No running processes found                                                 |\n",
            "+-----------------------------------------------------------------------------+\n"
          ]
        }
      ],
      "source": [
        "!nvidia-smi"
      ]
    },
    {
      "cell_type": "markdown",
      "metadata": {
        "id": "q-qgGacGc0iY"
      },
      "source": [
        "# Setup\n"
      ]
    },
    {
      "cell_type": "markdown",
      "metadata": {
        "id": "sTmK5tRp--Sh"
      },
      "source": [
        "## Installations & Imports"
      ]
    },
    {
      "cell_type": "code",
      "execution_count": 2,
      "metadata": {
        "colab": {
          "base_uri": "https://localhost:8080/"
        },
        "id": "scxgkTcbZK6j",
        "outputId": "65c81f56-c3df-4463-d369-f379cf6f7450"
      },
      "outputs": [
        {
          "output_type": "stream",
          "name": "stdout",
          "text": [
            "Collecting transformers\n",
            "  Downloading transformers-4.17.0-py3-none-any.whl (3.8 MB)\n",
            "\u001b[K     |████████████████████████████████| 3.8 MB 8.1 MB/s \n",
            "\u001b[?25hCollecting sentencepiece\n",
            "  Downloading sentencepiece-0.1.96-cp37-cp37m-manylinux_2_17_x86_64.manylinux2014_x86_64.whl (1.2 MB)\n",
            "\u001b[K     |████████████████████████████████| 1.2 MB 56.5 MB/s \n",
            "\u001b[?25hRequirement already satisfied: ipywidgets in /usr/local/lib/python3.7/dist-packages (7.6.5)\n",
            "Collecting tensorboardx\n",
            "  Downloading tensorboardX-2.5-py2.py3-none-any.whl (125 kB)\n",
            "\u001b[K     |████████████████████████████████| 125 kB 77.6 MB/s \n",
            "\u001b[?25hCollecting wandb\n",
            "  Downloading wandb-0.12.11-py2.py3-none-any.whl (1.7 MB)\n",
            "\u001b[K     |████████████████████████████████| 1.7 MB 58.9 MB/s \n",
            "\u001b[?25hRequirement already satisfied: matplotlib in /usr/local/lib/python3.7/dist-packages (3.2.2)\n",
            "Collecting sacremoses\n",
            "  Downloading sacremoses-0.0.47-py2.py3-none-any.whl (895 kB)\n",
            "\u001b[K     |████████████████████████████████| 895 kB 55.5 MB/s \n",
            "\u001b[?25hRequirement already satisfied: tqdm>=4.27 in /usr/local/lib/python3.7/dist-packages (from transformers) (4.63.0)\n",
            "Requirement already satisfied: requests in /usr/local/lib/python3.7/dist-packages (from transformers) (2.23.0)\n",
            "Collecting tokenizers!=0.11.3,>=0.11.1\n",
            "  Downloading tokenizers-0.11.6-cp37-cp37m-manylinux_2_12_x86_64.manylinux2010_x86_64.whl (6.5 MB)\n",
            "\u001b[K     |████████████████████████████████| 6.5 MB 49.0 MB/s \n",
            "\u001b[?25hRequirement already satisfied: packaging>=20.0 in /usr/local/lib/python3.7/dist-packages (from transformers) (21.3)\n",
            "Requirement already satisfied: importlib-metadata in /usr/local/lib/python3.7/dist-packages (from transformers) (4.11.2)\n",
            "Collecting huggingface-hub<1.0,>=0.1.0\n",
            "  Downloading huggingface_hub-0.4.0-py3-none-any.whl (67 kB)\n",
            "\u001b[K     |████████████████████████████████| 67 kB 5.3 MB/s \n",
            "\u001b[?25hRequirement already satisfied: regex!=2019.12.17 in /usr/local/lib/python3.7/dist-packages (from transformers) (2019.12.20)\n",
            "Requirement already satisfied: numpy>=1.17 in /usr/local/lib/python3.7/dist-packages (from transformers) (1.21.5)\n",
            "Collecting pyyaml>=5.1\n",
            "  Downloading PyYAML-6.0-cp37-cp37m-manylinux_2_5_x86_64.manylinux1_x86_64.manylinux_2_12_x86_64.manylinux2010_x86_64.whl (596 kB)\n",
            "\u001b[K     |████████████████████████████████| 596 kB 54.4 MB/s \n",
            "\u001b[?25hRequirement already satisfied: filelock in /usr/local/lib/python3.7/dist-packages (from transformers) (3.6.0)\n",
            "Requirement already satisfied: typing-extensions>=3.7.4.3 in /usr/local/lib/python3.7/dist-packages (from huggingface-hub<1.0,>=0.1.0->transformers) (3.10.0.2)\n",
            "Requirement already satisfied: pyparsing!=3.0.5,>=2.0.2 in /usr/local/lib/python3.7/dist-packages (from packaging>=20.0->transformers) (3.0.7)\n",
            "Requirement already satisfied: widgetsnbextension~=3.5.0 in /usr/local/lib/python3.7/dist-packages (from ipywidgets) (3.5.2)\n",
            "Requirement already satisfied: ipython>=4.0.0 in /usr/local/lib/python3.7/dist-packages (from ipywidgets) (5.5.0)\n",
            "Requirement already satisfied: jupyterlab-widgets>=1.0.0 in /usr/local/lib/python3.7/dist-packages (from ipywidgets) (1.0.2)\n",
            "Requirement already satisfied: traitlets>=4.3.1 in /usr/local/lib/python3.7/dist-packages (from ipywidgets) (5.1.1)\n",
            "Requirement already satisfied: ipython-genutils~=0.2.0 in /usr/local/lib/python3.7/dist-packages (from ipywidgets) (0.2.0)\n",
            "Requirement already satisfied: nbformat>=4.2.0 in /usr/local/lib/python3.7/dist-packages (from ipywidgets) (5.1.3)\n",
            "Requirement already satisfied: ipykernel>=4.5.1 in /usr/local/lib/python3.7/dist-packages (from ipywidgets) (4.10.1)\n",
            "Requirement already satisfied: jupyter-client in /usr/local/lib/python3.7/dist-packages (from ipykernel>=4.5.1->ipywidgets) (5.3.5)\n",
            "Requirement already satisfied: tornado>=4.0 in /usr/local/lib/python3.7/dist-packages (from ipykernel>=4.5.1->ipywidgets) (5.1.1)\n",
            "Requirement already satisfied: pygments in /usr/local/lib/python3.7/dist-packages (from ipython>=4.0.0->ipywidgets) (2.6.1)\n",
            "Requirement already satisfied: pickleshare in /usr/local/lib/python3.7/dist-packages (from ipython>=4.0.0->ipywidgets) (0.7.5)\n",
            "Requirement already satisfied: prompt-toolkit<2.0.0,>=1.0.4 in /usr/local/lib/python3.7/dist-packages (from ipython>=4.0.0->ipywidgets) (1.0.18)\n",
            "Requirement already satisfied: pexpect in /usr/local/lib/python3.7/dist-packages (from ipython>=4.0.0->ipywidgets) (4.8.0)\n",
            "Requirement already satisfied: decorator in /usr/local/lib/python3.7/dist-packages (from ipython>=4.0.0->ipywidgets) (4.4.2)\n",
            "Requirement already satisfied: setuptools>=18.5 in /usr/local/lib/python3.7/dist-packages (from ipython>=4.0.0->ipywidgets) (57.4.0)\n",
            "Requirement already satisfied: simplegeneric>0.8 in /usr/local/lib/python3.7/dist-packages (from ipython>=4.0.0->ipywidgets) (0.8.1)\n",
            "Requirement already satisfied: jsonschema!=2.5.0,>=2.4 in /usr/local/lib/python3.7/dist-packages (from nbformat>=4.2.0->ipywidgets) (4.3.3)\n",
            "Requirement already satisfied: jupyter-core in /usr/local/lib/python3.7/dist-packages (from nbformat>=4.2.0->ipywidgets) (4.9.2)\n",
            "Requirement already satisfied: pyrsistent!=0.17.0,!=0.17.1,!=0.17.2,>=0.14.0 in /usr/local/lib/python3.7/dist-packages (from jsonschema!=2.5.0,>=2.4->nbformat>=4.2.0->ipywidgets) (0.18.1)\n",
            "Requirement already satisfied: importlib-resources>=1.4.0 in /usr/local/lib/python3.7/dist-packages (from jsonschema!=2.5.0,>=2.4->nbformat>=4.2.0->ipywidgets) (5.4.0)\n",
            "Requirement already satisfied: attrs>=17.4.0 in /usr/local/lib/python3.7/dist-packages (from jsonschema!=2.5.0,>=2.4->nbformat>=4.2.0->ipywidgets) (21.4.0)\n",
            "Requirement already satisfied: zipp>=3.1.0 in /usr/local/lib/python3.7/dist-packages (from importlib-resources>=1.4.0->jsonschema!=2.5.0,>=2.4->nbformat>=4.2.0->ipywidgets) (3.7.0)\n",
            "Requirement already satisfied: wcwidth in /usr/local/lib/python3.7/dist-packages (from prompt-toolkit<2.0.0,>=1.0.4->ipython>=4.0.0->ipywidgets) (0.2.5)\n",
            "Requirement already satisfied: six>=1.9.0 in /usr/local/lib/python3.7/dist-packages (from prompt-toolkit<2.0.0,>=1.0.4->ipython>=4.0.0->ipywidgets) (1.15.0)\n",
            "Requirement already satisfied: notebook>=4.4.1 in /usr/local/lib/python3.7/dist-packages (from widgetsnbextension~=3.5.0->ipywidgets) (5.3.1)\n",
            "Requirement already satisfied: jinja2 in /usr/local/lib/python3.7/dist-packages (from notebook>=4.4.1->widgetsnbextension~=3.5.0->ipywidgets) (2.11.3)\n",
            "Requirement already satisfied: Send2Trash in /usr/local/lib/python3.7/dist-packages (from notebook>=4.4.1->widgetsnbextension~=3.5.0->ipywidgets) (1.8.0)\n",
            "Requirement already satisfied: terminado>=0.8.1 in /usr/local/lib/python3.7/dist-packages (from notebook>=4.4.1->widgetsnbextension~=3.5.0->ipywidgets) (0.13.1)\n",
            "Requirement already satisfied: nbconvert in /usr/local/lib/python3.7/dist-packages (from notebook>=4.4.1->widgetsnbextension~=3.5.0->ipywidgets) (5.6.1)\n",
            "Requirement already satisfied: python-dateutil>=2.1 in /usr/local/lib/python3.7/dist-packages (from jupyter-client->ipykernel>=4.5.1->ipywidgets) (2.8.2)\n",
            "Requirement already satisfied: pyzmq>=13 in /usr/local/lib/python3.7/dist-packages (from jupyter-client->ipykernel>=4.5.1->ipywidgets) (22.3.0)\n",
            "Requirement already satisfied: ptyprocess in /usr/local/lib/python3.7/dist-packages (from terminado>=0.8.1->notebook>=4.4.1->widgetsnbextension~=3.5.0->ipywidgets) (0.7.0)\n",
            "Requirement already satisfied: protobuf>=3.8.0 in /usr/local/lib/python3.7/dist-packages (from tensorboardx) (3.17.3)\n",
            "Collecting sentry-sdk>=1.0.0\n",
            "  Downloading sentry_sdk-1.5.6-py2.py3-none-any.whl (144 kB)\n",
            "\u001b[K     |████████████████████████████████| 144 kB 83.6 MB/s \n",
            "\u001b[?25hCollecting docker-pycreds>=0.4.0\n",
            "  Downloading docker_pycreds-0.4.0-py2.py3-none-any.whl (9.0 kB)\n",
            "Collecting setproctitle\n",
            "  Downloading setproctitle-1.2.2-cp37-cp37m-manylinux1_x86_64.whl (36 kB)\n",
            "Collecting shortuuid>=0.5.0\n",
            "  Downloading shortuuid-1.0.8-py3-none-any.whl (9.5 kB)\n",
            "Collecting GitPython>=1.0.0\n",
            "  Downloading GitPython-3.1.27-py3-none-any.whl (181 kB)\n",
            "\u001b[K     |████████████████████████████████| 181 kB 73.8 MB/s \n",
            "\u001b[?25hRequirement already satisfied: psutil>=5.0.0 in /usr/local/lib/python3.7/dist-packages (from wandb) (5.4.8)\n",
            "Requirement already satisfied: promise<3,>=2.0 in /usr/local/lib/python3.7/dist-packages (from wandb) (2.3)\n",
            "Requirement already satisfied: Click!=8.0.0,>=7.0 in /usr/local/lib/python3.7/dist-packages (from wandb) (7.1.2)\n",
            "Collecting pathtools\n",
            "  Downloading pathtools-0.1.2.tar.gz (11 kB)\n",
            "Collecting yaspin>=1.0.0\n",
            "  Downloading yaspin-2.1.0-py3-none-any.whl (18 kB)\n",
            "Collecting gitdb<5,>=4.0.1\n",
            "  Downloading gitdb-4.0.9-py3-none-any.whl (63 kB)\n",
            "\u001b[K     |████████████████████████████████| 63 kB 1.7 MB/s \n",
            "\u001b[?25hCollecting smmap<6,>=3.0.1\n",
            "  Downloading smmap-5.0.0-py3-none-any.whl (24 kB)\n",
            "Requirement already satisfied: idna<3,>=2.5 in /usr/local/lib/python3.7/dist-packages (from requests->transformers) (2.10)\n",
            "Requirement already satisfied: certifi>=2017.4.17 in /usr/local/lib/python3.7/dist-packages (from requests->transformers) (2021.10.8)\n",
            "Requirement already satisfied: urllib3!=1.25.0,!=1.25.1,<1.26,>=1.21.1 in /usr/local/lib/python3.7/dist-packages (from requests->transformers) (1.24.3)\n",
            "Requirement already satisfied: chardet<4,>=3.0.2 in /usr/local/lib/python3.7/dist-packages (from requests->transformers) (3.0.4)\n",
            "Requirement already satisfied: termcolor<2.0.0,>=1.1.0 in /usr/local/lib/python3.7/dist-packages (from yaspin>=1.0.0->wandb) (1.1.0)\n",
            "Requirement already satisfied: kiwisolver>=1.0.1 in /usr/local/lib/python3.7/dist-packages (from matplotlib) (1.3.2)\n",
            "Requirement already satisfied: cycler>=0.10 in /usr/local/lib/python3.7/dist-packages (from matplotlib) (0.11.0)\n",
            "Requirement already satisfied: MarkupSafe>=0.23 in /usr/local/lib/python3.7/dist-packages (from jinja2->notebook>=4.4.1->widgetsnbextension~=3.5.0->ipywidgets) (2.0.1)\n",
            "Requirement already satisfied: entrypoints>=0.2.2 in /usr/local/lib/python3.7/dist-packages (from nbconvert->notebook>=4.4.1->widgetsnbextension~=3.5.0->ipywidgets) (0.4)\n",
            "Requirement already satisfied: testpath in /usr/local/lib/python3.7/dist-packages (from nbconvert->notebook>=4.4.1->widgetsnbextension~=3.5.0->ipywidgets) (0.6.0)\n",
            "Requirement already satisfied: bleach in /usr/local/lib/python3.7/dist-packages (from nbconvert->notebook>=4.4.1->widgetsnbextension~=3.5.0->ipywidgets) (4.1.0)\n",
            "Requirement already satisfied: pandocfilters>=1.4.1 in /usr/local/lib/python3.7/dist-packages (from nbconvert->notebook>=4.4.1->widgetsnbextension~=3.5.0->ipywidgets) (1.5.0)\n",
            "Requirement already satisfied: mistune<2,>=0.8.1 in /usr/local/lib/python3.7/dist-packages (from nbconvert->notebook>=4.4.1->widgetsnbextension~=3.5.0->ipywidgets) (0.8.4)\n",
            "Requirement already satisfied: defusedxml in /usr/local/lib/python3.7/dist-packages (from nbconvert->notebook>=4.4.1->widgetsnbextension~=3.5.0->ipywidgets) (0.7.1)\n",
            "Requirement already satisfied: webencodings in /usr/local/lib/python3.7/dist-packages (from bleach->nbconvert->notebook>=4.4.1->widgetsnbextension~=3.5.0->ipywidgets) (0.5.1)\n",
            "Requirement already satisfied: joblib in /usr/local/lib/python3.7/dist-packages (from sacremoses->transformers) (1.1.0)\n",
            "Building wheels for collected packages: pathtools\n",
            "  Building wheel for pathtools (setup.py) ... \u001b[?25l\u001b[?25hdone\n",
            "  Created wheel for pathtools: filename=pathtools-0.1.2-py3-none-any.whl size=8806 sha256=14e7f3e262b2c7b51b6e81b1609786ad0c8325eb97d7ba70087d165301b68aa3\n",
            "  Stored in directory: /root/.cache/pip/wheels/3e/31/09/fa59cef12cdcfecc627b3d24273699f390e71828921b2cbba2\n",
            "Successfully built pathtools\n",
            "Installing collected packages: smmap, pyyaml, gitdb, yaspin, tokenizers, shortuuid, setproctitle, sentry-sdk, sacremoses, pathtools, huggingface-hub, GitPython, docker-pycreds, wandb, transformers, tensorboardx, sentencepiece\n",
            "  Attempting uninstall: pyyaml\n",
            "    Found existing installation: PyYAML 3.13\n",
            "    Uninstalling PyYAML-3.13:\n",
            "      Successfully uninstalled PyYAML-3.13\n",
            "Successfully installed GitPython-3.1.27 docker-pycreds-0.4.0 gitdb-4.0.9 huggingface-hub-0.4.0 pathtools-0.1.2 pyyaml-6.0 sacremoses-0.0.47 sentencepiece-0.1.96 sentry-sdk-1.5.6 setproctitle-1.2.2 shortuuid-1.0.8 smmap-5.0.0 tensorboardx-2.5 tokenizers-0.11.6 transformers-4.17.0 wandb-0.12.11 yaspin-2.1.0\n",
            "Enabling notebook extension jupyter-js-widgets/extension...\n",
            "      - Validating: \u001b[32mOK\u001b[0m\n"
          ]
        }
      ],
      "source": [
        "!pip install transformers sentencepiece ipywidgets tensorboardx wandb matplotlib\n",
        "!jupyter nbextension enable --py widgetsnbextension"
      ]
    },
    {
      "cell_type": "code",
      "execution_count": 3,
      "metadata": {
        "colab": {
          "base_uri": "https://localhost:8080/"
        },
        "id": "cG3IANnJZt9T",
        "outputId": "d400133a-a1fc-4b68-ba9d-d6d3eb009c70"
      },
      "outputs": [
        {
          "output_type": "stream",
          "name": "stdout",
          "text": [
            "[nltk_data] Downloading package stopwords to /root/nltk_data...\n",
            "[nltk_data]   Unzipping corpora/stopwords.zip.\n",
            "[nltk_data] Downloading package omw-1.4 to /root/nltk_data...\n",
            "[nltk_data]   Unzipping corpora/omw-1.4.zip.\n",
            "[nltk_data] Downloading package wordnet to /root/nltk_data...\n",
            "[nltk_data]   Unzipping corpora/wordnet.zip.\n",
            "[nltk_data] Downloading package punkt to /root/nltk_data...\n",
            "[nltk_data]   Unzipping tokenizers/punkt.zip.\n",
            "CUDA available.\n"
          ]
        }
      ],
      "source": [
        "import logging\n",
        "import string\n",
        "import wandb\n",
        "import nltk\n",
        "import torch\n",
        "import re\n",
        "import string\n",
        "\n",
        "import torch.nn as nn\n",
        "import pandas as pd\n",
        "import numpy as np\n",
        "\n",
        "import matplotlib.pyplot as plt\n",
        "\n",
        "from tqdm.notebook import tqdm\n",
        "from operator import itemgetter\n",
        "from urllib import request\n",
        "\n",
        "from transformers import Trainer, TrainingArguments\n",
        "from transformers import DebertaTokenizer, DebertaForSequenceClassification\n",
        "\n",
        "from sklearn.utils import shuffle\n",
        "from sklearn.model_selection import train_test_split\n",
        "from sklearn.metrics import classification_report, f1_score\n",
        "\n",
        "nltk.download('stopwords')\n",
        "nltk.download('omw-1.4')\n",
        "nltk.download('wordnet')\n",
        "nltk.download('punkt')\n",
        "\n",
        "from nltk.corpus import stopwords\n",
        "from nltk.tokenize import wordpunct_tokenize\n",
        "from nltk.stem import WordNetLemmatizer\n",
        "\n",
        "from torch.utils.data import DataLoader\n",
        "\n",
        "if not torch.cuda.is_available():\n",
        "  print('WARNING: You may want to change the runtime to GPU for faster training!')\n",
        "  DEVICE = 'cpu'\n",
        "else:\n",
        "  print(\"CUDA available.\")\n",
        "  DEVICE = 'cuda:0'"
      ]
    },
    {
      "cell_type": "markdown",
      "metadata": {
        "id": "XEnHES8y--Si"
      },
      "source": [
        "## Mount Google Drive"
      ]
    },
    {
      "cell_type": "code",
      "execution_count": 4,
      "metadata": {
        "colab": {
          "base_uri": "https://localhost:8080/"
        },
        "id": "c2eGdCwoFRCB",
        "outputId": "f38670f8-0e17-4322-8dd7-3c398703ec0b"
      },
      "outputs": [
        {
          "output_type": "stream",
          "name": "stdout",
          "text": [
            "Mounted at /content/drive\n",
            "/content/drive/MyDrive\n",
            "mkdir: cannot create directory ‘./nlp-cswrk’: File exists\n",
            "/content/drive/MyDrive/nlp-cswrk\n"
          ]
        }
      ],
      "source": [
        "from google.colab import drive\n",
        "drive.mount('/content/drive')\n",
        "\n",
        "%cd '/content/drive/MyDrive/'\n",
        "%mkdir './nlp-cswrk'\n",
        "%cd './nlp-cswrk' "
      ]
    },
    {
      "cell_type": "markdown",
      "metadata": {
        "id": "GHcqaICo--Sj"
      },
      "source": [
        "## Logging"
      ]
    },
    {
      "cell_type": "code",
      "execution_count": 5,
      "metadata": {
        "id": "jnWXLw0cdbDs"
      },
      "outputs": [],
      "source": [
        "# prepare logger\n",
        "logging.basicConfig(level=logging.INFO)\n",
        "\n",
        "transformers_logger = logging.getLogger(\"transformers\")\n",
        "transformers_logger.setLevel(logging.WARNING)"
      ]
    },
    {
      "cell_type": "markdown",
      "metadata": {
        "id": "c2_ed_gT--Sk"
      },
      "source": [
        "## Download Datasets"
      ]
    },
    {
      "cell_type": "code",
      "execution_count": 6,
      "metadata": {
        "colab": {
          "base_uri": "https://localhost:8080/"
        },
        "id": "W4c_CmfHba0s",
        "outputId": "50c72425-34fc-4ae1-a40b-731b2ac140cb"
      },
      "outputs": [
        {
          "output_type": "stream",
          "name": "stdout",
          "text": [
            "Fetching https://raw.githubusercontent.com/Perez-AlmendrosC/dontpatronizeme/master/semeval-2022/practice%20splits/train_semeval_parids-labels.csv\n"
          ]
        }
      ],
      "source": [
        "module_url = f\"https://raw.githubusercontent.com/Perez-AlmendrosC/dontpatronizeme/master/semeval-2022/practice%20splits/train_semeval_parids-labels.csv\"\n",
        "module_name = module_url.split('/')[-1]\n",
        "\n",
        "print(f'Fetching {module_url}')\n",
        "with request.urlopen(module_url) as f, open(module_name,'w') as outf:\n",
        "  b = f.read()\n",
        "  outf.write(b.decode('utf-8'))"
      ]
    },
    {
      "cell_type": "code",
      "execution_count": 7,
      "metadata": {
        "colab": {
          "base_uri": "https://localhost:8080/"
        },
        "id": "ii68DM91B4Ws",
        "outputId": "f46a0b7c-9969-4df2-99e1-bcbc54c1aa27"
      },
      "outputs": [
        {
          "output_type": "stream",
          "name": "stdout",
          "text": [
            "Fetching https://raw.githubusercontent.com/Perez-AlmendrosC/dontpatronizeme/master/semeval-2022/practice%20splits/dev_semeval_parids-labels.csv\n"
          ]
        }
      ],
      "source": [
        "module_url = f\"https://raw.githubusercontent.com/Perez-AlmendrosC/dontpatronizeme/master/semeval-2022/practice%20splits/dev_semeval_parids-labels.csv\"\n",
        "module_name = module_url.split('/')[-1]\n",
        "\n",
        "print(f'Fetching {module_url}')\n",
        "with request.urlopen(module_url) as f, open(module_name,'w') as outf:\n",
        "  b = f.read()\n",
        "  outf.write(b.decode('utf-8'))"
      ]
    },
    {
      "cell_type": "code",
      "execution_count": 8,
      "metadata": {
        "colab": {
          "base_uri": "https://localhost:8080/"
        },
        "id": "MNj1N-S9eMgi",
        "outputId": "62dbb8d3-a698-4853-c73d-638650ccef29"
      },
      "outputs": [
        {
          "output_type": "stream",
          "name": "stdout",
          "text": [
            "Fetching https://raw.githubusercontent.com/Perez-AlmendrosC/dontpatronizeme/master/semeval-2022/dont_patronize_me.py\n"
          ]
        }
      ],
      "source": [
        "module_url = f\"https://raw.githubusercontent.com/Perez-AlmendrosC/dontpatronizeme/master/semeval-2022/dont_patronize_me.py\"\n",
        "module_name = module_url.split('/')[-1]\n",
        "\n",
        "print(f'Fetching {module_url}')\n",
        "with request.urlopen(module_url) as f, open(module_name,'w') as outf:\n",
        "  a = f.read()\n",
        "  outf.write(a.decode('utf-8'))"
      ]
    },
    {
      "cell_type": "code",
      "execution_count": 9,
      "metadata": {
        "id": "AZlPSk4adKOD"
      },
      "outputs": [],
      "source": [
        "from dont_patronize_me import DontPatronizeMe\n",
        "\n",
        "dpm = DontPatronizeMe('.', '.')\n",
        "dpm.load_task1()"
      ]
    },
    {
      "cell_type": "code",
      "execution_count": 10,
      "metadata": {
        "id": "ArCxbwYdeQMZ"
      },
      "outputs": [],
      "source": [
        "# helper function to save predictions to an output file\n",
        "def labels2file(p, outf_path):\n",
        "\twith open(outf_path,'w') as outf:\n",
        "\t\tfor pi in p:\n",
        "\t\t\toutf.write(','.join([str(k) for k in pi])+'\\n')"
      ]
    },
    {
      "cell_type": "markdown",
      "metadata": {
        "id": "7oX952gK-f-d"
      },
      "source": [
        "## Data Analysis"
      ]
    },
    {
      "cell_type": "markdown",
      "source": [
        "### Setup"
      ],
      "metadata": {
        "id": "xLL9iB2n_rMV"
      }
    },
    {
      "cell_type": "code",
      "source": [
        "df = dpm.train_task1_df\n",
        "\n",
        "print(\"Whole dataset info:\")\n",
        "print(df.shape)\n",
        "print(df.columns)\n",
        "\n",
        "patr_df = df.loc[df.label == 1]\n",
        "unpatr_df = df.loc[df.label == 0]\n",
        "\n",
        "patr_df_length = patr_df.shape[0]\n",
        "unpatr_df_length = unpatr_df.shape[0]\n",
        "\n",
        "print(\"Patronising and Unpatronising shapes:\")\n",
        "print(patr_df.shape, unpatr_df.shape)"
      ],
      "metadata": {
        "id": "Wlx4B9F__sa_",
        "outputId": "5538d8e8-0f7f-4a62-a5cb-3112dcc9ceab",
        "colab": {
          "base_uri": "https://localhost:8080/"
        }
      },
      "execution_count": 11,
      "outputs": [
        {
          "output_type": "stream",
          "name": "stdout",
          "text": [
            "Whole dataset info:\n",
            "(10469, 7)\n",
            "Index(['par_id', 'art_id', 'keyword', 'country', 'text', 'label',\n",
            "       'orig_label'],\n",
            "      dtype='object')\n",
            "Patronising and Unpatronising shapes:\n",
            "(993, 7) (9476, 7)\n"
          ]
        }
      ]
    },
    {
      "cell_type": "markdown",
      "metadata": {
        "id": "w9bCtx5Y-f-d"
      },
      "source": [
        "### General Info"
      ]
    },
    {
      "cell_type": "markdown",
      "metadata": {
        "id": "HcLZtT2--f-e"
      },
      "source": [
        "#### Balance of Classes"
      ]
    },
    {
      "cell_type": "code",
      "execution_count": 12,
      "metadata": {
        "id": "ghmm6-Oh-f-e"
      },
      "outputs": [],
      "source": [
        "def get_binary_label_distribution(df, axis):\n",
        "    _, _, [patch0, patch1] = axis.hist(df.label.map(int), \n",
        "                                       bins=[-0.5, 0.5, 1.5])\n",
        "\n",
        "    patch0.set_facecolor(\"tab:blue\")\n",
        "    patch1.set_facecolor(\"tab:orange\")\n",
        "\n",
        "    axis.set_xticks([0, 1])\n",
        "    axis.set_xticklabels([\"Unpatronising\", \"Patronising\"])\n",
        "\n",
        "def get_multi_label_distribution(df, axis):\n",
        "    _, _, patches = axis.hist(df.orig_label.map(int), \n",
        "                    bins=[-0.5, 0.5, 1.5, 2.5, 3.5, 4.5])\n",
        "\n",
        "    colours = [\"tab:blue\", \"tab:orange\", \"tab:green\", \"tab:red\", \"tab:purple\"]\n",
        "\n",
        "    for patch, colour in zip(patches, colours):\n",
        "        patch.set_facecolor(colour)"
      ]
    },
    {
      "cell_type": "code",
      "execution_count": 13,
      "metadata": {
        "id": "HHK5eXa7-f-e",
        "outputId": "202fca96-743c-42b5-8709-65d88462c34d",
        "colab": {
          "base_uri": "https://localhost:8080/",
          "height": 265
        }
      },
      "outputs": [
        {
          "output_type": "execute_result",
          "data": {
            "text/plain": [
              "Text(0.5, 0, 'Levels of Condescension')"
            ]
          },
          "metadata": {},
          "execution_count": 13
        },
        {
          "output_type": "display_data",
          "data": {
            "image/png": "[encoded data removed]",
            "text/plain": [
              "<Figure size 576x216 with 2 Axes>"
            ]
          },
          "metadata": {
            "needs_background": "light"
          }
        }
      ],
      "source": [
        "figure, (binary_ax, multi_ax) = plt.subplots(1, 2)\n",
        "\n",
        "figure.suptitle(\"Distribution of patronising class\")\n",
        "figure.set_size_inches((8, 3))\n",
        "\n",
        "get_binary_label_distribution(df, binary_ax)\n",
        "\n",
        "binary_ax.set_ylabel(\"Frequency\")\n",
        "binary_ax.set_xlabel(\"Class\")\n",
        "\n",
        "get_multi_label_distribution(df, multi_ax)\n",
        "\n",
        "# multi_ax.set_ylabel(\"Frequency\")\n",
        "multi_ax.set_xlabel(\"Levels of Condescension\")"
      ]
    },
    {
      "cell_type": "markdown",
      "metadata": {
        "id": "DR7lSgNH-f-f"
      },
      "source": [
        "#### Distribution of Languages"
      ]
    },
    {
      "cell_type": "code",
      "execution_count": 14,
      "metadata": {
        "id": "zuAUAgDS-f-f",
        "outputId": "4706366b-5dbb-4f03-fad3-6b39bf02028c",
        "colab": {
          "base_uri": "https://localhost:8080/",
          "height": 313
        }
      },
      "outputs": [
        {
          "output_type": "execute_result",
          "data": {
            "text/plain": [
              "Text(0.5, 0, 'Country')"
            ]
          },
          "metadata": {},
          "execution_count": 14
        },
        {
          "output_type": "display_data",
          "data": {
            "image/png": "[encoded data removed]",
            "text/plain": [
              "<Figure size 504x288 with 1 Axes>"
            ]
          },
          "metadata": {
            "needs_background": "light"
          }
        }
      ],
      "source": [
        "figure, axis = plt.subplots()\n",
        "\n",
        "figure.set_size_inches((7, 4))\n",
        "\n",
        "labels, counts = np.unique(df.country, return_counts=True)\n",
        "\n",
        "label_counts = list(zip(labels, counts))\n",
        "label_counts.sort(key=itemgetter(1), reverse=True)\n",
        "labels_sorted, counts_sorted = zip(*label_counts)\n",
        "\n",
        "axis.bar(np.arange(len(counts)), counts_sorted, tick_label=labels_sorted)\n",
        "\n",
        "axis.set_title(\"Distribution of source-text countries\")\n",
        "axis.set_ylabel(\"Frequency\")\n",
        "axis.set_xlabel(\"Country\")"
      ]
    },
    {
      "cell_type": "markdown",
      "metadata": {
        "id": "jLOdDukR-f-g"
      },
      "source": [
        "#### Distribution of Categories"
      ]
    },
    {
      "cell_type": "code",
      "execution_count": 15,
      "metadata": {
        "id": "YPoBQ0gZ-f-g",
        "outputId": "c70422be-b6a1-4367-a332-634ffbf4061c",
        "colab": {
          "base_uri": "https://localhost:8080/",
          "height": 344
        }
      },
      "outputs": [
        {
          "output_type": "execute_result",
          "data": {
            "text/plain": [
              "Text(0.5, 0, 'Category')"
            ]
          },
          "metadata": {},
          "execution_count": 15
        },
        {
          "output_type": "display_data",
          "data": {
            "image/png": "[encoded data removed]",
            "text/plain": [
              "<Figure size 504x288 with 1 Axes>"
            ]
          },
          "metadata": {
            "needs_background": "light"
          }
        }
      ],
      "source": [
        "figure, axis = plt.subplots()\n",
        "\n",
        "figure.set_size_inches((7, 4))\n",
        "\n",
        "labels, counts = np.unique(df.keyword, return_counts=True)\n",
        "\n",
        "label_counts = list(zip(labels, counts))\n",
        "label_counts.sort(key=itemgetter(1), reverse=True)\n",
        "labels_sorted, counts_sorted = zip(*label_counts)\n",
        "\n",
        "axis.bar(np.arange(len(counts)), counts_sorted, tick_label=labels_sorted)\n",
        "\n",
        "axis.tick_params(axis='x', labelrotation=30)\n",
        "\n",
        "axis.set_title(\"Distribution of categories\")\n",
        "axis.set_ylabel(\"Frequency\")\n",
        "axis.set_xlabel(\"Category\")"
      ]
    },
    {
      "cell_type": "markdown",
      "metadata": {
        "id": "M3enFtaJ-f-g"
      },
      "source": [
        "### Text Analysis"
      ]
    },
    {
      "cell_type": "markdown",
      "metadata": {
        "id": "LTw3VpRf-f-g"
      },
      "source": [
        "#### Average Character Length"
      ]
    },
    {
      "cell_type": "code",
      "execution_count": 16,
      "metadata": {
        "id": "UY4Stxaa-f-g",
        "outputId": "bccfe4d1-6dad-4d7a-b3fe-460b1b90981e",
        "colab": {
          "base_uri": "https://localhost:8080/",
          "height": 423
        }
      },
      "outputs": [
        {
          "output_type": "stream",
          "name": "stdout",
          "text": [
            "Average number of characters for\n",
            "\t- patronising class: 288.45\n",
            "\t- unpatronising class: 265.40\n"
          ]
        },
        {
          "output_type": "execute_result",
          "data": {
            "text/plain": [
              "<matplotlib.legend.Legend at 0x7f4509559f50>"
            ]
          },
          "metadata": {},
          "execution_count": 16
        },
        {
          "output_type": "display_data",
          "data": {
            "image/png": "[encoded data removed]",
            "text/plain": [
              "<Figure size 432x360 with 1 Axes>"
            ]
          },
          "metadata": {
            "needs_background": "light"
          }
        }
      ],
      "source": [
        "unpatr_series = unpatr_df.text.str.len()\n",
        "patr_series = patr_df.text.str.len()\n",
        "\n",
        "print(f\"Average number of characters for\"\n",
        "      f\"\\n\\t- patronising class: {patr_series.mean():.2f}\"\n",
        "      f\"\\n\\t- unpatronising class: {unpatr_series.mean():.2f}\")\n",
        "\n",
        "(unpatr_counts, unpatr_bins) = np.histogram(unpatr_series, bins=100, range=(0, 2000))\n",
        "(patr_counts, patr_bins) = np.histogram(patr_series, bins=100, range=(0, 2000))\n",
        "\n",
        "figure, axis = plt.subplots()\n",
        "figure.set_size_inches((6, 5))\n",
        "\n",
        "axis.hist(unpatr_bins[:-1], unpatr_bins, alpha=1, label=\"Unpatronising class\",\n",
        "          weights=unpatr_counts / unpatr_df_length)\n",
        "\n",
        "axis.hist(patr_bins[:-1], patr_bins, alpha=0.75, label=\"Patronising class\",\n",
        "          weights=patr_counts / patr_df_length)\n",
        "\n",
        "axis.set_title(\"Distribution of character lengths\")\n",
        "axis.set_ylabel(\"Frequency %\")\n",
        "axis.set_xlabel(\"Character Length\")\n",
        "axis.set_xlim((0, 2000))\n",
        "axis.legend()"
      ]
    },
    {
      "cell_type": "markdown",
      "metadata": {
        "id": "dUr4Q-OR-f-h"
      },
      "source": [
        "#### Average Number of Words"
      ]
    },
    {
      "cell_type": "code",
      "execution_count": 17,
      "metadata": {
        "id": "hB4WbdWh-f-h",
        "outputId": "5ff384af-7a23-4e07-da97-88e88157d33e",
        "colab": {
          "base_uri": "https://localhost:8080/",
          "height": 444
        }
      },
      "outputs": [
        {
          "output_type": "stream",
          "name": "stdout",
          "text": [
            "Average number of words for\n",
            "\t- patronising class: 53.62\n",
            "\t- unpatronising class: 47.88\n",
            "Average word length for\n",
            "\t- patronising class: 4.43\n",
            "\t- unpatronising class: 4.62\n"
          ]
        },
        {
          "output_type": "stream",
          "name": "stderr",
          "text": [
            "/usr/local/lib/python3.7/dist-packages/numpy/core/fromnumeric.py:3441: RuntimeWarning: Mean of empty slice.\n",
            "  out=out, **kwargs)\n",
            "/usr/local/lib/python3.7/dist-packages/numpy/core/_methods.py:189: RuntimeWarning: invalid value encountered in double_scalars\n",
            "  ret = ret.dtype.type(ret / rcount)\n"
          ]
        },
        {
          "output_type": "execute_result",
          "data": {
            "text/plain": [
              "<matplotlib.legend.Legend at 0x7f450875f4d0>"
            ]
          },
          "metadata": {},
          "execution_count": 17
        },
        {
          "output_type": "display_data",
          "data": {
            "image/png": "[encoded data removed]",
            "text/plain": [
              "<Figure size 576x216 with 2 Axes>"
            ]
          },
          "metadata": {
            "needs_background": "light"
          }
        }
      ],
      "source": [
        "def get_list_length(x):\n",
        "    if type(x) != list:\n",
        "        x = [str(x)]\n",
        "\n",
        "    return len(x)\n",
        "\n",
        "unpatr_series = unpatr_df.text.str.split().map(get_list_length)\n",
        "patr_series = patr_df.text.str.split().map(get_list_length)\n",
        "\n",
        "print(f\"Average number of words for\"\n",
        "      f\"\\n\\t- patronising class: {patr_series.mean():.2f}\"\n",
        "      f\"\\n\\t- unpatronising class: {unpatr_series.mean():.2f}\")\n",
        "\n",
        "(unpatr_counts, unpatr_bins) = np.histogram(unpatr_series, bins=100, range=(0, 500))\n",
        "(patr_counts, patr_bins) = np.histogram(patr_series, bins=100, range=(0, 500))\n",
        "\n",
        "figure, (axis1, axis2) = plt.subplots(1, 2)\n",
        "figure.set_size_inches((8, 3))\n",
        "\n",
        "axis1.hist(unpatr_bins[:-1], unpatr_bins, alpha=1, label=\"Unpatronising class\",\n",
        "          weights=unpatr_counts / unpatr_df_length)\n",
        "\n",
        "axis1.hist(patr_bins[:-1], patr_bins, alpha=0.75, label=\"Patronising class\",\n",
        "          weights=patr_counts / patr_df_length)\n",
        "\n",
        "axis1.set_title(\"Distribution of number of words\")\n",
        "axis1.set_ylabel(\"Frequency %\")\n",
        "axis1.set_xlabel(\"Number of Words\")\n",
        "axis1.set_xlim((0, 500))\n",
        "axis1.legend()\n",
        "\n",
        "\n",
        "def mean_item_length(x):\n",
        "    if type(x) != list:\n",
        "        x = [str(x)]\n",
        "    \n",
        "    lengths = list(map(len, x))\n",
        "    return np.mean(lengths)\n",
        "\n",
        "unpatr_series = unpatr_df.text.str.split().map(mean_item_length)\n",
        "patr_series = patr_df.text.str.split().map(mean_item_length)\n",
        "\n",
        "print(f\"Average word length for\"\n",
        "      f\"\\n\\t- patronising class: {patr_series.mean():.2f}\"\n",
        "      f\"\\n\\t- unpatronising class: {unpatr_series.mean():.2f}\")\n",
        "\n",
        "(unpatr_counts, unpatr_bins) = np.histogram(unpatr_series, bins=100, range=(0, 10))\n",
        "(patr_counts, patr_bins) = np.histogram(patr_series, bins=100, range=(0, 10))\n",
        "\n",
        "axis2.hist(unpatr_bins[:-1], unpatr_bins, alpha=1, label=\"Unpatronising class\",\n",
        "          weights=unpatr_counts / unpatr_df_length)\n",
        "\n",
        "axis2.hist(patr_bins[:-1], patr_bins, alpha=0.75, label=\"Patronising class\",\n",
        "          weights=patr_counts / patr_df_length)\n",
        "\n",
        "axis2.set_title(\"Distribution of word length\")\n",
        "# axis2.set_ylabel(\"Frequency %\")\n",
        "axis2.set_xlabel(\"Word Length\")\n",
        "axis2.set_xlim((0, 10))\n",
        "axis2.legend()"
      ]
    },
    {
      "cell_type": "markdown",
      "metadata": {
        "id": "6M9fWfBe-f-h"
      },
      "source": [
        "#### Average Word Length"
      ]
    },
    {
      "cell_type": "code",
      "execution_count": 18,
      "metadata": {
        "id": "HG0jy1zI-f-h",
        "colab": {
          "base_uri": "https://localhost:8080/",
          "height": 497
        },
        "outputId": "664e6df8-b78f-4d0e-a9e3-f365fc728c43"
      },
      "outputs": [
        {
          "output_type": "stream",
          "name": "stdout",
          "text": [
            "Average word length for\n",
            "\t- patronising dataset: 4.43\n",
            "\t- unpatronising dataset: 4.62\n"
          ]
        },
        {
          "output_type": "stream",
          "name": "stderr",
          "text": [
            "/usr/local/lib/python3.7/dist-packages/numpy/core/fromnumeric.py:3441: RuntimeWarning: Mean of empty slice.\n",
            "  out=out, **kwargs)\n",
            "/usr/local/lib/python3.7/dist-packages/numpy/core/_methods.py:189: RuntimeWarning: invalid value encountered in double_scalars\n",
            "  ret = ret.dtype.type(ret / rcount)\n"
          ]
        },
        {
          "output_type": "execute_result",
          "data": {
            "text/plain": [
              "<matplotlib.legend.Legend at 0x7f450872f210>"
            ]
          },
          "metadata": {},
          "execution_count": 18
        },
        {
          "output_type": "display_data",
          "data": {
            "image/png": "[encoded data removed]",
            "text/plain": [
              "<Figure size 432x360 with 1 Axes>"
            ]
          },
          "metadata": {
            "needs_background": "light"
          }
        }
      ],
      "source": [
        "def mean_item_length(x):\n",
        "    if type(x) != list:\n",
        "        x = [str(x)]\n",
        "    \n",
        "    lengths = list(map(len, x))\n",
        "    return np.mean(lengths)\n",
        "\n",
        "unpatr_series = unpatr_df.text.str.split().map(mean_item_length)\n",
        "patr_series = patr_df.text.str.split().map(mean_item_length)\n",
        "\n",
        "print(f\"Average word length for\"\n",
        "      f\"\\n\\t- patronising dataset: {patr_series.mean():.2f}\"\n",
        "      f\"\\n\\t- unpatronising dataset: {unpatr_series.mean():.2f}\")\n",
        "\n",
        "(unpatr_counts, unpatr_bins) = np.histogram(unpatr_series, bins=100, range=(0, 10))\n",
        "(patr_counts, patr_bins) = np.histogram(patr_series, bins=100, range=(0, 10))\n",
        "\n",
        "figure, axis2 = plt.subplots()\n",
        "figure.set_size_inches((6, 5))\n",
        "\n",
        "axis2.hist(unpatr_bins[:-1], unpatr_bins, alpha=1, label=\"Unpatronising Dataset\",\n",
        "          weights=unpatr_counts / unpatr_df_length)\n",
        "\n",
        "axis2.hist(patr_bins[:-1], patr_bins, alpha=0.75, label=\"Patronising Dataset\",\n",
        "          weights=patr_counts / patr_df_length)\n",
        "\n",
        "axis2.set_title(\"Distribution of word length\")\n",
        "axis2.set_ylabel(\"Frequency %\")\n",
        "axis2.set_xlabel(\"Word Length\")\n",
        "axis2.set_xlim((0, 10))\n",
        "axis2.legend()"
      ]
    },
    {
      "cell_type": "markdown",
      "metadata": {
        "id": "aAwVBfo2-f-i"
      },
      "source": [
        "### $ n $-gram Analysis"
      ]
    },
    {
      "cell_type": "code",
      "execution_count": 19,
      "metadata": {
        "id": "5ajz5eHp-f-i",
        "outputId": "7811a1e1-8c2d-459d-d0e5-00a3c64f544f",
        "colab": {
          "base_uri": "https://localhost:8080/",
          "height": 81,
          "referenced_widgets": [
            "6dd8b12914db42cdb953d64b8cca3c5f",
            "0ae0af1b875a4cf5bfe5b12c805c5a8e",
            "3c29468c832f4a0d883c695e61a26fea",
            "0722de313dec4a529e2cfd90772753c1",
            "58e8cd6e359f491ca4178915f69fdf22",
            "9b896d9654fc4f2790278401f9b2fc50",
            "4219153b5b7f45eca15178acdd54c12f",
            "a99db333892c4143a7d24ef08f1c0ab0",
            "ec2d7a2e9c174020b25ad684933f3bfe",
            "5ec6f519ff99408fb94ebe4e9249ade3",
            "7fc3e217a91049b88182d5b16d1ce550",
            "fa08103e37684709897924f0ec631cd4",
            "c8e33f4b92234d3ea5970fb64a5998a7",
            "a4a16c50d0384ecfa667ea07a13f86c5",
            "3fb933a4e0624a6b869ce1b9da73a642",
            "9fde724f1c7a44dd92ba1c8c71c79836",
            "0c892f3e91a541c38e47f0fb687fbcea",
            "2a679924591f41c8bf5ab77d96f5fab6",
            "4517821c945841619aee0064a216c70c",
            "1c30bc12d4c64aa482df206f77434ebe",
            "edba00dfd3a34540ad22a51d657862c0",
            "8547b495b13a4eef826abfab9f1aefce"
          ]
        }
      },
      "outputs": [
        {
          "output_type": "display_data",
          "data": {
            "application/vnd.jupyter.widget-view+json": {
              "model_id": "6dd8b12914db42cdb953d64b8cca3c5f",
              "version_minor": 0,
              "version_major": 2
            },
            "text/plain": [
              "  0%|          | 0/993 [00:00<?, ?sentence/s]"
            ]
          },
          "metadata": {}
        },
        {
          "output_type": "display_data",
          "data": {
            "application/vnd.jupyter.widget-view+json": {
              "model_id": "fa08103e37684709897924f0ec631cd4",
              "version_minor": 0,
              "version_major": 2
            },
            "text/plain": [
              "  0%|          | 0/9476 [00:00<?, ?sentence/s]"
            ]
          },
          "metadata": {}
        }
      ],
      "source": [
        "punct_regex = re.compile(r'[\\s\\,\\/\\.\\']')\n",
        "lemmatizer = WordNetLemmatizer()\n",
        "\n",
        "def remove_stop_words(token):\n",
        "    return token not in stopwords.words(\"english\")\n",
        "\n",
        "def remove_punctuation(token):\n",
        "    return not any(map(lambda s: s in string.punctuation, token))\n",
        "\n",
        "def lemmatize(word):\n",
        "    return lemmatizer.lemmatize(word, pos=\"v\")\n",
        "\n",
        "def get_tokenized_corpus(corpus):\n",
        "    tokenized_with_punct_and_stops = list()\n",
        "    tokenized_corpus = list()\n",
        "\n",
        "    for sentence in tqdm(corpus, unit=\"sentence\"):\n",
        "        tokens = wordpunct_tokenize(sentence)\n",
        "        tokens = list(map(lemmatize, tokens))\n",
        "\n",
        "        tokenized_with_punct_and_stops.append(tokens)\n",
        "\n",
        "        tokens = filter(remove_punctuation, tokens)\n",
        "        tokens = filter(remove_stop_words, tokens)\n",
        "\n",
        "        tokenized_corpus.append(list(tokens))\n",
        "        \n",
        "    return {\n",
        "        \"no_punct_or_stops\": tokenized_corpus, \n",
        "        \"lemmatized_only\": tokenized_with_punct_and_stops\n",
        "    }\n",
        "\n",
        "patr_corpus = get_tokenized_corpus(patr_df[\"text\"])\n",
        "unpatr_corpus = get_tokenized_corpus(unpatr_df[\"text\"])\n",
        "\n",
        "complete_corpus = {\n",
        "    \"no_punct_or_stops\": patr_corpus[\"no_punct_or_stops\"] \\\n",
        "        + unpatr_corpus[\"no_punct_or_stops\"], \n",
        "    \"lemmatized_only\": patr_corpus[\"lemmatized_only\"] \\\n",
        "        + unpatr_corpus[\"lemmatized_only\"]\n",
        "}\n",
        "\n",
        "patr_corpus = patr_corpus.get(\"no_punct_or_stops\")\n",
        "unpatr_corpus = unpatr_corpus.get(\"no_punct_or_stops\")"
      ]
    },
    {
      "cell_type": "code",
      "execution_count": 20,
      "metadata": {
        "id": "W2AJA0eE-f-i"
      },
      "outputs": [],
      "source": [
        "def get_n_gram_frequency(n, sentences, rounding=4):\n",
        "    n_grams = dict()\n",
        "\n",
        "    for i, sentence in enumerate(sentences):\n",
        "        for j in range(len(sentence) + 1 - n):\n",
        "            n_gram = \" \".join(sentence[j:j+n]).lower()\n",
        "\n",
        "            if n_gram in n_grams:\n",
        "                n_grams[n_gram] += 1\n",
        "            else:\n",
        "                n_grams[n_gram] = 1\n",
        "    \n",
        "    for key, val in n_grams.items():\n",
        "        n_grams[key] = round(val, rounding)\n",
        "    \n",
        "    return n_grams\n",
        "\n",
        "def to_tuple(dictionary):\n",
        "    return list(zip(dictionary.keys(), dictionary.values()))\n",
        "\n",
        "def find_matching_n_grams(corpus_a, corpus_b, n, k=25, rounding=4):\n",
        "    a_n_grams = get_n_gram_frequency(n, corpus_a, rounding=rounding)\n",
        "    b_n_grams = get_n_gram_frequency(n, corpus_b, rounding=rounding)\n",
        "\n",
        "    common_a_n_grams = sorted(to_tuple(a_n_grams), \n",
        "                              key=itemgetter(1),\n",
        "                              reverse=True)[:k]\n",
        "\n",
        "    common_b_n_grams = sorted(to_tuple(b_n_grams), \n",
        "                              key=itemgetter(1),\n",
        "                              reverse=True)[:k]\n",
        "\n",
        "    common_a_strings = set(map(itemgetter(0), common_a_n_grams))\n",
        "    common_b_strings = set(map(itemgetter(0), common_b_n_grams))\n",
        "\n",
        "    common_n_grams = set.intersection(common_a_strings, common_b_strings)\n",
        "    common_a_not_b = common_a_strings.difference(common_b_strings)\n",
        "    common_b_not_a = common_b_strings.difference(common_a_strings)\n",
        "\n",
        "    def common_n_gram_counts(n_gram):\n",
        "        a_count = a_n_grams.get(n_gram, 0)\n",
        "        b_count = b_n_grams.get(n_gram, 0)\n",
        "        \n",
        "        if b_count != 0:\n",
        "            ratio = (len(corpus_b) * a_count) / (len(corpus_a) * b_count)\n",
        "            ratio = round(ratio, rounding)\n",
        "        else:\n",
        "            ratio = None\n",
        "        return (n_gram, a_count, b_count, ratio)\n",
        "\n",
        "    common_n_grams = list(map(common_n_gram_counts, common_n_grams))\n",
        "    common_a_not_b = list(map(common_n_gram_counts, common_a_not_b))\n",
        "    common_b_not_a = list(map(common_n_gram_counts, common_b_not_a))\n",
        "\n",
        "    return common_n_grams, common_a_not_b, common_b_not_a"
      ]
    },
    {
      "cell_type": "code",
      "execution_count": 21,
      "metadata": {
        "id": "4YBbeMrZ-f-j",
        "outputId": "a311b343-0889-4917-a5fb-4a5bba9c4d16",
        "colab": {
          "base_uri": "https://localhost:8080/"
        }
      },
      "outputs": [
        {
          "output_type": "stream",
          "name": "stdout",
          "text": [
            "Common 1-grams between patronising and non-patronising datasets\n",
            "[('many', 92, 697, 1.2596), ('i', 222, 1251, 1.6934), ('people', 260, 1604, 1.5468), ('families', 212, 1129, 1.7919), ('children', 199, 840, 2.2607), ('homeless', 177, 858, 1.9686), ('poor', 234, 956, 2.3358), ('say', 244, 2540, 0.9167), ('disable', 104, 1034, 0.9598), ('work', 98, 690, 1.3554), ('make', 105, 836, 1.1986), ('women', 146, 1572, 0.8863), ('need', 275, 1419, 1.8494), ('refugees', 95, 871, 1.0408), ('vulnerable', 97, 1107, 0.8362), ('the', 244, 2850, 0.817), ('would', 90, 728, 1.1797)]\n",
            "Common 1-grams in the patronising dataset but not in the non-patronising dataset.\n",
            "[('get', 88, 490, 1.7138), ('come', 90, 546, 1.573), ('live', 161, 594, 2.5865), ('give', 135, 433, 2.9752), ('n', 89, 635, 1.3375), ('life', 99, 253, 3.7341), ('help', 192, 551, 3.3253), ('we', 93, 447, 1.9854)]\n",
            "Common 1-grams in the non-patronising dataset but not in the patronising dataset.\n",
            "[('it', 88, 676, 1.2423), ('also', 80, 905, 0.8436), ('year', 58, 689, 0.8033), ('new', 62, 746, 0.7931), ('country', 86, 665, 1.2341), ('immigrants', 44, 1252, 0.3354), ('one', 79, 874, 0.8626), ('government', 79, 773, 0.9753)]\n",
            "Common 2-grams between patronising and non-patronising datasets\n",
            "[('u s', 8, 145, 0.5265), ('people need', 28, 85, 3.1435), ('he say', 17, 135, 1.2017), ('women children', 11, 74, 1.4185), ('men women', 12, 90, 1.2724), ('sri lanka', 8, 100, 0.7634), ('ca n', 16, 71, 2.1505), ('disable people', 11, 104, 1.0093), ('poor families', 150, 771, 1.8566), ('i think', 19, 81, 2.2384), ('year old', 11, 121, 0.8675), ('homeless people', 26, 110, 2.2556)]\n",
            "Common 2-grams in the patronising dataset but not in the non-patronising dataset.\n",
            "[('vulnerable people', 11, 47, 2.2334), ('give hope', 8, 1, 76.3424), ('i n', 12, 59, 1.9409), ('help people', 10, 18, 5.3016), ('we need', 11, 33, 3.1809), ('children poor', 21, 63, 3.1809), ('health care', 9, 35, 2.4539), ('let us', 11, 7, 14.9958), ('help need', 21, 29, 6.9103), ('come poor', 12, 39, 2.9362), ('hundreds thousands', 10, 28, 3.4081), ('hope hopeless', 10, 0, None), ('need say', 8, 20, 3.8171)]\n",
            "Common 2-grams in the non-patronising dataset but not in the patronising dataset.\n",
            "[('new zealand', 2, 72, 0.2651), ('anti immigrant', 0, 80, 0.0), ('new york', 5, 100, 0.4771), ('hong kong', 6, 97, 0.5903), ('last year', 8, 122, 0.6258), ('refugee camp', 7, 93, 0.7183), ('illegal immigrants', 3, 304, 0.0942), ('000 people', 4, 68, 0.5613), ('donald trump', 5, 93, 0.5131), ('asylum seekers', 5, 69, 0.6915), ('per cent', 6, 160, 0.3579), ('united states', 7, 154, 0.4338), ('migrant workers', 3, 69, 0.4149)]\n",
            "Common 3-grams between patronising and non-patronising datasets\n",
            "[('help poor families', 5, 21, 2.2721), ('come poor families', 11, 38, 2.7624), ('children poor families', 21, 62, 3.2322), ('poor families live', 3, 12, 2.3857), ('many poor families', 4, 29, 1.3162), ('students poor families', 3, 32, 0.8946)]\n",
            "Common 3-grams in the patronising dataset but not in the non-patronising dataset.\n",
            "[('give hope hopeless', 5, 0, None), ('say we need', 3, 0, None), ('put food table', 3, 0, None), ('bring united states', 4, 6, 6.3619), ('kid poor families', 3, 2, 14.3142), ('united states illegally', 3, 3, 9.5428), ('food poor families', 3, 0, None), ('poor families get', 3, 5, 5.7257), ('i ca n', 3, 4, 7.1571), ('think poor families', 3, 2, 14.3142), ('help people need', 4, 6, 6.3619), ('urban poor families', 3, 11, 2.6026), ('live poverty line', 3, 1, 28.6284), ('poor families pay', 3, 2, 14.3142), ('hundreds thousands refugees', 3, 6, 4.7714), ('states illegally children', 3, 1, 28.6284), ('bring smile face', 3, 0, None), ('say i think', 3, 4, 7.1571), ('children come poor', 3, 5, 5.7257)]\n",
            "Common 3-grams in the non-patronising dataset but not in the patronising dataset.\n",
            "[('un refugee agency', 2, 29, 0.6581), ('dar es salaam', 1, 16, 0.5964), ('refugees asylum seekers', 2, 13, 1.4681), ('h email friend', 1, 17, 0.5613), ('world war ii', 0, 17, 0.0), ('us president donald', 0, 19, 0.0), ('president donald trump', 2, 53, 0.3601), ('high commissioner refugees', 2, 14, 1.3633), ('million people need', 0, 15, 0.0), ('more gt gt', 0, 15, 0.0), ('work poor families', 0, 15, 0.0), ('papua new guinea', 0, 12, 0.0), ('need humanitarian assistance', 0, 19, 0.0), ('day disable list', 0, 15, 0.0), ('million poor families', 0, 13, 0.0), ('chancellor angela merkel', 0, 13, 0.0), ('president barack obama', 1, 16, 0.5964), ('belong poor families', 2, 15, 1.2724), ('muslim majority countries', 0, 13, 0.0)]\n",
            "Common 4-grams between patronising and non-patronising datasets\n",
            "[('deferred action childhood arrivals', 2, 6, 3.1809), ('un high commissioner refugees', 2, 8, 2.3857)]\n",
            "Common 4-grams in the patronising dataset but not in the non-patronising dataset.\n",
            "[('zimbabweans nothing much cheer', 2, 0, None), ('joseph golden age home', 2, 0, None), ('wash kiss feet muslim', 2, 0, None), ('i think poor families', 2, 0, None), ('jobless hopeless zimbabweans nothing', 2, 0, None), ('action childhood arrivals daca', 2, 2, 9.5428), ('childhood arrivals daca program', 2, 0, None), ('feet muslim orthodox hindu', 2, 0, None), ('force live refugee camp', 2, 0, None), ('st joseph golden age', 2, 0, None), ('dreamers bring united states', 2, 0, None), ('help poor families pay', 2, 2, 9.5428), ('orthodox hindu catholic refugees', 2, 0, None), ('bring united states illegally', 3, 1, 28.6284), ('for jobless hopeless zimbabweans', 2, 0, None), ('immigrants bring united states', 2, 3, 6.3619), ('united states illegally children', 3, 1, 28.6284), ('muslim orthodox hindu catholic', 2, 0, None), ('hopeless zimbabweans nothing much', 2, 0, None), ('poor families rural areas', 2, 5, 3.8171), ('education children poor families', 2, 1, 19.0856), ('children come poor families', 3, 5, 5.7257), ('kiss feet muslim orthodox', 2, 0, None)]\n",
            "Common 4-grams in the non-patronising dataset but not in the patronising dataset.\n",
            "[('the un refugee agency', 0, 10, 0.0), ('hong kong free press', 0, 6, 0.0), ('continue use site consent', 0, 6, 0.0), ('president donald trump executive', 0, 7, 0.0), ('10 day disable list', 0, 7, 0.0), ('u n refugee agency', 0, 6, 0.0), ('by continue use site', 0, 6, 0.0), ('million people need humanitarian', 0, 8, 0.0), ('people need humanitarian assistance', 0, 9, 0.0), ('german chancellor angela merkel', 0, 7, 0.0), ('since world war ii', 0, 6, 0.0), ('seven muslim majority countries', 0, 9, 0.0), ('immigrant alternative germany afd', 0, 6, 0.0), ('un refugee agency unhcr', 1, 7, 1.3633), ('us president donald trump', 0, 19, 0.0), ('donald trump executive order', 0, 8, 0.0), ('h what hong kong', 0, 6, 0.0), ('high commissioner refugees unhcr', 0, 6, 0.0), ('what hong kong free', 0, 6, 0.0), ('united nations refugee agency', 1, 6, 1.5905), ('site consent use cookies', 0, 6, 0.0), ('anti immigrant alternative germany', 0, 6, 0.0), ('use site consent use', 0, 6, 0.0)]\n"
          ]
        }
      ],
      "source": [
        "n_gram_analysis = dict()\n",
        "\n",
        "for n in range(1, 5):\n",
        "    common_n_grams, common_a_not_b, \\\n",
        "    common_b_not_a = find_matching_n_grams(patr_corpus, unpatr_corpus, n)\n",
        "\n",
        "    print(f\"Common {n}-grams between patronising and non-patronising datasets\")\n",
        "    print(common_n_grams)\n",
        "\n",
        "    print(f\"Common {n}-grams in the patronising dataset but not in the non-patronising dataset.\")\n",
        "    print(common_a_not_b)\n",
        "\n",
        "    print(f\"Common {n}-grams in the non-patronising dataset but not in the patronising dataset.\")\n",
        "    print(common_b_not_a)\n",
        "    "
      ]
    },
    {
      "cell_type": "markdown",
      "source": [
        "## Pre-processing"
      ],
      "metadata": {
        "id": "ciUViBXq_Ma-"
      }
    },
    {
      "cell_type": "markdown",
      "metadata": {
        "id": "uNMAMo48uv-5"
      },
      "source": [
        "### Convert CSVs to Data Frames"
      ]
    },
    {
      "cell_type": "code",
      "execution_count": 110,
      "metadata": {
        "id": "roQDngVicMAl"
      },
      "outputs": [],
      "source": [
        "train_import = pd.read_csv('train_semeval_parids-labels.csv')\n",
        "test_import = pd.read_csv('dev_semeval_parids-labels.csv')"
      ]
    },
    {
      "cell_type": "code",
      "execution_count": 111,
      "metadata": {
        "id": "-gvAaCJjCu1S"
      },
      "outputs": [],
      "source": [
        "train_import.par_id = train_import.par_id.astype(str)\n",
        "test_import.par_id = test_import.par_id.astype(str)"
      ]
    },
    {
      "cell_type": "code",
      "execution_count": 112,
      "metadata": {
        "id": "IkYsxgeKclx2"
      },
      "outputs": [],
      "source": [
        "rows = [] # will contain par_id, label and text\n",
        "for idx in range(len(train_import)):\n",
        "  parid = train_import.par_id[idx]\n",
        "  #print(parid)\n",
        "  # select row from original dataset to retrieve `text` and binary label\n",
        "  text = dpm.train_task1_df.loc[dpm.train_task1_df.par_id == parid].text.values[0]\n",
        "  label = dpm.train_task1_df.loc[dpm.train_task1_df.par_id == parid].label.values[0]\n",
        "  keyword = dpm.train_task1_df.loc[dpm.train_task1_df.par_id == parid].keyword.values[0]\n",
        "  country = dpm.train_task1_df.loc[dpm.train_task1_df.par_id == parid].country.values[0]\n",
        "  intensity = dpm.train_task1_df.loc[dpm.train_task1_df.par_id == parid].orig_label.values[0]\n",
        "  length = len(dpm.train_task1_df.loc[dpm.train_task1_df.par_id == parid].text.values[0])\n",
        "  rows.append({\n",
        "      'par_id':parid,\n",
        "      'text':text,\n",
        "      'label':label,\n",
        "      'keyword':keyword,\n",
        "      'country':country,\n",
        "      'intensity':intensity,\n",
        "      'length':length\n",
        "  })\n",
        "train_df = pd.DataFrame(rows)"
      ]
    },
    {
      "cell_type": "code",
      "execution_count": 113,
      "metadata": {
        "id": "9hc81lCPC0i7"
      },
      "outputs": [],
      "source": [
        "rows = [] # will contain par_id, label and text\n",
        "for idx in range(len(test_import)):  \n",
        "  parid = test_import.par_id[idx]\n",
        "  #print(parid)\n",
        "  # select row from original dataset\n",
        "  text = dpm.train_task1_df.loc[dpm.train_task1_df.par_id == parid].text.values[0]\n",
        "  label = dpm.train_task1_df.loc[dpm.train_task1_df.par_id == parid].label.values[0]\n",
        "  keyword = dpm.train_task1_df.loc[dpm.train_task1_df.par_id == parid].keyword.values[0]\n",
        "  country = dpm.train_task1_df.loc[dpm.train_task1_df.par_id == parid].country.values[0]\n",
        "  intensity = dpm.train_task1_df.loc[dpm.train_task1_df.par_id == parid].orig_label.values[0]\n",
        "  length = len(dpm.train_task1_df.loc[dpm.train_task1_df.par_id == parid].text.values[0])\n",
        "  rows.append({\n",
        "      'par_id':parid,\n",
        "      'text':text,\n",
        "      'label':label,\n",
        "      'keyword':keyword,\n",
        "      'country':country,\n",
        "      'intensity':intensity,\n",
        "      'length':length\n",
        "  })\n",
        "  test_df = pd.DataFrame(rows)"
      ]
    },
    {
      "cell_type": "markdown",
      "metadata": {
        "id": "JTL-8BcouvHi"
      },
      "source": [
        "### Shuffle Datasets"
      ]
    },
    {
      "cell_type": "code",
      "source": [
        "hyperparameter_tuning = False"
      ],
      "metadata": {
        "id": "pvTqjAfKYsWg"
      },
      "execution_count": 114,
      "outputs": []
    },
    {
      "cell_type": "code",
      "execution_count": 115,
      "metadata": {
        "id": "T5aDrxnK47n2"
      },
      "outputs": [],
      "source": [
        "train_df = shuffle(train_df)\n",
        "\n",
        "if hyperparameter_tuning:\n",
        "    train_df, val_df = train_test_split(train_df, train_size=0.8)\n",
        "\n",
        "test_df = shuffle(test_df)"
      ]
    },
    {
      "cell_type": "markdown",
      "metadata": {
        "id": "8_A9nN46vVnb"
      },
      "source": [
        "## Implementations"
      ]
    },
    {
      "cell_type": "markdown",
      "metadata": {
        "id": "clSyDTq41nbD"
      },
      "source": [
        "### Main Function\n",
        "Enter iteration number to pre-process data corresponding to the implementation iteration."
      ]
    },
    {
      "cell_type": "code",
      "execution_count": 116,
      "metadata": {
        "id": "bHQNcXNUwCQA"
      },
      "outputs": [],
      "source": [
        "def main_implement(implementation_number, train):\n",
        "    if implementation_number == 1:\n",
        "        train = downsample_unpat(train)\n",
        "    elif implementation_number == 2:\n",
        "        train = upsample_pat(train, 3)\n",
        "    elif implementation_number == 3:\n",
        "        train = downsample_unpat(train)\n",
        "        train = upsample_pat(train, 1)\n",
        "    elif implementation_number == 4:\n",
        "        train = downsample_unpat(train)\n",
        "        train = lemmatise_df(train)\n",
        "    elif implementation_number == 5:\n",
        "        train = add_backtranslations(train)\n",
        "        train = downsample_unpat(train)\n",
        "    train.length = train.text.str.split().map(get_list_length)\n",
        "    return train"
      ]
    },
    {
      "cell_type": "code",
      "execution_count": 117,
      "metadata": {
        "id": "u4GkRtyTE5Sq"
      },
      "outputs": [],
      "source": [
        "def get_list_length(x):\n",
        "  if type(x) == list:\n",
        "    return len(x)\n",
        "  elif x is not None:\n",
        "    return 1\n",
        "  else:\n",
        "    return None"
      ]
    },
    {
      "cell_type": "code",
      "execution_count": 118,
      "metadata": {
        "id": "fGS2OpFwvUNU"
      },
      "outputs": [],
      "source": [
        "def get_label_ratio(dataset):\n",
        "    return len(dataset[dataset.label == 0])/len(dataset[dataset.label == 1])"
      ]
    },
    {
      "cell_type": "markdown",
      "metadata": {
        "id": "QuXzdxQdvbGW"
      },
      "source": [
        "### Implementation 1\n",
        "Downsample unpatronising data (as in competition's roberta base) (ratio from 9:1 to 3:1)."
      ]
    },
    {
      "cell_type": "code",
      "execution_count": 119,
      "metadata": {
        "id": "bxxYlfioHBdp"
      },
      "outputs": [],
      "source": [
        "def downsample_unpat(train):\n",
        "    pat_train = train[train.label == 1]\n",
        "    npos = len(pat_train)\n",
        "\n",
        "    train = pd.concat([pat_train, train[train.label == 0][:npos*2]])\n",
        "    return train"
      ]
    },
    {
      "cell_type": "markdown",
      "metadata": {
        "id": "0aZXFKfKylBj"
      },
      "source": [
        "### Implementation 2\n",
        "Upsample patronising data."
      ]
    },
    {
      "cell_type": "code",
      "execution_count": 120,
      "metadata": {
        "id": "ypnQZgAkyJSz"
      },
      "outputs": [],
      "source": [
        "def upsample_pat(train, scale):\n",
        "    ratio = int(get_label_ratio(train)/scale)\n",
        "\n",
        "    pat_train = train[train.label == 1]\n",
        "    unpat_train = train[train.label == 0]\n",
        "\n",
        "    pat_train = pd.concat([pat_train]*ratio)\n",
        "    train = pd.concat([pat_train, unpat_train])\n",
        "    \n",
        "    return train"
      ]
    },
    {
      "cell_type": "code",
      "execution_count": 121,
      "metadata": {
        "id": "xN3crFMPLYU6"
      },
      "outputs": [],
      "source": [
        "def df_to_dict_of_lists(df):\n",
        "    texts = df['text'].values.tolist()\n",
        "    labels = df['label'].values.tolist()\n",
        "    parids = df['par_id'].values.tolist()\n",
        "    keywords = df['keyword'].values.tolist()\n",
        "    countries = df['country'].values.tolist()\n",
        "    intensities = df['intensity'].values.tolist()\n",
        "    lengths = df['length'].values.tolist()\n",
        "    \n",
        "    return {\n",
        "        'texts': texts,\n",
        "        'labels': labels,\n",
        "        'parids': parids,\n",
        "        'keywords': keywords,\n",
        "        'countries': countries,\n",
        "        'intensities': intensities,\n",
        "        'lengths': lengths\n",
        "    }"
      ]
    },
    {
      "cell_type": "markdown",
      "source": [
        "### Implementation 3"
      ],
      "metadata": {
        "id": "1XXxkW3Y4TCh"
      }
    },
    {
      "cell_type": "markdown",
      "source": [
        "We simply try down-sampling, then up-sampling to give a 1:1 ratio."
      ],
      "metadata": {
        "id": "Md2wNnxq4Yg1"
      }
    },
    {
      "cell_type": "markdown",
      "metadata": {
        "id": "7XZxdZsRZF8X"
      },
      "source": [
        "### Implementation 4\n",
        "Lemmatise words in text using verb PoS tagging."
      ]
    },
    {
      "cell_type": "code",
      "execution_count": 122,
      "metadata": {
        "id": "vwSsf79Ek7Pt"
      },
      "outputs": [],
      "source": [
        "lemmatizer = WordNetLemmatizer()\n",
        "\n",
        "def remove_punctuation(token):\n",
        "    return not any(map(lambda s: s in string.punctuation, token))\n",
        "\n",
        "def lemmatise(word):\n",
        "    return lemmatizer.lemmatize(word, pos=\"v\")\n",
        "\n",
        "def lemmatise_sentence(sentence):\n",
        "  tokens = wordpunct_tokenize(sentence)\n",
        "  tokens = list(map(lemmatise, tokens))\n",
        "  # tokens = list(filter(remove_punctuation, tokens))\n",
        "\n",
        "  return \" \".join(tokens)\n",
        "\n",
        "def lemmatise_df(df):\n",
        "  df.text = df.text.map(lemmatise_sentence)\n",
        "  \n",
        "  return df"
      ]
    },
    {
      "cell_type": "markdown",
      "metadata": {
        "id": "pSvmASpcpc5J"
      },
      "source": [
        "### Implementation 5\n",
        "Generate new examples using back-translation (of French and Spanish)\n",
        "\n"
      ]
    },
    {
      "cell_type": "code",
      "execution_count": 123,
      "metadata": {
        "colab": {
          "base_uri": "https://localhost:8080/"
        },
        "id": "9PFXT7rBqzHY",
        "outputId": "e3e237b2-caa9-44fb-b006-9943552e97b0"
      },
      "outputs": [
        {
          "output_type": "stream",
          "name": "stdout",
          "text": [
            "Fetching https://raw.githubusercontent.com/Loumstar/Improving-RoBERTa/master/data/dontpatronizeme_french_backtranslation.csv\n"
          ]
        }
      ],
      "source": [
        "module_url = f\"https://raw.githubusercontent.com/Loumstar/Improving-RoBERTa/master/data/dontpatronizeme_french_backtranslation.csv\" \n",
        "module_name = module_url.split('/')[-1]\n",
        "\n",
        "print(f'Fetching {module_url}')\n",
        "with request.urlopen(module_url) as f, open(module_name,'w') as outf:\n",
        "  b = f.read()\n",
        "  outf.write(b.decode('latin-1'))"
      ]
    },
    {
      "cell_type": "code",
      "execution_count": 124,
      "metadata": {
        "colab": {
          "base_uri": "https://localhost:8080/"
        },
        "id": "SeugFi36Y48R",
        "outputId": "81df5ce7-7113-4962-e5bb-20a01a64f304"
      },
      "outputs": [
        {
          "output_type": "stream",
          "name": "stdout",
          "text": [
            "Fetching https://raw.githubusercontent.com/Loumstar/Improving-RoBERTa/master/data/dontpatronizeme_spanish_backtranslation.csv\n"
          ]
        }
      ],
      "source": [
        "module_url = f\"https://raw.githubusercontent.com/Loumstar/Improving-RoBERTa/master/data/dontpatronizeme_spanish_backtranslation.csv\" \n",
        "module_name = module_url.split('/')[-1]\n",
        "\n",
        "print(f'Fetching {module_url}')\n",
        "with request.urlopen(module_url) as f, open(module_name,'w') as outf:\n",
        "  b = f.read()\n",
        "  outf.write(b.decode('latin-1'))"
      ]
    },
    {
      "cell_type": "code",
      "execution_count": 125,
      "metadata": {
        "id": "OqI821zTtLQl"
      },
      "outputs": [],
      "source": [
        "backtranslated_cols = [\"par_id\", \"art_id\", \"category\", \"country\", \"text\", \"score\"]\n",
        "\n",
        "french_import = pd.read_csv('dontpatronizeme_french_backtranslation.csv', names=backtranslated_cols)\n",
        "spanish_import = pd.read_csv('dontpatronizeme_spanish_backtranslation.csv', names=backtranslated_cols)"
      ]
    },
    {
      "cell_type": "code",
      "execution_count": 126,
      "metadata": {
        "id": "LJk7f-IItjb7"
      },
      "outputs": [],
      "source": [
        "# Copy the training dataset and swap out the text \n",
        "# for the back-translated version.\n",
        "french_df = train_df.copy()\n",
        "french_df.text = french_import.text\n",
        "\n",
        "spanish_df = train_df.copy()\n",
        "spanish_df.text = spanish_import.text\n",
        "\n",
        "def add_backtranslations(df):\n",
        "  df = df.append(french_df, ignore_index=True, \n",
        "                 verify_integrity=True)\n",
        "  \n",
        "  df = df.append(spanish_df, ignore_index=True, \n",
        "                 verify_integrity=True)\n",
        "  \n",
        "  df.length = df.text.str.split().map(get_list_length)\n",
        "  df.dropna(inplace=True)\n",
        "  \n",
        "  return df"
      ]
    },
    {
      "cell_type": "markdown",
      "metadata": {
        "id": "cnNmRnPxBUl1"
      },
      "source": [
        "### Choose Implementation"
      ]
    },
    {
      "cell_type": "code",
      "execution_count": 127,
      "metadata": {
        "id": "fYK_2Qy2BXqc"
      },
      "outputs": [],
      "source": [
        "train_df = main_implement(1, train_df)\n",
        "train_df = shuffle(train_df)"
      ]
    },
    {
      "cell_type": "code",
      "execution_count": 128,
      "metadata": {
        "colab": {
          "base_uri": "https://localhost:8080/"
        },
        "id": "qVsAwo7rSHKJ",
        "outputId": "ab5c0513-bf15-4874-9606-e6065178f6c3"
      },
      "outputs": [
        {
          "output_type": "stream",
          "name": "stdout",
          "text": [
            "2.0\n"
          ]
        }
      ],
      "source": [
        "print(get_label_ratio(train_df))"
      ]
    },
    {
      "cell_type": "code",
      "execution_count": 129,
      "metadata": {
        "colab": {
          "base_uri": "https://localhost:8080/",
          "height": 423
        },
        "id": "-Z90mgCzEWxO",
        "outputId": "80d33bc9-b6c9-47f8-b94f-c748e1a89089"
      },
      "outputs": [
        {
          "output_type": "execute_result",
          "data": {
            "text/html": [
              "\n",
              "  <div id=\"df-7ca711b7-7cf6-4145-b8e1-0fef8d9f3753\">\n",
              "    <div class=\"colab-df-container\">\n",
              "      <div>\n",
              "<style scoped>\n",
              "    .dataframe tbody tr th:only-of-type {\n",
              "        vertical-align: middle;\n",
              "    }\n",
              "\n",
              "    .dataframe tbody tr th {\n",
              "        vertical-align: top;\n",
              "    }\n",
              "\n",
              "    .dataframe thead th {\n",
              "        text-align: right;\n",
              "    }\n",
              "</style>\n",
              "<table border=\"1\" class=\"dataframe\">\n",
              "  <thead>\n",
              "    <tr style=\"text-align: right;\">\n",
              "      <th></th>\n",
              "      <th>par_id</th>\n",
              "      <th>text</th>\n",
              "      <th>label</th>\n",
              "      <th>keyword</th>\n",
              "      <th>country</th>\n",
              "      <th>intensity</th>\n",
              "      <th>length</th>\n",
              "    </tr>\n",
              "  </thead>\n",
              "  <tbody>\n",
              "    <tr>\n",
              "      <th>62</th>\n",
              "      <td>8093</td>\n",
              "      <td>\"\"\" Most of the time , you will hear people ad...</td>\n",
              "      <td>1</td>\n",
              "      <td>disabled</td>\n",
              "      <td>gh</td>\n",
              "      <td>4</td>\n",
              "      <td>51</td>\n",
              "    </tr>\n",
              "    <tr>\n",
              "      <th>245</th>\n",
              "      <td>9303</td>\n",
              "      <td>\"\"\" The villages around our campus are not ver...</td>\n",
              "      <td>1</td>\n",
              "      <td>poor-families</td>\n",
              "      <td>in</td>\n",
              "      <td>3</td>\n",
              "      <td>64</td>\n",
              "    </tr>\n",
              "    <tr>\n",
              "      <th>6894</th>\n",
              "      <td>6753</td>\n",
              "      <td>And there are clear cases in which women have ...</td>\n",
              "      <td>0</td>\n",
              "      <td>women</td>\n",
              "      <td>us</td>\n",
              "      <td>0</td>\n",
              "      <td>53</td>\n",
              "    </tr>\n",
              "    <tr>\n",
              "      <th>4325</th>\n",
              "      <td>3907</td>\n",
              "      <td>\"Now , for the first time , Colin and Denise h...</td>\n",
              "      <td>0</td>\n",
              "      <td>disabled</td>\n",
              "      <td>gb</td>\n",
              "      <td>0</td>\n",
              "      <td>24</td>\n",
              "    </tr>\n",
              "    <tr>\n",
              "      <th>369</th>\n",
              "      <td>5938</td>\n",
              "      <td>So , it is the poor , mostly Muslim countries ...</td>\n",
              "      <td>1</td>\n",
              "      <td>refugee</td>\n",
              "      <td>ph</td>\n",
              "      <td>4</td>\n",
              "      <td>88</td>\n",
              "    </tr>\n",
              "    <tr>\n",
              "      <th>...</th>\n",
              "      <td>...</td>\n",
              "      <td>...</td>\n",
              "      <td>...</td>\n",
              "      <td>...</td>\n",
              "      <td>...</td>\n",
              "      <td>...</td>\n",
              "      <td>...</td>\n",
              "    </tr>\n",
              "    <tr>\n",
              "      <th>462</th>\n",
              "      <td>2125</td>\n",
              "      <td>\"\"\" The government is implementing several sch...</td>\n",
              "      <td>1</td>\n",
              "      <td>poor-families</td>\n",
              "      <td>in</td>\n",
              "      <td>2</td>\n",
              "      <td>21</td>\n",
              "    </tr>\n",
              "    <tr>\n",
              "      <th>7120</th>\n",
              "      <td>7001</td>\n",
              "      <td>The president also directed security agencies ...</td>\n",
              "      <td>0</td>\n",
              "      <td>vulnerable</td>\n",
              "      <td>ng</td>\n",
              "      <td>0</td>\n",
              "      <td>35</td>\n",
              "    </tr>\n",
              "    <tr>\n",
              "      <th>7930</th>\n",
              "      <td>7894</td>\n",
              "      <td>It is amazing that IMF only focus on one side ...</td>\n",
              "      <td>0</td>\n",
              "      <td>hopeless</td>\n",
              "      <td>lk</td>\n",
              "      <td>0</td>\n",
              "      <td>81</td>\n",
              "    </tr>\n",
              "    <tr>\n",
              "      <th>3034</th>\n",
              "      <td>2492</td>\n",
              "      <td>\"\"\" This insurance scheme is for everyone , es...</td>\n",
              "      <td>0</td>\n",
              "      <td>women</td>\n",
              "      <td>ng</td>\n",
              "      <td>0</td>\n",
              "      <td>24</td>\n",
              "    </tr>\n",
              "    <tr>\n",
              "      <th>1871</th>\n",
              "      <td>1207</td>\n",
              "      <td>Hygiene products are not life-sustaining in th...</td>\n",
              "      <td>0</td>\n",
              "      <td>poor-families</td>\n",
              "      <td>us</td>\n",
              "      <td>0</td>\n",
              "      <td>39</td>\n",
              "    </tr>\n",
              "  </tbody>\n",
              "</table>\n",
              "<p>2382 rows × 7 columns</p>\n",
              "</div>\n",
              "      <button class=\"colab-df-convert\" onclick=\"convertToInteractive('df-7ca711b7-7cf6-4145-b8e1-0fef8d9f3753')\"\n",
              "              title=\"Convert this dataframe to an interactive table.\"\n",
              "              style=\"display:none;\">\n",
              "        \n",
              "  <svg xmlns=\"http://www.w3.org/2000/svg\" height=\"24px\"viewBox=\"0 0 24 24\"\n",
              "       width=\"24px\">\n",
              "    <path d=\"M0 0h24v24H0V0z\" fill=\"none\"/>\n",
              "    <path d=\"M18.56 5.44l.94 2.06.94-2.06 2.06-.94-2.06-.94-.94-2.06-.94 2.06-2.06.94zm-11 1L8.5 8.5l.94-2.06 2.06-.94-2.06-.94L8.5 2.5l-.94 2.06-2.06.94zm10 10l.94 2.06.94-2.06 2.06-.94-2.06-.94-.94-2.06-.94 2.06-2.06.94z\"/><path d=\"M17.41 7.96l-1.37-1.37c-.4-.4-.92-.59-1.43-.59-.52 0-1.04.2-1.43.59L10.3 9.45l-7.72 7.72c-.78.78-.78 2.05 0 2.83L4 21.41c.39.39.9.59 1.41.59.51 0 1.02-.2 1.41-.59l7.78-7.78 2.81-2.81c.8-.78.8-2.07 0-2.86zM5.41 20L4 18.59l7.72-7.72 1.47 1.35L5.41 20z\"/>\n",
              "  </svg>\n",
              "      </button>\n",
              "      \n",
              "  <style>\n",
              "    .colab-df-container {\n",
              "      display:flex;\n",
              "      flex-wrap:wrap;\n",
              "      gap: 12px;\n",
              "    }\n",
              "\n",
              "    .colab-df-convert {\n",
              "      background-color: #E8F0FE;\n",
              "      border: none;\n",
              "      border-radius: 50%;\n",
              "      cursor: pointer;\n",
              "      display: none;\n",
              "      fill: #1967D2;\n",
              "      height: 32px;\n",
              "      padding: 0 0 0 0;\n",
              "      width: 32px;\n",
              "    }\n",
              "\n",
              "    .colab-df-convert:hover {\n",
              "      background-color: #E2EBFA;\n",
              "      box-shadow: 0px 1px 2px rgba(60, 64, 67, 0.3), 0px 1px 3px 1px rgba(60, 64, 67, 0.15);\n",
              "      fill: #174EA6;\n",
              "    }\n",
              "\n",
              "    [theme=dark] .colab-df-convert {\n",
              "      background-color: #3B4455;\n",
              "      fill: #D2E3FC;\n",
              "    }\n",
              "\n",
              "    [theme=dark] .colab-df-convert:hover {\n",
              "      background-color: #434B5C;\n",
              "      box-shadow: 0px 1px 3px 1px rgba(0, 0, 0, 0.15);\n",
              "      filter: drop-shadow(0px 1px 2px rgba(0, 0, 0, 0.3));\n",
              "      fill: #FFFFFF;\n",
              "    }\n",
              "  </style>\n",
              "\n",
              "      <script>\n",
              "        const buttonEl =\n",
              "          document.querySelector('#df-7ca711b7-7cf6-4145-b8e1-0fef8d9f3753 button.colab-df-convert');\n",
              "        buttonEl.style.display =\n",
              "          google.colab.kernel.accessAllowed ? 'block' : 'none';\n",
              "\n",
              "        async function convertToInteractive(key) {\n",
              "          const element = document.querySelector('#df-7ca711b7-7cf6-4145-b8e1-0fef8d9f3753');\n",
              "          const dataTable =\n",
              "            await google.colab.kernel.invokeFunction('convertToInteractive',\n",
              "                                                     [key], {});\n",
              "          if (!dataTable) return;\n",
              "\n",
              "          const docLinkHtml = 'Like what you see? Visit the ' +\n",
              "            '<a target=\"_blank\" href=https://colab.research.google.com/notebooks/data_table.ipynb>data table notebook</a>'\n",
              "            + ' to learn more about interactive tables.';\n",
              "          element.innerHTML = '';\n",
              "          dataTable['output_type'] = 'display_data';\n",
              "          await google.colab.output.renderOutput(dataTable, element);\n",
              "          const docLink = document.createElement('div');\n",
              "          docLink.innerHTML = docLinkHtml;\n",
              "          element.appendChild(docLink);\n",
              "        }\n",
              "      </script>\n",
              "    </div>\n",
              "  </div>\n",
              "  "
            ],
            "text/plain": [
              "     par_id                                               text  label  \\\n",
              "62     8093  \"\"\" Most of the time , you will hear people ad...      1   \n",
              "245    9303  \"\"\" The villages around our campus are not ver...      1   \n",
              "6894   6753  And there are clear cases in which women have ...      0   \n",
              "4325   3907  \"Now , for the first time , Colin and Denise h...      0   \n",
              "369    5938  So , it is the poor , mostly Muslim countries ...      1   \n",
              "...     ...                                                ...    ...   \n",
              "462    2125  \"\"\" The government is implementing several sch...      1   \n",
              "7120   7001  The president also directed security agencies ...      0   \n",
              "7930   7894  It is amazing that IMF only focus on one side ...      0   \n",
              "3034   2492  \"\"\" This insurance scheme is for everyone , es...      0   \n",
              "1871   1207  Hygiene products are not life-sustaining in th...      0   \n",
              "\n",
              "            keyword country intensity  length  \n",
              "62         disabled      gh         4      51  \n",
              "245   poor-families      in         3      64  \n",
              "6894          women      us         0      53  \n",
              "4325       disabled      gb         0      24  \n",
              "369         refugee      ph         4      88  \n",
              "...             ...     ...       ...     ...  \n",
              "462   poor-families      in         2      21  \n",
              "7120     vulnerable      ng         0      35  \n",
              "7930       hopeless      lk         0      81  \n",
              "3034          women      ng         0      24  \n",
              "1871  poor-families      us         0      39  \n",
              "\n",
              "[2382 rows x 7 columns]"
            ]
          },
          "metadata": {},
          "execution_count": 129
        }
      ],
      "source": [
        "train_df"
      ]
    },
    {
      "cell_type": "markdown",
      "metadata": {
        "id": "arGrcVHI-0cd"
      },
      "source": [
        "## More Data Formatting"
      ]
    },
    {
      "cell_type": "markdown",
      "metadata": {
        "id": "pL3uUoHQ-4UV"
      },
      "source": [
        "Convert data to class and create embeddings from tokeniser"
      ]
    },
    {
      "cell_type": "code",
      "execution_count": 130,
      "metadata": {
        "id": "rV1muNSZNHd3"
      },
      "outputs": [],
      "source": [
        "class PatroDataset(torch.utils.data.Dataset):\n",
        "\n",
        "    def __init__(self, tokenizer, input_set, max_length=128):\n",
        "\n",
        "        self.tokenizer = tokenizer\n",
        "        self.texts = input_set['texts']\n",
        "        self.labels = input_set['labels']\n",
        "        self.parids = input_set['parids']\n",
        "        self.keywords = input_set['keywords']\n",
        "        self.countries = input_set['countries']\n",
        "        self.intensities = input_set['intensities']\n",
        "        self.lengths = input_set['lengths']\n",
        "\n",
        "        self.max_length = max_length\n",
        "\n",
        "    def collate_fn(self, batch):\n",
        "        texts, labels = [], []\n",
        "\n",
        "        for b in batch:\n",
        "            texts.append(b['text'])\n",
        "            labels.append(b['label'])\n",
        "\n",
        "        encodings = self.tokenizer(texts, return_tensors='pt', \n",
        "                                   padding=True, truncation=True, \n",
        "                                   max_length=self.max_length)\n",
        "        \n",
        "        encodings['label'] =  torch.tensor(labels)\n",
        "        \n",
        "        return encodings\n",
        "    \n",
        "    def __len__(self):\n",
        "        return len(self.texts)\n",
        "\n",
        "    def __getitem__(self, idx):\n",
        "       \n",
        "        return {\n",
        "            'text': self.texts[idx],\n",
        "            'label': self.labels[idx],\n",
        "            'parid': self.parids[idx],\n",
        "            'keyword': self.keywords[idx],\n",
        "            'countriy': self.countries[idx],\n",
        "            'intensity': self.intensities[idx],\n",
        "            'length': self.lengths[idx]\n",
        "        }"
      ]
    },
    {
      "cell_type": "code",
      "execution_count": 131,
      "metadata": {
        "colab": {
          "base_uri": "https://localhost:8080/"
        },
        "id": "eWYbesCMN7Mk",
        "outputId": "31b97b69-3bc8-4228-e09b-43680d548566"
      },
      "outputs": [
        {
          "output_type": "stream",
          "name": "stderr",
          "text": [
            "loading file https://huggingface.co/microsoft/deberta-base/resolve/main/vocab.json from cache at /root/.cache/huggingface/transformers/ce0ac094af27cf80bbf403595a6d47f1fc632981bf1d4c5bf69968568cbea410.e8ad27cc324bb0dc448d4d95f63e48f72688fb318a4c4c3f623485621b0b515c\n",
            "loading file https://huggingface.co/microsoft/deberta-base/resolve/main/merges.txt from cache at /root/.cache/huggingface/transformers/05056f257c8d2b63ad16fd26f847c9ab9ee34e33cdfad926e132be824b237869.5d12962c5ee615a4c803841266e9c3be9a691a924f72d395d3a6c6c81157788b\n",
            "loading file https://huggingface.co/microsoft/deberta-base/resolve/main/added_tokens.json from cache at None\n",
            "loading file https://huggingface.co/microsoft/deberta-base/resolve/main/special_tokens_map.json from cache at None\n",
            "loading file https://huggingface.co/microsoft/deberta-base/resolve/main/tokenizer_config.json from cache at /root/.cache/huggingface/transformers/c2bc27a1c7529c177696ff76b1e74cba8667be14e202359f20f9114e407f43e2.a39abb1c6179fb264c2db685f9a056b7cb8d4bc48d729888d292a2280debf8e2\n",
            "loading configuration file https://huggingface.co/microsoft/deberta-base/resolve/main/config.json from cache at /root/.cache/huggingface/transformers/e313266bff73867debdfa78c78a9a4966d5e78281ac4ed7048c178b16a37eba7.fb501413b9cef9cef6babdc543bb4153cbec58d52bce077647efba3e3f14ccf3\n",
            "Model config DebertaConfig {\n",
            "  \"_name_or_path\": \"microsoft/deberta-base\",\n",
            "  \"attention_probs_dropout_prob\": 0.1,\n",
            "  \"hidden_act\": \"gelu\",\n",
            "  \"hidden_dropout_prob\": 0.1,\n",
            "  \"hidden_size\": 768,\n",
            "  \"initializer_range\": 0.02,\n",
            "  \"intermediate_size\": 3072,\n",
            "  \"layer_norm_eps\": 1e-07,\n",
            "  \"max_position_embeddings\": 512,\n",
            "  \"max_relative_positions\": -1,\n",
            "  \"model_type\": \"deberta\",\n",
            "  \"num_attention_heads\": 12,\n",
            "  \"num_hidden_layers\": 12,\n",
            "  \"pad_token_id\": 0,\n",
            "  \"pooler_dropout\": 0,\n",
            "  \"pooler_hidden_act\": \"gelu\",\n",
            "  \"pooler_hidden_size\": 768,\n",
            "  \"pos_att_type\": [\n",
            "    \"c2p\",\n",
            "    \"p2c\"\n",
            "  ],\n",
            "  \"position_biased_input\": false,\n",
            "  \"relative_attention\": true,\n",
            "  \"transformers_version\": \"4.17.0\",\n",
            "  \"type_vocab_size\": 0,\n",
            "  \"vocab_size\": 50265\n",
            "}\n",
            "\n"
          ]
        }
      ],
      "source": [
        "tokenizer = DebertaTokenizer.from_pretrained(\"microsoft/deberta-base\")"
      ]
    },
    {
      "cell_type": "code",
      "execution_count": 132,
      "metadata": {
        "id": "uRynl_q2N9R5"
      },
      "outputs": [],
      "source": [
        "trainset = df_to_dict_of_lists(train_df)\n",
        "testset = df_to_dict_of_lists(test_df)\n",
        "\n",
        "test_dataset = PatroDataset(tokenizer, testset)\n",
        "\n",
        "if hyperparameter_tuning:\n",
        "    valset = df_to_dict_of_lists(val_df)\n",
        "    val_dataset = PatroDataset(tokenizer, valset)\n",
        "    val_loader = DataLoader(val_dataset)"
      ]
    },
    {
      "cell_type": "markdown",
      "metadata": {
        "id": "RHWXEdWnF9Ne"
      },
      "source": [
        "## Model"
      ]
    },
    {
      "cell_type": "markdown",
      "metadata": {
        "id": "ZXweseRdq6D_"
      },
      "source": [
        "### Hyperparameter Tuning Configuration (using WandB)"
      ]
    },
    {
      "cell_type": "code",
      "execution_count": 133,
      "metadata": {
        "id": "N633yUziq84U"
      },
      "outputs": [],
      "source": [
        "if hyperparameter_tuning:\n",
        "    wandb.login()\n",
        "\n",
        "    config = {\n",
        "        \"name\": \"vanilla-sweep\",\n",
        "        \"method\": \"grid\",\n",
        "        \"metric\": {\n",
        "            \"name\": \"f1_score\",\n",
        "            \"goal\": \"maximize\"\n",
        "        },\n",
        "        \"parameters\": {\n",
        "            \"num_epochs\": {\n",
        "                \"values\":[3, 4, 5]\n",
        "            },\n",
        "            \"learning_rate\": {\n",
        "                \"values\":[1e-4, 1.5e-4, 2e-4]\n",
        "            },\n",
        "            \"max_length\": {\n",
        "                \"values\": [64, 128]\n",
        "            }\n",
        "        },\n",
        "        \"early_terminate\": {\"type\": \"hyperband\", \"min_iter\": 3},\n",
        "    }\n",
        "\n",
        "    sweep_id = wandb.sweep(config, project=\"DeBERTa Hyperparameter Tuning\")"
      ]
    },
    {
      "cell_type": "markdown",
      "metadata": {
        "id": "xJsaOyISAq5u"
      },
      "source": [
        "### DeBERTa Model & Trainer"
      ]
    },
    {
      "cell_type": "code",
      "execution_count": 134,
      "metadata": {
        "colab": {
          "base_uri": "https://localhost:8080/"
        },
        "id": "UOawO4NpGCpE",
        "outputId": "30dacf37-1cab-410f-bbc9-18e042805b8a"
      },
      "outputs": [
        {
          "output_type": "stream",
          "name": "stderr",
          "text": [
            "loading configuration file https://huggingface.co/microsoft/deberta-base/resolve/main/config.json from cache at /root/.cache/huggingface/transformers/e313266bff73867debdfa78c78a9a4966d5e78281ac4ed7048c178b16a37eba7.fb501413b9cef9cef6babdc543bb4153cbec58d52bce077647efba3e3f14ccf3\n",
            "Model config DebertaConfig {\n",
            "  \"attention_probs_dropout_prob\": 0.1,\n",
            "  \"hidden_act\": \"gelu\",\n",
            "  \"hidden_dropout_prob\": 0.1,\n",
            "  \"hidden_size\": 768,\n",
            "  \"initializer_range\": 0.02,\n",
            "  \"intermediate_size\": 3072,\n",
            "  \"layer_norm_eps\": 1e-07,\n",
            "  \"max_position_embeddings\": 512,\n",
            "  \"max_relative_positions\": -1,\n",
            "  \"model_type\": \"deberta\",\n",
            "  \"num_attention_heads\": 12,\n",
            "  \"num_hidden_layers\": 12,\n",
            "  \"pad_token_id\": 0,\n",
            "  \"pooler_dropout\": 0,\n",
            "  \"pooler_hidden_act\": \"gelu\",\n",
            "  \"pooler_hidden_size\": 768,\n",
            "  \"pos_att_type\": [\n",
            "    \"c2p\",\n",
            "    \"p2c\"\n",
            "  ],\n",
            "  \"position_biased_input\": false,\n",
            "  \"relative_attention\": true,\n",
            "  \"transformers_version\": \"4.17.0\",\n",
            "  \"type_vocab_size\": 0,\n",
            "  \"vocab_size\": 50265\n",
            "}\n",
            "\n",
            "loading weights file https://huggingface.co/microsoft/deberta-base/resolve/main/pytorch_model.bin from cache at /root/.cache/huggingface/transformers/dde0725208c11536042f6f416c538792d44a2d57d1ae399bbd1bc5867e02c465.0a3ec262cb3d4f634c72ce55f2766bb88771e6499b2512830e2e63bf19dbf97a\n",
            "Some weights of the model checkpoint at microsoft/deberta-base were not used when initializing DebertaForSequenceClassification: ['lm_predictions.lm_head.bias', 'lm_predictions.lm_head.dense.weight', 'lm_predictions.lm_head.LayerNorm.weight', 'lm_predictions.lm_head.dense.bias', 'lm_predictions.lm_head.LayerNorm.bias']\n",
            "- This IS expected if you are initializing DebertaForSequenceClassification from the checkpoint of a model trained on another task or with another architecture (e.g. initializing a BertForSequenceClassification model from a BertForPreTraining model).\n",
            "- This IS NOT expected if you are initializing DebertaForSequenceClassification from the checkpoint of a model that you expect to be exactly identical (initializing a BertForSequenceClassification model from a BertForSequenceClassification model).\n",
            "Some weights of DebertaForSequenceClassification were not initialized from the model checkpoint at microsoft/deberta-base and are newly initialized: ['classifier.weight', 'pooler.dense.bias', 'pooler.dense.weight', 'classifier.bias']\n",
            "You should probably TRAIN this model on a down-stream task to be able to use it for predictions and inference.\n"
          ]
        },
        {
          "output_type": "stream",
          "name": "stdout",
          "text": [
            "Model size: 139193858\n"
          ]
        }
      ],
      "source": [
        "model = DebertaForSequenceClassification.from_pretrained(\"microsoft/deberta-base\")\n",
        "\n",
        "#180 M\n",
        "print(f\"Model size: {model.num_parameters()}\")"
      ]
    },
    {
      "cell_type": "code",
      "execution_count": 135,
      "metadata": {
        "id": "m3a-PN-PLAO_"
      },
      "outputs": [],
      "source": [
        "class Trainer_patronise(Trainer):\n",
        "    def __init__(self, **kwargs):\n",
        "        super().__init__(**kwargs)\n",
        "        self.losses = []\n",
        "\n",
        "    def compute_loss(self, model, inputs):\n",
        "        labels = inputs.pop('label')\n",
        "\n",
        "        outputs = model(**inputs)\n",
        "        logits = outputs.get('logits')\n",
        "\n",
        "        loss_task = nn.CrossEntropyLoss()\n",
        "\n",
        "        loss = loss_task(logits, labels)\n",
        "        self.losses.append(loss.item())\n",
        "        \n",
        "        return loss"
      ]
    },
    {
      "cell_type": "markdown",
      "metadata": {
        "id": "YKYcQDrgXvgt"
      },
      "source": [
        "### Main Training Funtion (incl. Hyperparameter Search)"
      ]
    },
    {
      "cell_type": "code",
      "execution_count": 136,
      "metadata": {
        "id": "WuJkwU8WLEgl"
      },
      "outputs": [],
      "source": [
        "def main_patronise():\n",
        "    if hyperparameter_tuning:\n",
        "        wandb.init()\n",
        "        learning_rate = wandb.config.learning_rate\n",
        "        max_length = wandb.config.max_length\n",
        "        num_epochs = wandb.config.num_epochs\n",
        "    else:\n",
        "        learning_rate = 0.0001\n",
        "        max_length = 128\n",
        "        num_epochs = 5\n",
        "    train_dataset = PatroDataset(tokenizer, trainset,\n",
        "                                 max_length=max_length)\n",
        "\n",
        "    #call our custom BERT model and pass as parameter the name of an available pretrained model\n",
        "    model = DebertaForSequenceClassification.from_pretrained(\"microsoft/deberta-base\")\n",
        "    \n",
        "    training_args = TrainingArguments(\n",
        "        output_dir='./',\n",
        "        learning_rate=learning_rate,\n",
        "        lr_scheduler_type='linear',\n",
        "        logging_steps=100,\n",
        "        per_device_train_batch_size=32,\n",
        "        num_train_epochs=num_epochs,\n",
        "        adam_beta1 = 0.9,\n",
        "        adam_beta2 = 0.999,\n",
        "        adam_epsilon = 1e-6,\n",
        "        max_grad_norm = 1.0,\n",
        "        save_steps = 2500\n",
        "    )\n",
        "    trainer = Trainer_patronise(\n",
        "        model=model,              \n",
        "        args=training_args,                \n",
        "        train_dataset=train_dataset,          \n",
        "        data_collator=train_dataset.collate_fn\n",
        "    )\n",
        "    \n",
        "    trainer.train()\n",
        "    trainer.save_model('./')\n",
        "\n",
        "    model = DebertaForSequenceClassification.from_pretrained(\"./\")\n",
        "\n",
        "    if hyperparameter_tuning:\n",
        "        report, _ = evaluate(model, tokenizer, val_loader, val_df)\n",
        "        f1_score = report[1][\"f1-score\"]\n",
        "\n",
        "        wandb.log({\"f1_score\": f1_score})\n",
        "        wandb.join()\n",
        "\n",
        "    return trainer.losses"
      ]
    },
    {
      "cell_type": "markdown",
      "metadata": {
        "id": "srfNerRdgTSH"
      },
      "source": [
        "## Evaluation"
      ]
    },
    {
      "cell_type": "markdown",
      "metadata": {
        "id": "RJ2AQYFAXvgu"
      },
      "source": [
        "### Prediction Function"
      ]
    },
    {
      "cell_type": "code",
      "execution_count": 137,
      "metadata": {
        "id": "01ivcIlHgXTG"
      },
      "outputs": [],
      "source": [
        "def predict_patronise(input, tokenizer, model): \n",
        "    model.eval()\n",
        "    encodings = tokenizer(input, return_tensors='pt', padding=True, truncation=True, max_length=128)\n",
        "    \n",
        "    output = model(**encodings)\n",
        "    preds = torch.max(output.logits, 1)\n",
        "\n",
        "    return {'prediction':preds[1], 'confidence':preds[0]}"
      ]
    },
    {
      "cell_type": "markdown",
      "metadata": {
        "id": "rju4bl7bXvgu"
      },
      "source": [
        "### Evaluation Function"
      ]
    },
    {
      "cell_type": "code",
      "execution_count": 138,
      "metadata": {
        "id": "98BAJTSygeLW"
      },
      "outputs": [],
      "source": [
        "def evaluate(model, tokenizer, data_loader, test_df):\n",
        "\n",
        "  total_count = 0\n",
        "  correct_count = 0 \n",
        "\n",
        "  preds = []\n",
        "  tot_labels = []\n",
        "\n",
        "  test_df['prediction'] = np.nan\n",
        "\n",
        "  with torch.no_grad():\n",
        "    for data in tqdm(data_loader):\n",
        "      labels = {}\n",
        "      labels['label'] = data['label']\n",
        "\n",
        "      sentences = data['text']\n",
        "\n",
        "      pred = predict_patronise(sentences, tokenizer, model)\n",
        "\n",
        "      preds.append(pred['prediction'].tolist())\n",
        "      tot_labels.append(labels['label'].tolist())\n",
        "\n",
        "      for id, data_prediction in zip(data['parid'], pred['prediction']):\n",
        "        rows = test_df.loc[test_df.par_id == id]\n",
        "        rows.prediction = data_prediction.tolist()\n",
        "        test_df.update(rows)\n",
        "\n",
        "  # with the saved predictions and labels we can compute accuracy, precision, recall and f1-score\n",
        "  report = classification_report(tot_labels, preds, target_names=[0,1], output_dict= True)\n",
        "\n",
        "  return report, test_df"
      ]
    },
    {
      "cell_type": "markdown",
      "metadata": {
        "id": "9M8uC_y1MUtj"
      },
      "source": [
        "## Run Train/Hyperparameter Search"
      ]
    },
    {
      "cell_type": "code",
      "execution_count": 139,
      "metadata": {
        "colab": {
          "base_uri": "https://localhost:8080/",
          "height": 1000
        },
        "id": "j430z_OKMbvM",
        "outputId": "7b431ac2-c418-4da8-c1ca-48a49983f6da"
      },
      "outputs": [
        {
          "output_type": "stream",
          "name": "stderr",
          "text": [
            "loading configuration file https://huggingface.co/microsoft/deberta-base/resolve/main/config.json from cache at /root/.cache/huggingface/transformers/e313266bff73867debdfa78c78a9a4966d5e78281ac4ed7048c178b16a37eba7.fb501413b9cef9cef6babdc543bb4153cbec58d52bce077647efba3e3f14ccf3\n",
            "Model config DebertaConfig {\n",
            "  \"attention_probs_dropout_prob\": 0.1,\n",
            "  \"hidden_act\": \"gelu\",\n",
            "  \"hidden_dropout_prob\": 0.1,\n",
            "  \"hidden_size\": 768,\n",
            "  \"initializer_range\": 0.02,\n",
            "  \"intermediate_size\": 3072,\n",
            "  \"layer_norm_eps\": 1e-07,\n",
            "  \"max_position_embeddings\": 512,\n",
            "  \"max_relative_positions\": -1,\n",
            "  \"model_type\": \"deberta\",\n",
            "  \"num_attention_heads\": 12,\n",
            "  \"num_hidden_layers\": 12,\n",
            "  \"pad_token_id\": 0,\n",
            "  \"pooler_dropout\": 0,\n",
            "  \"pooler_hidden_act\": \"gelu\",\n",
            "  \"pooler_hidden_size\": 768,\n",
            "  \"pos_att_type\": [\n",
            "    \"c2p\",\n",
            "    \"p2c\"\n",
            "  ],\n",
            "  \"position_biased_input\": false,\n",
            "  \"relative_attention\": true,\n",
            "  \"transformers_version\": \"4.17.0\",\n",
            "  \"type_vocab_size\": 0,\n",
            "  \"vocab_size\": 50265\n",
            "}\n",
            "\n",
            "loading weights file https://huggingface.co/microsoft/deberta-base/resolve/main/pytorch_model.bin from cache at /root/.cache/huggingface/transformers/dde0725208c11536042f6f416c538792d44a2d57d1ae399bbd1bc5867e02c465.0a3ec262cb3d4f634c72ce55f2766bb88771e6499b2512830e2e63bf19dbf97a\n",
            "Some weights of the model checkpoint at microsoft/deberta-base were not used when initializing DebertaForSequenceClassification: ['lm_predictions.lm_head.bias', 'lm_predictions.lm_head.dense.weight', 'lm_predictions.lm_head.LayerNorm.weight', 'lm_predictions.lm_head.dense.bias', 'lm_predictions.lm_head.LayerNorm.bias']\n",
            "- This IS expected if you are initializing DebertaForSequenceClassification from the checkpoint of a model trained on another task or with another architecture (e.g. initializing a BertForSequenceClassification model from a BertForPreTraining model).\n",
            "- This IS NOT expected if you are initializing DebertaForSequenceClassification from the checkpoint of a model that you expect to be exactly identical (initializing a BertForSequenceClassification model from a BertForSequenceClassification model).\n",
            "Some weights of DebertaForSequenceClassification were not initialized from the model checkpoint at microsoft/deberta-base and are newly initialized: ['classifier.weight', 'pooler.dense.bias', 'pooler.dense.weight', 'classifier.bias']\n",
            "You should probably TRAIN this model on a down-stream task to be able to use it for predictions and inference.\n",
            "PyTorch: setting up devices\n",
            "The default value for the training argument `--report_to` will change in v5 (from all installed integrations to none). In v5, you will need to use `--report_to all` to get the same behavior as now. You should start updating your code and make this info disappear :-).\n",
            "/usr/local/lib/python3.7/dist-packages/transformers/optimization.py:309: FutureWarning: This implementation of AdamW is deprecated and will be removed in a future version. Use the PyTorch implementation torch.optim.AdamW instead, or set `no_deprecation_warning=True` to disable this warning\n",
            "  FutureWarning,\n",
            "***** Running training *****\n",
            "  Num examples = 2382\n",
            "  Num Epochs = 5\n",
            "  Instantaneous batch size per device = 32\n",
            "  Total train batch size (w. parallel, distributed & accumulation) = 32\n",
            "  Gradient Accumulation steps = 1\n",
            "  Total optimization steps = 375\n",
            "Automatic Weights & Biases logging enabled, to disable set os.environ[\"WANDB_DISABLED\"] = \"true\"\n"
          ]
        },
        {
          "output_type": "display_data",
          "data": {
            "text/html": [
              "\n",
              "    <div>\n",
              "      \n",
              "      <progress value='375' max='375' style='width:300px; height:20px; vertical-align: middle;'></progress>\n",
              "      [375/375 03:09, Epoch 5/5]\n",
              "    </div>\n",
              "    <table border=\"1\" class=\"dataframe\">\n",
              "  <thead>\n",
              " <tr style=\"text-align: left;\">\n",
              "      <th>Step</th>\n",
              "      <th>Training Loss</th>\n",
              "    </tr>\n",
              "  </thead>\n",
              "  <tbody>\n",
              "    <tr>\n",
              "      <td>100</td>\n",
              "      <td>0.542000</td>\n",
              "    </tr>\n",
              "    <tr>\n",
              "      <td>200</td>\n",
              "      <td>0.345700</td>\n",
              "    </tr>\n",
              "    <tr>\n",
              "      <td>300</td>\n",
              "      <td>0.172800</td>\n",
              "    </tr>\n",
              "  </tbody>\n",
              "</table><p>"
            ],
            "text/plain": [
              "<IPython.core.display.HTML object>"
            ]
          },
          "metadata": {}
        },
        {
          "output_type": "stream",
          "name": "stderr",
          "text": [
            "\n",
            "\n",
            "Training completed. Do not forget to share your model on huggingface.co/models =)\n",
            "\n",
            "\n",
            "Saving model checkpoint to ./\n",
            "Configuration saved in ./config.json\n",
            "Model weights saved in ./pytorch_model.bin\n",
            "loading configuration file ./config.json\n",
            "Model config DebertaConfig {\n",
            "  \"_name_or_path\": \"microsoft/deberta-base\",\n",
            "  \"architectures\": [\n",
            "    \"DebertaForSequenceClassification\"\n",
            "  ],\n",
            "  \"attention_probs_dropout_prob\": 0.1,\n",
            "  \"hidden_act\": \"gelu\",\n",
            "  \"hidden_dropout_prob\": 0.1,\n",
            "  \"hidden_size\": 768,\n",
            "  \"initializer_range\": 0.02,\n",
            "  \"intermediate_size\": 3072,\n",
            "  \"layer_norm_eps\": 1e-07,\n",
            "  \"max_position_embeddings\": 512,\n",
            "  \"max_relative_positions\": -1,\n",
            "  \"model_type\": \"deberta\",\n",
            "  \"num_attention_heads\": 12,\n",
            "  \"num_hidden_layers\": 12,\n",
            "  \"pad_token_id\": 0,\n",
            "  \"pooler_dropout\": 0,\n",
            "  \"pooler_hidden_act\": \"gelu\",\n",
            "  \"pooler_hidden_size\": 768,\n",
            "  \"pos_att_type\": [\n",
            "    \"c2p\",\n",
            "    \"p2c\"\n",
            "  ],\n",
            "  \"position_biased_input\": false,\n",
            "  \"relative_attention\": true,\n",
            "  \"torch_dtype\": \"float32\",\n",
            "  \"transformers_version\": \"4.17.0\",\n",
            "  \"type_vocab_size\": 0,\n",
            "  \"vocab_size\": 50265\n",
            "}\n",
            "\n",
            "loading weights file ./pytorch_model.bin\n",
            "All model checkpoint weights were used when initializing DebertaForSequenceClassification.\n",
            "\n",
            "All the weights of DebertaForSequenceClassification were initialized from the model checkpoint at ./.\n",
            "If your task is similar to the task the model of the checkpoint was trained on, you can already use DebertaForSequenceClassification for predictions without further training.\n"
          ]
        }
      ],
      "source": [
        "if hyperparameter_tuning:\n",
        "    losses = wandb.agent(sweep_id, function=main_patronise, count=18)\n",
        "else:\n",
        "    losses = main_patronise()"
      ]
    },
    {
      "cell_type": "markdown",
      "metadata": {
        "id": "QOvGCWmQMeP2"
      },
      "source": [
        "## Analysis"
      ]
    },
    {
      "cell_type": "markdown",
      "metadata": {
        "id": "04lOgycWMknn"
      },
      "source": [
        "### Plot Loss Curves"
      ]
    },
    {
      "cell_type": "code",
      "execution_count": 140,
      "metadata": {
        "id": "6h3ymF1FAMQC",
        "outputId": "ecd660d1-b1ec-4916-c683-74489f96cf89",
        "colab": {
          "base_uri": "https://localhost:8080/",
          "height": 294
        }
      },
      "outputs": [
        {
          "output_type": "display_data",
          "data": {
            "image/png": "[encoded data removed]",
            "text/plain": [
              "<Figure size 504x288 with 1 Axes>"
            ]
          },
          "metadata": {
            "needs_background": "light"
          }
        }
      ],
      "source": [
        "# Recorded loss values for different implementations of the model\n",
        "baseline_loss = np.array([0.3369, 0.2713, 0.2410, 0.2120, 0.2727, 0.2107, 0.1947])\n",
        "downsample_loss = np.array([0.4651, 0.3113, 0.1835, 0.0619])\n",
        "upsample_loss = np.array([0.4391, 0.3435, 0.2768, 0.1451])\n",
        "down_upsample_loss = np.array([0.5711, 0.3136, 0.1862, 0.0588])\n",
        "lemmatised_loss = np.array([0.4964, 0.3589, 0.2220, 0.1288])\n",
        "backtranslated_loss = np.array([0.5290, 0.4398, 0.3778, 0.4154, 0.3843, 0.3832, 0.3817])\n",
        "lemmatised_no_punct_loss = np.array([0.4618, 0.2942, 0.1525, 0.0676])\n",
        "\n",
        "losses = [\n",
        "    (baseline_loss, \"Base model (f1 = 0.39)\"),\n",
        "    (downsample_loss, \"Downsampled (f1 = 0.56)\"),\n",
        "    (upsample_loss, \"Upsampled (f1 = 0.50)\"),\n",
        "    (down_upsample_loss, \"Down- & upsampled (f1 = 0.54)\"),\n",
        "    (lemmatised_loss, \"Lemmatised w. punct (f1 = 0.56)\"),\n",
        "    (backtranslated_loss, \"Backtranslated (f1 = 0.03)\"),\n",
        "    (lemmatised_no_punct_loss, \"Lemmatised w/o punct (f1 = 0.55)\")\n",
        "]\n",
        "\n",
        "figure, axis = plt.subplots()\n",
        "\n",
        "\n",
        "for loss, label in losses:\n",
        "    batches = np.arange(0, len(loss) * 100, 100)\n",
        "    axis.plot(batches, loss, label=label)\n",
        "\n",
        "figure.set_size_inches((7, 4))\n",
        "\n",
        "axis.set_ylabel(\"Loss\")\n",
        "axis.set_xlabel(\"Batch\")\n",
        "axis.set_title(\"Training Loss for each implementation\")\n",
        "axis.set_xlim(0, 300)\n",
        "axis.set_ylim(0, 1)\n",
        "\n",
        "axis.legend()\n",
        "\n",
        "plt.show()"
      ]
    },
    {
      "cell_type": "markdown",
      "metadata": {
        "id": "QQu63S2bXvgv"
      },
      "source": [
        "### Report F1 Score"
      ]
    },
    {
      "cell_type": "code",
      "execution_count": null,
      "metadata": {
        "id": "d2cBAJ3WrI0g",
        "colab": {
          "base_uri": "https://localhost:8080/",
          "height": 1000,
          "referenced_widgets": [
            "9e1e7363436541a9b44fd7c7da2c6df0",
            "0ac87541388e477bb6e7b2551d405bfa",
            "40aa3835f6184bd99d8620abf6bc6890",
            "ab80fd84e5f94220bcfef33517dfd667",
            "e9e58e2f58c24e018131d3379ad87bad",
            "5b6afd0228074123994cbdd06ed62fb9",
            "fb2bc880e0b84b89b28321222db62e1d",
            "18539444893d4c448f6572d21be6d130",
            "20e381e272174cbe8ce5ed04aaf92511",
            "070fb985bf77444f99d7d8ad8436a55c",
            "cd8cb9a2716b419f852da5673c2bd27d"
          ]
        },
        "outputId": "882f0817-6712-46b9-d685-b5d146bdf3e5"
      },
      "outputs": [
        {
          "output_type": "stream",
          "name": "stderr",
          "text": [
            "loading file https://huggingface.co/microsoft/deberta-base/resolve/main/vocab.json from cache at /root/.cache/huggingface/transformers/ce0ac094af27cf80bbf403595a6d47f1fc632981bf1d4c5bf69968568cbea410.e8ad27cc324bb0dc448d4d95f63e48f72688fb318a4c4c3f623485621b0b515c\n",
            "loading file https://huggingface.co/microsoft/deberta-base/resolve/main/merges.txt from cache at /root/.cache/huggingface/transformers/05056f257c8d2b63ad16fd26f847c9ab9ee34e33cdfad926e132be824b237869.5d12962c5ee615a4c803841266e9c3be9a691a924f72d395d3a6c6c81157788b\n",
            "loading file https://huggingface.co/microsoft/deberta-base/resolve/main/added_tokens.json from cache at None\n",
            "loading file https://huggingface.co/microsoft/deberta-base/resolve/main/special_tokens_map.json from cache at None\n",
            "loading file https://huggingface.co/microsoft/deberta-base/resolve/main/tokenizer_config.json from cache at /root/.cache/huggingface/transformers/c2bc27a1c7529c177696ff76b1e74cba8667be14e202359f20f9114e407f43e2.a39abb1c6179fb264c2db685f9a056b7cb8d4bc48d729888d292a2280debf8e2\n",
            "loading configuration file https://huggingface.co/microsoft/deberta-base/resolve/main/config.json from cache at /root/.cache/huggingface/transformers/e313266bff73867debdfa78c78a9a4966d5e78281ac4ed7048c178b16a37eba7.fb501413b9cef9cef6babdc543bb4153cbec58d52bce077647efba3e3f14ccf3\n",
            "Model config DebertaConfig {\n",
            "  \"_name_or_path\": \"microsoft/deberta-base\",\n",
            "  \"attention_probs_dropout_prob\": 0.1,\n",
            "  \"hidden_act\": \"gelu\",\n",
            "  \"hidden_dropout_prob\": 0.1,\n",
            "  \"hidden_size\": 768,\n",
            "  \"initializer_range\": 0.02,\n",
            "  \"intermediate_size\": 3072,\n",
            "  \"layer_norm_eps\": 1e-07,\n",
            "  \"max_position_embeddings\": 512,\n",
            "  \"max_relative_positions\": -1,\n",
            "  \"model_type\": \"deberta\",\n",
            "  \"num_attention_heads\": 12,\n",
            "  \"num_hidden_layers\": 12,\n",
            "  \"pad_token_id\": 0,\n",
            "  \"pooler_dropout\": 0,\n",
            "  \"pooler_hidden_act\": \"gelu\",\n",
            "  \"pooler_hidden_size\": 768,\n",
            "  \"pos_att_type\": [\n",
            "    \"c2p\",\n",
            "    \"p2c\"\n",
            "  ],\n",
            "  \"position_biased_input\": false,\n",
            "  \"relative_attention\": true,\n",
            "  \"transformers_version\": \"4.17.0\",\n",
            "  \"type_vocab_size\": 0,\n",
            "  \"vocab_size\": 50265\n",
            "}\n",
            "\n",
            "loading configuration file ./config.json\n",
            "Model config DebertaConfig {\n",
            "  \"_name_or_path\": \"microsoft/deberta-base\",\n",
            "  \"architectures\": [\n",
            "    \"DebertaForSequenceClassification\"\n",
            "  ],\n",
            "  \"attention_probs_dropout_prob\": 0.1,\n",
            "  \"hidden_act\": \"gelu\",\n",
            "  \"hidden_dropout_prob\": 0.1,\n",
            "  \"hidden_size\": 768,\n",
            "  \"initializer_range\": 0.02,\n",
            "  \"intermediate_size\": 3072,\n",
            "  \"layer_norm_eps\": 1e-07,\n",
            "  \"max_position_embeddings\": 512,\n",
            "  \"max_relative_positions\": -1,\n",
            "  \"model_type\": \"deberta\",\n",
            "  \"num_attention_heads\": 12,\n",
            "  \"num_hidden_layers\": 12,\n",
            "  \"pad_token_id\": 0,\n",
            "  \"pooler_dropout\": 0,\n",
            "  \"pooler_hidden_act\": \"gelu\",\n",
            "  \"pooler_hidden_size\": 768,\n",
            "  \"pos_att_type\": [\n",
            "    \"c2p\",\n",
            "    \"p2c\"\n",
            "  ],\n",
            "  \"position_biased_input\": false,\n",
            "  \"relative_attention\": true,\n",
            "  \"torch_dtype\": \"float32\",\n",
            "  \"transformers_version\": \"4.17.0\",\n",
            "  \"type_vocab_size\": 0,\n",
            "  \"vocab_size\": 50265\n",
            "}\n",
            "\n",
            "loading weights file ./pytorch_model.bin\n",
            "All model checkpoint weights were used when initializing DebertaForSequenceClassification.\n",
            "\n",
            "All the weights of DebertaForSequenceClassification were initialized from the model checkpoint at ./.\n",
            "If your task is similar to the task the model of the checkpoint was trained on, you can already use DebertaForSequenceClassification for predictions without further training.\n"
          ]
        },
        {
          "output_type": "display_data",
          "data": {
            "application/vnd.jupyter.widget-view+json": {
              "model_id": "9e1e7363436541a9b44fd7c7da2c6df0",
              "version_minor": 0,
              "version_major": 2
            },
            "text/plain": [
              "  0%|          | 0/2094 [00:00<?, ?it/s]"
            ]
          },
          "metadata": {}
        },
        {
          "output_type": "stream",
          "name": "stderr",
          "text": [
            "/usr/local/lib/python3.7/dist-packages/pandas/core/generic.py:5516: SettingWithCopyWarning: \n",
            "A value is trying to be set on a copy of a slice from a DataFrame.\n",
            "Try using .loc[row_indexer,col_indexer] = value instead\n",
            "\n",
            "See the caveats in the documentation: https://pandas.pydata.org/pandas-docs/stable/user_guide/indexing.html#returning-a-view-versus-a-copy\n",
            "  self[name] = value\n"
          ]
        }
      ],
      "source": [
        "tokenizer = DebertaTokenizer.from_pretrained(\"microsoft/deberta-base\")\n",
        "\n",
        "#your saved model name here\n",
        "model_name = './'\n",
        "model = DebertaForSequenceClassification.from_pretrained(model_name)\n",
        "\n",
        "# we don't batch our test set unless it's too big\n",
        "test_loader = DataLoader(test_dataset)\n",
        "\n",
        "report, annotated_test_dataset = evaluate(model, tokenizer, test_loader, test_df)\n",
        "\n",
        "print(report)\n",
        "\n",
        "print(report['accuracy'])\n",
        "print(report[0]['f1-score'])\n",
        "print(report[1]['f1-score'])"
      ]
    },
    {
      "cell_type": "markdown",
      "metadata": {
        "id": "rkWKtFWXAMQD"
      },
      "source": [
        "### Analysis of F1 score with different intensities"
      ]
    },
    {
      "cell_type": "code",
      "execution_count": null,
      "metadata": {
        "id": "1ukrVveJAMQD"
      },
      "outputs": [],
      "source": [
        "def get_intensity_histograms(df, intensity, axis):\n",
        "    intensity_df = df.loc[df.intensity.map(int) == intensity]\n",
        "    series = intensity_df.prediction.map(int)\n",
        "    _, _, [patch0, patch1] = axis.hist(series, bins=[-0.5, 0.5, 1.5])\n",
        "\n",
        "    patch0.set_facecolor(\"tab:blue\")\n",
        "    patch1.set_facecolor(\"tab:orange\")\n",
        "\n",
        "    axis.set_xticks([0, 1])\n",
        "    axis.set_xticklabels([\"Unpatronising\", \"Patronising\"])"
      ]
    },
    {
      "cell_type": "code",
      "execution_count": null,
      "metadata": {
        "id": "7v8Tz0s4AMQE"
      },
      "outputs": [],
      "source": [
        "figure_unpatr, (axis0, axis1) = plt.subplots(1, 2)\n",
        "\n",
        "figure_unpatr.set_size_inches((8, 4))\n",
        "figure_unpatr.suptitle(\"Model predictions for different levels of condescension\")\n",
        "\n",
        "axis0.set_ylabel(\"Predictions\")\n",
        "axis1.set_ylabel(\"Predictions\")\n",
        "\n",
        "axis0.set_title(\"Intensity = 0\")\n",
        "axis1.set_title(\"Intensity = 1\")\n",
        "\n",
        "series = get_intensity_histograms(annotated_test_dataset, 0, axis0)\n",
        "series = get_intensity_histograms(annotated_test_dataset, 1, axis1)\n",
        "\n",
        "figure_patr, (axis2, axis3, axis4) = plt.subplots(1, 3)\n",
        "\n",
        "figure_patr.set_size_inches(9, 3.5)\n",
        "# figure_patr.suptitle(\"Model predictions for different levels of condescension\")\n",
        "\n",
        "axis2.set_ylabel(\"Predictions\")\n",
        "# axis3.set_ylabel(\"Predictions\")\n",
        "# axis4.set_ylabel(\"Predictions\")\n",
        "\n",
        "axis2.set_title(\"Intensity = 2\")\n",
        "axis3.set_title(\"Intensity = 3\")\n",
        "axis4.set_title(\"Intensity = 4\")\n",
        "\n",
        "get_intensity_histograms(annotated_test_dataset, 2, axis2)\n",
        "get_intensity_histograms(annotated_test_dataset, 3, axis3)\n",
        "get_intensity_histograms(annotated_test_dataset, 4, axis4)"
      ]
    },
    {
      "cell_type": "code",
      "execution_count": null,
      "metadata": {
        "id": "9A_00oy4AMQF"
      },
      "outputs": [],
      "source": [
        "def intensity_f1_score(df):\n",
        "    f1_scores = list()\n",
        "\n",
        "    for intensity in range(5):\n",
        "        intensity_df = df.loc[df.intensity.map(int) == intensity]\n",
        "        labels = intensity_df.label.tolist()\n",
        "        predictions = intensity_df.prediction.tolist()\n",
        "        \n",
        "        score = f1_score(labels, predictions)\n",
        "        f1_scores.append(score)\n",
        "    \n",
        "    return f1_scores"
      ]
    },
    {
      "cell_type": "code",
      "execution_count": null,
      "metadata": {
        "id": "Bu0Nz5n6AMQG"
      },
      "outputs": [],
      "source": [
        "intensity_f1_score(annotated_test_dataset)"
      ]
    },
    {
      "cell_type": "markdown",
      "metadata": {
        "id": "k43HSfLkAMQG"
      },
      "source": [
        "### Analysis of F1 score with different input lengths"
      ]
    },
    {
      "cell_type": "code",
      "execution_count": null,
      "metadata": {
        "id": "AMp-tM-NAMQH"
      },
      "outputs": [],
      "source": [
        "def input_length_f1_score(df):\n",
        "    results = list()\n",
        "    \n",
        "    for lb in np.arange(0, 200, 20):\n",
        "        ub = lb + 20\n",
        "        length_df = df.loc[df.length >= lb]\n",
        "        length_df = length_df.loc[length_df.length < ub]\n",
        "\n",
        "        predictions = length_df.prediction.map(int)\n",
        "        labels = length_df.label.map(int)\n",
        "\n",
        "        score = f1_score(labels, predictions)\n",
        "        results.append((score, f\"{lb} <= n < {ub}\"))\n",
        "    \n",
        "    scores, labels = zip(*results)\n",
        "\n",
        "    return list(scores), list(labels)"
      ]
    },
    {
      "cell_type": "code",
      "execution_count": null,
      "metadata": {
        "id": "42l6BLPdAMQH"
      },
      "outputs": [],
      "source": [
        "scores, labels = input_length_f1_score(annotated_test_dataset)\n",
        "\n",
        "figure, axis = plt.subplots()\n",
        "figure.set_size_inches((7, 3))\n",
        "\n",
        "axis.bar(np.arange(10, 210, 20), scores, width=20)\n",
        "\n",
        "axis.set_xlim(40, 200)\n",
        "axis.set_ylim(0, 1)\n",
        "\n",
        "#axis.set_xticks(np.arange(40, 200, 20))\n",
        "\n",
        "axis.set_title(\"Variation of F1 score with input length\")\n",
        "axis.set_xlabel(\"Input Length\")\n",
        "axis.set_ylabel(\"F1 Score\")"
      ]
    },
    {
      "cell_type": "markdown",
      "metadata": {
        "id": "y5AZ4B5gAMQH"
      },
      "source": [
        "### Analysis of F1 score with different categories"
      ]
    },
    {
      "cell_type": "code",
      "execution_count": null,
      "metadata": {
        "id": "XIrjRpnbAMQI"
      },
      "outputs": [],
      "source": [
        "def categories_f1_score(df):\n",
        "    results = list()\n",
        "    \n",
        "    for category in np.unique(df.keyword):\n",
        "        category_df = df.loc[df.keyword == category]\n",
        "        predictions = category_df.prediction\n",
        "        labels = category_df.label\n",
        "\n",
        "        score = f1_score(labels, predictions)\n",
        "        results.append((score, category))\n",
        "    \n",
        "    results.sort(key=itemgetter(0), reverse=True)\n",
        "    scores, labels = zip(*results)\n",
        "\n",
        "    return list(scores), list(labels)"
      ]
    },
    {
      "cell_type": "code",
      "execution_count": null,
      "metadata": {
        "id": "QYfhbFitAMQI"
      },
      "outputs": [],
      "source": [
        "figure, axis = plt.subplots()\n",
        "figure.set_size_inches((7, 4))\n",
        "\n",
        "scores, labels = categories_f1_score(annotated_test_dataset)\n",
        "axis.bar(np.arange(len(labels)), scores, tick_label=labels)\n",
        "\n",
        "axis.set_ylim(0, 1)\n",
        "axis.tick_params(axis='x', labelrotation=30)\n",
        "\n",
        "axis.set_title(\"Variation of F1 score with keyword\")\n",
        "axis.set_xlabel(\"Vulnerable Communities\")\n",
        "axis.set_ylabel(\"F1 Score\")"
      ]
    },
    {
      "cell_type": "markdown",
      "metadata": {
        "id": "HGMhR9xyAMQI"
      },
      "source": [
        "### Analysis of F1 score with different countries"
      ]
    },
    {
      "cell_type": "code",
      "execution_count": null,
      "metadata": {
        "id": "Z1QI5RVNAMQI"
      },
      "outputs": [],
      "source": [
        "def country_f1_score(df):\n",
        "    results = list()\n",
        "    \n",
        "    for country in np.unique(df.country):\n",
        "        country_df = df.loc[df.country == country]\n",
        "        predictions = country_df.prediction\n",
        "        labels = country_df.label\n",
        "\n",
        "        score = f1_score(labels, predictions)\n",
        "        results.append((score, country))\n",
        "    \n",
        "    results.sort(key=itemgetter(0), reverse=True)\n",
        "    scores, labels = zip(*results)\n",
        "\n",
        "    return list(scores), list(labels)"
      ]
    },
    {
      "cell_type": "code",
      "execution_count": null,
      "metadata": {
        "id": "PRgPf_hEAMQI"
      },
      "outputs": [],
      "source": [
        "figure, axis = plt.subplots()\n",
        "figure.set_size_inches((7, 4))\n",
        "\n",
        "scores, labels = country_f1_score(annotated_test_dataset)\n",
        "axis.bar(np.arange(len(labels)), scores, tick_label=labels)\n",
        "\n",
        "axis.set_ylim(0, 1)\n",
        "\n",
        "axis.set_title(\"Variation of F1 score with country\")\n",
        "axis.set_xlabel(\"Country\")\n",
        "axis.set_ylabel(\"F1 Score\")"
      ]
    },
    {
      "cell_type": "code",
      "source": [
        "figure, (axis0, axis1) = plt.subplots(1, 2)\n",
        "figure.set_size_inches((10, 3.5))\n",
        "country_scores, country_labels = country_f1_score(annotated_test_dataset)\n",
        "axis0.bar(np.arange(len(country_labels)), country_scores, tick_label=country_labels)\n",
        "axis0.set_ylim(0, 1)\n",
        "axis0.set_title(\"Variation of F1 score with country\")\n",
        "axis0.set_xlabel(\"Country\")\n",
        "axis0.set_ylabel(\"F1 Score\")\n",
        "category_scores, category_labels = categories_f1_score(annotated_test_dataset)\n",
        "axis1.bar(np.arange(len(category_labels)), category_scores, tick_label=category_labels)\n",
        "axis1.set_ylim(0, 1)\n",
        "axis1.tick_params(axis='x', labelrotation=40)\n",
        "axis1.set_title(\"Variation of F1 score with category\")\n",
        "axis1.set_xlabel(\"Category\")\n",
        "# axis1.set_ylabel(\"F1 Score\")"
      ],
      "metadata": {
        "id": "CEh3gE3GNT3N"
      },
      "execution_count": null,
      "outputs": []
    },
    {
      "cell_type": "markdown",
      "source": [
        "# Create Submission File"
      ],
      "metadata": {
        "id": "ti9a3YGiTdO8"
      }
    },
    {
      "cell_type": "code",
      "source": [
        "module_url = f\"https://raw.githubusercontent.com/Perez-AlmendrosC/dontpatronizeme/master/semeval-2022/TEST/task4_test.tsv\"\n",
        "module_name = module_url.split('/')[-1]\n",
        "print(f'Fetching {module_url}')\n",
        "with request.urlopen(module_url) as f, open(module_name,'w') as outf:\n",
        "  a = f.read()\n",
        "  outf.write(a.decode('utf-8'))\n",
        "official_test_columns = [\"par_id\", \"art_id\", \"keyword\", \"country\", \"text\"]\n",
        "official_test_df = pd.read_csv(module_name, delimiter=\"\\t\", names=official_test_columns)\n",
        "\n",
        "def create_submission_file(df, tokenizer, model, filepath=\"./predictions.txt\"):\n",
        "    sentences = df.text.tolist()\n",
        "    all_predictions = []\n",
        "    for sentence in sentences:\n",
        "        results = predict_patronise(sentence, tokenizer, model)\n",
        "        predictions = results.get(\"prediction\").tolist()\n",
        "        all_predictions.extend(predictions)\n",
        "    all_predictions = list(map(lambda p: str(int(p)), all_predictions))\n",
        "    with open(filepath,\"w\") as f:\n",
        "        f.write(\"\\n\".join(all_predictions))\n",
        "\n",
        "model = DebertaForSequenceClassification.from_pretrained(\"./\")\n",
        "create_submission_file(official_test_df, tokenizer, model)"
      ],
      "metadata": {
        "colab": {
          "base_uri": "https://localhost:8080/"
        },
        "id": "nEnbPVNzTb0Y",
        "outputId": "23601cf5-589a-476e-b3e2-63e8419a3916"
      },
      "execution_count": 109,
      "outputs": [
        {
          "output_type": "stream",
          "name": "stdout",
          "text": [
            "Fetching https://raw.githubusercontent.com/Perez-AlmendrosC/dontpatronizeme/master/semeval-2022/TEST/task4_test.tsv\n"
          ]
        },
        {
          "output_type": "stream",
          "name": "stderr",
          "text": [
            "loading configuration file ./config.json\n",
            "Model config DebertaConfig {\n",
            "  \"_name_or_path\": \"microsoft/deberta-base\",\n",
            "  \"architectures\": [\n",
            "    \"DebertaForSequenceClassification\"\n",
            "  ],\n",
            "  \"attention_probs_dropout_prob\": 0.1,\n",
            "  \"hidden_act\": \"gelu\",\n",
            "  \"hidden_dropout_prob\": 0.1,\n",
            "  \"hidden_size\": 768,\n",
            "  \"initializer_range\": 0.02,\n",
            "  \"intermediate_size\": 3072,\n",
            "  \"layer_norm_eps\": 1e-07,\n",
            "  \"max_position_embeddings\": 512,\n",
            "  \"max_relative_positions\": -1,\n",
            "  \"model_type\": \"deberta\",\n",
            "  \"num_attention_heads\": 12,\n",
            "  \"num_hidden_layers\": 12,\n",
            "  \"pad_token_id\": 0,\n",
            "  \"pooler_dropout\": 0,\n",
            "  \"pooler_hidden_act\": \"gelu\",\n",
            "  \"pooler_hidden_size\": 768,\n",
            "  \"pos_att_type\": [\n",
            "    \"c2p\",\n",
            "    \"p2c\"\n",
            "  ],\n",
            "  \"position_biased_input\": false,\n",
            "  \"relative_attention\": true,\n",
            "  \"torch_dtype\": \"float32\",\n",
            "  \"transformers_version\": \"4.17.0\",\n",
            "  \"type_vocab_size\": 0,\n",
            "  \"vocab_size\": 50265\n",
            "}\n",
            "\n",
            "loading weights file ./pytorch_model.bin\n",
            "All model checkpoint weights were used when initializing DebertaForSequenceClassification.\n",
            "\n",
            "All the weights of DebertaForSequenceClassification were initialized from the model checkpoint at ./.\n",
            "If your task is similar to the task the model of the checkpoint was trained on, you can already use DebertaForSequenceClassification for predictions without further training.\n"
          ]
        }
      ]
    }
  ],
  "metadata": {
    "accelerator": "GPU",
    "colab": {
      "collapsed_sections": [],
      "machine_shape": "hm",
      "name": "main_model.ipynb",
      "provenance": [],
      "toc_visible": true,
      "include_colab_link": true
    },
    "kernelspec": {
      "display_name": "Python 3",
      "name": "python3"
    },
    "language_info": {
      "name": "python"
    },
    "widgets": {
      "application/vnd.jupyter.widget-state+json": {
        "6dd8b12914db42cdb953d64b8cca3c5f": {
          "model_module": "@jupyter-widgets/controls",
          "model_name": "HBoxModel",
          "model_module_version": "1.5.0",
          "state": {
            "_view_name": "HBoxView",
            "_dom_classes": [],
            "_model_name": "HBoxModel",
            "_view_module": "@jupyter-widgets/controls",
            "_model_module_version": "1.5.0",
            "_view_count": null,
            "_view_module_version": "1.5.0",
            "box_style": "",
            "layout": "IPY_MODEL_0ae0af1b875a4cf5bfe5b12c805c5a8e",
            "_model_module": "@jupyter-widgets/controls",
            "children": [
              "IPY_MODEL_3c29468c832f4a0d883c695e61a26fea",
              "IPY_MODEL_0722de313dec4a529e2cfd90772753c1",
              "IPY_MODEL_58e8cd6e359f491ca4178915f69fdf22"
            ]
          }
        },
        "0ae0af1b875a4cf5bfe5b12c805c5a8e": {
          "model_module": "@jupyter-widgets/base",
          "model_name": "LayoutModel",
          "model_module_version": "1.2.0",
          "state": {
            "_view_name": "LayoutView",
            "grid_template_rows": null,
            "right": null,
            "justify_content": null,
            "_view_module": "@jupyter-widgets/base",
            "overflow": null,
            "_model_module_version": "1.2.0",
            "_view_count": null,
            "flex_flow": null,
            "width": null,
            "min_width": null,
            "border": null,
            "align_items": null,
            "bottom": null,
            "_model_module": "@jupyter-widgets/base",
            "top": null,
            "grid_column": null,
            "overflow_y": null,
            "overflow_x": null,
            "grid_auto_flow": null,
            "grid_area": null,
            "grid_template_columns": null,
            "flex": null,
            "_model_name": "LayoutModel",
            "justify_items": null,
            "grid_row": null,
            "max_height": null,
            "align_content": null,
            "visibility": null,
            "align_self": null,
            "height": null,
            "min_height": null,
            "padding": null,
            "grid_auto_rows": null,
            "grid_gap": null,
            "max_width": null,
            "order": null,
            "_view_module_version": "1.2.0",
            "grid_template_areas": null,
            "object_position": null,
            "object_fit": null,
            "grid_auto_columns": null,
            "margin": null,
            "display": null,
            "left": null
          }
        },
        "3c29468c832f4a0d883c695e61a26fea": {
          "model_module": "@jupyter-widgets/controls",
          "model_name": "HTMLModel",
          "model_module_version": "1.5.0",
          "state": {
            "_view_name": "HTMLView",
            "style": "IPY_MODEL_9b896d9654fc4f2790278401f9b2fc50",
            "_dom_classes": [],
            "description": "",
            "_model_name": "HTMLModel",
            "placeholder": "​",
            "_view_module": "@jupyter-widgets/controls",
            "_model_module_version": "1.5.0",
            "value": "100%",
            "_view_count": null,
            "_view_module_version": "1.5.0",
            "description_tooltip": null,
            "_model_module": "@jupyter-widgets/controls",
            "layout": "IPY_MODEL_4219153b5b7f45eca15178acdd54c12f"
          }
        },
        "0722de313dec4a529e2cfd90772753c1": {
          "model_module": "@jupyter-widgets/controls",
          "model_name": "FloatProgressModel",
          "model_module_version": "1.5.0",
          "state": {
            "_view_name": "ProgressView",
            "style": "IPY_MODEL_a99db333892c4143a7d24ef08f1c0ab0",
            "_dom_classes": [],
            "description": "",
            "_model_name": "FloatProgressModel",
            "bar_style": "success",
            "max": 993,
            "_view_module": "@jupyter-widgets/controls",
            "_model_module_version": "1.5.0",
            "value": 993,
            "_view_count": null,
            "_view_module_version": "1.5.0",
            "orientation": "horizontal",
            "min": 0,
            "description_tooltip": null,
            "_model_module": "@jupyter-widgets/controls",
            "layout": "IPY_MODEL_ec2d7a2e9c174020b25ad684933f3bfe"
          }
        },
        "58e8cd6e359f491ca4178915f69fdf22": {
          "model_module": "@jupyter-widgets/controls",
          "model_name": "HTMLModel",
          "model_module_version": "1.5.0",
          "state": {
            "_view_name": "HTMLView",
            "style": "IPY_MODEL_5ec6f519ff99408fb94ebe4e9249ade3",
            "_dom_classes": [],
            "description": "",
            "_model_name": "HTMLModel",
            "placeholder": "​",
            "_view_module": "@jupyter-widgets/controls",
            "_model_module_version": "1.5.0",
            "value": " 993/993 [00:06&lt;00:00, 194.86sentence/s]",
            "_view_count": null,
            "_view_module_version": "1.5.0",
            "description_tooltip": null,
            "_model_module": "@jupyter-widgets/controls",
            "layout": "IPY_MODEL_7fc3e217a91049b88182d5b16d1ce550"
          }
        },
        "9b896d9654fc4f2790278401f9b2fc50": {
          "model_module": "@jupyter-widgets/controls",
          "model_name": "DescriptionStyleModel",
          "model_module_version": "1.5.0",
          "state": {
            "_view_name": "StyleView",
            "_model_name": "DescriptionStyleModel",
            "description_width": "",
            "_view_module": "@jupyter-widgets/base",
            "_model_module_version": "1.5.0",
            "_view_count": null,
            "_view_module_version": "1.2.0",
            "_model_module": "@jupyter-widgets/controls"
          }
        },
        "4219153b5b7f45eca15178acdd54c12f": {
          "model_module": "@jupyter-widgets/base",
          "model_name": "LayoutModel",
          "model_module_version": "1.2.0",
          "state": {
            "_view_name": "LayoutView",
            "grid_template_rows": null,
            "right": null,
            "justify_content": null,
            "_view_module": "@jupyter-widgets/base",
            "overflow": null,
            "_model_module_version": "1.2.0",
            "_view_count": null,
            "flex_flow": null,
            "width": null,
            "min_width": null,
            "border": null,
            "align_items": null,
            "bottom": null,
            "_model_module": "@jupyter-widgets/base",
            "top": null,
            "grid_column": null,
            "overflow_y": null,
            "overflow_x": null,
            "grid_auto_flow": null,
            "grid_area": null,
            "grid_template_columns": null,
            "flex": null,
            "_model_name": "LayoutModel",
            "justify_items": null,
            "grid_row": null,
            "max_height": null,
            "align_content": null,
            "visibility": null,
            "align_self": null,
            "height": null,
            "min_height": null,
            "padding": null,
            "grid_auto_rows": null,
            "grid_gap": null,
            "max_width": null,
            "order": null,
            "_view_module_version": "1.2.0",
            "grid_template_areas": null,
            "object_position": null,
            "object_fit": null,
            "grid_auto_columns": null,
            "margin": null,
            "display": null,
            "left": null
          }
        },
        "a99db333892c4143a7d24ef08f1c0ab0": {
          "model_module": "@jupyter-widgets/controls",
          "model_name": "ProgressStyleModel",
          "model_module_version": "1.5.0",
          "state": {
            "_view_name": "StyleView",
            "_model_name": "ProgressStyleModel",
            "description_width": "",
            "_view_module": "@jupyter-widgets/base",
            "_model_module_version": "1.5.0",
            "_view_count": null,
            "_view_module_version": "1.2.0",
            "bar_color": null,
            "_model_module": "@jupyter-widgets/controls"
          }
        },
        "ec2d7a2e9c174020b25ad684933f3bfe": {
          "model_module": "@jupyter-widgets/base",
          "model_name": "LayoutModel",
          "model_module_version": "1.2.0",
          "state": {
            "_view_name": "LayoutView",
            "grid_template_rows": null,
            "right": null,
            "justify_content": null,
            "_view_module": "@jupyter-widgets/base",
            "overflow": null,
            "_model_module_version": "1.2.0",
            "_view_count": null,
            "flex_flow": null,
            "width": null,
            "min_width": null,
            "border": null,
            "align_items": null,
            "bottom": null,
            "_model_module": "@jupyter-widgets/base",
            "top": null,
            "grid_column": null,
            "overflow_y": null,
            "overflow_x": null,
            "grid_auto_flow": null,
            "grid_area": null,
            "grid_template_columns": null,
            "flex": null,
            "_model_name": "LayoutModel",
            "justify_items": null,
            "grid_row": null,
            "max_height": null,
            "align_content": null,
            "visibility": null,
            "align_self": null,
            "height": null,
            "min_height": null,
            "padding": null,
            "grid_auto_rows": null,
            "grid_gap": null,
            "max_width": null,
            "order": null,
            "_view_module_version": "1.2.0",
            "grid_template_areas": null,
            "object_position": null,
            "object_fit": null,
            "grid_auto_columns": null,
            "margin": null,
            "display": null,
            "left": null
          }
        },
        "5ec6f519ff99408fb94ebe4e9249ade3": {
          "model_module": "@jupyter-widgets/controls",
          "model_name": "DescriptionStyleModel",
          "model_module_version": "1.5.0",
          "state": {
            "_view_name": "StyleView",
            "_model_name": "DescriptionStyleModel",
            "description_width": "",
            "_view_module": "@jupyter-widgets/base",
            "_model_module_version": "1.5.0",
            "_view_count": null,
            "_view_module_version": "1.2.0",
            "_model_module": "@jupyter-widgets/controls"
          }
        },
        "7fc3e217a91049b88182d5b16d1ce550": {
          "model_module": "@jupyter-widgets/base",
          "model_name": "LayoutModel",
          "model_module_version": "1.2.0",
          "state": {
            "_view_name": "LayoutView",
            "grid_template_rows": null,
            "right": null,
            "justify_content": null,
            "_view_module": "@jupyter-widgets/base",
            "overflow": null,
            "_model_module_version": "1.2.0",
            "_view_count": null,
            "flex_flow": null,
            "width": null,
            "min_width": null,
            "border": null,
            "align_items": null,
            "bottom": null,
            "_model_module": "@jupyter-widgets/base",
            "top": null,
            "grid_column": null,
            "overflow_y": null,
            "overflow_x": null,
            "grid_auto_flow": null,
            "grid_area": null,
            "grid_template_columns": null,
            "flex": null,
            "_model_name": "LayoutModel",
            "justify_items": null,
            "grid_row": null,
            "max_height": null,
            "align_content": null,
            "visibility": null,
            "align_self": null,
            "height": null,
            "min_height": null,
            "padding": null,
            "grid_auto_rows": null,
            "grid_gap": null,
            "max_width": null,
            "order": null,
            "_view_module_version": "1.2.0",
            "grid_template_areas": null,
            "object_position": null,
            "object_fit": null,
            "grid_auto_columns": null,
            "margin": null,
            "display": null,
            "left": null
          }
        },
        "fa08103e37684709897924f0ec631cd4": {
          "model_module": "@jupyter-widgets/controls",
          "model_name": "HBoxModel",
          "model_module_version": "1.5.0",
          "state": {
            "_view_name": "HBoxView",
            "_dom_classes": [],
            "_model_name": "HBoxModel",
            "_view_module": "@jupyter-widgets/controls",
            "_model_module_version": "1.5.0",
            "_view_count": null,
            "_view_module_version": "1.5.0",
            "box_style": "",
            "layout": "IPY_MODEL_c8e33f4b92234d3ea5970fb64a5998a7",
            "_model_module": "@jupyter-widgets/controls",
            "children": [
              "IPY_MODEL_a4a16c50d0384ecfa667ea07a13f86c5",
              "IPY_MODEL_3fb933a4e0624a6b869ce1b9da73a642",
              "IPY_MODEL_9fde724f1c7a44dd92ba1c8c71c79836"
            ]
          }
        },
        "c8e33f4b92234d3ea5970fb64a5998a7": {
          "model_module": "@jupyter-widgets/base",
          "model_name": "LayoutModel",
          "model_module_version": "1.2.0",
          "state": {
            "_view_name": "LayoutView",
            "grid_template_rows": null,
            "right": null,
            "justify_content": null,
            "_view_module": "@jupyter-widgets/base",
            "overflow": null,
            "_model_module_version": "1.2.0",
            "_view_count": null,
            "flex_flow": null,
            "width": null,
            "min_width": null,
            "border": null,
            "align_items": null,
            "bottom": null,
            "_model_module": "@jupyter-widgets/base",
            "top": null,
            "grid_column": null,
            "overflow_y": null,
            "overflow_x": null,
            "grid_auto_flow": null,
            "grid_area": null,
            "grid_template_columns": null,
            "flex": null,
            "_model_name": "LayoutModel",
            "justify_items": null,
            "grid_row": null,
            "max_height": null,
            "align_content": null,
            "visibility": null,
            "align_self": null,
            "height": null,
            "min_height": null,
            "padding": null,
            "grid_auto_rows": null,
            "grid_gap": null,
            "max_width": null,
            "order": null,
            "_view_module_version": "1.2.0",
            "grid_template_areas": null,
            "object_position": null,
            "object_fit": null,
            "grid_auto_columns": null,
            "margin": null,
            "display": null,
            "left": null
          }
        },
        "a4a16c50d0384ecfa667ea07a13f86c5": {
          "model_module": "@jupyter-widgets/controls",
          "model_name": "HTMLModel",
          "model_module_version": "1.5.0",
          "state": {
            "_view_name": "HTMLView",
            "style": "IPY_MODEL_0c892f3e91a541c38e47f0fb687fbcea",
            "_dom_classes": [],
            "description": "",
            "_model_name": "HTMLModel",
            "placeholder": "​",
            "_view_module": "@jupyter-widgets/controls",
            "_model_module_version": "1.5.0",
            "value": "100%",
            "_view_count": null,
            "_view_module_version": "1.5.0",
            "description_tooltip": null,
            "_model_module": "@jupyter-widgets/controls",
            "layout": "IPY_MODEL_2a679924591f41c8bf5ab77d96f5fab6"
          }
        },
        "3fb933a4e0624a6b869ce1b9da73a642": {
          "model_module": "@jupyter-widgets/controls",
          "model_name": "FloatProgressModel",
          "model_module_version": "1.5.0",
          "state": {
            "_view_name": "ProgressView",
            "style": "IPY_MODEL_4517821c945841619aee0064a216c70c",
            "_dom_classes": [],
            "description": "",
            "_model_name": "FloatProgressModel",
            "bar_style": "success",
            "max": 9476,
            "_view_module": "@jupyter-widgets/controls",
            "_model_module_version": "1.5.0",
            "value": 9476,
            "_view_count": null,
            "_view_module_version": "1.5.0",
            "orientation": "horizontal",
            "min": 0,
            "description_tooltip": null,
            "_model_module": "@jupyter-widgets/controls",
            "layout": "IPY_MODEL_1c30bc12d4c64aa482df206f77434ebe"
          }
        },
        "9fde724f1c7a44dd92ba1c8c71c79836": {
          "model_module": "@jupyter-widgets/controls",
          "model_name": "HTMLModel",
          "model_module_version": "1.5.0",
          "state": {
            "_view_name": "HTMLView",
            "style": "IPY_MODEL_edba00dfd3a34540ad22a51d657862c0",
            "_dom_classes": [],
            "description": "",
            "_model_name": "HTMLModel",
            "placeholder": "​",
            "_view_module": "@jupyter-widgets/controls",
            "_model_module_version": "1.5.0",
            "value": " 9476/9476 [00:44&lt;00:00, 222.23sentence/s]",
            "_view_count": null,
            "_view_module_version": "1.5.0",
            "description_tooltip": null,
            "_model_module": "@jupyter-widgets/controls",
            "layout": "IPY_MODEL_8547b495b13a4eef826abfab9f1aefce"
          }
        },
        "0c892f3e91a541c38e47f0fb687fbcea": {
          "model_module": "@jupyter-widgets/controls",
          "model_name": "DescriptionStyleModel",
          "model_module_version": "1.5.0",
          "state": {
            "_view_name": "StyleView",
            "_model_name": "DescriptionStyleModel",
            "description_width": "",
            "_view_module": "@jupyter-widgets/base",
            "_model_module_version": "1.5.0",
            "_view_count": null,
            "_view_module_version": "1.2.0",
            "_model_module": "@jupyter-widgets/controls"
          }
        },
        "2a679924591f41c8bf5ab77d96f5fab6": {
          "model_module": "@jupyter-widgets/base",
          "model_name": "LayoutModel",
          "model_module_version": "1.2.0",
          "state": {
            "_view_name": "LayoutView",
            "grid_template_rows": null,
            "right": null,
            "justify_content": null,
            "_view_module": "@jupyter-widgets/base",
            "overflow": null,
            "_model_module_version": "1.2.0",
            "_view_count": null,
            "flex_flow": null,
            "width": null,
            "min_width": null,
            "border": null,
            "align_items": null,
            "bottom": null,
            "_model_module": "@jupyter-widgets/base",
            "top": null,
            "grid_column": null,
            "overflow_y": null,
            "overflow_x": null,
            "grid_auto_flow": null,
            "grid_area": null,
            "grid_template_columns": null,
            "flex": null,
            "_model_name": "LayoutModel",
            "justify_items": null,
            "grid_row": null,
            "max_height": null,
            "align_content": null,
            "visibility": null,
            "align_self": null,
            "height": null,
            "min_height": null,
            "padding": null,
            "grid_auto_rows": null,
            "grid_gap": null,
            "max_width": null,
            "order": null,
            "_view_module_version": "1.2.0",
            "grid_template_areas": null,
            "object_position": null,
            "object_fit": null,
            "grid_auto_columns": null,
            "margin": null,
            "display": null,
            "left": null
          }
        },
        "4517821c945841619aee0064a216c70c": {
          "model_module": "@jupyter-widgets/controls",
          "model_name": "ProgressStyleModel",
          "model_module_version": "1.5.0",
          "state": {
            "_view_name": "StyleView",
            "_model_name": "ProgressStyleModel",
            "description_width": "",
            "_view_module": "@jupyter-widgets/base",
            "_model_module_version": "1.5.0",
            "_view_count": null,
            "_view_module_version": "1.2.0",
            "bar_color": null,
            "_model_module": "@jupyter-widgets/controls"
          }
        },
        "1c30bc12d4c64aa482df206f77434ebe": {
          "model_module": "@jupyter-widgets/base",
          "model_name": "LayoutModel",
          "model_module_version": "1.2.0",
          "state": {
            "_view_name": "LayoutView",
            "grid_template_rows": null,
            "right": null,
            "justify_content": null,
            "_view_module": "@jupyter-widgets/base",
            "overflow": null,
            "_model_module_version": "1.2.0",
            "_view_count": null,
            "flex_flow": null,
            "width": null,
            "min_width": null,
            "border": null,
            "align_items": null,
            "bottom": null,
            "_model_module": "@jupyter-widgets/base",
            "top": null,
            "grid_column": null,
            "overflow_y": null,
            "overflow_x": null,
            "grid_auto_flow": null,
            "grid_area": null,
            "grid_template_columns": null,
            "flex": null,
            "_model_name": "LayoutModel",
            "justify_items": null,
            "grid_row": null,
            "max_height": null,
            "align_content": null,
            "visibility": null,
            "align_self": null,
            "height": null,
            "min_height": null,
            "padding": null,
            "grid_auto_rows": null,
            "grid_gap": null,
            "max_width": null,
            "order": null,
            "_view_module_version": "1.2.0",
            "grid_template_areas": null,
            "object_position": null,
            "object_fit": null,
            "grid_auto_columns": null,
            "margin": null,
            "display": null,
            "left": null
          }
        },
        "edba00dfd3a34540ad22a51d657862c0": {
          "model_module": "@jupyter-widgets/controls",
          "model_name": "DescriptionStyleModel",
          "model_module_version": "1.5.0",
          "state": {
            "_view_name": "StyleView",
            "_model_name": "DescriptionStyleModel",
            "description_width": "",
            "_view_module": "@jupyter-widgets/base",
            "_model_module_version": "1.5.0",
            "_view_count": null,
            "_view_module_version": "1.2.0",
            "_model_module": "@jupyter-widgets/controls"
          }
        },
        "8547b495b13a4eef826abfab9f1aefce": {
          "model_module": "@jupyter-widgets/base",
          "model_name": "LayoutModel",
          "model_module_version": "1.2.0",
          "state": {
            "_view_name": "LayoutView",
            "grid_template_rows": null,
            "right": null,
            "justify_content": null,
            "_view_module": "@jupyter-widgets/base",
            "overflow": null,
            "_model_module_version": "1.2.0",
            "_view_count": null,
            "flex_flow": null,
            "width": null,
            "min_width": null,
            "border": null,
            "align_items": null,
            "bottom": null,
            "_model_module": "@jupyter-widgets/base",
            "top": null,
            "grid_column": null,
            "overflow_y": null,
            "overflow_x": null,
            "grid_auto_flow": null,
            "grid_area": null,
            "grid_template_columns": null,
            "flex": null,
            "_model_name": "LayoutModel",
            "justify_items": null,
            "grid_row": null,
            "max_height": null,
            "align_content": null,
            "visibility": null,
            "align_self": null,
            "height": null,
            "min_height": null,
            "padding": null,
            "grid_auto_rows": null,
            "grid_gap": null,
            "max_width": null,
            "order": null,
            "_view_module_version": "1.2.0",
            "grid_template_areas": null,
            "object_position": null,
            "object_fit": null,
            "grid_auto_columns": null,
            "margin": null,
            "display": null,
            "left": null
          }
        },
        "9e1e7363436541a9b44fd7c7da2c6df0": {
          "model_module": "@jupyter-widgets/controls",
          "model_name": "HBoxModel",
          "model_module_version": "1.5.0",
          "state": {
            "_view_name": "HBoxView",
            "_dom_classes": [],
            "_model_name": "HBoxModel",
            "_view_module": "@jupyter-widgets/controls",
            "_model_module_version": "1.5.0",
            "_view_count": null,
            "_view_module_version": "1.5.0",
            "box_style": "",
            "layout": "IPY_MODEL_0ac87541388e477bb6e7b2551d405bfa",
            "_model_module": "@jupyter-widgets/controls",
            "children": [
              "IPY_MODEL_40aa3835f6184bd99d8620abf6bc6890",
              "IPY_MODEL_ab80fd84e5f94220bcfef33517dfd667",
              "IPY_MODEL_e9e58e2f58c24e018131d3379ad87bad"
            ]
          }
        },
        "0ac87541388e477bb6e7b2551d405bfa": {
          "model_module": "@jupyter-widgets/base",
          "model_name": "LayoutModel",
          "model_module_version": "1.2.0",
          "state": {
            "_view_name": "LayoutView",
            "grid_template_rows": null,
            "right": null,
            "justify_content": null,
            "_view_module": "@jupyter-widgets/base",
            "overflow": null,
            "_model_module_version": "1.2.0",
            "_view_count": null,
            "flex_flow": null,
            "width": null,
            "min_width": null,
            "border": null,
            "align_items": null,
            "bottom": null,
            "_model_module": "@jupyter-widgets/base",
            "top": null,
            "grid_column": null,
            "overflow_y": null,
            "overflow_x": null,
            "grid_auto_flow": null,
            "grid_area": null,
            "grid_template_columns": null,
            "flex": null,
            "_model_name": "LayoutModel",
            "justify_items": null,
            "grid_row": null,
            "max_height": null,
            "align_content": null,
            "visibility": null,
            "align_self": null,
            "height": null,
            "min_height": null,
            "padding": null,
            "grid_auto_rows": null,
            "grid_gap": null,
            "max_width": null,
            "order": null,
            "_view_module_version": "1.2.0",
            "grid_template_areas": null,
            "object_position": null,
            "object_fit": null,
            "grid_auto_columns": null,
            "margin": null,
            "display": null,
            "left": null
          }
        },
        "40aa3835f6184bd99d8620abf6bc6890": {
          "model_module": "@jupyter-widgets/controls",
          "model_name": "HTMLModel",
          "model_module_version": "1.5.0",
          "state": {
            "_view_name": "HTMLView",
            "style": "IPY_MODEL_5b6afd0228074123994cbdd06ed62fb9",
            "_dom_classes": [],
            "description": "",
            "_model_name": "HTMLModel",
            "placeholder": "​",
            "_view_module": "@jupyter-widgets/controls",
            "_model_module_version": "1.5.0",
            "value": " 40%",
            "_view_count": null,
            "_view_module_version": "1.5.0",
            "description_tooltip": null,
            "_model_module": "@jupyter-widgets/controls",
            "layout": "IPY_MODEL_fb2bc880e0b84b89b28321222db62e1d"
          }
        },
        "ab80fd84e5f94220bcfef33517dfd667": {
          "model_module": "@jupyter-widgets/controls",
          "model_name": "FloatProgressModel",
          "model_module_version": "1.5.0",
          "state": {
            "_view_name": "ProgressView",
            "style": "IPY_MODEL_18539444893d4c448f6572d21be6d130",
            "_dom_classes": [],
            "description": "",
            "_model_name": "FloatProgressModel",
            "bar_style": "",
            "max": 2094,
            "_view_module": "@jupyter-widgets/controls",
            "_model_module_version": "1.5.0",
            "value": 835,
            "_view_count": null,
            "_view_module_version": "1.5.0",
            "orientation": "horizontal",
            "min": 0,
            "description_tooltip": null,
            "_model_module": "@jupyter-widgets/controls",
            "layout": "IPY_MODEL_20e381e272174cbe8ce5ed04aaf92511"
          }
        },
        "e9e58e2f58c24e018131d3379ad87bad": {
          "model_module": "@jupyter-widgets/controls",
          "model_name": "HTMLModel",
          "model_module_version": "1.5.0",
          "state": {
            "_view_name": "HTMLView",
            "style": "IPY_MODEL_070fb985bf77444f99d7d8ad8436a55c",
            "_dom_classes": [],
            "description": "",
            "_model_name": "HTMLModel",
            "placeholder": "​",
            "_view_module": "@jupyter-widgets/controls",
            "_model_module_version": "1.5.0",
            "value": " 835/2094 [02:13&lt;03:45,  5.57it/s]",
            "_view_count": null,
            "_view_module_version": "1.5.0",
            "description_tooltip": null,
            "_model_module": "@jupyter-widgets/controls",
            "layout": "IPY_MODEL_cd8cb9a2716b419f852da5673c2bd27d"
          }
        },
        "5b6afd0228074123994cbdd06ed62fb9": {
          "model_module": "@jupyter-widgets/controls",
          "model_name": "DescriptionStyleModel",
          "model_module_version": "1.5.0",
          "state": {
            "_view_name": "StyleView",
            "_model_name": "DescriptionStyleModel",
            "description_width": "",
            "_view_module": "@jupyter-widgets/base",
            "_model_module_version": "1.5.0",
            "_view_count": null,
            "_view_module_version": "1.2.0",
            "_model_module": "@jupyter-widgets/controls"
          }
        },
        "fb2bc880e0b84b89b28321222db62e1d": {
          "model_module": "@jupyter-widgets/base",
          "model_name": "LayoutModel",
          "model_module_version": "1.2.0",
          "state": {
            "_view_name": "LayoutView",
            "grid_template_rows": null,
            "right": null,
            "justify_content": null,
            "_view_module": "@jupyter-widgets/base",
            "overflow": null,
            "_model_module_version": "1.2.0",
            "_view_count": null,
            "flex_flow": null,
            "width": null,
            "min_width": null,
            "border": null,
            "align_items": null,
            "bottom": null,
            "_model_module": "@jupyter-widgets/base",
            "top": null,
            "grid_column": null,
            "overflow_y": null,
            "overflow_x": null,
            "grid_auto_flow": null,
            "grid_area": null,
            "grid_template_columns": null,
            "flex": null,
            "_model_name": "LayoutModel",
            "justify_items": null,
            "grid_row": null,
            "max_height": null,
            "align_content": null,
            "visibility": null,
            "align_self": null,
            "height": null,
            "min_height": null,
            "padding": null,
            "grid_auto_rows": null,
            "grid_gap": null,
            "max_width": null,
            "order": null,
            "_view_module_version": "1.2.0",
            "grid_template_areas": null,
            "object_position": null,
            "object_fit": null,
            "grid_auto_columns": null,
            "margin": null,
            "display": null,
            "left": null
          }
        },
        "18539444893d4c448f6572d21be6d130": {
          "model_module": "@jupyter-widgets/controls",
          "model_name": "ProgressStyleModel",
          "model_module_version": "1.5.0",
          "state": {
            "_view_name": "StyleView",
            "_model_name": "ProgressStyleModel",
            "description_width": "",
            "_view_module": "@jupyter-widgets/base",
            "_model_module_version": "1.5.0",
            "_view_count": null,
            "_view_module_version": "1.2.0",
            "bar_color": null,
            "_model_module": "@jupyter-widgets/controls"
          }
        },
        "20e381e272174cbe8ce5ed04aaf92511": {
          "model_module": "@jupyter-widgets/base",
          "model_name": "LayoutModel",
          "model_module_version": "1.2.0",
          "state": {
            "_view_name": "LayoutView",
            "grid_template_rows": null,
            "right": null,
            "justify_content": null,
            "_view_module": "@jupyter-widgets/base",
            "overflow": null,
            "_model_module_version": "1.2.0",
            "_view_count": null,
            "flex_flow": null,
            "width": null,
            "min_width": null,
            "border": null,
            "align_items": null,
            "bottom": null,
            "_model_module": "@jupyter-widgets/base",
            "top": null,
            "grid_column": null,
            "overflow_y": null,
            "overflow_x": null,
            "grid_auto_flow": null,
            "grid_area": null,
            "grid_template_columns": null,
            "flex": null,
            "_model_name": "LayoutModel",
            "justify_items": null,
            "grid_row": null,
            "max_height": null,
            "align_content": null,
            "visibility": null,
            "align_self": null,
            "height": null,
            "min_height": null,
            "padding": null,
            "grid_auto_rows": null,
            "grid_gap": null,
            "max_width": null,
            "order": null,
            "_view_module_version": "1.2.0",
            "grid_template_areas": null,
            "object_position": null,
            "object_fit": null,
            "grid_auto_columns": null,
            "margin": null,
            "display": null,
            "left": null
          }
        },
        "070fb985bf77444f99d7d8ad8436a55c": {
          "model_module": "@jupyter-widgets/controls",
          "model_name": "DescriptionStyleModel",
          "model_module_version": "1.5.0",
          "state": {
            "_view_name": "StyleView",
            "_model_name": "DescriptionStyleModel",
            "description_width": "",
            "_view_module": "@jupyter-widgets/base",
            "_model_module_version": "1.5.0",
            "_view_count": null,
            "_view_module_version": "1.2.0",
            "_model_module": "@jupyter-widgets/controls"
          }
        },
        "cd8cb9a2716b419f852da5673c2bd27d": {
          "model_module": "@jupyter-widgets/base",
          "model_name": "LayoutModel",
          "model_module_version": "1.2.0",
          "state": {
            "_view_name": "LayoutView",
            "grid_template_rows": null,
            "right": null,
            "justify_content": null,
            "_view_module": "@jupyter-widgets/base",
            "overflow": null,
            "_model_module_version": "1.2.0",
            "_view_count": null,
            "flex_flow": null,
            "width": null,
            "min_width": null,
            "border": null,
            "align_items": null,
            "bottom": null,
            "_model_module": "@jupyter-widgets/base",
            "top": null,
            "grid_column": null,
            "overflow_y": null,
            "overflow_x": null,
            "grid_auto_flow": null,
            "grid_area": null,
            "grid_template_columns": null,
            "flex": null,
            "_model_name": "LayoutModel",
            "justify_items": null,
            "grid_row": null,
            "max_height": null,
            "align_content": null,
            "visibility": null,
            "align_self": null,
            "height": null,
            "min_height": null,
            "padding": null,
            "grid_auto_rows": null,
            "grid_gap": null,
            "max_width": null,
            "order": null,
            "_view_module_version": "1.2.0",
            "grid_template_areas": null,
            "object_position": null,
            "object_fit": null,
            "grid_auto_columns": null,
            "margin": null,
            "display": null,
            "left": null
          }
        }
      }
    }
  },
  "nbformat": 4,
  "nbformat_minor": 0
}