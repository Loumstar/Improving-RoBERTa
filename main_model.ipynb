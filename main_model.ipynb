{
  "cells": [
    {
      "cell_type": "markdown",
      "metadata": {
        "id": "view-in-github",
        "colab_type": "text"
      },
      "source": [
        "<a href=\"https://colab.research.google.com/github/Loumstar/Improving-RoBERTa/blob/master/main_model.ipynb\" target=\"_parent\"><img src=\"https://colab.research.google.com/assets/colab-badge.svg\" alt=\"Open In Colab\"/></a>"
      ]
    },
    {
      "cell_type": "code",
      "execution_count": 1,
      "metadata": {
        "colab": {
          "base_uri": "https://localhost:8080/"
        },
        "id": "UYyLA2fddXcB",
        "outputId": "74851d32-6746-4601-8c8c-8663838231f9"
      },
      "outputs": [
        {
          "output_type": "stream",
          "name": "stdout",
          "text": [
            "Fri Mar  4 13:10:49 2022       \n",
            "+-----------------------------------------------------------------------------+\n",
            "| NVIDIA-SMI 460.32.03    Driver Version: 460.32.03    CUDA Version: 11.2     |\n",
            "|-------------------------------+----------------------+----------------------+\n",
            "| GPU  Name        Persistence-M| Bus-Id        Disp.A | Volatile Uncorr. ECC |\n",
            "| Fan  Temp  Perf  Pwr:Usage/Cap|         Memory-Usage | GPU-Util  Compute M. |\n",
            "|                               |                      |               MIG M. |\n",
            "|===============================+======================+======================|\n",
            "|   0  Tesla K80           Off  | 00000000:00:04.0 Off |                    0 |\n",
            "| N/A   31C    P8    28W / 149W |      0MiB / 11441MiB |      0%      Default |\n",
            "|                               |                      |                  N/A |\n",
            "+-------------------------------+----------------------+----------------------+\n",
            "                                                                               \n",
            "+-----------------------------------------------------------------------------+\n",
            "| Processes:                                                                  |\n",
            "|  GPU   GI   CI        PID   Type   Process name                  GPU Memory |\n",
            "|        ID   ID                                                   Usage      |\n",
            "|=============================================================================|\n",
            "|  No running processes found                                                 |\n",
            "+-----------------------------------------------------------------------------+\n"
          ]
        }
      ],
      "source": [
        "!nvidia-smi"
      ]
    },
    {
      "cell_type": "markdown",
      "metadata": {
        "id": "q-qgGacGc0iY"
      },
      "source": [
        "# Setup\n"
      ]
    },
    {
      "cell_type": "markdown",
      "metadata": {
        "id": "sTmK5tRp--Sh"
      },
      "source": [
        "## Installations & Imports"
      ]
    },
    {
      "cell_type": "code",
      "execution_count": 14,
      "metadata": {
        "colab": {
          "base_uri": "https://localhost:8080/"
        },
        "id": "scxgkTcbZK6j",
        "outputId": "e71d50b8-5deb-4f8e-ed85-0c146275f073"
      },
      "outputs": [
        {
          "output_type": "stream",
          "name": "stdout",
          "text": [
            "Requirement already satisfied: transformers in /usr/local/lib/python3.7/dist-packages (4.17.0)\n",
            "Requirement already satisfied: sentencepiece in /usr/local/lib/python3.7/dist-packages (0.1.96)\n",
            "Requirement already satisfied: ipywidgets in /usr/local/lib/python3.7/dist-packages (7.6.5)\n",
            "Requirement already satisfied: tensorboardx in /usr/local/lib/python3.7/dist-packages (2.5)\n",
            "Requirement already satisfied: wandb in /usr/local/lib/python3.7/dist-packages (0.12.11)\n",
            "Requirement already satisfied: matplotlib in /usr/local/lib/python3.7/dist-packages (3.2.2)\n",
            "Requirement already satisfied: pyyaml>=5.1 in /usr/local/lib/python3.7/dist-packages (from transformers) (6.0)\n",
            "Requirement already satisfied: regex!=2019.12.17 in /usr/local/lib/python3.7/dist-packages (from transformers) (2019.12.20)\n",
            "Requirement already satisfied: filelock in /usr/local/lib/python3.7/dist-packages (from transformers) (3.6.0)\n",
            "Requirement already satisfied: importlib-metadata in /usr/local/lib/python3.7/dist-packages (from transformers) (4.11.2)\n",
            "Requirement already satisfied: sacremoses in /usr/local/lib/python3.7/dist-packages (from transformers) (0.0.47)\n",
            "Requirement already satisfied: huggingface-hub<1.0,>=0.1.0 in /usr/local/lib/python3.7/dist-packages (from transformers) (0.4.0)\n",
            "Requirement already satisfied: tokenizers!=0.11.3,>=0.11.1 in /usr/local/lib/python3.7/dist-packages (from transformers) (0.11.6)\n",
            "Requirement already satisfied: tqdm>=4.27 in /usr/local/lib/python3.7/dist-packages (from transformers) (4.63.0)\n",
            "Requirement already satisfied: requests in /usr/local/lib/python3.7/dist-packages (from transformers) (2.23.0)\n",
            "Requirement already satisfied: numpy>=1.17 in /usr/local/lib/python3.7/dist-packages (from transformers) (1.21.5)\n",
            "Requirement already satisfied: packaging>=20.0 in /usr/local/lib/python3.7/dist-packages (from transformers) (21.3)\n",
            "Requirement already satisfied: typing-extensions>=3.7.4.3 in /usr/local/lib/python3.7/dist-packages (from huggingface-hub<1.0,>=0.1.0->transformers) (3.10.0.2)\n",
            "Requirement already satisfied: pyparsing!=3.0.5,>=2.0.2 in /usr/local/lib/python3.7/dist-packages (from packaging>=20.0->transformers) (3.0.7)\n",
            "Requirement already satisfied: ipython>=4.0.0 in /usr/local/lib/python3.7/dist-packages (from ipywidgets) (5.5.0)\n",
            "Requirement already satisfied: nbformat>=4.2.0 in /usr/local/lib/python3.7/dist-packages (from ipywidgets) (5.1.3)\n",
            "Requirement already satisfied: ipython-genutils~=0.2.0 in /usr/local/lib/python3.7/dist-packages (from ipywidgets) (0.2.0)\n",
            "Requirement already satisfied: ipykernel>=4.5.1 in /usr/local/lib/python3.7/dist-packages (from ipywidgets) (4.10.1)\n",
            "Requirement already satisfied: widgetsnbextension~=3.5.0 in /usr/local/lib/python3.7/dist-packages (from ipywidgets) (3.5.2)\n",
            "Requirement already satisfied: jupyterlab-widgets>=1.0.0 in /usr/local/lib/python3.7/dist-packages (from ipywidgets) (1.0.2)\n",
            "Requirement already satisfied: traitlets>=4.3.1 in /usr/local/lib/python3.7/dist-packages (from ipywidgets) (5.1.1)\n",
            "Requirement already satisfied: tornado>=4.0 in /usr/local/lib/python3.7/dist-packages (from ipykernel>=4.5.1->ipywidgets) (5.1.1)\n",
            "Requirement already satisfied: jupyter-client in /usr/local/lib/python3.7/dist-packages (from ipykernel>=4.5.1->ipywidgets) (5.3.5)\n",
            "Requirement already satisfied: prompt-toolkit<2.0.0,>=1.0.4 in /usr/local/lib/python3.7/dist-packages (from ipython>=4.0.0->ipywidgets) (1.0.18)\n",
            "Requirement already satisfied: simplegeneric>0.8 in /usr/local/lib/python3.7/dist-packages (from ipython>=4.0.0->ipywidgets) (0.8.1)\n",
            "Requirement already satisfied: pexpect in /usr/local/lib/python3.7/dist-packages (from ipython>=4.0.0->ipywidgets) (4.8.0)\n",
            "Requirement already satisfied: pygments in /usr/local/lib/python3.7/dist-packages (from ipython>=4.0.0->ipywidgets) (2.6.1)\n",
            "Requirement already satisfied: setuptools>=18.5 in /usr/local/lib/python3.7/dist-packages (from ipython>=4.0.0->ipywidgets) (57.4.0)\n",
            "Requirement already satisfied: decorator in /usr/local/lib/python3.7/dist-packages (from ipython>=4.0.0->ipywidgets) (4.4.2)\n",
            "Requirement already satisfied: pickleshare in /usr/local/lib/python3.7/dist-packages (from ipython>=4.0.0->ipywidgets) (0.7.5)\n",
            "Requirement already satisfied: jupyter-core in /usr/local/lib/python3.7/dist-packages (from nbformat>=4.2.0->ipywidgets) (4.9.2)\n",
            "Requirement already satisfied: jsonschema!=2.5.0,>=2.4 in /usr/local/lib/python3.7/dist-packages (from nbformat>=4.2.0->ipywidgets) (4.3.3)\n",
            "Requirement already satisfied: importlib-resources>=1.4.0 in /usr/local/lib/python3.7/dist-packages (from jsonschema!=2.5.0,>=2.4->nbformat>=4.2.0->ipywidgets) (5.4.0)\n",
            "Requirement already satisfied: attrs>=17.4.0 in /usr/local/lib/python3.7/dist-packages (from jsonschema!=2.5.0,>=2.4->nbformat>=4.2.0->ipywidgets) (21.4.0)\n",
            "Requirement already satisfied: pyrsistent!=0.17.0,!=0.17.1,!=0.17.2,>=0.14.0 in /usr/local/lib/python3.7/dist-packages (from jsonschema!=2.5.0,>=2.4->nbformat>=4.2.0->ipywidgets) (0.18.1)\n",
            "Requirement already satisfied: zipp>=3.1.0 in /usr/local/lib/python3.7/dist-packages (from importlib-resources>=1.4.0->jsonschema!=2.5.0,>=2.4->nbformat>=4.2.0->ipywidgets) (3.7.0)\n",
            "Requirement already satisfied: six>=1.9.0 in /usr/local/lib/python3.7/dist-packages (from prompt-toolkit<2.0.0,>=1.0.4->ipython>=4.0.0->ipywidgets) (1.15.0)\n",
            "Requirement already satisfied: wcwidth in /usr/local/lib/python3.7/dist-packages (from prompt-toolkit<2.0.0,>=1.0.4->ipython>=4.0.0->ipywidgets) (0.2.5)\n",
            "Requirement already satisfied: notebook>=4.4.1 in /usr/local/lib/python3.7/dist-packages (from widgetsnbextension~=3.5.0->ipywidgets) (5.3.1)\n",
            "Requirement already satisfied: Send2Trash in /usr/local/lib/python3.7/dist-packages (from notebook>=4.4.1->widgetsnbextension~=3.5.0->ipywidgets) (1.8.0)\n",
            "Requirement already satisfied: jinja2 in /usr/local/lib/python3.7/dist-packages (from notebook>=4.4.1->widgetsnbextension~=3.5.0->ipywidgets) (2.11.3)\n",
            "Requirement already satisfied: nbconvert in /usr/local/lib/python3.7/dist-packages (from notebook>=4.4.1->widgetsnbextension~=3.5.0->ipywidgets) (5.6.1)\n",
            "Requirement already satisfied: terminado>=0.8.1 in /usr/local/lib/python3.7/dist-packages (from notebook>=4.4.1->widgetsnbextension~=3.5.0->ipywidgets) (0.13.1)\n",
            "Requirement already satisfied: pyzmq>=13 in /usr/local/lib/python3.7/dist-packages (from jupyter-client->ipykernel>=4.5.1->ipywidgets) (22.3.0)\n",
            "Requirement already satisfied: python-dateutil>=2.1 in /usr/local/lib/python3.7/dist-packages (from jupyter-client->ipykernel>=4.5.1->ipywidgets) (2.8.2)\n",
            "Requirement already satisfied: ptyprocess in /usr/local/lib/python3.7/dist-packages (from terminado>=0.8.1->notebook>=4.4.1->widgetsnbextension~=3.5.0->ipywidgets) (0.7.0)\n",
            "Requirement already satisfied: protobuf>=3.8.0 in /usr/local/lib/python3.7/dist-packages (from tensorboardx) (3.17.3)\n",
            "Requirement already satisfied: setproctitle in /usr/local/lib/python3.7/dist-packages (from wandb) (1.2.2)\n",
            "Requirement already satisfied: docker-pycreds>=0.4.0 in /usr/local/lib/python3.7/dist-packages (from wandb) (0.4.0)\n",
            "Requirement already satisfied: psutil>=5.0.0 in /usr/local/lib/python3.7/dist-packages (from wandb) (5.4.8)\n",
            "Requirement already satisfied: sentry-sdk>=1.0.0 in /usr/local/lib/python3.7/dist-packages (from wandb) (1.5.6)\n",
            "Requirement already satisfied: Click!=8.0.0,>=7.0 in /usr/local/lib/python3.7/dist-packages (from wandb) (7.1.2)\n",
            "Requirement already satisfied: GitPython>=1.0.0 in /usr/local/lib/python3.7/dist-packages (from wandb) (3.1.27)\n",
            "Requirement already satisfied: shortuuid>=0.5.0 in /usr/local/lib/python3.7/dist-packages (from wandb) (1.0.8)\n",
            "Requirement already satisfied: promise<3,>=2.0 in /usr/local/lib/python3.7/dist-packages (from wandb) (2.3)\n",
            "Requirement already satisfied: yaspin>=1.0.0 in /usr/local/lib/python3.7/dist-packages (from wandb) (2.1.0)\n",
            "Requirement already satisfied: pathtools in /usr/local/lib/python3.7/dist-packages (from wandb) (0.1.2)\n",
            "Requirement already satisfied: gitdb<5,>=4.0.1 in /usr/local/lib/python3.7/dist-packages (from GitPython>=1.0.0->wandb) (4.0.9)\n",
            "Requirement already satisfied: smmap<6,>=3.0.1 in /usr/local/lib/python3.7/dist-packages (from gitdb<5,>=4.0.1->GitPython>=1.0.0->wandb) (5.0.0)\n",
            "Requirement already satisfied: urllib3!=1.25.0,!=1.25.1,<1.26,>=1.21.1 in /usr/local/lib/python3.7/dist-packages (from requests->transformers) (1.24.3)\n",
            "Requirement already satisfied: chardet<4,>=3.0.2 in /usr/local/lib/python3.7/dist-packages (from requests->transformers) (3.0.4)\n",
            "Requirement already satisfied: idna<3,>=2.5 in /usr/local/lib/python3.7/dist-packages (from requests->transformers) (2.10)\n",
            "Requirement already satisfied: certifi>=2017.4.17 in /usr/local/lib/python3.7/dist-packages (from requests->transformers) (2021.10.8)\n",
            "Requirement already satisfied: termcolor<2.0.0,>=1.1.0 in /usr/local/lib/python3.7/dist-packages (from yaspin>=1.0.0->wandb) (1.1.0)\n",
            "Requirement already satisfied: cycler>=0.10 in /usr/local/lib/python3.7/dist-packages (from matplotlib) (0.11.0)\n",
            "Requirement already satisfied: kiwisolver>=1.0.1 in /usr/local/lib/python3.7/dist-packages (from matplotlib) (1.3.2)\n",
            "Requirement already satisfied: MarkupSafe>=0.23 in /usr/local/lib/python3.7/dist-packages (from jinja2->notebook>=4.4.1->widgetsnbextension~=3.5.0->ipywidgets) (2.0.1)\n",
            "Requirement already satisfied: pandocfilters>=1.4.1 in /usr/local/lib/python3.7/dist-packages (from nbconvert->notebook>=4.4.1->widgetsnbextension~=3.5.0->ipywidgets) (1.5.0)\n",
            "Requirement already satisfied: bleach in /usr/local/lib/python3.7/dist-packages (from nbconvert->notebook>=4.4.1->widgetsnbextension~=3.5.0->ipywidgets) (4.1.0)\n",
            "Requirement already satisfied: mistune<2,>=0.8.1 in /usr/local/lib/python3.7/dist-packages (from nbconvert->notebook>=4.4.1->widgetsnbextension~=3.5.0->ipywidgets) (0.8.4)\n",
            "Requirement already satisfied: entrypoints>=0.2.2 in /usr/local/lib/python3.7/dist-packages (from nbconvert->notebook>=4.4.1->widgetsnbextension~=3.5.0->ipywidgets) (0.4)\n",
            "Requirement already satisfied: defusedxml in /usr/local/lib/python3.7/dist-packages (from nbconvert->notebook>=4.4.1->widgetsnbextension~=3.5.0->ipywidgets) (0.7.1)\n",
            "Requirement already satisfied: testpath in /usr/local/lib/python3.7/dist-packages (from nbconvert->notebook>=4.4.1->widgetsnbextension~=3.5.0->ipywidgets) (0.6.0)\n",
            "Requirement already satisfied: webencodings in /usr/local/lib/python3.7/dist-packages (from bleach->nbconvert->notebook>=4.4.1->widgetsnbextension~=3.5.0->ipywidgets) (0.5.1)\n",
            "Requirement already satisfied: joblib in /usr/local/lib/python3.7/dist-packages (from sacremoses->transformers) (1.1.0)\n",
            "Enabling notebook extension jupyter-js-widgets/extension...\n",
            "      - Validating: \u001b[32mOK\u001b[0m\n"
          ]
        }
      ],
      "source": [
        "!pip install transformers sentencepiece ipywidgets tensorboardx wandb matplotlib\n",
        "!jupyter nbextension enable --py widgetsnbextension"
      ]
    },
    {
      "cell_type": "code",
      "execution_count": 15,
      "metadata": {
        "colab": {
          "base_uri": "https://localhost:8080/"
        },
        "id": "cG3IANnJZt9T",
        "outputId": "5a13de0f-288d-445e-98f5-f5ee493b3588"
      },
      "outputs": [
        {
          "output_type": "stream",
          "name": "stdout",
          "text": [
            "[nltk_data] Downloading package stopwords to /root/nltk_data...\n",
            "[nltk_data]   Package stopwords is already up-to-date!\n",
            "[nltk_data] Downloading package omw-1.4 to /root/nltk_data...\n",
            "[nltk_data]   Package omw-1.4 is already up-to-date!\n",
            "[nltk_data] Downloading package wordnet to /root/nltk_data...\n",
            "[nltk_data]   Package wordnet is already up-to-date!\n",
            "[nltk_data] Downloading package punkt to /root/nltk_data...\n",
            "[nltk_data]   Package punkt is already up-to-date!\n",
            "CUDA available.\n"
          ]
        }
      ],
      "source": [
        "import logging\n",
        "import string\n",
        "import wandb\n",
        "import nltk\n",
        "import torch\n",
        "import re\n",
        "import string\n",
        "\n",
        "import torch.nn as nn\n",
        "import pandas as pd\n",
        "import numpy as np\n",
        "\n",
        "import matplotlib.pyplot as plt\n",
        "\n",
        "from tqdm.notebook import tqdm\n",
        "from operator import itemgetter\n",
        "from urllib import request\n",
        "\n",
        "from transformers import Trainer, TrainingArguments\n",
        "from transformers import DebertaTokenizer, DebertaForSequenceClassification\n",
        "\n",
        "from sklearn.utils import shuffle\n",
        "from sklearn.model_selection import train_test_split\n",
        "from sklearn.metrics import classification_report, f1_score\n",
        "\n",
        "nltk.download('stopwords')\n",
        "nltk.download('omw-1.4')\n",
        "nltk.download('wordnet')\n",
        "nltk.download('punkt')\n",
        "\n",
        "from nltk.corpus import stopwords\n",
        "from nltk.tokenize import wordpunct_tokenize\n",
        "from nltk.stem import WordNetLemmatizer\n",
        "\n",
        "from torch.utils.data import DataLoader\n",
        "\n",
        "if not torch.cuda.is_available():\n",
        "  print('WARNING: You may want to change the runtime to GPU for faster training!')\n",
        "  DEVICE = 'cpu'\n",
        "else:\n",
        "  print(\"CUDA available.\")\n",
        "  DEVICE = 'cuda:0'"
      ]
    },
    {
      "cell_type": "markdown",
      "metadata": {
        "id": "XEnHES8y--Si"
      },
      "source": [
        "## Mount Google Drive"
      ]
    },
    {
      "cell_type": "code",
      "execution_count": 16,
      "metadata": {
        "colab": {
          "base_uri": "https://localhost:8080/"
        },
        "id": "c2eGdCwoFRCB",
        "outputId": "7288650e-de20-4605-91ab-3e76ebe317f4"
      },
      "outputs": [
        {
          "output_type": "stream",
          "name": "stdout",
          "text": [
            "Drive already mounted at /content/drive; to attempt to forcibly remount, call drive.mount(\"/content/drive\", force_remount=True).\n",
            "/content/drive/MyDrive\n",
            "mkdir: cannot create directory ‘./nlp-cswrk’: File exists\n",
            "/content/drive/MyDrive/nlp-cswrk\n"
          ]
        }
      ],
      "source": [
        "from google.colab import drive\n",
        "drive.mount('/content/drive')\n",
        "\n",
        "%cd '/content/drive/MyDrive/'\n",
        "%mkdir './nlp-cswrk'\n",
        "%cd './nlp-cswrk' "
      ]
    },
    {
      "cell_type": "markdown",
      "metadata": {
        "id": "GHcqaICo--Sj"
      },
      "source": [
        "## Logging"
      ]
    },
    {
      "cell_type": "code",
      "execution_count": 17,
      "metadata": {
        "id": "jnWXLw0cdbDs"
      },
      "outputs": [],
      "source": [
        "# prepare logger\n",
        "logging.basicConfig(level=logging.INFO)\n",
        "\n",
        "transformers_logger = logging.getLogger(\"transformers\")\n",
        "transformers_logger.setLevel(logging.WARNING)"
      ]
    },
    {
      "cell_type": "markdown",
      "metadata": {
        "id": "c2_ed_gT--Sk"
      },
      "source": [
        "## Download Datasets"
      ]
    },
    {
      "cell_type": "code",
      "execution_count": 18,
      "metadata": {
        "colab": {
          "base_uri": "https://localhost:8080/"
        },
        "id": "W4c_CmfHba0s",
        "outputId": "5d0bdba1-2ea4-4676-85d0-a4ada25b537b"
      },
      "outputs": [
        {
          "output_type": "stream",
          "name": "stdout",
          "text": [
            "Fetching https://raw.githubusercontent.com/Perez-AlmendrosC/dontpatronizeme/master/semeval-2022/practice%20splits/train_semeval_parids-labels.csv\n"
          ]
        }
      ],
      "source": [
        "module_url = f\"https://raw.githubusercontent.com/Perez-AlmendrosC/dontpatronizeme/master/semeval-2022/practice%20splits/train_semeval_parids-labels.csv\"\n",
        "module_name = module_url.split('/')[-1]\n",
        "\n",
        "print(f'Fetching {module_url}')\n",
        "with request.urlopen(module_url) as f, open(module_name,'w') as outf:\n",
        "  b = f.read()\n",
        "  outf.write(b.decode('utf-8'))"
      ]
    },
    {
      "cell_type": "code",
      "execution_count": 19,
      "metadata": {
        "colab": {
          "base_uri": "https://localhost:8080/"
        },
        "id": "ii68DM91B4Ws",
        "outputId": "1c4fc79a-0748-4d59-db15-a7f770a81df9"
      },
      "outputs": [
        {
          "output_type": "stream",
          "name": "stdout",
          "text": [
            "Fetching https://raw.githubusercontent.com/Perez-AlmendrosC/dontpatronizeme/master/semeval-2022/practice%20splits/dev_semeval_parids-labels.csv\n"
          ]
        }
      ],
      "source": [
        "module_url = f\"https://raw.githubusercontent.com/Perez-AlmendrosC/dontpatronizeme/master/semeval-2022/practice%20splits/dev_semeval_parids-labels.csv\"\n",
        "module_name = module_url.split('/')[-1]\n",
        "\n",
        "print(f'Fetching {module_url}')\n",
        "with request.urlopen(module_url) as f, open(module_name,'w') as outf:\n",
        "  b = f.read()\n",
        "  outf.write(b.decode('utf-8'))"
      ]
    },
    {
      "cell_type": "code",
      "execution_count": 20,
      "metadata": {
        "colab": {
          "base_uri": "https://localhost:8080/"
        },
        "id": "MNj1N-S9eMgi",
        "outputId": "d52c94af-b235-4919-ce6f-e4fdb03f16b8"
      },
      "outputs": [
        {
          "output_type": "stream",
          "name": "stdout",
          "text": [
            "Fetching https://raw.githubusercontent.com/Perez-AlmendrosC/dontpatronizeme/master/semeval-2022/dont_patronize_me.py\n"
          ]
        }
      ],
      "source": [
        "module_url = f\"https://raw.githubusercontent.com/Perez-AlmendrosC/dontpatronizeme/master/semeval-2022/dont_patronize_me.py\"\n",
        "module_name = module_url.split('/')[-1]\n",
        "\n",
        "print(f'Fetching {module_url}')\n",
        "with request.urlopen(module_url) as f, open(module_name,'w') as outf:\n",
        "  a = f.read()\n",
        "  outf.write(a.decode('utf-8'))"
      ]
    },
    {
      "cell_type": "code",
      "execution_count": 21,
      "metadata": {
        "id": "AZlPSk4adKOD"
      },
      "outputs": [],
      "source": [
        "from dont_patronize_me import DontPatronizeMe\n",
        "\n",
        "dpm = DontPatronizeMe('.', '.')\n",
        "dpm.load_task1()"
      ]
    },
    {
      "cell_type": "code",
      "execution_count": 22,
      "metadata": {
        "id": "ArCxbwYdeQMZ"
      },
      "outputs": [],
      "source": [
        "# helper function to save predictions to an output file\n",
        "def labels2file(p, outf_path):\n",
        "\twith open(outf_path,'w') as outf:\n",
        "\t\tfor pi in p:\n",
        "\t\t\toutf.write(','.join([str(k) for k in pi])+'\\n')"
      ]
    },
    {
      "cell_type": "markdown",
      "metadata": {
        "id": "7oX952gK-f-d"
      },
      "source": [
        "## Data Analysis"
      ]
    },
    {
      "cell_type": "markdown",
      "source": [
        "### Setup"
      ],
      "metadata": {
        "id": "xLL9iB2n_rMV"
      }
    },
    {
      "cell_type": "code",
      "source": [
        "df = dpm.train_task1_df\n",
        "\n",
        "print(\"Whole dataset info:\")\n",
        "print(df.shape)\n",
        "print(df.columns)\n",
        "\n",
        "patr_df = df.loc[df.label == 1]\n",
        "unpatr_df = df.loc[df.label == 0]\n",
        "\n",
        "patr_df_length = patr_df.shape[0]\n",
        "unpatr_df_length = unpatr_df.shape[0]\n",
        "\n",
        "print(\"Patronising and Unpatronising shapes:\")\n",
        "print(patr_df.shape, unpatr_df.shape)"
      ],
      "metadata": {
        "id": "Wlx4B9F__sa_",
        "outputId": "1d4cdbbd-6ab9-4fa9-ce90-9a9f038cdda4",
        "colab": {
          "base_uri": "https://localhost:8080/"
        }
      },
      "execution_count": 23,
      "outputs": [
        {
          "output_type": "stream",
          "name": "stdout",
          "text": [
            "Whole dataset info:\n",
            "(10469, 7)\n",
            "Index(['par_id', 'art_id', 'keyword', 'country', 'text', 'label',\n",
            "       'orig_label'],\n",
            "      dtype='object')\n",
            "Patronising and Unpatronising shapes:\n",
            "(993, 7) (9476, 7)\n"
          ]
        }
      ]
    },
    {
      "cell_type": "markdown",
      "metadata": {
        "id": "w9bCtx5Y-f-d"
      },
      "source": [
        "### General Info"
      ]
    },
    {
      "cell_type": "markdown",
      "metadata": {
        "id": "HcLZtT2--f-e"
      },
      "source": [
        "#### Balance of Classes"
      ]
    },
    {
      "cell_type": "code",
      "execution_count": 28,
      "metadata": {
        "id": "ghmm6-Oh-f-e"
      },
      "outputs": [],
      "source": [
        "def get_binary_label_distribution(df, axis):\n",
        "    _, _, [patch0, patch1] = axis.hist(df.label.map(int), \n",
        "                                       bins=[-0.5, 0.5, 1.5])\n",
        "\n",
        "    patch0.set_facecolor(\"tab:blue\")\n",
        "    patch1.set_facecolor(\"tab:orange\")\n",
        "\n",
        "    axis.set_xticks([0, 1])\n",
        "    axis.set_xticklabels([\"Unpatronising\", \"Patronising\"])\n",
        "\n",
        "def get_multi_label_distribution(df, axis):\n",
        "    _, _, patches = axis.hist(df.orig_label.map(int), \n",
        "                    bins=[-0.5, 0.5, 1.5, 2.5, 3.5, 4.5])\n",
        "\n",
        "    colours = [\"tab:blue\", \"tab:orange\", \"tab:green\", \"tab:red\", \"tab:purple\"]\n",
        "\n",
        "    for patch, colour in zip(patches, colours):\n",
        "        patch.set_facecolor(colour)"
      ]
    },
    {
      "cell_type": "code",
      "execution_count": 29,
      "metadata": {
        "id": "HHK5eXa7-f-e",
        "outputId": "c2c6e0ee-1d22-4502-d4ea-d039d381b4b8",
        "colab": {
          "base_uri": "https://localhost:8080/",
          "height": 326
        }
      },
      "outputs": [
        {
          "output_type": "execute_result",
          "data": {
            "text/plain": [
              "Text(0.5, 0, 'Levels of condescension')"
            ]
          },
          "metadata": {},
          "execution_count": 29
        },
        {
          "output_type": "display_data",
          "data": {
            "image/png": "[encoded data removed]",
            "text/plain": [
              "<Figure size 792x288 with 2 Axes>"
            ]
          },
          "metadata": {
            "needs_background": "light"
          }
        }
      ],
      "source": [
        "figure, (binary_ax, multi_ax) = plt.subplots(1, 2)\n",
        "\n",
        "figure.suptitle(\"Distribution of patronising classs\")\n",
        "figure.set_size_inches((11, 4))\n",
        "\n",
        "get_binary_label_distribution(df, binary_ax)\n",
        "\n",
        "binary_ax.set_ylabel(\"Frequency\")\n",
        "binary_ax.set_xlabel(\"Class\")\n",
        "\n",
        "get_multi_label_distribution(df, multi_ax)\n",
        "\n",
        "multi_ax.set_ylabel(\"Frequency\")\n",
        "multi_ax.set_xlabel(\"Levels of condescension\")"
      ]
    },
    {
      "cell_type": "markdown",
      "metadata": {
        "id": "DR7lSgNH-f-f"
      },
      "source": [
        "#### Distribution of Languages"
      ]
    },
    {
      "cell_type": "code",
      "execution_count": 30,
      "metadata": {
        "id": "zuAUAgDS-f-f",
        "outputId": "bab29f63-bf7e-452d-be26-32b7e590936e",
        "colab": {
          "base_uri": "https://localhost:8080/",
          "height": 313
        }
      },
      "outputs": [
        {
          "output_type": "execute_result",
          "data": {
            "text/plain": [
              "Text(0.5, 0, 'Country')"
            ]
          },
          "metadata": {},
          "execution_count": 30
        },
        {
          "output_type": "display_data",
          "data": {
            "image/png": "[encoded data removed]",
            "text/plain": [
              "<Figure size 504x288 with 1 Axes>"
            ]
          },
          "metadata": {
            "needs_background": "light"
          }
        }
      ],
      "source": [
        "figure, axis = plt.subplots()\n",
        "\n",
        "figure.set_size_inches((7, 4))\n",
        "\n",
        "labels, counts = np.unique(df.country, return_counts=True)\n",
        "\n",
        "label_counts = list(zip(labels, counts))\n",
        "label_counts.sort(key=itemgetter(1), reverse=True)\n",
        "labels_sorted, counts_sorted = zip(*label_counts)\n",
        "\n",
        "axis.bar(np.arange(len(counts)), counts_sorted, tick_label=labels_sorted)\n",
        "\n",
        "axis.set_title(\"Distribution of source-text countries\")\n",
        "axis.set_ylabel(\"Frequency\")\n",
        "axis.set_xlabel(\"Country\")"
      ]
    },
    {
      "cell_type": "markdown",
      "metadata": {
        "id": "jLOdDukR-f-g"
      },
      "source": [
        "#### Distribution of Categories"
      ]
    },
    {
      "cell_type": "code",
      "execution_count": 31,
      "metadata": {
        "id": "YPoBQ0gZ-f-g",
        "outputId": "eccafc99-37f1-4309-a067-139c95eeb28a",
        "colab": {
          "base_uri": "https://localhost:8080/",
          "height": 344
        }
      },
      "outputs": [
        {
          "output_type": "execute_result",
          "data": {
            "text/plain": [
              "Text(0.5, 0, 'Category')"
            ]
          },
          "metadata": {},
          "execution_count": 31
        },
        {
          "output_type": "display_data",
          "data": {
            "image/png": "[encoded data removed]",
            "text/plain": [
              "<Figure size 504x288 with 1 Axes>"
            ]
          },
          "metadata": {
            "needs_background": "light"
          }
        }
      ],
      "source": [
        "figure, axis = plt.subplots()\n",
        "\n",
        "figure.set_size_inches((7, 4))\n",
        "\n",
        "labels, counts = np.unique(df.keyword, return_counts=True)\n",
        "\n",
        "label_counts = list(zip(labels, counts))\n",
        "label_counts.sort(key=itemgetter(1), reverse=True)\n",
        "labels_sorted, counts_sorted = zip(*label_counts)\n",
        "\n",
        "axis.bar(np.arange(len(counts)), counts_sorted, tick_label=labels_sorted)\n",
        "\n",
        "axis.tick_params(axis='x', labelrotation=30)\n",
        "\n",
        "axis.set_title(\"Distribution of categories\")\n",
        "axis.set_ylabel(\"Frequency\")\n",
        "axis.set_xlabel(\"Category\")"
      ]
    },
    {
      "cell_type": "markdown",
      "metadata": {
        "id": "M3enFtaJ-f-g"
      },
      "source": [
        "### Text Analysis"
      ]
    },
    {
      "cell_type": "markdown",
      "metadata": {
        "id": "LTw3VpRf-f-g"
      },
      "source": [
        "#### Average Character Length"
      ]
    },
    {
      "cell_type": "code",
      "execution_count": 32,
      "metadata": {
        "id": "UY4Stxaa-f-g",
        "outputId": "b916e3c6-abbe-4ce8-cd61-e31116d0e706",
        "colab": {
          "base_uri": "https://localhost:8080/",
          "height": 421
        }
      },
      "outputs": [
        {
          "output_type": "stream",
          "name": "stdout",
          "text": [
            "Average number of characters for\n",
            "\t- patronising class: 288.45\n",
            "\t- unpatronising class: 265.40\n"
          ]
        },
        {
          "output_type": "execute_result",
          "data": {
            "text/plain": [
              "<matplotlib.legend.Legend at 0x7f3f60db1350>"
            ]
          },
          "metadata": {},
          "execution_count": 32
        },
        {
          "output_type": "display_data",
          "data": {
            "image/png": "[encoded data removed]",
            "text/plain": [
              "<Figure size 432x360 with 1 Axes>"
            ]
          },
          "metadata": {
            "needs_background": "light"
          }
        }
      ],
      "source": [
        "unpatr_series = unpatr_df.text.str.len()\n",
        "patr_series = patr_df.text.str.len()\n",
        "\n",
        "print(f\"Average number of characters for\"\n",
        "      f\"\\n\\t- patronising class: {patr_series.mean():.2f}\"\n",
        "      f\"\\n\\t- unpatronising class: {unpatr_series.mean():.2f}\")\n",
        "\n",
        "(unpatr_counts, unpatr_bins) = np.histogram(unpatr_series, bins=100, range=(0, 2000))\n",
        "(patr_counts, patr_bins) = np.histogram(patr_series, bins=100, range=(0, 2000))\n",
        "\n",
        "figure, axis = plt.subplots()\n",
        "figure.set_size_inches((6, 5))\n",
        "\n",
        "axis.hist(unpatr_bins[:-1], unpatr_bins, alpha=1, label=\"Unpatronising class\",\n",
        "          weights=unpatr_counts / unpatr_df_length)\n",
        "\n",
        "axis.hist(patr_bins[:-1], patr_bins, alpha=0.75, label=\"Patronising class\",\n",
        "          weights=patr_counts / patr_df_length)\n",
        "\n",
        "axis.set_title(\"Distribution of character lengths\")\n",
        "axis.set_ylabel(\"Frequency %\")\n",
        "axis.set_xlabel(\"Character Length\")\n",
        "axis.set_xlim((0, 2000))\n",
        "axis.legend()"
      ]
    },
    {
      "cell_type": "markdown",
      "metadata": {
        "id": "dUr4Q-OR-f-h"
      },
      "source": [
        "#### Average Number of Words"
      ]
    },
    {
      "cell_type": "code",
      "execution_count": 33,
      "metadata": {
        "id": "hB4WbdWh-f-h",
        "outputId": "aa9dce6c-51c7-4d20-dcd6-6262d97890ba",
        "colab": {
          "base_uri": "https://localhost:8080/",
          "height": 0
        }
      },
      "outputs": [
        {
          "output_type": "stream",
          "name": "stdout",
          "text": [
            "Average number of words for\n",
            "\t- patronising class: 53.62\n",
            "\t- unpatronising class: 47.88\n"
          ]
        },
        {
          "output_type": "stream",
          "name": "stderr",
          "text": [
            "/usr/local/lib/python3.7/dist-packages/numpy/core/fromnumeric.py:3441: RuntimeWarning: Mean of empty slice.\n",
            "  out=out, **kwargs)\n",
            "/usr/local/lib/python3.7/dist-packages/numpy/core/_methods.py:189: RuntimeWarning: invalid value encountered in double_scalars\n",
            "  ret = ret.dtype.type(ret / rcount)\n"
          ]
        },
        {
          "output_type": "stream",
          "name": "stdout",
          "text": [
            "Average word length for\n",
            "\t- patronising class: 4.43\n",
            "\t- unpatronising class: 4.62\n"
          ]
        },
        {
          "output_type": "execute_result",
          "data": {
            "text/plain": [
              "<matplotlib.legend.Legend at 0x7f3f6098f250>"
            ]
          },
          "metadata": {},
          "execution_count": 33
        },
        {
          "output_type": "display_data",
          "data": {
            "image/png": "[encoded data removed]",
            "text/plain": [
              "<Figure size 864x360 with 2 Axes>"
            ]
          },
          "metadata": {
            "needs_background": "light"
          }
        }
      ],
      "source": [
        "def get_list_length(x):\n",
        "    if type(x) != list:\n",
        "        x = [str(x)]\n",
        "\n",
        "    return len(x)\n",
        "\n",
        "unpatr_series = unpatr_df.text.str.split().map(get_list_length)\n",
        "patr_series = patr_df.text.str.split().map(get_list_length)\n",
        "\n",
        "print(f\"Average number of words for\"\n",
        "      f\"\\n\\t- patronising class: {patr_series.mean():.2f}\"\n",
        "      f\"\\n\\t- unpatronising class: {unpatr_series.mean():.2f}\")\n",
        "\n",
        "(unpatr_counts, unpatr_bins) = np.histogram(unpatr_series, bins=100, range=(0, 500))\n",
        "(patr_counts, patr_bins) = np.histogram(patr_series, bins=100, range=(0, 500))\n",
        "\n",
        "figure, (axis1, axis2) = plt.subplots(1, 2)\n",
        "figure.set_size_inches((12, 5))\n",
        "\n",
        "axis1.hist(unpatr_bins[:-1], unpatr_bins, alpha=1, label=\"Unpatronising class\",\n",
        "          weights=unpatr_counts / unpatr_df_length)\n",
        "\n",
        "axis1.hist(patr_bins[:-1], patr_bins, alpha=0.75, label=\"Patronising class\",\n",
        "          weights=patr_counts / patr_df_length)\n",
        "\n",
        "axis1.set_title(\"Distribution of number of words\")\n",
        "axis1.set_ylabel(\"Frequency %\")\n",
        "axis1.set_xlabel(\"Number of Words\")\n",
        "axis1.set_xlim((0, 500))\n",
        "axis1.legend()\n",
        "\n",
        "\n",
        "def mean_item_length(x):\n",
        "    if type(x) != list:\n",
        "        x = [str(x)]\n",
        "    \n",
        "    lengths = list(map(len, x))\n",
        "    return np.mean(lengths)\n",
        "\n",
        "unpatr_series = unpatr_df.text.str.split().map(mean_item_length)\n",
        "patr_series = patr_df.text.str.split().map(mean_item_length)\n",
        "\n",
        "print(f\"Average word length for\"\n",
        "      f\"\\n\\t- patronising class: {patr_series.mean():.2f}\"\n",
        "      f\"\\n\\t- unpatronising class: {unpatr_series.mean():.2f}\")\n",
        "\n",
        "(unpatr_counts, unpatr_bins) = np.histogram(unpatr_series, bins=100, range=(0, 10))\n",
        "(patr_counts, patr_bins) = np.histogram(patr_series, bins=100, range=(0, 10))\n",
        "\n",
        "axis2.hist(unpatr_bins[:-1], unpatr_bins, alpha=1, label=\"Unpatronising class\",\n",
        "          weights=unpatr_counts / unpatr_df_length)\n",
        "\n",
        "axis2.hist(patr_bins[:-1], patr_bins, alpha=0.75, label=\"Patronising class\",\n",
        "          weights=patr_counts / patr_df_length)\n",
        "\n",
        "axis2.set_title(\"Distribution of word length\")\n",
        "axis2.set_ylabel(\"Frequency %\")\n",
        "axis2.set_xlabel(\"Word Length\")\n",
        "axis2.set_xlim((0, 10))\n",
        "axis2.legend()"
      ]
    },
    {
      "cell_type": "markdown",
      "metadata": {
        "id": "6M9fWfBe-f-h"
      },
      "source": [
        "#### Average Word Length"
      ]
    },
    {
      "cell_type": "code",
      "execution_count": null,
      "metadata": {
        "id": "HG0jy1zI-f-h"
      },
      "outputs": [],
      "source": [
        "def mean_item_length(x):\n",
        "    if type(x) != list:\n",
        "        x = [str(x)]\n",
        "    \n",
        "    lengths = list(map(len, x))\n",
        "    return np.mean(lengths)\n",
        "\n",
        "unpatr_series = unpatr_df.text.str.split().map(mean_item_length)\n",
        "patr_series = patr_df.text.str.split().map(mean_item_length)\n",
        "\n",
        "print(f\"Average word length for\"\n",
        "      f\"\\n\\t- patronising dataset: {patr_series.mean():.2f}\"\n",
        "      f\"\\n\\t- unpatronising dataset: {unpatr_series.mean():.2f}\")\n",
        "\n",
        "(unpatr_counts, unpatr_bins) = np.histogram(unpatr_series, bins=100, range=(0, 10))\n",
        "(patr_counts, patr_bins) = np.histogram(patr_series, bins=100, range=(0, 10))\n",
        "\n",
        "figure, axis2 = plt.subplots()\n",
        "figure.set_size_inches((6, 5))\n",
        "\n",
        "axis2.hist(unpatr_bins[:-1], unpatr_bins, alpha=1, label=\"Unpatronising Dataset\",\n",
        "          weights=unpatr_counts / unpatr_df_length)\n",
        "\n",
        "axis2.hist(patr_bins[:-1], patr_bins, alpha=0.75, label=\"Patronising Dataset\",\n",
        "          weights=patr_counts / patr_df_length)\n",
        "\n",
        "axis2.set_title(\"Distribution of word length\")\n",
        "axis2.set_ylabel(\"Frequency %\")\n",
        "axis2.set_xlabel(\"Word Length\")\n",
        "axis2.set_xlim((0, 10))\n",
        "axis2.legend()"
      ]
    },
    {
      "cell_type": "markdown",
      "metadata": {
        "id": "aAwVBfo2-f-i"
      },
      "source": [
        "### $ n $-gram Analysis"
      ]
    },
    {
      "cell_type": "code",
      "execution_count": 34,
      "metadata": {
        "id": "5ajz5eHp-f-i",
        "outputId": "ead10487-436c-44dd-a09b-ac8505af6808",
        "colab": {
          "base_uri": "https://localhost:8080/",
          "height": 81,
          "referenced_widgets": [
            "7cac9aa378724bcab3c8415ca6e53933",
            "90d0285888d14f24a8d58ffe1957a9e6",
            "9f8f43f1119e40f39f59a7590e30ce43",
            "873aae59b66743f4a78fd9f1c4aa34d2",
            "85fbaec654794a9d982afe7d6024e7cc",
            "977cf05eeabc457496e6cb2903ceaaee",
            "62a6458ee484446e96305d982f75eb3a",
            "fc45804f805944eab6b10e0cef39145b",
            "53e17ec4231b42f29091111782e417ef",
            "e2ba3b5693cd4c4793dbd76db9e8d949",
            "d887beccfeaa43dcb2dbfc7980ea55f1",
            "9eb1dbb593b84df4801f97246767f492",
            "23d8f6d4c9d34792bf03d57c43b191bc",
            "117f713ccd0746d190a7fef451dff1e5",
            "85c7f9f13fa543adabb46bce4ecf3cd3",
            "199a1b382ae2470cba7c190becb994e1",
            "018a7eddae79463c92fda250ee5dd8cb",
            "588845c443514167ba5669367e17d1e7",
            "4ec4eabf0e354bbb97e9554e6629113a",
            "8b3c9a395a864159b64c0955d60c4ffe",
            "ab7f2ef652214dd8839f0574a4c044b9",
            "3b6fbccddcf5438395b9338b5623554b"
          ]
        }
      },
      "outputs": [
        {
          "output_type": "display_data",
          "data": {
            "application/vnd.jupyter.widget-view+json": {
              "model_id": "7cac9aa378724bcab3c8415ca6e53933",
              "version_minor": 0,
              "version_major": 2
            },
            "text/plain": [
              "  0%|          | 0/993 [00:00<?, ?sentence/s]"
            ]
          },
          "metadata": {}
        },
        {
          "output_type": "display_data",
          "data": {
            "application/vnd.jupyter.widget-view+json": {
              "model_id": "9eb1dbb593b84df4801f97246767f492",
              "version_minor": 0,
              "version_major": 2
            },
            "text/plain": [
              "  0%|          | 0/9476 [00:00<?, ?sentence/s]"
            ]
          },
          "metadata": {}
        }
      ],
      "source": [
        "punct_regex = re.compile(r'[\\s\\,\\/\\.\\']')\n",
        "lemmatizer = WordNetLemmatizer()\n",
        "\n",
        "def remove_stop_words(token):\n",
        "    return token not in stopwords.words(\"english\")\n",
        "\n",
        "def remove_punctuation(token):\n",
        "    return not any(map(lambda s: s in string.punctuation, token))\n",
        "\n",
        "def lemmatize(word):\n",
        "    return lemmatizer.lemmatize(word, pos=\"v\")\n",
        "\n",
        "def get_tokenized_corpus(corpus):\n",
        "    tokenized_with_punct_and_stops = list()\n",
        "    tokenized_corpus = list()\n",
        "\n",
        "    for sentence in tqdm(corpus, unit=\"sentence\"):\n",
        "        tokens = wordpunct_tokenize(sentence)\n",
        "        tokens = list(map(lemmatize, tokens))\n",
        "\n",
        "        tokenized_with_punct_and_stops.append(tokens)\n",
        "\n",
        "        tokens = filter(remove_punctuation, tokens)\n",
        "        tokens = filter(remove_stop_words, tokens)\n",
        "\n",
        "        tokenized_corpus.append(list(tokens))\n",
        "        \n",
        "    return {\n",
        "        \"no_punct_or_stops\": tokenized_corpus, \n",
        "        \"lemmatized_only\": tokenized_with_punct_and_stops\n",
        "    }\n",
        "\n",
        "patr_corpus = get_tokenized_corpus(patr_df[\"text\"])\n",
        "unpatr_corpus = get_tokenized_corpus(unpatr_df[\"text\"])\n",
        "\n",
        "complete_corpus = {\n",
        "    \"no_punct_or_stops\": patr_corpus[\"no_punct_or_stops\"] \\\n",
        "        + unpatr_corpus[\"no_punct_or_stops\"], \n",
        "    \"lemmatized_only\": patr_corpus[\"lemmatized_only\"] \\\n",
        "        + unpatr_corpus[\"lemmatized_only\"]\n",
        "}\n",
        "\n",
        "patr_corpus = patr_corpus.get(\"no_punct_or_stops\")\n",
        "unpatr_corpus = unpatr_corpus.get(\"no_punct_or_stops\")"
      ]
    },
    {
      "cell_type": "code",
      "execution_count": 35,
      "metadata": {
        "id": "W2AJA0eE-f-i"
      },
      "outputs": [],
      "source": [
        "def get_n_gram_frequency(n, sentences, rounding=4):\n",
        "    n_grams = dict()\n",
        "\n",
        "    for i, sentence in enumerate(sentences):\n",
        "        for j in range(len(sentence) + 1 - n):\n",
        "            n_gram = \" \".join(sentence[j:j+n]).lower()\n",
        "\n",
        "            if n_gram in n_grams:\n",
        "                n_grams[n_gram] += 1\n",
        "            else:\n",
        "                n_grams[n_gram] = 1\n",
        "    \n",
        "    for key, val in n_grams.items():\n",
        "        n_grams[key] = round(val, rounding)\n",
        "    \n",
        "    return n_grams\n",
        "\n",
        "def to_tuple(dictionary):\n",
        "    return list(zip(dictionary.keys(), dictionary.values()))\n",
        "\n",
        "def find_matching_n_grams(corpus_a, corpus_b, n, k=25, rounding=4):\n",
        "    a_n_grams = get_n_gram_frequency(n, corpus_a, rounding=rounding)\n",
        "    b_n_grams = get_n_gram_frequency(n, corpus_b, rounding=rounding)\n",
        "\n",
        "    common_a_n_grams = sorted(to_tuple(a_n_grams), \n",
        "                              key=itemgetter(1),\n",
        "                              reverse=True)[:k]\n",
        "\n",
        "    common_b_n_grams = sorted(to_tuple(b_n_grams), \n",
        "                              key=itemgetter(1),\n",
        "                              reverse=True)[:k]\n",
        "\n",
        "    common_a_strings = set(map(itemgetter(0), common_a_n_grams))\n",
        "    common_b_strings = set(map(itemgetter(0), common_b_n_grams))\n",
        "\n",
        "    common_n_grams = set.intersection(common_a_strings, common_b_strings)\n",
        "    common_a_not_b = common_a_strings.difference(common_b_strings)\n",
        "    common_b_not_a = common_b_strings.difference(common_a_strings)\n",
        "\n",
        "    def common_n_gram_counts(n_gram):\n",
        "        a_count = a_n_grams.get(n_gram, 0)\n",
        "        b_count = b_n_grams.get(n_gram, 0)\n",
        "        \n",
        "        if b_count != 0:\n",
        "            ratio = (len(corpus_b) * a_count) / (len(corpus_a) * b_count)\n",
        "            ratio = round(ratio, rounding)\n",
        "        else:\n",
        "            ratio = None\n",
        "        return (n_gram, a_count, b_count, ratio)\n",
        "\n",
        "    common_n_grams = list(map(common_n_gram_counts, common_n_grams))\n",
        "    common_a_not_b = list(map(common_n_gram_counts, common_a_not_b))\n",
        "    common_b_not_a = list(map(common_n_gram_counts, common_b_not_a))\n",
        "\n",
        "    return common_n_grams, common_a_not_b, common_b_not_a"
      ]
    },
    {
      "cell_type": "code",
      "execution_count": 36,
      "metadata": {
        "id": "4YBbeMrZ-f-j",
        "outputId": "71949a2d-a602-4c3d-c383-a2dc17700f1c",
        "colab": {
          "base_uri": "https://localhost:8080/",
          "height": 484
        }
      },
      "outputs": [
        {
          "output_type": "stream",
          "name": "stdout",
          "text": [
            "Common 1-grams between patronising and non-patronising datasets\n",
            "[('would', 90, 728, 1.1797), ('work', 98, 690, 1.3554), ('make', 105, 836, 1.1986), ('homeless', 177, 858, 1.9686), ('women', 146, 1572, 0.8863), ('say', 244, 2540, 0.9167), ('refugees', 95, 871, 1.0408), ('the', 244, 2850, 0.817), ('many', 92, 697, 1.2596), ('poor', 234, 956, 2.3358), ('families', 212, 1129, 1.7919), ('i', 222, 1251, 1.6934), ('children', 199, 840, 2.2607), ('disable', 104, 1034, 0.9598), ('vulnerable', 97, 1107, 0.8362), ('need', 275, 1419, 1.8494), ('people', 260, 1604, 1.5468)]\n",
            "Common 1-grams in the patronising dataset but not in the non-patronising dataset.\n",
            "[('help', 192, 551, 3.3253), ('life', 99, 253, 3.7341), ('come', 90, 546, 1.573), ('n', 89, 635, 1.3375), ('we', 93, 447, 1.9854), ('live', 161, 594, 2.5865), ('give', 135, 433, 2.9752), ('get', 88, 490, 1.7138)]\n",
            "Common 1-grams in the non-patronising dataset but not in the patronising dataset.\n",
            "[('country', 86, 665, 1.2341), ('it', 88, 676, 1.2423), ('government', 79, 773, 0.9753), ('immigrants', 44, 1252, 0.3354), ('new', 62, 746, 0.7931), ('year', 58, 689, 0.8033), ('one', 79, 874, 0.8626), ('also', 80, 905, 0.8436)]\n",
            "Common 2-grams between patronising and non-patronising datasets\n",
            "[('sri lanka', 8, 100, 0.7634), ('people need', 28, 85, 3.1435), ('year old', 11, 121, 0.8675), ('homeless people', 26, 110, 2.2556), ('men women', 12, 90, 1.2724), ('i think', 19, 81, 2.2384), ('he say', 17, 135, 1.2017), ('u s', 8, 145, 0.5265), ('ca n', 16, 71, 2.1505), ('disable people', 11, 104, 1.0093), ('women children', 11, 74, 1.4185), ('poor families', 150, 771, 1.8566)]\n",
            "Common 2-grams in the patronising dataset but not in the non-patronising dataset.\n",
            "[('give hope', 8, 1, 76.3424), ('vulnerable people', 11, 47, 2.2334), ('health care', 9, 35, 2.4539), ('come poor', 12, 39, 2.9362), ('children poor', 21, 63, 3.1809), ('help need', 21, 29, 6.9103), ('hope hopeless', 10, 0, None), ('help people', 10, 18, 5.3016), ('i n', 12, 59, 1.9409), ('hundreds thousands', 10, 28, 3.4081), ('need say', 8, 20, 3.8171), ('let us', 11, 7, 14.9958), ('we need', 11, 33, 3.1809)]\n",
            "Common 2-grams in the non-patronising dataset but not in the patronising dataset.\n",
            "[('migrant workers', 3, 69, 0.4149), ('donald trump', 5, 93, 0.5131), ('last year', 8, 122, 0.6258), ('hong kong', 6, 97, 0.5903), ('united states', 7, 154, 0.4338), ('new york', 5, 100, 0.4771), ('per cent', 6, 160, 0.3579), ('illegal immigrants', 3, 304, 0.0942), ('refugee camp', 7, 93, 0.7183), ('anti immigrant', 0, 80, 0.0), ('000 people', 4, 68, 0.5613), ('asylum seekers', 5, 69, 0.6915), ('new zealand', 2, 72, 0.2651)]\n",
            "Common 3-grams between patronising and non-patronising datasets\n",
            "[('students poor families', 3, 32, 0.8946), ('come poor families', 11, 38, 2.7624), ('many poor families', 4, 29, 1.3162), ('help poor families', 5, 21, 2.2721), ('poor families live', 3, 12, 2.3857), ('children poor families', 21, 62, 3.2322)]\n",
            "Common 3-grams in the patronising dataset but not in the non-patronising dataset.\n",
            "[('children come poor', 3, 5, 5.7257), ('think poor families', 3, 2, 14.3142), ('food poor families', 3, 0, None), ('put food table', 3, 0, None), ('i ca n', 3, 4, 7.1571), ('united states illegally', 3, 3, 9.5428), ('live poverty line', 3, 1, 28.6284), ('help people need', 4, 6, 6.3619), ('states illegally children', 3, 1, 28.6284), ('bring smile face', 3, 0, None), ('poor families get', 3, 5, 5.7257), ('bring united states', 4, 6, 6.3619), ('kid poor families', 3, 2, 14.3142), ('hundreds thousands refugees', 3, 6, 4.7714), ('poor families pay', 3, 2, 14.3142), ('give hope hopeless', 5, 0, None), ('say i think', 3, 4, 7.1571), ('urban poor families', 3, 11, 2.6026), ('say we need', 3, 0, None)]\n",
            "Common 3-grams in the non-patronising dataset but not in the patronising dataset.\n",
            "[('high commissioner refugees', 2, 14, 1.3633), ('million people need', 0, 15, 0.0), ('muslim majority countries', 0, 13, 0.0), ('dar es salaam', 1, 16, 0.5964), ('belong poor families', 2, 15, 1.2724), ('h email friend', 1, 17, 0.5613), ('day disable list', 0, 15, 0.0), ('million poor families', 0, 13, 0.0), ('need humanitarian assistance', 0, 19, 0.0), ('papua new guinea', 0, 12, 0.0), ('president barack obama', 1, 16, 0.5964), ('more gt gt', 0, 15, 0.0), ('us president donald', 0, 19, 0.0), ('president donald trump', 2, 53, 0.3601), ('refugees asylum seekers', 2, 13, 1.4681), ('un refugee agency', 2, 29, 0.6581), ('world war ii', 0, 17, 0.0), ('work poor families', 0, 15, 0.0), ('chancellor angela merkel', 0, 13, 0.0)]\n",
            "Common 4-grams between patronising and non-patronising datasets\n",
            "[('deferred action childhood arrivals', 2, 6, 3.1809), ('un high commissioner refugees', 2, 8, 2.3857)]\n",
            "Common 4-grams in the patronising dataset but not in the non-patronising dataset.\n",
            "[('i think poor families', 2, 0, None), ('kiss feet muslim orthodox', 2, 0, None), ('immigrants bring united states', 2, 3, 6.3619), ('children come poor families', 3, 5, 5.7257), ('wash kiss feet muslim', 2, 0, None), ('zimbabweans nothing much cheer', 2, 0, None), ('st joseph golden age', 2, 0, None), ('bring united states illegally', 3, 1, 28.6284), ('orthodox hindu catholic refugees', 2, 0, None), ('action childhood arrivals daca', 2, 2, 9.5428), ('poor families rural areas', 2, 5, 3.8171), ('hopeless zimbabweans nothing much', 2, 0, None), ('muslim orthodox hindu catholic', 2, 0, None), ('childhood arrivals daca program', 2, 0, None), ('help poor families pay', 2, 2, 9.5428), ('force live refugee camp', 2, 0, None), ('education children poor families', 2, 1, 19.0856), ('jobless hopeless zimbabweans nothing', 2, 0, None), ('joseph golden age home', 2, 0, None), ('for jobless hopeless zimbabweans', 2, 0, None), ('dreamers bring united states', 2, 0, None), ('feet muslim orthodox hindu', 2, 0, None), ('united states illegally children', 3, 1, 28.6284)]\n",
            "Common 4-grams in the non-patronising dataset but not in the patronising dataset.\n",
            "[('by continue use site', 0, 6, 0.0), ('continue use site consent', 0, 6, 0.0), ('people need humanitarian assistance', 0, 9, 0.0), ('immigrant alternative germany afd', 0, 6, 0.0), ('united nations refugee agency', 1, 6, 1.5905), ('hong kong free press', 0, 6, 0.0), ('u n refugee agency', 0, 6, 0.0), ('donald trump executive order', 0, 8, 0.0), ('un refugee agency unhcr', 1, 7, 1.3633), ('h what hong kong', 0, 6, 0.0), ('use site consent use', 0, 6, 0.0), ('10 day disable list', 0, 7, 0.0), ('since world war ii', 0, 6, 0.0), ('million people need humanitarian', 0, 8, 0.0), ('anti immigrant alternative germany', 0, 6, 0.0), ('us president donald trump', 0, 19, 0.0), ('german chancellor angela merkel', 0, 7, 0.0), ('seven muslim majority countries', 0, 9, 0.0), ('president donald trump executive', 0, 7, 0.0), ('what hong kong free', 0, 6, 0.0), ('site consent use cookies', 0, 6, 0.0), ('high commissioner refugees unhcr', 0, 6, 0.0), ('the un refugee agency', 0, 10, 0.0)]\n"
          ]
        },
        {
          "output_type": "execute_result",
          "data": {
            "application/vnd.google.colaboratory.intrinsic+json": {
              "type": "string"
            },
            "text/plain": [
              "'\\nwith open(\"results/n_gram_analysis\", \"w\") as f:\\n    json.dump(n_gram_analysis, f, indent=4)\\n'"
            ]
          },
          "metadata": {},
          "execution_count": 36
        }
      ],
      "source": [
        "n_gram_analysis = dict()\n",
        "\n",
        "for n in range(1, 5):\n",
        "    common_n_grams, common_a_not_b, \\\n",
        "    common_b_not_a = find_matching_n_grams(patr_corpus, unpatr_corpus, n)\n",
        "\n",
        "    print(f\"Common {n}-grams between patronising and non-patronising datasets\")\n",
        "    print(common_n_grams)\n",
        "\n",
        "    print(f\"Common {n}-grams in the patronising dataset but not in the non-patronising dataset.\")\n",
        "    print(common_a_not_b)\n",
        "\n",
        "    print(f\"Common {n}-grams in the non-patronising dataset but not in the patronising dataset.\")\n",
        "    print(common_b_not_a)\n",
        "    "
      ]
    },
    {
      "cell_type": "markdown",
      "source": [
        "## Pre-processing"
      ],
      "metadata": {
        "id": "ciUViBXq_Ma-"
      }
    },
    {
      "cell_type": "markdown",
      "metadata": {
        "id": "uNMAMo48uv-5"
      },
      "source": [
        "### Convert CSVs to Data Frames"
      ]
    },
    {
      "cell_type": "code",
      "execution_count": null,
      "metadata": {
        "id": "roQDngVicMAl"
      },
      "outputs": [],
      "source": [
        "train_import = pd.read_csv('train_semeval_parids-labels.csv')\n",
        "test_import = pd.read_csv('dev_semeval_parids-labels.csv')"
      ]
    },
    {
      "cell_type": "code",
      "execution_count": null,
      "metadata": {
        "id": "-gvAaCJjCu1S"
      },
      "outputs": [],
      "source": [
        "train_import.par_id = train_import.par_id.astype(str)\n",
        "test_import.par_id = test_import.par_id.astype(str)"
      ]
    },
    {
      "cell_type": "code",
      "execution_count": null,
      "metadata": {
        "id": "IkYsxgeKclx2"
      },
      "outputs": [],
      "source": [
        "rows = [] # will contain par_id, label and text\n",
        "for idx in range(len(train_import)):\n",
        "  parid = train_import.par_id[idx]\n",
        "  #print(parid)\n",
        "  # select row from original dataset to retrieve `text` and binary label\n",
        "  text = dpm.train_task1_df.loc[dpm.train_task1_df.par_id == parid].text.values[0]\n",
        "  label = dpm.train_task1_df.loc[dpm.train_task1_df.par_id == parid].label.values[0]\n",
        "  keyword = dpm.train_task1_df.loc[dpm.train_task1_df.par_id == parid].keyword.values[0]\n",
        "  country = dpm.train_task1_df.loc[dpm.train_task1_df.par_id == parid].country.values[0]\n",
        "  intensity = dpm.train_task1_df.loc[dpm.train_task1_df.par_id == parid].orig_label.values[0]\n",
        "  length = len(dpm.train_task1_df.loc[dpm.train_task1_df.par_id == parid].text.values[0])\n",
        "  rows.append({\n",
        "      'par_id':parid,\n",
        "      'text':text,\n",
        "      'label':label,\n",
        "      'keyword':keyword,\n",
        "      'country':country,\n",
        "      'intensity':intensity,\n",
        "      'length':length\n",
        "  })\n",
        "train_df = pd.DataFrame(rows)"
      ]
    },
    {
      "cell_type": "code",
      "execution_count": null,
      "metadata": {
        "id": "9hc81lCPC0i7"
      },
      "outputs": [],
      "source": [
        "rows = [] # will contain par_id, label and text\n",
        "for idx in range(len(test_import)):  \n",
        "  parid = test_import.par_id[idx]\n",
        "  #print(parid)\n",
        "  # select row from original dataset\n",
        "  text = dpm.train_task1_df.loc[dpm.train_task1_df.par_id == parid].text.values[0]\n",
        "  label = dpm.train_task1_df.loc[dpm.train_task1_df.par_id == parid].label.values[0]\n",
        "  keyword = dpm.train_task1_df.loc[dpm.train_task1_df.par_id == parid].keyword.values[0]\n",
        "  country = dpm.train_task1_df.loc[dpm.train_task1_df.par_id == parid].country.values[0]\n",
        "  intensity = dpm.train_task1_df.loc[dpm.train_task1_df.par_id == parid].orig_label.values[0]\n",
        "  length = len(dpm.train_task1_df.loc[dpm.train_task1_df.par_id == parid].text.values[0])\n",
        "  rows.append({\n",
        "      'par_id':parid,\n",
        "      'text':text,\n",
        "      'label':label,\n",
        "      'keyword':keyword,\n",
        "      'country':country,\n",
        "      'intensity':intensity,\n",
        "      'length':length\n",
        "  })\n",
        "  test_df = pd.DataFrame(rows)"
      ]
    },
    {
      "cell_type": "markdown",
      "metadata": {
        "id": "JTL-8BcouvHi"
      },
      "source": [
        "### Shuffle Datasets"
      ]
    },
    {
      "cell_type": "code",
      "source": [
        "hyperparameter_tuning = False"
      ],
      "metadata": {
        "id": "pvTqjAfKYsWg"
      },
      "execution_count": null,
      "outputs": []
    },
    {
      "cell_type": "code",
      "execution_count": null,
      "metadata": {
        "id": "T5aDrxnK47n2"
      },
      "outputs": [],
      "source": [
        "train_df = shuffle(train_df)\n",
        "\n",
        "if hyperparameter_tuning:\n",
        "    train_df, val_df = train_test_split(train_df, train_size=0.8)\n",
        "\n",
        "test_df = shuffle(test_df)"
      ]
    },
    {
      "cell_type": "markdown",
      "metadata": {
        "id": "8_A9nN46vVnb"
      },
      "source": [
        "## Implementations"
      ]
    },
    {
      "cell_type": "markdown",
      "metadata": {
        "id": "clSyDTq41nbD"
      },
      "source": [
        "### Main Function\n",
        "Enter iteration number to pre-process data corresponding to the implementation iteration."
      ]
    },
    {
      "cell_type": "code",
      "execution_count": null,
      "metadata": {
        "id": "bHQNcXNUwCQA"
      },
      "outputs": [],
      "source": [
        "def main_implement(implementation_number, train):\n",
        "    if implementation_number == 1:\n",
        "        train = downsample_unpat(train)\n",
        "    elif implementation_number == 2:\n",
        "        train = upsample_pat(train, 3)\n",
        "    elif implementation_number == 3:\n",
        "        train = downsample_unpat(train)\n",
        "        train = upsample_pat(train, 1)\n",
        "    elif implementation_number == 4:\n",
        "        train = downsample_unpat(train)\n",
        "        train = lemmatise_df(train)\n",
        "    elif implementation_number == 5:\n",
        "        train = add_backtranslations(train)\n",
        "        train = downsample_unpat(train)\n",
        "    train.length = train.text.str.split().map(get_list_length)\n",
        "    return train"
      ]
    },
    {
      "cell_type": "code",
      "execution_count": null,
      "metadata": {
        "id": "u4GkRtyTE5Sq"
      },
      "outputs": [],
      "source": [
        "def get_list_length(x):\n",
        "  if type(x) == list:\n",
        "    return len(x)\n",
        "  elif x is not None:\n",
        "    return 1\n",
        "  else:\n",
        "    return None"
      ]
    },
    {
      "cell_type": "code",
      "execution_count": null,
      "metadata": {
        "id": "fGS2OpFwvUNU"
      },
      "outputs": [],
      "source": [
        "def get_label_ratio(dataset):\n",
        "    return len(dataset[dataset.label == 0])/len(dataset[dataset.label == 1])"
      ]
    },
    {
      "cell_type": "markdown",
      "metadata": {
        "id": "QuXzdxQdvbGW"
      },
      "source": [
        "### Implementation 1\n",
        "Downsample unpatronising data (as in competition's roberta base) (ratio from 9:1 to 3:1)."
      ]
    },
    {
      "cell_type": "code",
      "execution_count": null,
      "metadata": {
        "id": "bxxYlfioHBdp"
      },
      "outputs": [],
      "source": [
        "def downsample_unpat(train):\n",
        "    pat_train = train[train.label == 1]\n",
        "    npos = len(pat_train)\n",
        "\n",
        "    train = pd.concat([pat_train, train[train.label == 0][:npos*3]])\n",
        "    return train"
      ]
    },
    {
      "cell_type": "markdown",
      "metadata": {
        "id": "0aZXFKfKylBj"
      },
      "source": [
        "### Implementation 2\n",
        "Upsample patronising data."
      ]
    },
    {
      "cell_type": "code",
      "execution_count": null,
      "metadata": {
        "id": "ypnQZgAkyJSz"
      },
      "outputs": [],
      "source": [
        "def upsample_pat(train, scale):\n",
        "    ratio = int(get_label_ratio(train)/scale)\n",
        "\n",
        "    pat_train = train[train.label == 1]\n",
        "    unpat_train = train[train.label == 0]\n",
        "\n",
        "    pat_train = pd.concat([pat_train]*ratio)\n",
        "    train = pd.concat([pat_train, unpat_train])\n",
        "    \n",
        "    return train"
      ]
    },
    {
      "cell_type": "code",
      "execution_count": null,
      "metadata": {
        "id": "xN3crFMPLYU6"
      },
      "outputs": [],
      "source": [
        "def df_to_dict_of_lists(df):\n",
        "    texts = df['text'].values.tolist()\n",
        "    labels = df['label'].values.tolist()\n",
        "    parids = df['par_id'].values.tolist()\n",
        "    keywords = df['keyword'].values.tolist()\n",
        "    countries = df['country'].values.tolist()\n",
        "    intensities = df['intensity'].values.tolist()\n",
        "    lengths = df['length'].values.tolist()\n",
        "    \n",
        "    return {\n",
        "        'texts': texts,\n",
        "        'labels': labels,\n",
        "        'parids': parids,\n",
        "        'keywords': keywords,\n",
        "        'countries': countries,\n",
        "        'intensities': intensities,\n",
        "        'lengths': lengths\n",
        "    }"
      ]
    },
    {
      "cell_type": "markdown",
      "source": [
        "### Implementation 3"
      ],
      "metadata": {
        "id": "1XXxkW3Y4TCh"
      }
    },
    {
      "cell_type": "markdown",
      "source": [
        "We simply try down-sampling, then up-sampling to give a 1:1 ratio."
      ],
      "metadata": {
        "id": "Md2wNnxq4Yg1"
      }
    },
    {
      "cell_type": "markdown",
      "metadata": {
        "id": "7XZxdZsRZF8X"
      },
      "source": [
        "### Implementation 4\n",
        "Lemmatise words in text using verb PoS tagging."
      ]
    },
    {
      "cell_type": "code",
      "execution_count": null,
      "metadata": {
        "id": "vwSsf79Ek7Pt"
      },
      "outputs": [],
      "source": [
        "lemmatizer = WordNetLemmatizer()\n",
        "\n",
        "def remove_punctuation(token):\n",
        "    return not any(map(lambda s: s in string.punctuation, token))\n",
        "\n",
        "def lemmatise(word):\n",
        "    return lemmatizer.lemmatize(word, pos=\"v\")\n",
        "\n",
        "def lemmatise_sentence(sentence):\n",
        "  tokens = wordpunct_tokenize(sentence)\n",
        "  tokens = list(map(lemmatise, tokens))\n",
        "  # tokens = list(filter(remove_punctuation, tokens))\n",
        "\n",
        "  return \" \".join(tokens)\n",
        "\n",
        "def lemmatise_df(df):\n",
        "  df.text = df.text.map(lemmatise_sentence)\n",
        "  \n",
        "  return df"
      ]
    },
    {
      "cell_type": "markdown",
      "metadata": {
        "id": "pSvmASpcpc5J"
      },
      "source": [
        "### Implementation 5\n",
        "Generate new examples using back-translation (of French and Spanish)\n",
        "\n"
      ]
    },
    {
      "cell_type": "code",
      "execution_count": null,
      "metadata": {
        "colab": {
          "base_uri": "https://localhost:8080/"
        },
        "id": "9PFXT7rBqzHY",
        "outputId": "2ff85c54-c2d6-4ac2-a27d-7bdef6ba4023"
      },
      "outputs": [
        {
          "output_type": "stream",
          "name": "stdout",
          "text": [
            "Fetching https://raw.githubusercontent.com/Loumstar/Improving-RoBERTa/master/data/dontpatronizeme_french_backtranslation.csv\n"
          ]
        }
      ],
      "source": [
        "module_url = f\"https://raw.githubusercontent.com/Loumstar/Improving-RoBERTa/master/data/dontpatronizeme_french_backtranslation.csv\" \n",
        "module_name = module_url.split('/')[-1]\n",
        "\n",
        "print(f'Fetching {module_url}')\n",
        "with request.urlopen(module_url) as f, open(module_name,'w') as outf:\n",
        "  b = f.read()\n",
        "  outf.write(b.decode('latin-1'))"
      ]
    },
    {
      "cell_type": "code",
      "execution_count": null,
      "metadata": {
        "colab": {
          "base_uri": "https://localhost:8080/"
        },
        "id": "SeugFi36Y48R",
        "outputId": "0ab75aa7-9ad8-485b-b0b1-9652c7ea6dee"
      },
      "outputs": [
        {
          "output_type": "stream",
          "name": "stdout",
          "text": [
            "Fetching https://raw.githubusercontent.com/Loumstar/Improving-RoBERTa/master/data/dontpatronizeme_spanish_backtranslation.csv\n"
          ]
        }
      ],
      "source": [
        "module_url = f\"https://raw.githubusercontent.com/Loumstar/Improving-RoBERTa/master/data/dontpatronizeme_spanish_backtranslation.csv\" \n",
        "module_name = module_url.split('/')[-1]\n",
        "\n",
        "print(f'Fetching {module_url}')\n",
        "with request.urlopen(module_url) as f, open(module_name,'w') as outf:\n",
        "  b = f.read()\n",
        "  outf.write(b.decode('latin-1'))"
      ]
    },
    {
      "cell_type": "code",
      "execution_count": null,
      "metadata": {
        "id": "OqI821zTtLQl"
      },
      "outputs": [],
      "source": [
        "backtranslated_cols = [\"par_id\", \"art_id\", \"category\", \"country\", \"text\", \"score\"]\n",
        "\n",
        "french_import = pd.read_csv('dontpatronizeme_french_backtranslation.csv', names=backtranslated_cols)\n",
        "spanish_import = pd.read_csv('dontpatronizeme_spanish_backtranslation.csv', names=backtranslated_cols)"
      ]
    },
    {
      "cell_type": "code",
      "execution_count": null,
      "metadata": {
        "id": "LJk7f-IItjb7"
      },
      "outputs": [],
      "source": [
        "# Copy the training dataset and swap out the text \n",
        "# for the back-translated version.\n",
        "french_df = train_df.copy()\n",
        "french_df.text = french_import.text\n",
        "\n",
        "spanish_df = train_df.copy()\n",
        "spanish_df.text = spanish_import.text\n",
        "\n",
        "def add_backtranslations(df):\n",
        "  df = df.append(french_df, ignore_index=True, \n",
        "                 verify_integrity=True)\n",
        "  \n",
        "  df = df.append(spanish_df, ignore_index=True, \n",
        "                 verify_integrity=True)\n",
        "  \n",
        "  df.length = df.text.str.split().map(get_list_length)\n",
        "  df.dropna(inplace=True)\n",
        "  \n",
        "  return df"
      ]
    },
    {
      "cell_type": "markdown",
      "metadata": {
        "id": "cnNmRnPxBUl1"
      },
      "source": [
        "### Choose Implementation"
      ]
    },
    {
      "cell_type": "code",
      "execution_count": null,
      "metadata": {
        "id": "fYK_2Qy2BXqc"
      },
      "outputs": [],
      "source": [
        "train_df = main_implement(4, train_df)\n",
        "train_df = shuffle(train_df)"
      ]
    },
    {
      "cell_type": "code",
      "execution_count": null,
      "metadata": {
        "colab": {
          "base_uri": "https://localhost:8080/"
        },
        "id": "qVsAwo7rSHKJ",
        "outputId": "fe6ed6fc-9ee2-45a2-c49c-eae490512070"
      },
      "outputs": [
        {
          "output_type": "stream",
          "name": "stdout",
          "text": [
            "3.1826196473551636\n"
          ]
        }
      ],
      "source": [
        "print(get_label_ratio(train_df))"
      ]
    },
    {
      "cell_type": "code",
      "execution_count": null,
      "metadata": {
        "colab": {
          "base_uri": "https://localhost:8080/",
          "height": 423
        },
        "id": "-Z90mgCzEWxO",
        "outputId": "2d05c8f4-59bc-475e-ad76-30dab71da722"
      },
      "outputs": [
        {
          "output_type": "execute_result",
          "data": {
            "text/html": [
              "\n",
              "  <div id=\"df-1120dc94-14ed-45c1-8b9b-418b0625113a\">\n",
              "    <div class=\"colab-df-container\">\n",
              "      <div>\n",
              "<style scoped>\n",
              "    .dataframe tbody tr th:only-of-type {\n",
              "        vertical-align: middle;\n",
              "    }\n",
              "\n",
              "    .dataframe tbody tr th {\n",
              "        vertical-align: top;\n",
              "    }\n",
              "\n",
              "    .dataframe thead th {\n",
              "        text-align: right;\n",
              "    }\n",
              "</style>\n",
              "<table border=\"1\" class=\"dataframe\">\n",
              "  <thead>\n",
              "    <tr style=\"text-align: right;\">\n",
              "      <th></th>\n",
              "      <th>par_id</th>\n",
              "      <th>text</th>\n",
              "      <th>label</th>\n",
              "      <th>keyword</th>\n",
              "      <th>country</th>\n",
              "      <th>intensity</th>\n",
              "      <th>length</th>\n",
              "    </tr>\n",
              "  </thead>\n",
              "  <tbody>\n",
              "    <tr>\n",
              "      <th>324</th>\n",
              "      <td>7104</td>\n",
              "      <td>When you see others in need , support them .</td>\n",
              "      <td>1</td>\n",
              "      <td>in-need</td>\n",
              "      <td>nz</td>\n",
              "      <td>4</td>\n",
              "      <td>10</td>\n",
              "    </tr>\n",
              "    <tr>\n",
              "      <th>2280</th>\n",
              "      <td>1671</td>\n",
              "      <td>Numerous participants at the gathering took ph...</td>\n",
              "      <td>0</td>\n",
              "      <td>women</td>\n",
              "      <td>sg</td>\n",
              "      <td>0</td>\n",
              "      <td>40</td>\n",
              "    </tr>\n",
              "    <tr>\n",
              "      <th>1192</th>\n",
              "      <td>442</td>\n",
              "      <td>A federal judge on Friday urged the U.S. gover...</td>\n",
              "      <td>0</td>\n",
              "      <td>migrant</td>\n",
              "      <td>ke</td>\n",
              "      <td>0</td>\n",
              "      <td>31</td>\n",
              "    </tr>\n",
              "    <tr>\n",
              "      <th>6579</th>\n",
              "      <td>6409</td>\n",
              "      <td>\"In an internal memo , 21st Century Fox Chairm...</td>\n",
              "      <td>0</td>\n",
              "      <td>migrant</td>\n",
              "      <td>sg</td>\n",
              "      <td>0</td>\n",
              "      <td>46</td>\n",
              "    </tr>\n",
              "    <tr>\n",
              "      <th>643</th>\n",
              "      <td>6833</td>\n",
              "      <td>\"Most are from desperately poor Horn of Africa...</td>\n",
              "      <td>1</td>\n",
              "      <td>migrant</td>\n",
              "      <td>au</td>\n",
              "      <td>4</td>\n",
              "      <td>512</td>\n",
              "    </tr>\n",
              "    <tr>\n",
              "      <th>...</th>\n",
              "      <td>...</td>\n",
              "      <td>...</td>\n",
              "      <td>...</td>\n",
              "      <td>...</td>\n",
              "      <td>...</td>\n",
              "      <td>...</td>\n",
              "      <td>...</td>\n",
              "    </tr>\n",
              "    <tr>\n",
              "      <th>7873</th>\n",
              "      <td>7831</td>\n",
              "      <td>\"The \"\" Stations of the Cross \"\" caravans have...</td>\n",
              "      <td>0</td>\n",
              "      <td>migrant</td>\n",
              "      <td>nz</td>\n",
              "      <td>0</td>\n",
              "      <td>61</td>\n",
              "    </tr>\n",
              "    <tr>\n",
              "      <th>5841</th>\n",
              "      <td>5572</td>\n",
              "      <td>This is happening in a country that houses mor...</td>\n",
              "      <td>0</td>\n",
              "      <td>homeless</td>\n",
              "      <td>pk</td>\n",
              "      <td>0</td>\n",
              "      <td>75</td>\n",
              "    </tr>\n",
              "    <tr>\n",
              "      <th>408</th>\n",
              "      <td>7770</td>\n",
              "      <td>BEIRUT , Lebanon - Film star and UN special en...</td>\n",
              "      <td>1</td>\n",
              "      <td>refugee</td>\n",
              "      <td>ph</td>\n",
              "      <td>2</td>\n",
              "      <td>40</td>\n",
              "    </tr>\n",
              "    <tr>\n",
              "      <th>5680</th>\n",
              "      <td>5388</td>\n",
              "      <td>It is unclear whether the truck smuggled the i...</td>\n",
              "      <td>0</td>\n",
              "      <td>immigrant</td>\n",
              "      <td>au</td>\n",
              "      <td>1</td>\n",
              "      <td>70</td>\n",
              "    </tr>\n",
              "    <tr>\n",
              "      <th>5417</th>\n",
              "      <td>5097</td>\n",
              "      <td>Despite the agreement , there is still no soli...</td>\n",
              "      <td>0</td>\n",
              "      <td>immigrant</td>\n",
              "      <td>za</td>\n",
              "      <td>0</td>\n",
              "      <td>43</td>\n",
              "    </tr>\n",
              "  </tbody>\n",
              "</table>\n",
              "<p>9963 rows × 7 columns</p>\n",
              "</div>\n",
              "      <button class=\"colab-df-convert\" onclick=\"convertToInteractive('df-1120dc94-14ed-45c1-8b9b-418b0625113a')\"\n",
              "              title=\"Convert this dataframe to an interactive table.\"\n",
              "              style=\"display:none;\">\n",
              "        \n",
              "  <svg xmlns=\"http://www.w3.org/2000/svg\" height=\"24px\"viewBox=\"0 0 24 24\"\n",
              "       width=\"24px\">\n",
              "    <path d=\"M0 0h24v24H0V0z\" fill=\"none\"/>\n",
              "    <path d=\"M18.56 5.44l.94 2.06.94-2.06 2.06-.94-2.06-.94-.94-2.06-.94 2.06-2.06.94zm-11 1L8.5 8.5l.94-2.06 2.06-.94-2.06-.94L8.5 2.5l-.94 2.06-2.06.94zm10 10l.94 2.06.94-2.06 2.06-.94-2.06-.94-.94-2.06-.94 2.06-2.06.94z\"/><path d=\"M17.41 7.96l-1.37-1.37c-.4-.4-.92-.59-1.43-.59-.52 0-1.04.2-1.43.59L10.3 9.45l-7.72 7.72c-.78.78-.78 2.05 0 2.83L4 21.41c.39.39.9.59 1.41.59.51 0 1.02-.2 1.41-.59l7.78-7.78 2.81-2.81c.8-.78.8-2.07 0-2.86zM5.41 20L4 18.59l7.72-7.72 1.47 1.35L5.41 20z\"/>\n",
              "  </svg>\n",
              "      </button>\n",
              "      \n",
              "  <style>\n",
              "    .colab-df-container {\n",
              "      display:flex;\n",
              "      flex-wrap:wrap;\n",
              "      gap: 12px;\n",
              "    }\n",
              "\n",
              "    .colab-df-convert {\n",
              "      background-color: #E8F0FE;\n",
              "      border: none;\n",
              "      border-radius: 50%;\n",
              "      cursor: pointer;\n",
              "      display: none;\n",
              "      fill: #1967D2;\n",
              "      height: 32px;\n",
              "      padding: 0 0 0 0;\n",
              "      width: 32px;\n",
              "    }\n",
              "\n",
              "    .colab-df-convert:hover {\n",
              "      background-color: #E2EBFA;\n",
              "      box-shadow: 0px 1px 2px rgba(60, 64, 67, 0.3), 0px 1px 3px 1px rgba(60, 64, 67, 0.15);\n",
              "      fill: #174EA6;\n",
              "    }\n",
              "\n",
              "    [theme=dark] .colab-df-convert {\n",
              "      background-color: #3B4455;\n",
              "      fill: #D2E3FC;\n",
              "    }\n",
              "\n",
              "    [theme=dark] .colab-df-convert:hover {\n",
              "      background-color: #434B5C;\n",
              "      box-shadow: 0px 1px 3px 1px rgba(0, 0, 0, 0.15);\n",
              "      filter: drop-shadow(0px 1px 2px rgba(0, 0, 0, 0.3));\n",
              "      fill: #FFFFFF;\n",
              "    }\n",
              "  </style>\n",
              "\n",
              "      <script>\n",
              "        const buttonEl =\n",
              "          document.querySelector('#df-1120dc94-14ed-45c1-8b9b-418b0625113a button.colab-df-convert');\n",
              "        buttonEl.style.display =\n",
              "          google.colab.kernel.accessAllowed ? 'block' : 'none';\n",
              "\n",
              "        async function convertToInteractive(key) {\n",
              "          const element = document.querySelector('#df-1120dc94-14ed-45c1-8b9b-418b0625113a');\n",
              "          const dataTable =\n",
              "            await google.colab.kernel.invokeFunction('convertToInteractive',\n",
              "                                                     [key], {});\n",
              "          if (!dataTable) return;\n",
              "\n",
              "          const docLinkHtml = 'Like what you see? Visit the ' +\n",
              "            '<a target=\"_blank\" href=https://colab.research.google.com/notebooks/data_table.ipynb>data table notebook</a>'\n",
              "            + ' to learn more about interactive tables.';\n",
              "          element.innerHTML = '';\n",
              "          dataTable['output_type'] = 'display_data';\n",
              "          await google.colab.output.renderOutput(dataTable, element);\n",
              "          const docLink = document.createElement('div');\n",
              "          docLink.innerHTML = docLinkHtml;\n",
              "          element.appendChild(docLink);\n",
              "        }\n",
              "      </script>\n",
              "    </div>\n",
              "  </div>\n",
              "  "
            ],
            "text/plain": [
              "     par_id                                               text  label  \\\n",
              "324    7104       When you see others in need , support them .      1   \n",
              "2280   1671  Numerous participants at the gathering took ph...      0   \n",
              "1192    442  A federal judge on Friday urged the U.S. gover...      0   \n",
              "6579   6409  \"In an internal memo , 21st Century Fox Chairm...      0   \n",
              "643    6833  \"Most are from desperately poor Horn of Africa...      1   \n",
              "...     ...                                                ...    ...   \n",
              "7873   7831  \"The \"\" Stations of the Cross \"\" caravans have...      0   \n",
              "5841   5572  This is happening in a country that houses mor...      0   \n",
              "408    7770  BEIRUT , Lebanon - Film star and UN special en...      1   \n",
              "5680   5388  It is unclear whether the truck smuggled the i...      0   \n",
              "5417   5097  Despite the agreement , there is still no soli...      0   \n",
              "\n",
              "        keyword country intensity  length  \n",
              "324     in-need      nz         4      10  \n",
              "2280      women      sg         0      40  \n",
              "1192    migrant      ke         0      31  \n",
              "6579    migrant      sg         0      46  \n",
              "643     migrant      au         4     512  \n",
              "...         ...     ...       ...     ...  \n",
              "7873    migrant      nz         0      61  \n",
              "5841   homeless      pk         0      75  \n",
              "408     refugee      ph         2      40  \n",
              "5680  immigrant      au         1      70  \n",
              "5417  immigrant      za         0      43  \n",
              "\n",
              "[9963 rows x 7 columns]"
            ]
          },
          "metadata": {},
          "execution_count": 49
        }
      ],
      "source": [
        "train_df"
      ]
    },
    {
      "cell_type": "markdown",
      "metadata": {
        "id": "arGrcVHI-0cd"
      },
      "source": [
        "## More Data Formatting"
      ]
    },
    {
      "cell_type": "markdown",
      "metadata": {
        "id": "pL3uUoHQ-4UV"
      },
      "source": [
        "Convert data to class and create embeddings from tokeniser"
      ]
    },
    {
      "cell_type": "code",
      "execution_count": null,
      "metadata": {
        "id": "rV1muNSZNHd3"
      },
      "outputs": [],
      "source": [
        "class PatroDataset(torch.utils.data.Dataset):\n",
        "\n",
        "    def __init__(self, tokenizer, input_set, max_length=128):\n",
        "\n",
        "        self.tokenizer = tokenizer\n",
        "        self.texts = input_set['texts']\n",
        "        self.labels = input_set['labels']\n",
        "        self.parids = input_set['parids']\n",
        "        self.keywords = input_set['keywords']\n",
        "        self.countries = input_set['countries']\n",
        "        self.intensities = input_set['intensities']\n",
        "        self.lengths = input_set['lengths']\n",
        "\n",
        "        self.max_length = max_length\n",
        "\n",
        "    def collate_fn(self, batch):\n",
        "        texts, labels = [], []\n",
        "\n",
        "        for b in batch:\n",
        "            texts.append(b['text'])\n",
        "            labels.append(b['label'])\n",
        "\n",
        "        encodings = self.tokenizer(texts, return_tensors='pt', \n",
        "                                   padding=True, truncation=True, \n",
        "                                   max_length=self.max_length)\n",
        "        \n",
        "        encodings['label'] =  torch.tensor(labels)\n",
        "        \n",
        "        return encodings\n",
        "    \n",
        "    def __len__(self):\n",
        "        return len(self.texts)\n",
        "\n",
        "    def __getitem__(self, idx):\n",
        "       \n",
        "        return {\n",
        "            'text': self.texts[idx],\n",
        "            'label': self.labels[idx],\n",
        "            'parid': self.parids[idx],\n",
        "            'keyword': self.keywords[idx],\n",
        "            'countriy': self.countries[idx],\n",
        "            'intensity': self.intensities[idx],\n",
        "            'length': self.lengths[idx]\n",
        "        }"
      ]
    },
    {
      "cell_type": "code",
      "execution_count": null,
      "metadata": {
        "colab": {
          "base_uri": "https://localhost:8080/",
          "height": 144,
          "referenced_widgets": [
            "0084aeee96fc40159b42abc6c6a4c618",
            "37281da09c1e44839b19cbce96500609",
            "58d56b18141f4a7e84e8d6a58dab131d",
            "43488195b5bc44808da49b28e7c53f3e",
            "55f1f75e797b4b9d9a91829a3c344df0",
            "07ae701060cc41bc8a7b3f0011fd8899",
            "10e04921f1f041d8ab6de248877d28a4",
            "8325953d6d6d41bbbf374f6f1ea3d0ad",
            "12fc72d50a704371870e584777cf5b79",
            "18a582d6892441589ee0281efbb2599c",
            "1762d8d2b0b8465981946dc8981d39b0",
            "6d105a718317415d971abb973d23798b",
            "fd7be3b42a4e4b7588b5e8fecd69d3af",
            "4a777c15ca924a74a5e642f7c09b16d3",
            "a2c989b90ebb443db80de900f06ccaf4",
            "3fba8f32f34b4be58bed640f7a22d73b",
            "ac28505953234ceabac71a0b942ab5be",
            "848008ed21874018931edddea671ff04",
            "72fc1b2018b04b1dae7af43fbdedb221",
            "2987b84f881942ad8332632242381c16",
            "dea70b5a5c934c549f308f49bcf137d0",
            "3f1c7b98bdda48d8ae6c43504dc2eaab",
            "5de549ad670747adac04dd423b3c215d",
            "d8baa08fb53542af89bedfea4bf1332e",
            "a76fcd2b793243ef95b68a61ce6ac79b",
            "ec4464c99b3d46a08c31ac0f6e27eb96",
            "65b51a656a374081a64646b6fcb9110c",
            "07732580d4ba4af3974239fb4f9125d3",
            "0a086e08c4d94f37886b532210bf3942",
            "e33869920ddd4b2cb7ff8890d16dd374",
            "ae78aa2e24d847a5b0cf2c5f6f109e82",
            "af20a9531a3842b4bf64a8f534210c37",
            "2c2b29db8384487d87d7f9271c4b3f16",
            "fc153ab608bd4190932ecf479af00aae",
            "f07bd7a814a04dbcb42682f2ed74d46d",
            "6380c2651dcb4666afad2aa57932794d",
            "7ac368677c0e489880c17695511f8d54",
            "794d4385220f46b5994a66d0c793d140",
            "8ab81218a5444cbbb6a9bb8f4f2f2bec",
            "41bfb85dd972471788b1c3673ce08f1b",
            "52cdd03f020440639a1880efa8b784ef",
            "0128e7b3847a442a9b19f0df8aae309a",
            "9f36c260346245fa9676adb10a483820",
            "33342dcb3b444fcb9de62142355e883e"
          ]
        },
        "id": "eWYbesCMN7Mk",
        "outputId": "4e18334e-1cd2-4a80-a8a6-ed72dcfb589c"
      },
      "outputs": [
        {
          "output_type": "display_data",
          "data": {
            "application/vnd.jupyter.widget-view+json": {
              "model_id": "0084aeee96fc40159b42abc6c6a4c618",
              "version_minor": 0,
              "version_major": 2
            },
            "text/plain": [
              "Downloading:   0%|          | 0.00/878k [00:00<?, ?B/s]"
            ]
          },
          "metadata": {}
        },
        {
          "output_type": "display_data",
          "data": {
            "application/vnd.jupyter.widget-view+json": {
              "model_id": "6d105a718317415d971abb973d23798b",
              "version_minor": 0,
              "version_major": 2
            },
            "text/plain": [
              "Downloading:   0%|          | 0.00/446k [00:00<?, ?B/s]"
            ]
          },
          "metadata": {}
        },
        {
          "output_type": "display_data",
          "data": {
            "application/vnd.jupyter.widget-view+json": {
              "model_id": "5de549ad670747adac04dd423b3c215d",
              "version_minor": 0,
              "version_major": 2
            },
            "text/plain": [
              "Downloading:   0%|          | 0.00/52.0 [00:00<?, ?B/s]"
            ]
          },
          "metadata": {}
        },
        {
          "output_type": "display_data",
          "data": {
            "application/vnd.jupyter.widget-view+json": {
              "model_id": "fc153ab608bd4190932ecf479af00aae",
              "version_minor": 0,
              "version_major": 2
            },
            "text/plain": [
              "Downloading:   0%|          | 0.00/474 [00:00<?, ?B/s]"
            ]
          },
          "metadata": {}
        }
      ],
      "source": [
        "tokenizer = DebertaTokenizer.from_pretrained(\"microsoft/deberta-base\")"
      ]
    },
    {
      "cell_type": "code",
      "execution_count": null,
      "metadata": {
        "id": "uRynl_q2N9R5"
      },
      "outputs": [],
      "source": [
        "trainset = df_to_dict_of_lists(train_df)\n",
        "testset = df_to_dict_of_lists(test_df)\n",
        "\n",
        "test_dataset = PatroDataset(tokenizer, testset)\n",
        "\n",
        "if hyperparameter_tuning:\n",
        "    valset = df_to_dict_of_lists(val_df)\n",
        "    val_dataset = PatroDataset(tokenizer, valset)\n",
        "    val_loader = DataLoader(val_dataset)"
      ]
    },
    {
      "cell_type": "markdown",
      "metadata": {
        "id": "RHWXEdWnF9Ne"
      },
      "source": [
        "## Model"
      ]
    },
    {
      "cell_type": "markdown",
      "metadata": {
        "id": "ZXweseRdq6D_"
      },
      "source": [
        "### Hyperparameter Tuning Configuration (using WandB)"
      ]
    },
    {
      "cell_type": "code",
      "execution_count": null,
      "metadata": {
        "id": "N633yUziq84U"
      },
      "outputs": [],
      "source": [
        "if hyperparameter_tuning:\n",
        "    wandb.login()\n",
        "\n",
        "    config = {\n",
        "        \"name\": \"vanilla-sweep\",\n",
        "        \"method\": \"grid\",\n",
        "        \"metric\": {\n",
        "            \"name\": \"f1_score\",\n",
        "            \"goal\": \"maximize\"\n",
        "        },\n",
        "        \"parameters\": {\n",
        "            \"num_epochs\": {\n",
        "                \"values\":[3, 4, 5]\n",
        "            },\n",
        "            \"learning_rate\": {\n",
        "                \"values\":[1e-4, 1.5e-4, 2e-4]\n",
        "            },\n",
        "            \"max_length\": {\n",
        "                \"values\": [64, 128]\n",
        "            }\n",
        "        },\n",
        "        \"early_terminate\": {\"type\": \"hyperband\", \"min_iter\": 3},\n",
        "    }\n",
        "\n",
        "    sweep_id = wandb.sweep(config, project=\"DeBERTa Hyperparameter Tuning\")"
      ]
    },
    {
      "cell_type": "markdown",
      "metadata": {
        "id": "xJsaOyISAq5u"
      },
      "source": [
        "### DeBERTa Model & Trainer"
      ]
    },
    {
      "cell_type": "code",
      "execution_count": null,
      "metadata": {
        "colab": {
          "base_uri": "https://localhost:8080/"
        },
        "id": "UOawO4NpGCpE",
        "outputId": "448cdea8-b1e0-4464-de2e-2ac74137e554"
      },
      "outputs": [
        {
          "output_type": "stream",
          "name": "stderr",
          "text": [
            "loading configuration file https://huggingface.co/microsoft/deberta-base/resolve/main/config.json from cache at /root/.cache/huggingface/transformers/e313266bff73867debdfa78c78a9a4966d5e78281ac4ed7048c178b16a37eba7.fb501413b9cef9cef6babdc543bb4153cbec58d52bce077647efba3e3f14ccf3\n",
            "Model config DebertaConfig {\n",
            "  \"attention_probs_dropout_prob\": 0.1,\n",
            "  \"hidden_act\": \"gelu\",\n",
            "  \"hidden_dropout_prob\": 0.1,\n",
            "  \"hidden_size\": 768,\n",
            "  \"initializer_range\": 0.02,\n",
            "  \"intermediate_size\": 3072,\n",
            "  \"layer_norm_eps\": 1e-07,\n",
            "  \"max_position_embeddings\": 512,\n",
            "  \"max_relative_positions\": -1,\n",
            "  \"model_type\": \"deberta\",\n",
            "  \"num_attention_heads\": 12,\n",
            "  \"num_hidden_layers\": 12,\n",
            "  \"pad_token_id\": 0,\n",
            "  \"pooler_dropout\": 0,\n",
            "  \"pooler_hidden_act\": \"gelu\",\n",
            "  \"pooler_hidden_size\": 768,\n",
            "  \"pos_att_type\": [\n",
            "    \"c2p\",\n",
            "    \"p2c\"\n",
            "  ],\n",
            "  \"position_biased_input\": false,\n",
            "  \"relative_attention\": true,\n",
            "  \"transformers_version\": \"4.17.0\",\n",
            "  \"type_vocab_size\": 0,\n",
            "  \"vocab_size\": 50265\n",
            "}\n",
            "\n",
            "loading weights file https://huggingface.co/microsoft/deberta-base/resolve/main/pytorch_model.bin from cache at /root/.cache/huggingface/transformers/dde0725208c11536042f6f416c538792d44a2d57d1ae399bbd1bc5867e02c465.0a3ec262cb3d4f634c72ce55f2766bb88771e6499b2512830e2e63bf19dbf97a\n",
            "Some weights of the model checkpoint at microsoft/deberta-base were not used when initializing DebertaForSequenceClassification: ['lm_predictions.lm_head.bias', 'lm_predictions.lm_head.LayerNorm.weight', 'lm_predictions.lm_head.LayerNorm.bias', 'lm_predictions.lm_head.dense.bias', 'lm_predictions.lm_head.dense.weight']\n",
            "- This IS expected if you are initializing DebertaForSequenceClassification from the checkpoint of a model trained on another task or with another architecture (e.g. initializing a BertForSequenceClassification model from a BertForPreTraining model).\n",
            "- This IS NOT expected if you are initializing DebertaForSequenceClassification from the checkpoint of a model that you expect to be exactly identical (initializing a BertForSequenceClassification model from a BertForSequenceClassification model).\n",
            "Some weights of DebertaForSequenceClassification were not initialized from the model checkpoint at microsoft/deberta-base and are newly initialized: ['classifier.weight', 'classifier.bias', 'pooler.dense.bias', 'pooler.dense.weight']\n",
            "You should probably TRAIN this model on a down-stream task to be able to use it for predictions and inference.\n"
          ]
        },
        {
          "output_type": "stream",
          "name": "stdout",
          "text": [
            "Model size: 139193858\n"
          ]
        }
      ],
      "source": [
        "model = DebertaForSequenceClassification.from_pretrained(\"microsoft/deberta-base\")\n",
        "\n",
        "#180 M\n",
        "print(f\"Model size: {model.num_parameters()}\")"
      ]
    },
    {
      "cell_type": "code",
      "execution_count": null,
      "metadata": {
        "id": "m3a-PN-PLAO_"
      },
      "outputs": [],
      "source": [
        "class Trainer_patronise(Trainer):\n",
        "    def __init__(self, **kwargs):\n",
        "        super().__init__(**kwargs)\n",
        "        self.losses = []\n",
        "\n",
        "    def compute_loss(self, model, inputs):\n",
        "        labels = inputs.pop('label')\n",
        "\n",
        "        outputs = model(**inputs)\n",
        "        logits = outputs.get('logits')\n",
        "\n",
        "        loss_task = nn.CrossEntropyLoss()\n",
        "\n",
        "        loss = loss_task(logits, labels)\n",
        "        self.losses.append(loss.item())\n",
        "        \n",
        "        return loss"
      ]
    },
    {
      "cell_type": "markdown",
      "metadata": {
        "id": "YKYcQDrgXvgt"
      },
      "source": [
        "### Main Training Funtion (incl. Hyperparameter Search)"
      ]
    },
    {
      "cell_type": "code",
      "execution_count": null,
      "metadata": {
        "id": "WuJkwU8WLEgl"
      },
      "outputs": [],
      "source": [
        "def main_patronise():\n",
        "    if hyperparameter_tuning:\n",
        "        wandb.init()\n",
        "        learning_rate = wandb.config.learning_rate\n",
        "        max_length = wandb.config.max_length\n",
        "        num_epochs = wandb.config.num_epochs\n",
        "    else:\n",
        "        learning_rate = 0.0001\n",
        "        max_length = 128\n",
        "        num_epochs = 3\n",
        "\n",
        "    train_dataset = PatroDataset(tokenizer, trainset,\n",
        "                                 max_length=max_length)\n",
        "\n",
        "    #call our custom BERT model and pass as parameter the name of an available pretrained model\n",
        "    model = DebertaForSequenceClassification.from_pretrained(\"microsoft/deberta-base\")\n",
        "    \n",
        "    training_args = TrainingArguments(\n",
        "        output_dir='./',\n",
        "        learning_rate=learning_rate,\n",
        "        lr_scheduler_type='linear',\n",
        "        logging_steps=100,\n",
        "        per_device_train_batch_size=32,\n",
        "        num_train_epochs=num_epochs,\n",
        "        adam_beta1 = 0.9,\n",
        "        adam_beta2 = 0.999,\n",
        "        adam_epsilon = 1e-6,\n",
        "        max_grad_norm = 1.0,\n",
        "        save_steps = 2500\n",
        "    )\n",
        "    trainer = Trainer_patronise(\n",
        "        model=model,              \n",
        "        args=training_args,                \n",
        "        train_dataset=train_dataset,          \n",
        "        data_collator=train_dataset.collate_fn\n",
        "    )\n",
        "    \n",
        "    trainer.train()\n",
        "    trainer.save_model('./')\n",
        "\n",
        "    model = DebertaForSequenceClassification.from_pretrained(\"./\")\n",
        "\n",
        "    if hyperparameter_tuning:\n",
        "        report, _ = evaluate(model, tokenizer, val_loader, val_df)\n",
        "        f1_score = report[1][\"f1-score\"]\n",
        "\n",
        "        wandb.log({\"f1_score\": f1_score})\n",
        "        wandb.join()\n",
        "\n",
        "    return trainer.losses"
      ]
    },
    {
      "cell_type": "markdown",
      "metadata": {
        "id": "srfNerRdgTSH"
      },
      "source": [
        "## Evaluation"
      ]
    },
    {
      "cell_type": "markdown",
      "metadata": {
        "id": "RJ2AQYFAXvgu"
      },
      "source": [
        "### Prediction Function"
      ]
    },
    {
      "cell_type": "code",
      "execution_count": null,
      "metadata": {
        "id": "01ivcIlHgXTG"
      },
      "outputs": [],
      "source": [
        "def predict_patronise(input, tokenizer, model): \n",
        "  model.eval()\n",
        "  encodings = tokenizer(input, return_tensors='pt', padding=True, truncation=True, max_length=128)\n",
        "  \n",
        "  output = model(**encodings)\n",
        "  preds = torch.max(output.logits, 1)\n",
        "\n",
        "  return {'prediction':preds[1], 'confidence':preds[0]}"
      ]
    },
    {
      "cell_type": "markdown",
      "metadata": {
        "id": "rju4bl7bXvgu"
      },
      "source": [
        "### Evaluation Function"
      ]
    },
    {
      "cell_type": "code",
      "execution_count": null,
      "metadata": {
        "id": "98BAJTSygeLW"
      },
      "outputs": [],
      "source": [
        "def evaluate(model, tokenizer, data_loader, test_df):\n",
        "\n",
        "  total_count = 0\n",
        "  correct_count = 0 \n",
        "\n",
        "  preds = []\n",
        "  tot_labels = []\n",
        "\n",
        "  test_df['prediction'] = np.nan\n",
        "\n",
        "  with torch.no_grad():\n",
        "    for data in tqdm(data_loader):\n",
        "      labels = {}\n",
        "      labels['label'] = data['label']\n",
        "\n",
        "      sentences = data['text']\n",
        "\n",
        "      pred = predict_patronise(sentences, tokenizer, model)\n",
        "\n",
        "      preds.append(pred['prediction'].tolist())\n",
        "      tot_labels.append(labels['label'].tolist())\n",
        "\n",
        "      for id, data_prediction in zip(data['parid'], pred['prediction']):\n",
        "        rows = test_df.loc[test_df.par_id == id]\n",
        "        rows.prediction = data_prediction.tolist()\n",
        "        test_df.update(rows)\n",
        "\n",
        "  # with the saved predictions and labels we can compute accuracy, precision, recall and f1-score\n",
        "  report = classification_report(tot_labels, preds, target_names=[0,1], output_dict= True)\n",
        "\n",
        "  return report, test_df"
      ]
    },
    {
      "cell_type": "markdown",
      "metadata": {
        "id": "9M8uC_y1MUtj"
      },
      "source": [
        "## Run Train/Hyperparameter Search"
      ]
    },
    {
      "cell_type": "code",
      "execution_count": null,
      "metadata": {
        "colab": {
          "base_uri": "https://localhost:8080/",
          "height": 1000
        },
        "id": "j430z_OKMbvM",
        "outputId": "9ef1bff3-3e1f-428a-ec69-c83704c68ab3"
      },
      "outputs": [
        {
          "output_type": "stream",
          "name": "stderr",
          "text": [
            "loading configuration file https://huggingface.co/microsoft/deberta-base/resolve/main/config.json from cache at /root/.cache/huggingface/transformers/e313266bff73867debdfa78c78a9a4966d5e78281ac4ed7048c178b16a37eba7.fb501413b9cef9cef6babdc543bb4153cbec58d52bce077647efba3e3f14ccf3\n",
            "Model config DebertaConfig {\n",
            "  \"attention_probs_dropout_prob\": 0.1,\n",
            "  \"hidden_act\": \"gelu\",\n",
            "  \"hidden_dropout_prob\": 0.1,\n",
            "  \"hidden_size\": 768,\n",
            "  \"initializer_range\": 0.02,\n",
            "  \"intermediate_size\": 3072,\n",
            "  \"layer_norm_eps\": 1e-07,\n",
            "  \"max_position_embeddings\": 512,\n",
            "  \"max_relative_positions\": -1,\n",
            "  \"model_type\": \"deberta\",\n",
            "  \"num_attention_heads\": 12,\n",
            "  \"num_hidden_layers\": 12,\n",
            "  \"pad_token_id\": 0,\n",
            "  \"pooler_dropout\": 0,\n",
            "  \"pooler_hidden_act\": \"gelu\",\n",
            "  \"pooler_hidden_size\": 768,\n",
            "  \"pos_att_type\": [\n",
            "    \"c2p\",\n",
            "    \"p2c\"\n",
            "  ],\n",
            "  \"position_biased_input\": false,\n",
            "  \"relative_attention\": true,\n",
            "  \"transformers_version\": \"4.17.0\",\n",
            "  \"type_vocab_size\": 0,\n",
            "  \"vocab_size\": 50265\n",
            "}\n",
            "\n",
            "loading weights file https://huggingface.co/microsoft/deberta-base/resolve/main/pytorch_model.bin from cache at /root/.cache/huggingface/transformers/dde0725208c11536042f6f416c538792d44a2d57d1ae399bbd1bc5867e02c465.0a3ec262cb3d4f634c72ce55f2766bb88771e6499b2512830e2e63bf19dbf97a\n",
            "Some weights of the model checkpoint at microsoft/deberta-base were not used when initializing DebertaForSequenceClassification: ['lm_predictions.lm_head.bias', 'lm_predictions.lm_head.LayerNorm.weight', 'lm_predictions.lm_head.LayerNorm.bias', 'lm_predictions.lm_head.dense.bias', 'lm_predictions.lm_head.dense.weight']\n",
            "- This IS expected if you are initializing DebertaForSequenceClassification from the checkpoint of a model trained on another task or with another architecture (e.g. initializing a BertForSequenceClassification model from a BertForPreTraining model).\n",
            "- This IS NOT expected if you are initializing DebertaForSequenceClassification from the checkpoint of a model that you expect to be exactly identical (initializing a BertForSequenceClassification model from a BertForSequenceClassification model).\n",
            "Some weights of DebertaForSequenceClassification were not initialized from the model checkpoint at microsoft/deberta-base and are newly initialized: ['classifier.weight', 'classifier.bias', 'pooler.dense.bias', 'pooler.dense.weight']\n",
            "You should probably TRAIN this model on a down-stream task to be able to use it for predictions and inference.\n",
            "PyTorch: setting up devices\n",
            "The default value for the training argument `--report_to` will change in v5 (from all installed integrations to none). In v5, you will need to use `--report_to all` to get the same behavior as now. You should start updating your code and make this info disappear :-).\n",
            "/usr/local/lib/python3.7/dist-packages/transformers/optimization.py:309: FutureWarning: This implementation of AdamW is deprecated and will be removed in a future version. Use the PyTorch implementation torch.optim.AdamW instead, or set `no_deprecation_warning=True` to disable this warning\n",
            "  FutureWarning,\n",
            "***** Running training *****\n",
            "  Num examples = 9963\n",
            "  Num Epochs = 3\n",
            "  Instantaneous batch size per device = 32\n",
            "  Total train batch size (w. parallel, distributed & accumulation) = 32\n",
            "  Gradient Accumulation steps = 1\n",
            "  Total optimization steps = 936\n",
            "Automatic Weights & Biases logging enabled, to disable set os.environ[\"WANDB_DISABLED\"] = \"true\"\n"
          ]
        },
        {
          "output_type": "display_data",
          "data": {
            "text/html": [
              "\n",
              "    <div>\n",
              "      \n",
              "      <progress value='936' max='936' style='width:300px; height:20px; vertical-align: middle;'></progress>\n",
              "      [936/936 07:56, Epoch 3/3]\n",
              "    </div>\n",
              "    <table border=\"1\" class=\"dataframe\">\n",
              "  <thead>\n",
              " <tr style=\"text-align: left;\">\n",
              "      <th>Step</th>\n",
              "      <th>Training Loss</th>\n",
              "    </tr>\n",
              "  </thead>\n",
              "  <tbody>\n",
              "    <tr>\n",
              "      <td>100</td>\n",
              "      <td>0.439100</td>\n",
              "    </tr>\n",
              "    <tr>\n",
              "      <td>200</td>\n",
              "      <td>0.343500</td>\n",
              "    </tr>\n",
              "    <tr>\n",
              "      <td>300</td>\n",
              "      <td>0.276800</td>\n",
              "    </tr>\n",
              "    <tr>\n",
              "      <td>400</td>\n",
              "      <td>0.145100</td>\n",
              "    </tr>\n",
              "    <tr>\n",
              "      <td>500</td>\n",
              "      <td>0.115100</td>\n",
              "    </tr>\n",
              "    <tr>\n",
              "      <td>600</td>\n",
              "      <td>0.098800</td>\n",
              "    </tr>\n",
              "    <tr>\n",
              "      <td>700</td>\n",
              "      <td>0.041900</td>\n",
              "    </tr>\n",
              "    <tr>\n",
              "      <td>800</td>\n",
              "      <td>0.022200</td>\n",
              "    </tr>\n",
              "    <tr>\n",
              "      <td>900</td>\n",
              "      <td>0.027200</td>\n",
              "    </tr>\n",
              "  </tbody>\n",
              "</table><p>"
            ],
            "text/plain": [
              "<IPython.core.display.HTML object>"
            ]
          },
          "metadata": {}
        },
        {
          "output_type": "stream",
          "name": "stderr",
          "text": [
            "\n",
            "\n",
            "Training completed. Do not forget to share your model on huggingface.co/models =)\n",
            "\n",
            "\n",
            "Saving model checkpoint to ./\n",
            "Configuration saved in ./config.json\n",
            "Model weights saved in ./pytorch_model.bin\n",
            "loading configuration file ./config.json\n",
            "Model config DebertaConfig {\n",
            "  \"_name_or_path\": \"microsoft/deberta-base\",\n",
            "  \"architectures\": [\n",
            "    \"DebertaForSequenceClassification\"\n",
            "  ],\n",
            "  \"attention_probs_dropout_prob\": 0.1,\n",
            "  \"hidden_act\": \"gelu\",\n",
            "  \"hidden_dropout_prob\": 0.1,\n",
            "  \"hidden_size\": 768,\n",
            "  \"initializer_range\": 0.02,\n",
            "  \"intermediate_size\": 3072,\n",
            "  \"layer_norm_eps\": 1e-07,\n",
            "  \"max_position_embeddings\": 512,\n",
            "  \"max_relative_positions\": -1,\n",
            "  \"model_type\": \"deberta\",\n",
            "  \"num_attention_heads\": 12,\n",
            "  \"num_hidden_layers\": 12,\n",
            "  \"pad_token_id\": 0,\n",
            "  \"pooler_dropout\": 0,\n",
            "  \"pooler_hidden_act\": \"gelu\",\n",
            "  \"pooler_hidden_size\": 768,\n",
            "  \"pos_att_type\": [\n",
            "    \"c2p\",\n",
            "    \"p2c\"\n",
            "  ],\n",
            "  \"position_biased_input\": false,\n",
            "  \"relative_attention\": true,\n",
            "  \"torch_dtype\": \"float32\",\n",
            "  \"transformers_version\": \"4.17.0\",\n",
            "  \"type_vocab_size\": 0,\n",
            "  \"vocab_size\": 50265\n",
            "}\n",
            "\n",
            "loading weights file ./pytorch_model.bin\n",
            "All model checkpoint weights were used when initializing DebertaForSequenceClassification.\n",
            "\n",
            "All the weights of DebertaForSequenceClassification were initialized from the model checkpoint at ./.\n",
            "If your task is similar to the task the model of the checkpoint was trained on, you can already use DebertaForSequenceClassification for predictions without further training.\n"
          ]
        }
      ],
      "source": [
        "if hyperparameter_tuning:\n",
        "    losses = wandb.agent(sweep_id, function=main_patronise, count=18)\n",
        "else:\n",
        "    losses = main_patronise()"
      ]
    },
    {
      "cell_type": "markdown",
      "metadata": {
        "id": "QOvGCWmQMeP2"
      },
      "source": [
        "## Analysis"
      ]
    },
    {
      "cell_type": "markdown",
      "metadata": {
        "id": "04lOgycWMknn"
      },
      "source": [
        "### Plot Loss Curves"
      ]
    },
    {
      "cell_type": "code",
      "execution_count": null,
      "metadata": {
        "id": "6h3ymF1FAMQC",
        "outputId": "e96a789f-a3ad-470e-e55f-f985da021c43"
      },
      "outputs": [
        {
          "data": {
            "image/png": "[encoded data removed]",
            "text/plain": [
              "<Figure size 576x360 with 1 Axes>"
            ]
          },
          "metadata": {
            "needs_background": "light"
          },
          "output_type": "display_data"
        }
      ],
      "source": [
        "# Recorded loss values for different implementations of the model\n",
        "baseline_loss = np.array([0.3369, 0.2713, 0.2410, 0.2120, 0.2727, 0.2107, 0.1947])\n",
        "downsample_loss = np.array([0.4651, 0.3113, 0.1835, 0.0619])\n",
        "upsample_loss = np.array([0.4391, 0.3435, 0.2768, 0.1451])\n",
        "down_upsample_loss = np.array([0.5711, 0.3136, 0.1862, 0.0588])\n",
        "lemmatised_loss = np.array([0.4964, 0.3589, 0.2220, 0.1288])\n",
        "backtranslated_loss = np.array([0.5290, 0.4398, 0.3778, 0.4154, 0.3843, 0.3832, 0.3817])\n",
        "lemmatised_no_punct_loss = np.array([0.4618, 0.2942, 0.1525, 0.0676])\n",
        "\n",
        "losses = [\n",
        "    (baseline_loss, \"Base model (F1 = 0.39)\"),\n",
        "    (downsample_loss, \"Downsampled (F1 = 0.56)\"),\n",
        "    (upsample_loss, \"Upsampled (F1 = 0.50)\"),\n",
        "    (down_upsample_loss, \"Down- & upsampled (F1 = 0.54)\"),\n",
        "    (lemmatised_loss, \"Lemmatised w. punct (F1 = 0.56)\"),\n",
        "    (backtranslated_loss, \"Backtranslated (F1 = 0.03)\"),\n",
        "    (lemmatised_no_punct_loss, \"Lemmatised w/o punct (F1 = 0.55)\")\n",
        "]\n",
        "\n",
        "figure, axis = plt.subplots()\n",
        "\n",
        "\n",
        "for loss, label in losses:\n",
        "    batches = np.arange(0, len(loss) * 100, 100)\n",
        "    axis.plot(batches, loss, label=label)\n",
        "\n",
        "figure.set_size_inches((8, 5))\n",
        "\n",
        "axis.set_ylabel(\"Loss\")\n",
        "axis.set_xlabel(\"Batch\")\n",
        "axis.set_title(\"Training Loss for each implementation\")\n",
        "axis.set_xlim(0, 300)\n",
        "axis.set_ylim(0, 1)\n",
        "\n",
        "axis.legend()\n",
        "\n",
        "plt.show()"
      ]
    },
    {
      "cell_type": "markdown",
      "metadata": {
        "id": "QQu63S2bXvgv"
      },
      "source": [
        "### Report F1 Score"
      ]
    },
    {
      "cell_type": "code",
      "execution_count": null,
      "metadata": {
        "id": "d2cBAJ3WrI0g",
        "colab": {
          "base_uri": "https://localhost:8080/",
          "height": 1000,
          "referenced_widgets": [
            "8b2a1a7773a7466187aa5f74717ee69a",
            "9ce6f0cff092476290ada26985131120",
            "9246c5801de54b6f9868ee5e8d1fac69",
            "321326ab1b584011978b9ab3059f7b15",
            "44e7e9453d3643c39199113a6966c54c",
            "3ea220d2272e4abda2f13cd7baf23f60",
            "01ce08d714fc4c269f9072a1bb6969cb",
            "544061c43c04460794f46f802ba67f27",
            "8fe826792f184747aae7a7c16c3795ba",
            "394935c7b46a465a9c0ffe9e35bf54d7",
            "cc445d9b7cc3498bba31573a60e2fb1b"
          ]
        },
        "outputId": "ad78dc75-064b-4a88-e2d0-302fc5a66446"
      },
      "outputs": [
        {
          "output_type": "stream",
          "name": "stderr",
          "text": [
            "loading file https://huggingface.co/microsoft/deberta-base/resolve/main/vocab.json from cache at /root/.cache/huggingface/transformers/ce0ac094af27cf80bbf403595a6d47f1fc632981bf1d4c5bf69968568cbea410.e8ad27cc324bb0dc448d4d95f63e48f72688fb318a4c4c3f623485621b0b515c\n",
            "loading file https://huggingface.co/microsoft/deberta-base/resolve/main/merges.txt from cache at /root/.cache/huggingface/transformers/05056f257c8d2b63ad16fd26f847c9ab9ee34e33cdfad926e132be824b237869.5d12962c5ee615a4c803841266e9c3be9a691a924f72d395d3a6c6c81157788b\n",
            "loading file https://huggingface.co/microsoft/deberta-base/resolve/main/added_tokens.json from cache at None\n",
            "loading file https://huggingface.co/microsoft/deberta-base/resolve/main/special_tokens_map.json from cache at None\n",
            "loading file https://huggingface.co/microsoft/deberta-base/resolve/main/tokenizer_config.json from cache at /root/.cache/huggingface/transformers/c2bc27a1c7529c177696ff76b1e74cba8667be14e202359f20f9114e407f43e2.a39abb1c6179fb264c2db685f9a056b7cb8d4bc48d729888d292a2280debf8e2\n",
            "loading configuration file https://huggingface.co/microsoft/deberta-base/resolve/main/config.json from cache at /root/.cache/huggingface/transformers/e313266bff73867debdfa78c78a9a4966d5e78281ac4ed7048c178b16a37eba7.fb501413b9cef9cef6babdc543bb4153cbec58d52bce077647efba3e3f14ccf3\n",
            "Model config DebertaConfig {\n",
            "  \"_name_or_path\": \"microsoft/deberta-base\",\n",
            "  \"attention_probs_dropout_prob\": 0.1,\n",
            "  \"hidden_act\": \"gelu\",\n",
            "  \"hidden_dropout_prob\": 0.1,\n",
            "  \"hidden_size\": 768,\n",
            "  \"initializer_range\": 0.02,\n",
            "  \"intermediate_size\": 3072,\n",
            "  \"layer_norm_eps\": 1e-07,\n",
            "  \"max_position_embeddings\": 512,\n",
            "  \"max_relative_positions\": -1,\n",
            "  \"model_type\": \"deberta\",\n",
            "  \"num_attention_heads\": 12,\n",
            "  \"num_hidden_layers\": 12,\n",
            "  \"pad_token_id\": 0,\n",
            "  \"pooler_dropout\": 0,\n",
            "  \"pooler_hidden_act\": \"gelu\",\n",
            "  \"pooler_hidden_size\": 768,\n",
            "  \"pos_att_type\": [\n",
            "    \"c2p\",\n",
            "    \"p2c\"\n",
            "  ],\n",
            "  \"position_biased_input\": false,\n",
            "  \"relative_attention\": true,\n",
            "  \"transformers_version\": \"4.17.0\",\n",
            "  \"type_vocab_size\": 0,\n",
            "  \"vocab_size\": 50265\n",
            "}\n",
            "\n",
            "loading configuration file ./config.json\n",
            "Model config DebertaConfig {\n",
            "  \"_name_or_path\": \"microsoft/deberta-base\",\n",
            "  \"architectures\": [\n",
            "    \"DebertaForSequenceClassification\"\n",
            "  ],\n",
            "  \"attention_probs_dropout_prob\": 0.1,\n",
            "  \"hidden_act\": \"gelu\",\n",
            "  \"hidden_dropout_prob\": 0.1,\n",
            "  \"hidden_size\": 768,\n",
            "  \"initializer_range\": 0.02,\n",
            "  \"intermediate_size\": 3072,\n",
            "  \"layer_norm_eps\": 1e-07,\n",
            "  \"max_position_embeddings\": 512,\n",
            "  \"max_relative_positions\": -1,\n",
            "  \"model_type\": \"deberta\",\n",
            "  \"num_attention_heads\": 12,\n",
            "  \"num_hidden_layers\": 12,\n",
            "  \"pad_token_id\": 0,\n",
            "  \"pooler_dropout\": 0,\n",
            "  \"pooler_hidden_act\": \"gelu\",\n",
            "  \"pooler_hidden_size\": 768,\n",
            "  \"pos_att_type\": [\n",
            "    \"c2p\",\n",
            "    \"p2c\"\n",
            "  ],\n",
            "  \"position_biased_input\": false,\n",
            "  \"relative_attention\": true,\n",
            "  \"torch_dtype\": \"float32\",\n",
            "  \"transformers_version\": \"4.17.0\",\n",
            "  \"type_vocab_size\": 0,\n",
            "  \"vocab_size\": 50265\n",
            "}\n",
            "\n",
            "loading weights file ./pytorch_model.bin\n",
            "All model checkpoint weights were used when initializing DebertaForSequenceClassification.\n",
            "\n",
            "All the weights of DebertaForSequenceClassification were initialized from the model checkpoint at ./.\n",
            "If your task is similar to the task the model of the checkpoint was trained on, you can already use DebertaForSequenceClassification for predictions without further training.\n"
          ]
        },
        {
          "output_type": "display_data",
          "data": {
            "application/vnd.jupyter.widget-view+json": {
              "model_id": "8b2a1a7773a7466187aa5f74717ee69a",
              "version_minor": 0,
              "version_major": 2
            },
            "text/plain": [
              "  0%|          | 0/2094 [00:00<?, ?it/s]"
            ]
          },
          "metadata": {}
        },
        {
          "output_type": "stream",
          "name": "stderr",
          "text": [
            "/usr/local/lib/python3.7/dist-packages/pandas/core/generic.py:5516: SettingWithCopyWarning: \n",
            "A value is trying to be set on a copy of a slice from a DataFrame.\n",
            "Try using .loc[row_indexer,col_indexer] = value instead\n",
            "\n",
            "See the caveats in the documentation: https://pandas.pydata.org/pandas-docs/stable/user_guide/indexing.html#returning-a-view-versus-a-copy\n",
            "  self[name] = value\n"
          ]
        },
        {
          "output_type": "stream",
          "name": "stdout",
          "text": [
            "{0: {'precision': 0.9408465068842428, 'recall': 0.9736147757255936, 'f1-score': 0.9569502074688796, 'support': 1895}, 1: {'precision': 0.6240601503759399, 'recall': 0.41708542713567837, 'f1-score': 0.5, 'support': 199}, 'accuracy': 0.9207258834765998, 'macro avg': {'precision': 0.7824533286300913, 'recall': 0.695350101430636, 'f1-score': 0.7284751037344398, 'support': 2094}, 'weighted avg': {'precision': 0.9107412132141606, 'recall': 0.9207258834765998, 'f1-score': 0.9135246624419899, 'support': 2094}}\n",
            "0.9207258834765998\n",
            "0.9569502074688796\n",
            "0.5\n"
          ]
        }
      ],
      "source": [
        "tokenizer = DebertaTokenizer.from_pretrained(\"microsoft/deberta-base\")\n",
        "\n",
        "#your saved model name here\n",
        "model_name = './'\n",
        "model = DebertaForSequenceClassification.from_pretrained(model_name)\n",
        "\n",
        "# we don't batch our test set unless it's too big\n",
        "test_loader = DataLoader(test_dataset)\n",
        "\n",
        "report, annotated_test_dataset = evaluate(model, tokenizer, test_loader, test_df)\n",
        "\n",
        "print(report)\n",
        "\n",
        "print(report['accuracy'])\n",
        "print(report[0]['f1-score'])\n",
        "print(report[1]['f1-score'])"
      ]
    },
    {
      "cell_type": "markdown",
      "metadata": {
        "id": "rkWKtFWXAMQD"
      },
      "source": [
        "### Analysis of F1 score with different intensities"
      ]
    },
    {
      "cell_type": "code",
      "execution_count": null,
      "metadata": {
        "id": "1ukrVveJAMQD"
      },
      "outputs": [],
      "source": [
        "def get_intensity_histograms(df, intensity, axis):\n",
        "    intensity_df = df.loc[df.intensity.map(int) == intensity]\n",
        "    series = intensity_df.prediction.map(int)\n",
        "    _, _, [patch0, patch1] = axis.hist(series, bins=[-0.5, 0.5, 1.5])\n",
        "\n",
        "    patch0.set_facecolor(\"tab:blue\")\n",
        "    patch1.set_facecolor(\"tab:orange\")\n",
        "\n",
        "    axis.set_xticks([0, 1], labels=[\"Unpatronising\", \"Patronising\"])"
      ]
    },
    {
      "cell_type": "code",
      "execution_count": null,
      "metadata": {
        "id": "7v8Tz0s4AMQE",
        "outputId": "0335bc64-fd37-4339-f8c7-694facb95911"
      },
      "outputs": [
        {
          "data": {
            "image/png": "[encoded data removed]",
            "text/plain": [
              "<Figure size 576x288 with 2 Axes>"
            ]
          },
          "metadata": {
            "needs_background": "light"
          },
          "output_type": "display_data"
        },
        {
          "data": {
            "image/png": "[encoded data removed]",
            "text/plain": [
              "<Figure size 864x288 with 3 Axes>"
            ]
          },
          "metadata": {
            "needs_background": "light"
          },
          "output_type": "display_data"
        }
      ],
      "source": [
        "figure_unpatr, (axis0, axis1) = plt.subplots(1, 2)\n",
        "\n",
        "figure_unpatr.set_size_inches((8, 4))\n",
        "figure_unpatr.suptitle(\"Model predictions for different levels of condescension\")\n",
        "\n",
        "axis0.set_ylabel(\"Predictions\")\n",
        "axis1.set_ylabel(\"Predictions\")\n",
        "\n",
        "axis0.set_title(\"Intensity = 0\")\n",
        "axis1.set_title(\"Intensity = 1\")\n",
        "\n",
        "series = get_intensity_histograms(annotated_test_dataset, 0, axis0)\n",
        "series = get_intensity_histograms(annotated_test_dataset, 1, axis1)\n",
        "\n",
        "figure_patr, (axis2, axis3, axis4) = plt.subplots(1, 3)\n",
        "\n",
        "figure_patr.set_size_inches(12, 4)\n",
        "figure_patr.suptitle(\"Model predictions for different levels of condescension\")\n",
        "\n",
        "axis2.set_ylabel(\"Predictions\")\n",
        "axis3.set_ylabel(\"Predictions\")\n",
        "axis4.set_ylabel(\"Predictions\")\n",
        "\n",
        "axis2.set_title(\"Intensity = 2\")\n",
        "axis3.set_title(\"Intensity = 3\")\n",
        "axis4.set_title(\"Intensity = 4\")\n",
        "\n",
        "get_intensity_histograms(annotated_test_dataset, 2, axis2)\n",
        "get_intensity_histograms(annotated_test_dataset, 3, axis3)\n",
        "get_intensity_histograms(annotated_test_dataset, 4, axis4)"
      ]
    },
    {
      "cell_type": "code",
      "execution_count": null,
      "metadata": {
        "id": "9A_00oy4AMQF"
      },
      "outputs": [],
      "source": [
        "def intensity_f1_score(df):\n",
        "    f1_scores = list()\n",
        "\n",
        "    for intensity in range(5):\n",
        "        intensity_df = df.loc[df.intensity.map(int) == intensity]\n",
        "        labels = intensity_df.label.tolist()\n",
        "        predictions = intensity_df.prediction.tolist()\n",
        "        \n",
        "        score = f1_score(labels, predictions)\n",
        "        f1_scores.append(score)\n",
        "    \n",
        "    return f1_scores"
      ]
    },
    {
      "cell_type": "code",
      "execution_count": null,
      "metadata": {
        "id": "Bu0Nz5n6AMQG",
        "outputId": "d016cf7e-98fa-45e5-b2e1-6c0c214a9289"
      },
      "outputs": [
        {
          "data": {
            "text/plain": [
              "[0.0, 0.0, 0.56, 0.7972972972972973, 0.8848484848484849]"
            ]
          },
          "execution_count": 7,
          "metadata": {},
          "output_type": "execute_result"
        }
      ],
      "source": [
        "intensity_f1_score(annotated_test_dataset)"
      ]
    },
    {
      "cell_type": "markdown",
      "metadata": {
        "id": "k43HSfLkAMQG"
      },
      "source": [
        "### Analysis of F1 score with different input lengths"
      ]
    },
    {
      "cell_type": "code",
      "execution_count": null,
      "metadata": {
        "id": "AMp-tM-NAMQH"
      },
      "outputs": [],
      "source": [
        "def input_length_f1_score(df):\n",
        "    results = list()\n",
        "    \n",
        "    for lb in np.arange(0, 200, 20):\n",
        "        ub = lb + 20\n",
        "        length_df = df.loc[df.length >= lb]\n",
        "        length_df = length_df.loc[length_df.length < ub]\n",
        "\n",
        "        predictions = length_df.prediction.map(int)\n",
        "        labels = length_df.label.map(int)\n",
        "\n",
        "        score = f1_score(labels, predictions)\n",
        "        results.append((score, f\"{lb} <= n < {ub}\"))\n",
        "    \n",
        "    scores, labels = zip(*results)\n",
        "\n",
        "    return list(scores), list(labels)"
      ]
    },
    {
      "cell_type": "code",
      "execution_count": null,
      "metadata": {
        "id": "42l6BLPdAMQH",
        "outputId": "cd185b87-1dd9-4e8b-824c-837a8d759866"
      },
      "outputs": [
        {
          "name": "stderr",
          "output_type": "stream",
          "text": [
            "/Users/louismanestar/.pyenv/versions/3.8.12/lib/python3.8/site-packages/sklearn/metrics/_classification.py:1580: UndefinedMetricWarning: F-score is ill-defined and being set to 0.0 due to no true nor predicted samples. Use `zero_division` parameter to control this behavior.\n",
            "  _warn_prf(average, \"true nor predicted\", \"F-score is\", len(true_sum))\n",
            "/Users/louismanestar/.pyenv/versions/3.8.12/lib/python3.8/site-packages/sklearn/metrics/_classification.py:1580: UndefinedMetricWarning: F-score is ill-defined and being set to 0.0 due to no true nor predicted samples. Use `zero_division` parameter to control this behavior.\n",
            "  _warn_prf(average, \"true nor predicted\", \"F-score is\", len(true_sum))\n"
          ]
        },
        {
          "data": {
            "text/plain": [
              "Text(0, 0.5, 'F1 Score')"
            ]
          },
          "execution_count": 9,
          "metadata": {},
          "output_type": "execute_result"
        },
        {
          "data": {
            "image/png": "[encoded data removed]",
            "text/plain": [
              "<Figure size 504x288 with 1 Axes>"
            ]
          },
          "metadata": {
            "needs_background": "light"
          },
          "output_type": "display_data"
        }
      ],
      "source": [
        "scores, labels = input_length_f1_score(annotated_test_dataset)\n",
        "\n",
        "figure, axis = plt.subplots()\n",
        "figure.set_size_inches((7, 4))\n",
        "\n",
        "axis.bar(np.arange(10, 210, 20), scores, width=20)\n",
        "\n",
        "axis.set_xlim(40, 200)\n",
        "axis.set_ylim(0, 1)\n",
        "\n",
        "#axis.set_xticks(np.arange(40, 200, 20))\n",
        "\n",
        "axis.set_title(\"Variation of F1 score with input length\")\n",
        "axis.set_xlabel(\"Input Length\")\n",
        "axis.set_ylabel(\"F1 Score\")"
      ]
    },
    {
      "cell_type": "markdown",
      "metadata": {
        "id": "y5AZ4B5gAMQH"
      },
      "source": [
        "### Analysis of F1 score with different categories"
      ]
    },
    {
      "cell_type": "code",
      "execution_count": null,
      "metadata": {
        "id": "XIrjRpnbAMQI"
      },
      "outputs": [],
      "source": [
        "def categories_f1_score(df):\n",
        "    results = list()\n",
        "    \n",
        "    for category in np.unique(df.keyword):\n",
        "        category_df = df.loc[df.keyword == category]\n",
        "        predictions = category_df.prediction\n",
        "        labels = category_df.label\n",
        "\n",
        "        score = f1_score(labels, predictions)\n",
        "        results.append((score, category))\n",
        "    \n",
        "    results.sort(key=itemgetter(0), reverse=True)\n",
        "    scores, labels = zip(*results)\n",
        "\n",
        "    return list(scores), list(labels)"
      ]
    },
    {
      "cell_type": "code",
      "execution_count": null,
      "metadata": {
        "id": "QYfhbFitAMQI",
        "outputId": "6aef27aa-12ae-4533-dd3c-fe559b06f7b7"
      },
      "outputs": [
        {
          "data": {
            "text/plain": [
              "Text(0, 0.5, 'F1 Score')"
            ]
          },
          "execution_count": 11,
          "metadata": {},
          "output_type": "execute_result"
        },
        {
          "data": {
            "image/png": "[encoded data removed]",
            "text/plain": [
              "<Figure size 504x288 with 1 Axes>"
            ]
          },
          "metadata": {
            "needs_background": "light"
          },
          "output_type": "display_data"
        }
      ],
      "source": [
        "figure, axis = plt.subplots()\n",
        "figure.set_size_inches((7, 4))\n",
        "\n",
        "scores, labels = categories_f1_score(annotated_test_dataset)\n",
        "axis.bar(np.arange(len(labels)), scores, tick_label=labels)\n",
        "\n",
        "axis.set_ylim(0, 1)\n",
        "axis.tick_params(axis='x', labelrotation=30)\n",
        "\n",
        "axis.set_title(\"Variation of F1 score with category\")\n",
        "axis.set_xlabel(\"Category\")\n",
        "axis.set_ylabel(\"F1 Score\")"
      ]
    },
    {
      "cell_type": "markdown",
      "metadata": {
        "id": "HGMhR9xyAMQI"
      },
      "source": [
        "### Analysis of F1 score with different countries"
      ]
    },
    {
      "cell_type": "code",
      "execution_count": null,
      "metadata": {
        "id": "Z1QI5RVNAMQI"
      },
      "outputs": [],
      "source": [
        "def country_f1_score(df):\n",
        "    results = list()\n",
        "    \n",
        "    for country in np.unique(df.country):\n",
        "        country_df = df.loc[df.country == country]\n",
        "        predictions = country_df.prediction\n",
        "        labels = country_df.label\n",
        "\n",
        "        score = f1_score(labels, predictions)\n",
        "        results.append((score, country))\n",
        "    \n",
        "    results.sort(key=itemgetter(0), reverse=True)\n",
        "    scores, labels = zip(*results)\n",
        "\n",
        "    return list(scores), list(labels)"
      ]
    },
    {
      "cell_type": "code",
      "execution_count": null,
      "metadata": {
        "id": "PRgPf_hEAMQI",
        "outputId": "d0ff8f03-da8c-4979-addb-af29007a6063"
      },
      "outputs": [
        {
          "data": {
            "text/plain": [
              "Text(0, 0.5, 'F1 Score')"
            ]
          },
          "execution_count": 13,
          "metadata": {},
          "output_type": "execute_result"
        },
        {
          "data": {
            "image/png": "[encoded data removed]",
            "text/plain": [
              "<Figure size 504x288 with 1 Axes>"
            ]
          },
          "metadata": {
            "needs_background": "light"
          },
          "output_type": "display_data"
        }
      ],
      "source": [
        "figure, axis = plt.subplots()\n",
        "figure.set_size_inches((7, 4))\n",
        "\n",
        "scores, labels = country_f1_score(annotated_test_dataset)\n",
        "axis.bar(np.arange(len(labels)), scores, tick_label=labels)\n",
        "\n",
        "axis.set_ylim(0, 1)\n",
        "\n",
        "axis.set_title(\"Variation of F1 score with country\")\n",
        "axis.set_xlabel(\"Country\")\n",
        "axis.set_ylabel(\"F1 Score\")"
      ]
    }
  ],
  "metadata": {
    "accelerator": "GPU",
    "colab": {
      "collapsed_sections": [],
      "machine_shape": "hm",
      "name": "main_model.ipynb",
      "provenance": [],
      "include_colab_link": true
    },
    "kernelspec": {
      "display_name": "Python 3",
      "name": "python3"
    },
    "language_info": {
      "name": "python"
    },
    "widgets": {
      "application/vnd.jupyter.widget-state+json": {
        "0084aeee96fc40159b42abc6c6a4c618": {
          "model_module": "@jupyter-widgets/controls",
          "model_name": "HBoxModel",
          "model_module_version": "1.5.0",
          "state": {
            "_view_name": "HBoxView",
            "_dom_classes": [],
            "_model_name": "HBoxModel",
            "_view_module": "@jupyter-widgets/controls",
            "_model_module_version": "1.5.0",
            "_view_count": null,
            "_view_module_version": "1.5.0",
            "box_style": "",
            "layout": "IPY_MODEL_37281da09c1e44839b19cbce96500609",
            "_model_module": "@jupyter-widgets/controls",
            "children": [
              "IPY_MODEL_58d56b18141f4a7e84e8d6a58dab131d",
              "IPY_MODEL_43488195b5bc44808da49b28e7c53f3e",
              "IPY_MODEL_55f1f75e797b4b9d9a91829a3c344df0"
            ]
          }
        },
        "37281da09c1e44839b19cbce96500609": {
          "model_module": "@jupyter-widgets/base",
          "model_name": "LayoutModel",
          "model_module_version": "1.2.0",
          "state": {
            "_view_name": "LayoutView",
            "grid_template_rows": null,
            "right": null,
            "justify_content": null,
            "_view_module": "@jupyter-widgets/base",
            "overflow": null,
            "_model_module_version": "1.2.0",
            "_view_count": null,
            "flex_flow": null,
            "width": null,
            "min_width": null,
            "border": null,
            "align_items": null,
            "bottom": null,
            "_model_module": "@jupyter-widgets/base",
            "top": null,
            "grid_column": null,
            "overflow_y": null,
            "overflow_x": null,
            "grid_auto_flow": null,
            "grid_area": null,
            "grid_template_columns": null,
            "flex": null,
            "_model_name": "LayoutModel",
            "justify_items": null,
            "grid_row": null,
            "max_height": null,
            "align_content": null,
            "visibility": null,
            "align_self": null,
            "height": null,
            "min_height": null,
            "padding": null,
            "grid_auto_rows": null,
            "grid_gap": null,
            "max_width": null,
            "order": null,
            "_view_module_version": "1.2.0",
            "grid_template_areas": null,
            "object_position": null,
            "object_fit": null,
            "grid_auto_columns": null,
            "margin": null,
            "display": null,
            "left": null
          }
        },
        "58d56b18141f4a7e84e8d6a58dab131d": {
          "model_module": "@jupyter-widgets/controls",
          "model_name": "HTMLModel",
          "model_module_version": "1.5.0",
          "state": {
            "_view_name": "HTMLView",
            "style": "IPY_MODEL_07ae701060cc41bc8a7b3f0011fd8899",
            "_dom_classes": [],
            "description": "",
            "_model_name": "HTMLModel",
            "placeholder": "​",
            "_view_module": "@jupyter-widgets/controls",
            "_model_module_version": "1.5.0",
            "value": "Downloading: 100%",
            "_view_count": null,
            "_view_module_version": "1.5.0",
            "description_tooltip": null,
            "_model_module": "@jupyter-widgets/controls",
            "layout": "IPY_MODEL_10e04921f1f041d8ab6de248877d28a4"
          }
        },
        "43488195b5bc44808da49b28e7c53f3e": {
          "model_module": "@jupyter-widgets/controls",
          "model_name": "FloatProgressModel",
          "model_module_version": "1.5.0",
          "state": {
            "_view_name": "ProgressView",
            "style": "IPY_MODEL_8325953d6d6d41bbbf374f6f1ea3d0ad",
            "_dom_classes": [],
            "description": "",
            "_model_name": "FloatProgressModel",
            "bar_style": "success",
            "max": 898825,
            "_view_module": "@jupyter-widgets/controls",
            "_model_module_version": "1.5.0",
            "value": 898825,
            "_view_count": null,
            "_view_module_version": "1.5.0",
            "orientation": "horizontal",
            "min": 0,
            "description_tooltip": null,
            "_model_module": "@jupyter-widgets/controls",
            "layout": "IPY_MODEL_12fc72d50a704371870e584777cf5b79"
          }
        },
        "55f1f75e797b4b9d9a91829a3c344df0": {
          "model_module": "@jupyter-widgets/controls",
          "model_name": "HTMLModel",
          "model_module_version": "1.5.0",
          "state": {
            "_view_name": "HTMLView",
            "style": "IPY_MODEL_18a582d6892441589ee0281efbb2599c",
            "_dom_classes": [],
            "description": "",
            "_model_name": "HTMLModel",
            "placeholder": "​",
            "_view_module": "@jupyter-widgets/controls",
            "_model_module_version": "1.5.0",
            "value": " 878k/878k [00:00&lt;00:00, 6.01MB/s]",
            "_view_count": null,
            "_view_module_version": "1.5.0",
            "description_tooltip": null,
            "_model_module": "@jupyter-widgets/controls",
            "layout": "IPY_MODEL_1762d8d2b0b8465981946dc8981d39b0"
          }
        },
        "07ae701060cc41bc8a7b3f0011fd8899": {
          "model_module": "@jupyter-widgets/controls",
          "model_name": "DescriptionStyleModel",
          "model_module_version": "1.5.0",
          "state": {
            "_view_name": "StyleView",
            "_model_name": "DescriptionStyleModel",
            "description_width": "",
            "_view_module": "@jupyter-widgets/base",
            "_model_module_version": "1.5.0",
            "_view_count": null,
            "_view_module_version": "1.2.0",
            "_model_module": "@jupyter-widgets/controls"
          }
        },
        "10e04921f1f041d8ab6de248877d28a4": {
          "model_module": "@jupyter-widgets/base",
          "model_name": "LayoutModel",
          "model_module_version": "1.2.0",
          "state": {
            "_view_name": "LayoutView",
            "grid_template_rows": null,
            "right": null,
            "justify_content": null,
            "_view_module": "@jupyter-widgets/base",
            "overflow": null,
            "_model_module_version": "1.2.0",
            "_view_count": null,
            "flex_flow": null,
            "width": null,
            "min_width": null,
            "border": null,
            "align_items": null,
            "bottom": null,
            "_model_module": "@jupyter-widgets/base",
            "top": null,
            "grid_column": null,
            "overflow_y": null,
            "overflow_x": null,
            "grid_auto_flow": null,
            "grid_area": null,
            "grid_template_columns": null,
            "flex": null,
            "_model_name": "LayoutModel",
            "justify_items": null,
            "grid_row": null,
            "max_height": null,
            "align_content": null,
            "visibility": null,
            "align_self": null,
            "height": null,
            "min_height": null,
            "padding": null,
            "grid_auto_rows": null,
            "grid_gap": null,
            "max_width": null,
            "order": null,
            "_view_module_version": "1.2.0",
            "grid_template_areas": null,
            "object_position": null,
            "object_fit": null,
            "grid_auto_columns": null,
            "margin": null,
            "display": null,
            "left": null
          }
        },
        "8325953d6d6d41bbbf374f6f1ea3d0ad": {
          "model_module": "@jupyter-widgets/controls",
          "model_name": "ProgressStyleModel",
          "model_module_version": "1.5.0",
          "state": {
            "_view_name": "StyleView",
            "_model_name": "ProgressStyleModel",
            "description_width": "",
            "_view_module": "@jupyter-widgets/base",
            "_model_module_version": "1.5.0",
            "_view_count": null,
            "_view_module_version": "1.2.0",
            "bar_color": null,
            "_model_module": "@jupyter-widgets/controls"
          }
        },
        "12fc72d50a704371870e584777cf5b79": {
          "model_module": "@jupyter-widgets/base",
          "model_name": "LayoutModel",
          "model_module_version": "1.2.0",
          "state": {
            "_view_name": "LayoutView",
            "grid_template_rows": null,
            "right": null,
            "justify_content": null,
            "_view_module": "@jupyter-widgets/base",
            "overflow": null,
            "_model_module_version": "1.2.0",
            "_view_count": null,
            "flex_flow": null,
            "width": null,
            "min_width": null,
            "border": null,
            "align_items": null,
            "bottom": null,
            "_model_module": "@jupyter-widgets/base",
            "top": null,
            "grid_column": null,
            "overflow_y": null,
            "overflow_x": null,
            "grid_auto_flow": null,
            "grid_area": null,
            "grid_template_columns": null,
            "flex": null,
            "_model_name": "LayoutModel",
            "justify_items": null,
            "grid_row": null,
            "max_height": null,
            "align_content": null,
            "visibility": null,
            "align_self": null,
            "height": null,
            "min_height": null,
            "padding": null,
            "grid_auto_rows": null,
            "grid_gap": null,
            "max_width": null,
            "order": null,
            "_view_module_version": "1.2.0",
            "grid_template_areas": null,
            "object_position": null,
            "object_fit": null,
            "grid_auto_columns": null,
            "margin": null,
            "display": null,
            "left": null
          }
        },
        "18a582d6892441589ee0281efbb2599c": {
          "model_module": "@jupyter-widgets/controls",
          "model_name": "DescriptionStyleModel",
          "model_module_version": "1.5.0",
          "state": {
            "_view_name": "StyleView",
            "_model_name": "DescriptionStyleModel",
            "description_width": "",
            "_view_module": "@jupyter-widgets/base",
            "_model_module_version": "1.5.0",
            "_view_count": null,
            "_view_module_version": "1.2.0",
            "_model_module": "@jupyter-widgets/controls"
          }
        },
        "1762d8d2b0b8465981946dc8981d39b0": {
          "model_module": "@jupyter-widgets/base",
          "model_name": "LayoutModel",
          "model_module_version": "1.2.0",
          "state": {
            "_view_name": "LayoutView",
            "grid_template_rows": null,
            "right": null,
            "justify_content": null,
            "_view_module": "@jupyter-widgets/base",
            "overflow": null,
            "_model_module_version": "1.2.0",
            "_view_count": null,
            "flex_flow": null,
            "width": null,
            "min_width": null,
            "border": null,
            "align_items": null,
            "bottom": null,
            "_model_module": "@jupyter-widgets/base",
            "top": null,
            "grid_column": null,
            "overflow_y": null,
            "overflow_x": null,
            "grid_auto_flow": null,
            "grid_area": null,
            "grid_template_columns": null,
            "flex": null,
            "_model_name": "LayoutModel",
            "justify_items": null,
            "grid_row": null,
            "max_height": null,
            "align_content": null,
            "visibility": null,
            "align_self": null,
            "height": null,
            "min_height": null,
            "padding": null,
            "grid_auto_rows": null,
            "grid_gap": null,
            "max_width": null,
            "order": null,
            "_view_module_version": "1.2.0",
            "grid_template_areas": null,
            "object_position": null,
            "object_fit": null,
            "grid_auto_columns": null,
            "margin": null,
            "display": null,
            "left": null
          }
        },
        "6d105a718317415d971abb973d23798b": {
          "model_module": "@jupyter-widgets/controls",
          "model_name": "HBoxModel",
          "model_module_version": "1.5.0",
          "state": {
            "_view_name": "HBoxView",
            "_dom_classes": [],
            "_model_name": "HBoxModel",
            "_view_module": "@jupyter-widgets/controls",
            "_model_module_version": "1.5.0",
            "_view_count": null,
            "_view_module_version": "1.5.0",
            "box_style": "",
            "layout": "IPY_MODEL_fd7be3b42a4e4b7588b5e8fecd69d3af",
            "_model_module": "@jupyter-widgets/controls",
            "children": [
              "IPY_MODEL_4a777c15ca924a74a5e642f7c09b16d3",
              "IPY_MODEL_a2c989b90ebb443db80de900f06ccaf4",
              "IPY_MODEL_3fba8f32f34b4be58bed640f7a22d73b"
            ]
          }
        },
        "fd7be3b42a4e4b7588b5e8fecd69d3af": {
          "model_module": "@jupyter-widgets/base",
          "model_name": "LayoutModel",
          "model_module_version": "1.2.0",
          "state": {
            "_view_name": "LayoutView",
            "grid_template_rows": null,
            "right": null,
            "justify_content": null,
            "_view_module": "@jupyter-widgets/base",
            "overflow": null,
            "_model_module_version": "1.2.0",
            "_view_count": null,
            "flex_flow": null,
            "width": null,
            "min_width": null,
            "border": null,
            "align_items": null,
            "bottom": null,
            "_model_module": "@jupyter-widgets/base",
            "top": null,
            "grid_column": null,
            "overflow_y": null,
            "overflow_x": null,
            "grid_auto_flow": null,
            "grid_area": null,
            "grid_template_columns": null,
            "flex": null,
            "_model_name": "LayoutModel",
            "justify_items": null,
            "grid_row": null,
            "max_height": null,
            "align_content": null,
            "visibility": null,
            "align_self": null,
            "height": null,
            "min_height": null,
            "padding": null,
            "grid_auto_rows": null,
            "grid_gap": null,
            "max_width": null,
            "order": null,
            "_view_module_version": "1.2.0",
            "grid_template_areas": null,
            "object_position": null,
            "object_fit": null,
            "grid_auto_columns": null,
            "margin": null,
            "display": null,
            "left": null
          }
        },
        "4a777c15ca924a74a5e642f7c09b16d3": {
          "model_module": "@jupyter-widgets/controls",
          "model_name": "HTMLModel",
          "model_module_version": "1.5.0",
          "state": {
            "_view_name": "HTMLView",
            "style": "IPY_MODEL_ac28505953234ceabac71a0b942ab5be",
            "_dom_classes": [],
            "description": "",
            "_model_name": "HTMLModel",
            "placeholder": "​",
            "_view_module": "@jupyter-widgets/controls",
            "_model_module_version": "1.5.0",
            "value": "Downloading: 100%",
            "_view_count": null,
            "_view_module_version": "1.5.0",
            "description_tooltip": null,
            "_model_module": "@jupyter-widgets/controls",
            "layout": "IPY_MODEL_848008ed21874018931edddea671ff04"
          }
        },
        "a2c989b90ebb443db80de900f06ccaf4": {
          "model_module": "@jupyter-widgets/controls",
          "model_name": "FloatProgressModel",
          "model_module_version": "1.5.0",
          "state": {
            "_view_name": "ProgressView",
            "style": "IPY_MODEL_72fc1b2018b04b1dae7af43fbdedb221",
            "_dom_classes": [],
            "description": "",
            "_model_name": "FloatProgressModel",
            "bar_style": "success",
            "max": 456318,
            "_view_module": "@jupyter-widgets/controls",
            "_model_module_version": "1.5.0",
            "value": 456318,
            "_view_count": null,
            "_view_module_version": "1.5.0",
            "orientation": "horizontal",
            "min": 0,
            "description_tooltip": null,
            "_model_module": "@jupyter-widgets/controls",
            "layout": "IPY_MODEL_2987b84f881942ad8332632242381c16"
          }
        },
        "3fba8f32f34b4be58bed640f7a22d73b": {
          "model_module": "@jupyter-widgets/controls",
          "model_name": "HTMLModel",
          "model_module_version": "1.5.0",
          "state": {
            "_view_name": "HTMLView",
            "style": "IPY_MODEL_dea70b5a5c934c549f308f49bcf137d0",
            "_dom_classes": [],
            "description": "",
            "_model_name": "HTMLModel",
            "placeholder": "​",
            "_view_module": "@jupyter-widgets/controls",
            "_model_module_version": "1.5.0",
            "value": " 446k/446k [00:00&lt;00:00, 4.61MB/s]",
            "_view_count": null,
            "_view_module_version": "1.5.0",
            "description_tooltip": null,
            "_model_module": "@jupyter-widgets/controls",
            "layout": "IPY_MODEL_3f1c7b98bdda48d8ae6c43504dc2eaab"
          }
        },
        "ac28505953234ceabac71a0b942ab5be": {
          "model_module": "@jupyter-widgets/controls",
          "model_name": "DescriptionStyleModel",
          "model_module_version": "1.5.0",
          "state": {
            "_view_name": "StyleView",
            "_model_name": "DescriptionStyleModel",
            "description_width": "",
            "_view_module": "@jupyter-widgets/base",
            "_model_module_version": "1.5.0",
            "_view_count": null,
            "_view_module_version": "1.2.0",
            "_model_module": "@jupyter-widgets/controls"
          }
        },
        "848008ed21874018931edddea671ff04": {
          "model_module": "@jupyter-widgets/base",
          "model_name": "LayoutModel",
          "model_module_version": "1.2.0",
          "state": {
            "_view_name": "LayoutView",
            "grid_template_rows": null,
            "right": null,
            "justify_content": null,
            "_view_module": "@jupyter-widgets/base",
            "overflow": null,
            "_model_module_version": "1.2.0",
            "_view_count": null,
            "flex_flow": null,
            "width": null,
            "min_width": null,
            "border": null,
            "align_items": null,
            "bottom": null,
            "_model_module": "@jupyter-widgets/base",
            "top": null,
            "grid_column": null,
            "overflow_y": null,
            "overflow_x": null,
            "grid_auto_flow": null,
            "grid_area": null,
            "grid_template_columns": null,
            "flex": null,
            "_model_name": "LayoutModel",
            "justify_items": null,
            "grid_row": null,
            "max_height": null,
            "align_content": null,
            "visibility": null,
            "align_self": null,
            "height": null,
            "min_height": null,
            "padding": null,
            "grid_auto_rows": null,
            "grid_gap": null,
            "max_width": null,
            "order": null,
            "_view_module_version": "1.2.0",
            "grid_template_areas": null,
            "object_position": null,
            "object_fit": null,
            "grid_auto_columns": null,
            "margin": null,
            "display": null,
            "left": null
          }
        },
        "72fc1b2018b04b1dae7af43fbdedb221": {
          "model_module": "@jupyter-widgets/controls",
          "model_name": "ProgressStyleModel",
          "model_module_version": "1.5.0",
          "state": {
            "_view_name": "StyleView",
            "_model_name": "ProgressStyleModel",
            "description_width": "",
            "_view_module": "@jupyter-widgets/base",
            "_model_module_version": "1.5.0",
            "_view_count": null,
            "_view_module_version": "1.2.0",
            "bar_color": null,
            "_model_module": "@jupyter-widgets/controls"
          }
        },
        "2987b84f881942ad8332632242381c16": {
          "model_module": "@jupyter-widgets/base",
          "model_name": "LayoutModel",
          "model_module_version": "1.2.0",
          "state": {
            "_view_name": "LayoutView",
            "grid_template_rows": null,
            "right": null,
            "justify_content": null,
            "_view_module": "@jupyter-widgets/base",
            "overflow": null,
            "_model_module_version": "1.2.0",
            "_view_count": null,
            "flex_flow": null,
            "width": null,
            "min_width": null,
            "border": null,
            "align_items": null,
            "bottom": null,
            "_model_module": "@jupyter-widgets/base",
            "top": null,
            "grid_column": null,
            "overflow_y": null,
            "overflow_x": null,
            "grid_auto_flow": null,
            "grid_area": null,
            "grid_template_columns": null,
            "flex": null,
            "_model_name": "LayoutModel",
            "justify_items": null,
            "grid_row": null,
            "max_height": null,
            "align_content": null,
            "visibility": null,
            "align_self": null,
            "height": null,
            "min_height": null,
            "padding": null,
            "grid_auto_rows": null,
            "grid_gap": null,
            "max_width": null,
            "order": null,
            "_view_module_version": "1.2.0",
            "grid_template_areas": null,
            "object_position": null,
            "object_fit": null,
            "grid_auto_columns": null,
            "margin": null,
            "display": null,
            "left": null
          }
        },
        "dea70b5a5c934c549f308f49bcf137d0": {
          "model_module": "@jupyter-widgets/controls",
          "model_name": "DescriptionStyleModel",
          "model_module_version": "1.5.0",
          "state": {
            "_view_name": "StyleView",
            "_model_name": "DescriptionStyleModel",
            "description_width": "",
            "_view_module": "@jupyter-widgets/base",
            "_model_module_version": "1.5.0",
            "_view_count": null,
            "_view_module_version": "1.2.0",
            "_model_module": "@jupyter-widgets/controls"
          }
        },
        "3f1c7b98bdda48d8ae6c43504dc2eaab": {
          "model_module": "@jupyter-widgets/base",
          "model_name": "LayoutModel",
          "model_module_version": "1.2.0",
          "state": {
            "_view_name": "LayoutView",
            "grid_template_rows": null,
            "right": null,
            "justify_content": null,
            "_view_module": "@jupyter-widgets/base",
            "overflow": null,
            "_model_module_version": "1.2.0",
            "_view_count": null,
            "flex_flow": null,
            "width": null,
            "min_width": null,
            "border": null,
            "align_items": null,
            "bottom": null,
            "_model_module": "@jupyter-widgets/base",
            "top": null,
            "grid_column": null,
            "overflow_y": null,
            "overflow_x": null,
            "grid_auto_flow": null,
            "grid_area": null,
            "grid_template_columns": null,
            "flex": null,
            "_model_name": "LayoutModel",
            "justify_items": null,
            "grid_row": null,
            "max_height": null,
            "align_content": null,
            "visibility": null,
            "align_self": null,
            "height": null,
            "min_height": null,
            "padding": null,
            "grid_auto_rows": null,
            "grid_gap": null,
            "max_width": null,
            "order": null,
            "_view_module_version": "1.2.0",
            "grid_template_areas": null,
            "object_position": null,
            "object_fit": null,
            "grid_auto_columns": null,
            "margin": null,
            "display": null,
            "left": null
          }
        },
        "5de549ad670747adac04dd423b3c215d": {
          "model_module": "@jupyter-widgets/controls",
          "model_name": "HBoxModel",
          "model_module_version": "1.5.0",
          "state": {
            "_view_name": "HBoxView",
            "_dom_classes": [],
            "_model_name": "HBoxModel",
            "_view_module": "@jupyter-widgets/controls",
            "_model_module_version": "1.5.0",
            "_view_count": null,
            "_view_module_version": "1.5.0",
            "box_style": "",
            "layout": "IPY_MODEL_d8baa08fb53542af89bedfea4bf1332e",
            "_model_module": "@jupyter-widgets/controls",
            "children": [
              "IPY_MODEL_a76fcd2b793243ef95b68a61ce6ac79b",
              "IPY_MODEL_ec4464c99b3d46a08c31ac0f6e27eb96",
              "IPY_MODEL_65b51a656a374081a64646b6fcb9110c"
            ]
          }
        },
        "d8baa08fb53542af89bedfea4bf1332e": {
          "model_module": "@jupyter-widgets/base",
          "model_name": "LayoutModel",
          "model_module_version": "1.2.0",
          "state": {
            "_view_name": "LayoutView",
            "grid_template_rows": null,
            "right": null,
            "justify_content": null,
            "_view_module": "@jupyter-widgets/base",
            "overflow": null,
            "_model_module_version": "1.2.0",
            "_view_count": null,
            "flex_flow": null,
            "width": null,
            "min_width": null,
            "border": null,
            "align_items": null,
            "bottom": null,
            "_model_module": "@jupyter-widgets/base",
            "top": null,
            "grid_column": null,
            "overflow_y": null,
            "overflow_x": null,
            "grid_auto_flow": null,
            "grid_area": null,
            "grid_template_columns": null,
            "flex": null,
            "_model_name": "LayoutModel",
            "justify_items": null,
            "grid_row": null,
            "max_height": null,
            "align_content": null,
            "visibility": null,
            "align_self": null,
            "height": null,
            "min_height": null,
            "padding": null,
            "grid_auto_rows": null,
            "grid_gap": null,
            "max_width": null,
            "order": null,
            "_view_module_version": "1.2.0",
            "grid_template_areas": null,
            "object_position": null,
            "object_fit": null,
            "grid_auto_columns": null,
            "margin": null,
            "display": null,
            "left": null
          }
        },
        "a76fcd2b793243ef95b68a61ce6ac79b": {
          "model_module": "@jupyter-widgets/controls",
          "model_name": "HTMLModel",
          "model_module_version": "1.5.0",
          "state": {
            "_view_name": "HTMLView",
            "style": "IPY_MODEL_07732580d4ba4af3974239fb4f9125d3",
            "_dom_classes": [],
            "description": "",
            "_model_name": "HTMLModel",
            "placeholder": "​",
            "_view_module": "@jupyter-widgets/controls",
            "_model_module_version": "1.5.0",
            "value": "Downloading: 100%",
            "_view_count": null,
            "_view_module_version": "1.5.0",
            "description_tooltip": null,
            "_model_module": "@jupyter-widgets/controls",
            "layout": "IPY_MODEL_0a086e08c4d94f37886b532210bf3942"
          }
        },
        "ec4464c99b3d46a08c31ac0f6e27eb96": {
          "model_module": "@jupyter-widgets/controls",
          "model_name": "FloatProgressModel",
          "model_module_version": "1.5.0",
          "state": {
            "_view_name": "ProgressView",
            "style": "IPY_MODEL_e33869920ddd4b2cb7ff8890d16dd374",
            "_dom_classes": [],
            "description": "",
            "_model_name": "FloatProgressModel",
            "bar_style": "success",
            "max": 52,
            "_view_module": "@jupyter-widgets/controls",
            "_model_module_version": "1.5.0",
            "value": 52,
            "_view_count": null,
            "_view_module_version": "1.5.0",
            "orientation": "horizontal",
            "min": 0,
            "description_tooltip": null,
            "_model_module": "@jupyter-widgets/controls",
            "layout": "IPY_MODEL_ae78aa2e24d847a5b0cf2c5f6f109e82"
          }
        },
        "65b51a656a374081a64646b6fcb9110c": {
          "model_module": "@jupyter-widgets/controls",
          "model_name": "HTMLModel",
          "model_module_version": "1.5.0",
          "state": {
            "_view_name": "HTMLView",
            "style": "IPY_MODEL_af20a9531a3842b4bf64a8f534210c37",
            "_dom_classes": [],
            "description": "",
            "_model_name": "HTMLModel",
            "placeholder": "​",
            "_view_module": "@jupyter-widgets/controls",
            "_model_module_version": "1.5.0",
            "value": " 52.0/52.0 [00:00&lt;00:00, 1.84kB/s]",
            "_view_count": null,
            "_view_module_version": "1.5.0",
            "description_tooltip": null,
            "_model_module": "@jupyter-widgets/controls",
            "layout": "IPY_MODEL_2c2b29db8384487d87d7f9271c4b3f16"
          }
        },
        "07732580d4ba4af3974239fb4f9125d3": {
          "model_module": "@jupyter-widgets/controls",
          "model_name": "DescriptionStyleModel",
          "model_module_version": "1.5.0",
          "state": {
            "_view_name": "StyleView",
            "_model_name": "DescriptionStyleModel",
            "description_width": "",
            "_view_module": "@jupyter-widgets/base",
            "_model_module_version": "1.5.0",
            "_view_count": null,
            "_view_module_version": "1.2.0",
            "_model_module": "@jupyter-widgets/controls"
          }
        },
        "0a086e08c4d94f37886b532210bf3942": {
          "model_module": "@jupyter-widgets/base",
          "model_name": "LayoutModel",
          "model_module_version": "1.2.0",
          "state": {
            "_view_name": "LayoutView",
            "grid_template_rows": null,
            "right": null,
            "justify_content": null,
            "_view_module": "@jupyter-widgets/base",
            "overflow": null,
            "_model_module_version": "1.2.0",
            "_view_count": null,
            "flex_flow": null,
            "width": null,
            "min_width": null,
            "border": null,
            "align_items": null,
            "bottom": null,
            "_model_module": "@jupyter-widgets/base",
            "top": null,
            "grid_column": null,
            "overflow_y": null,
            "overflow_x": null,
            "grid_auto_flow": null,
            "grid_area": null,
            "grid_template_columns": null,
            "flex": null,
            "_model_name": "LayoutModel",
            "justify_items": null,
            "grid_row": null,
            "max_height": null,
            "align_content": null,
            "visibility": null,
            "align_self": null,
            "height": null,
            "min_height": null,
            "padding": null,
            "grid_auto_rows": null,
            "grid_gap": null,
            "max_width": null,
            "order": null,
            "_view_module_version": "1.2.0",
            "grid_template_areas": null,
            "object_position": null,
            "object_fit": null,
            "grid_auto_columns": null,
            "margin": null,
            "display": null,
            "left": null
          }
        },
        "e33869920ddd4b2cb7ff8890d16dd374": {
          "model_module": "@jupyter-widgets/controls",
          "model_name": "ProgressStyleModel",
          "model_module_version": "1.5.0",
          "state": {
            "_view_name": "StyleView",
            "_model_name": "ProgressStyleModel",
            "description_width": "",
            "_view_module": "@jupyter-widgets/base",
            "_model_module_version": "1.5.0",
            "_view_count": null,
            "_view_module_version": "1.2.0",
            "bar_color": null,
            "_model_module": "@jupyter-widgets/controls"
          }
        },
        "ae78aa2e24d847a5b0cf2c5f6f109e82": {
          "model_module": "@jupyter-widgets/base",
          "model_name": "LayoutModel",
          "model_module_version": "1.2.0",
          "state": {
            "_view_name": "LayoutView",
            "grid_template_rows": null,
            "right": null,
            "justify_content": null,
            "_view_module": "@jupyter-widgets/base",
            "overflow": null,
            "_model_module_version": "1.2.0",
            "_view_count": null,
            "flex_flow": null,
            "width": null,
            "min_width": null,
            "border": null,
            "align_items": null,
            "bottom": null,
            "_model_module": "@jupyter-widgets/base",
            "top": null,
            "grid_column": null,
            "overflow_y": null,
            "overflow_x": null,
            "grid_auto_flow": null,
            "grid_area": null,
            "grid_template_columns": null,
            "flex": null,
            "_model_name": "LayoutModel",
            "justify_items": null,
            "grid_row": null,
            "max_height": null,
            "align_content": null,
            "visibility": null,
            "align_self": null,
            "height": null,
            "min_height": null,
            "padding": null,
            "grid_auto_rows": null,
            "grid_gap": null,
            "max_width": null,
            "order": null,
            "_view_module_version": "1.2.0",
            "grid_template_areas": null,
            "object_position": null,
            "object_fit": null,
            "grid_auto_columns": null,
            "margin": null,
            "display": null,
            "left": null
          }
        },
        "af20a9531a3842b4bf64a8f534210c37": {
          "model_module": "@jupyter-widgets/controls",
          "model_name": "DescriptionStyleModel",
          "model_module_version": "1.5.0",
          "state": {
            "_view_name": "StyleView",
            "_model_name": "DescriptionStyleModel",
            "description_width": "",
            "_view_module": "@jupyter-widgets/base",
            "_model_module_version": "1.5.0",
            "_view_count": null,
            "_view_module_version": "1.2.0",
            "_model_module": "@jupyter-widgets/controls"
          }
        },
        "2c2b29db8384487d87d7f9271c4b3f16": {
          "model_module": "@jupyter-widgets/base",
          "model_name": "LayoutModel",
          "model_module_version": "1.2.0",
          "state": {
            "_view_name": "LayoutView",
            "grid_template_rows": null,
            "right": null,
            "justify_content": null,
            "_view_module": "@jupyter-widgets/base",
            "overflow": null,
            "_model_module_version": "1.2.0",
            "_view_count": null,
            "flex_flow": null,
            "width": null,
            "min_width": null,
            "border": null,
            "align_items": null,
            "bottom": null,
            "_model_module": "@jupyter-widgets/base",
            "top": null,
            "grid_column": null,
            "overflow_y": null,
            "overflow_x": null,
            "grid_auto_flow": null,
            "grid_area": null,
            "grid_template_columns": null,
            "flex": null,
            "_model_name": "LayoutModel",
            "justify_items": null,
            "grid_row": null,
            "max_height": null,
            "align_content": null,
            "visibility": null,
            "align_self": null,
            "height": null,
            "min_height": null,
            "padding": null,
            "grid_auto_rows": null,
            "grid_gap": null,
            "max_width": null,
            "order": null,
            "_view_module_version": "1.2.0",
            "grid_template_areas": null,
            "object_position": null,
            "object_fit": null,
            "grid_auto_columns": null,
            "margin": null,
            "display": null,
            "left": null
          }
        },
        "fc153ab608bd4190932ecf479af00aae": {
          "model_module": "@jupyter-widgets/controls",
          "model_name": "HBoxModel",
          "model_module_version": "1.5.0",
          "state": {
            "_view_name": "HBoxView",
            "_dom_classes": [],
            "_model_name": "HBoxModel",
            "_view_module": "@jupyter-widgets/controls",
            "_model_module_version": "1.5.0",
            "_view_count": null,
            "_view_module_version": "1.5.0",
            "box_style": "",
            "layout": "IPY_MODEL_f07bd7a814a04dbcb42682f2ed74d46d",
            "_model_module": "@jupyter-widgets/controls",
            "children": [
              "IPY_MODEL_6380c2651dcb4666afad2aa57932794d",
              "IPY_MODEL_7ac368677c0e489880c17695511f8d54",
              "IPY_MODEL_794d4385220f46b5994a66d0c793d140"
            ]
          }
        },
        "f07bd7a814a04dbcb42682f2ed74d46d": {
          "model_module": "@jupyter-widgets/base",
          "model_name": "LayoutModel",
          "model_module_version": "1.2.0",
          "state": {
            "_view_name": "LayoutView",
            "grid_template_rows": null,
            "right": null,
            "justify_content": null,
            "_view_module": "@jupyter-widgets/base",
            "overflow": null,
            "_model_module_version": "1.2.0",
            "_view_count": null,
            "flex_flow": null,
            "width": null,
            "min_width": null,
            "border": null,
            "align_items": null,
            "bottom": null,
            "_model_module": "@jupyter-widgets/base",
            "top": null,
            "grid_column": null,
            "overflow_y": null,
            "overflow_x": null,
            "grid_auto_flow": null,
            "grid_area": null,
            "grid_template_columns": null,
            "flex": null,
            "_model_name": "LayoutModel",
            "justify_items": null,
            "grid_row": null,
            "max_height": null,
            "align_content": null,
            "visibility": null,
            "align_self": null,
            "height": null,
            "min_height": null,
            "padding": null,
            "grid_auto_rows": null,
            "grid_gap": null,
            "max_width": null,
            "order": null,
            "_view_module_version": "1.2.0",
            "grid_template_areas": null,
            "object_position": null,
            "object_fit": null,
            "grid_auto_columns": null,
            "margin": null,
            "display": null,
            "left": null
          }
        },
        "6380c2651dcb4666afad2aa57932794d": {
          "model_module": "@jupyter-widgets/controls",
          "model_name": "HTMLModel",
          "model_module_version": "1.5.0",
          "state": {
            "_view_name": "HTMLView",
            "style": "IPY_MODEL_8ab81218a5444cbbb6a9bb8f4f2f2bec",
            "_dom_classes": [],
            "description": "",
            "_model_name": "HTMLModel",
            "placeholder": "​",
            "_view_module": "@jupyter-widgets/controls",
            "_model_module_version": "1.5.0",
            "value": "Downloading: 100%",
            "_view_count": null,
            "_view_module_version": "1.5.0",
            "description_tooltip": null,
            "_model_module": "@jupyter-widgets/controls",
            "layout": "IPY_MODEL_41bfb85dd972471788b1c3673ce08f1b"
          }
        },
        "7ac368677c0e489880c17695511f8d54": {
          "model_module": "@jupyter-widgets/controls",
          "model_name": "FloatProgressModel",
          "model_module_version": "1.5.0",
          "state": {
            "_view_name": "ProgressView",
            "style": "IPY_MODEL_52cdd03f020440639a1880efa8b784ef",
            "_dom_classes": [],
            "description": "",
            "_model_name": "FloatProgressModel",
            "bar_style": "success",
            "max": 474,
            "_view_module": "@jupyter-widgets/controls",
            "_model_module_version": "1.5.0",
            "value": 474,
            "_view_count": null,
            "_view_module_version": "1.5.0",
            "orientation": "horizontal",
            "min": 0,
            "description_tooltip": null,
            "_model_module": "@jupyter-widgets/controls",
            "layout": "IPY_MODEL_0128e7b3847a442a9b19f0df8aae309a"
          }
        },
        "794d4385220f46b5994a66d0c793d140": {
          "model_module": "@jupyter-widgets/controls",
          "model_name": "HTMLModel",
          "model_module_version": "1.5.0",
          "state": {
            "_view_name": "HTMLView",
            "style": "IPY_MODEL_9f36c260346245fa9676adb10a483820",
            "_dom_classes": [],
            "description": "",
            "_model_name": "HTMLModel",
            "placeholder": "​",
            "_view_module": "@jupyter-widgets/controls",
            "_model_module_version": "1.5.0",
            "value": " 474/474 [00:00&lt;00:00, 20.3kB/s]",
            "_view_count": null,
            "_view_module_version": "1.5.0",
            "description_tooltip": null,
            "_model_module": "@jupyter-widgets/controls",
            "layout": "IPY_MODEL_33342dcb3b444fcb9de62142355e883e"
          }
        },
        "8ab81218a5444cbbb6a9bb8f4f2f2bec": {
          "model_module": "@jupyter-widgets/controls",
          "model_name": "DescriptionStyleModel",
          "model_module_version": "1.5.0",
          "state": {
            "_view_name": "StyleView",
            "_model_name": "DescriptionStyleModel",
            "description_width": "",
            "_view_module": "@jupyter-widgets/base",
            "_model_module_version": "1.5.0",
            "_view_count": null,
            "_view_module_version": "1.2.0",
            "_model_module": "@jupyter-widgets/controls"
          }
        },
        "41bfb85dd972471788b1c3673ce08f1b": {
          "model_module": "@jupyter-widgets/base",
          "model_name": "LayoutModel",
          "model_module_version": "1.2.0",
          "state": {
            "_view_name": "LayoutView",
            "grid_template_rows": null,
            "right": null,
            "justify_content": null,
            "_view_module": "@jupyter-widgets/base",
            "overflow": null,
            "_model_module_version": "1.2.0",
            "_view_count": null,
            "flex_flow": null,
            "width": null,
            "min_width": null,
            "border": null,
            "align_items": null,
            "bottom": null,
            "_model_module": "@jupyter-widgets/base",
            "top": null,
            "grid_column": null,
            "overflow_y": null,
            "overflow_x": null,
            "grid_auto_flow": null,
            "grid_area": null,
            "grid_template_columns": null,
            "flex": null,
            "_model_name": "LayoutModel",
            "justify_items": null,
            "grid_row": null,
            "max_height": null,
            "align_content": null,
            "visibility": null,
            "align_self": null,
            "height": null,
            "min_height": null,
            "padding": null,
            "grid_auto_rows": null,
            "grid_gap": null,
            "max_width": null,
            "order": null,
            "_view_module_version": "1.2.0",
            "grid_template_areas": null,
            "object_position": null,
            "object_fit": null,
            "grid_auto_columns": null,
            "margin": null,
            "display": null,
            "left": null
          }
        },
        "52cdd03f020440639a1880efa8b784ef": {
          "model_module": "@jupyter-widgets/controls",
          "model_name": "ProgressStyleModel",
          "model_module_version": "1.5.0",
          "state": {
            "_view_name": "StyleView",
            "_model_name": "ProgressStyleModel",
            "description_width": "",
            "_view_module": "@jupyter-widgets/base",
            "_model_module_version": "1.5.0",
            "_view_count": null,
            "_view_module_version": "1.2.0",
            "bar_color": null,
            "_model_module": "@jupyter-widgets/controls"
          }
        },
        "0128e7b3847a442a9b19f0df8aae309a": {
          "model_module": "@jupyter-widgets/base",
          "model_name": "LayoutModel",
          "model_module_version": "1.2.0",
          "state": {
            "_view_name": "LayoutView",
            "grid_template_rows": null,
            "right": null,
            "justify_content": null,
            "_view_module": "@jupyter-widgets/base",
            "overflow": null,
            "_model_module_version": "1.2.0",
            "_view_count": null,
            "flex_flow": null,
            "width": null,
            "min_width": null,
            "border": null,
            "align_items": null,
            "bottom": null,
            "_model_module": "@jupyter-widgets/base",
            "top": null,
            "grid_column": null,
            "overflow_y": null,
            "overflow_x": null,
            "grid_auto_flow": null,
            "grid_area": null,
            "grid_template_columns": null,
            "flex": null,
            "_model_name": "LayoutModel",
            "justify_items": null,
            "grid_row": null,
            "max_height": null,
            "align_content": null,
            "visibility": null,
            "align_self": null,
            "height": null,
            "min_height": null,
            "padding": null,
            "grid_auto_rows": null,
            "grid_gap": null,
            "max_width": null,
            "order": null,
            "_view_module_version": "1.2.0",
            "grid_template_areas": null,
            "object_position": null,
            "object_fit": null,
            "grid_auto_columns": null,
            "margin": null,
            "display": null,
            "left": null
          }
        },
        "9f36c260346245fa9676adb10a483820": {
          "model_module": "@jupyter-widgets/controls",
          "model_name": "DescriptionStyleModel",
          "model_module_version": "1.5.0",
          "state": {
            "_view_name": "StyleView",
            "_model_name": "DescriptionStyleModel",
            "description_width": "",
            "_view_module": "@jupyter-widgets/base",
            "_model_module_version": "1.5.0",
            "_view_count": null,
            "_view_module_version": "1.2.0",
            "_model_module": "@jupyter-widgets/controls"
          }
        },
        "33342dcb3b444fcb9de62142355e883e": {
          "model_module": "@jupyter-widgets/base",
          "model_name": "LayoutModel",
          "model_module_version": "1.2.0",
          "state": {
            "_view_name": "LayoutView",
            "grid_template_rows": null,
            "right": null,
            "justify_content": null,
            "_view_module": "@jupyter-widgets/base",
            "overflow": null,
            "_model_module_version": "1.2.0",
            "_view_count": null,
            "flex_flow": null,
            "width": null,
            "min_width": null,
            "border": null,
            "align_items": null,
            "bottom": null,
            "_model_module": "@jupyter-widgets/base",
            "top": null,
            "grid_column": null,
            "overflow_y": null,
            "overflow_x": null,
            "grid_auto_flow": null,
            "grid_area": null,
            "grid_template_columns": null,
            "flex": null,
            "_model_name": "LayoutModel",
            "justify_items": null,
            "grid_row": null,
            "max_height": null,
            "align_content": null,
            "visibility": null,
            "align_self": null,
            "height": null,
            "min_height": null,
            "padding": null,
            "grid_auto_rows": null,
            "grid_gap": null,
            "max_width": null,
            "order": null,
            "_view_module_version": "1.2.0",
            "grid_template_areas": null,
            "object_position": null,
            "object_fit": null,
            "grid_auto_columns": null,
            "margin": null,
            "display": null,
            "left": null
          }
        },
        "8b2a1a7773a7466187aa5f74717ee69a": {
          "model_module": "@jupyter-widgets/controls",
          "model_name": "HBoxModel",
          "model_module_version": "1.5.0",
          "state": {
            "_view_name": "HBoxView",
            "_dom_classes": [],
            "_model_name": "HBoxModel",
            "_view_module": "@jupyter-widgets/controls",
            "_model_module_version": "1.5.0",
            "_view_count": null,
            "_view_module_version": "1.5.0",
            "box_style": "",
            "layout": "IPY_MODEL_9ce6f0cff092476290ada26985131120",
            "_model_module": "@jupyter-widgets/controls",
            "children": [
              "IPY_MODEL_9246c5801de54b6f9868ee5e8d1fac69",
              "IPY_MODEL_321326ab1b584011978b9ab3059f7b15",
              "IPY_MODEL_44e7e9453d3643c39199113a6966c54c"
            ]
          }
        },
        "9ce6f0cff092476290ada26985131120": {
          "model_module": "@jupyter-widgets/base",
          "model_name": "LayoutModel",
          "model_module_version": "1.2.0",
          "state": {
            "_view_name": "LayoutView",
            "grid_template_rows": null,
            "right": null,
            "justify_content": null,
            "_view_module": "@jupyter-widgets/base",
            "overflow": null,
            "_model_module_version": "1.2.0",
            "_view_count": null,
            "flex_flow": null,
            "width": null,
            "min_width": null,
            "border": null,
            "align_items": null,
            "bottom": null,
            "_model_module": "@jupyter-widgets/base",
            "top": null,
            "grid_column": null,
            "overflow_y": null,
            "overflow_x": null,
            "grid_auto_flow": null,
            "grid_area": null,
            "grid_template_columns": null,
            "flex": null,
            "_model_name": "LayoutModel",
            "justify_items": null,
            "grid_row": null,
            "max_height": null,
            "align_content": null,
            "visibility": null,
            "align_self": null,
            "height": null,
            "min_height": null,
            "padding": null,
            "grid_auto_rows": null,
            "grid_gap": null,
            "max_width": null,
            "order": null,
            "_view_module_version": "1.2.0",
            "grid_template_areas": null,
            "object_position": null,
            "object_fit": null,
            "grid_auto_columns": null,
            "margin": null,
            "display": null,
            "left": null
          }
        },
        "9246c5801de54b6f9868ee5e8d1fac69": {
          "model_module": "@jupyter-widgets/controls",
          "model_name": "HTMLModel",
          "model_module_version": "1.5.0",
          "state": {
            "_view_name": "HTMLView",
            "style": "IPY_MODEL_3ea220d2272e4abda2f13cd7baf23f60",
            "_dom_classes": [],
            "description": "",
            "_model_name": "HTMLModel",
            "placeholder": "​",
            "_view_module": "@jupyter-widgets/controls",
            "_model_module_version": "1.5.0",
            "value": "100%",
            "_view_count": null,
            "_view_module_version": "1.5.0",
            "description_tooltip": null,
            "_model_module": "@jupyter-widgets/controls",
            "layout": "IPY_MODEL_01ce08d714fc4c269f9072a1bb6969cb"
          }
        },
        "321326ab1b584011978b9ab3059f7b15": {
          "model_module": "@jupyter-widgets/controls",
          "model_name": "FloatProgressModel",
          "model_module_version": "1.5.0",
          "state": {
            "_view_name": "ProgressView",
            "style": "IPY_MODEL_544061c43c04460794f46f802ba67f27",
            "_dom_classes": [],
            "description": "",
            "_model_name": "FloatProgressModel",
            "bar_style": "success",
            "max": 2094,
            "_view_module": "@jupyter-widgets/controls",
            "_model_module_version": "1.5.0",
            "value": 2094,
            "_view_count": null,
            "_view_module_version": "1.5.0",
            "orientation": "horizontal",
            "min": 0,
            "description_tooltip": null,
            "_model_module": "@jupyter-widgets/controls",
            "layout": "IPY_MODEL_8fe826792f184747aae7a7c16c3795ba"
          }
        },
        "44e7e9453d3643c39199113a6966c54c": {
          "model_module": "@jupyter-widgets/controls",
          "model_name": "HTMLModel",
          "model_module_version": "1.5.0",
          "state": {
            "_view_name": "HTMLView",
            "style": "IPY_MODEL_394935c7b46a465a9c0ffe9e35bf54d7",
            "_dom_classes": [],
            "description": "",
            "_model_name": "HTMLModel",
            "placeholder": "​",
            "_view_module": "@jupyter-widgets/controls",
            "_model_module_version": "1.5.0",
            "value": " 2094/2094 [05:44&lt;00:00,  5.64it/s]",
            "_view_count": null,
            "_view_module_version": "1.5.0",
            "description_tooltip": null,
            "_model_module": "@jupyter-widgets/controls",
            "layout": "IPY_MODEL_cc445d9b7cc3498bba31573a60e2fb1b"
          }
        },
        "3ea220d2272e4abda2f13cd7baf23f60": {
          "model_module": "@jupyter-widgets/controls",
          "model_name": "DescriptionStyleModel",
          "model_module_version": "1.5.0",
          "state": {
            "_view_name": "StyleView",
            "_model_name": "DescriptionStyleModel",
            "description_width": "",
            "_view_module": "@jupyter-widgets/base",
            "_model_module_version": "1.5.0",
            "_view_count": null,
            "_view_module_version": "1.2.0",
            "_model_module": "@jupyter-widgets/controls"
          }
        },
        "01ce08d714fc4c269f9072a1bb6969cb": {
          "model_module": "@jupyter-widgets/base",
          "model_name": "LayoutModel",
          "model_module_version": "1.2.0",
          "state": {
            "_view_name": "LayoutView",
            "grid_template_rows": null,
            "right": null,
            "justify_content": null,
            "_view_module": "@jupyter-widgets/base",
            "overflow": null,
            "_model_module_version": "1.2.0",
            "_view_count": null,
            "flex_flow": null,
            "width": null,
            "min_width": null,
            "border": null,
            "align_items": null,
            "bottom": null,
            "_model_module": "@jupyter-widgets/base",
            "top": null,
            "grid_column": null,
            "overflow_y": null,
            "overflow_x": null,
            "grid_auto_flow": null,
            "grid_area": null,
            "grid_template_columns": null,
            "flex": null,
            "_model_name": "LayoutModel",
            "justify_items": null,
            "grid_row": null,
            "max_height": null,
            "align_content": null,
            "visibility": null,
            "align_self": null,
            "height": null,
            "min_height": null,
            "padding": null,
            "grid_auto_rows": null,
            "grid_gap": null,
            "max_width": null,
            "order": null,
            "_view_module_version": "1.2.0",
            "grid_template_areas": null,
            "object_position": null,
            "object_fit": null,
            "grid_auto_columns": null,
            "margin": null,
            "display": null,
            "left": null
          }
        },
        "544061c43c04460794f46f802ba67f27": {
          "model_module": "@jupyter-widgets/controls",
          "model_name": "ProgressStyleModel",
          "model_module_version": "1.5.0",
          "state": {
            "_view_name": "StyleView",
            "_model_name": "ProgressStyleModel",
            "description_width": "",
            "_view_module": "@jupyter-widgets/base",
            "_model_module_version": "1.5.0",
            "_view_count": null,
            "_view_module_version": "1.2.0",
            "bar_color": null,
            "_model_module": "@jupyter-widgets/controls"
          }
        },
        "8fe826792f184747aae7a7c16c3795ba": {
          "model_module": "@jupyter-widgets/base",
          "model_name": "LayoutModel",
          "model_module_version": "1.2.0",
          "state": {
            "_view_name": "LayoutView",
            "grid_template_rows": null,
            "right": null,
            "justify_content": null,
            "_view_module": "@jupyter-widgets/base",
            "overflow": null,
            "_model_module_version": "1.2.0",
            "_view_count": null,
            "flex_flow": null,
            "width": null,
            "min_width": null,
            "border": null,
            "align_items": null,
            "bottom": null,
            "_model_module": "@jupyter-widgets/base",
            "top": null,
            "grid_column": null,
            "overflow_y": null,
            "overflow_x": null,
            "grid_auto_flow": null,
            "grid_area": null,
            "grid_template_columns": null,
            "flex": null,
            "_model_name": "LayoutModel",
            "justify_items": null,
            "grid_row": null,
            "max_height": null,
            "align_content": null,
            "visibility": null,
            "align_self": null,
            "height": null,
            "min_height": null,
            "padding": null,
            "grid_auto_rows": null,
            "grid_gap": null,
            "max_width": null,
            "order": null,
            "_view_module_version": "1.2.0",
            "grid_template_areas": null,
            "object_position": null,
            "object_fit": null,
            "grid_auto_columns": null,
            "margin": null,
            "display": null,
            "left": null
          }
        },
        "394935c7b46a465a9c0ffe9e35bf54d7": {
          "model_module": "@jupyter-widgets/controls",
          "model_name": "DescriptionStyleModel",
          "model_module_version": "1.5.0",
          "state": {
            "_view_name": "StyleView",
            "_model_name": "DescriptionStyleModel",
            "description_width": "",
            "_view_module": "@jupyter-widgets/base",
            "_model_module_version": "1.5.0",
            "_view_count": null,
            "_view_module_version": "1.2.0",
            "_model_module": "@jupyter-widgets/controls"
          }
        },
        "cc445d9b7cc3498bba31573a60e2fb1b": {
          "model_module": "@jupyter-widgets/base",
          "model_name": "LayoutModel",
          "model_module_version": "1.2.0",
          "state": {
            "_view_name": "LayoutView",
            "grid_template_rows": null,
            "right": null,
            "justify_content": null,
            "_view_module": "@jupyter-widgets/base",
            "overflow": null,
            "_model_module_version": "1.2.0",
            "_view_count": null,
            "flex_flow": null,
            "width": null,
            "min_width": null,
            "border": null,
            "align_items": null,
            "bottom": null,
            "_model_module": "@jupyter-widgets/base",
            "top": null,
            "grid_column": null,
            "overflow_y": null,
            "overflow_x": null,
            "grid_auto_flow": null,
            "grid_area": null,
            "grid_template_columns": null,
            "flex": null,
            "_model_name": "LayoutModel",
            "justify_items": null,
            "grid_row": null,
            "max_height": null,
            "align_content": null,
            "visibility": null,
            "align_self": null,
            "height": null,
            "min_height": null,
            "padding": null,
            "grid_auto_rows": null,
            "grid_gap": null,
            "max_width": null,
            "order": null,
            "_view_module_version": "1.2.0",
            "grid_template_areas": null,
            "object_position": null,
            "object_fit": null,
            "grid_auto_columns": null,
            "margin": null,
            "display": null,
            "left": null
          }
        },
        "7cac9aa378724bcab3c8415ca6e53933": {
          "model_module": "@jupyter-widgets/controls",
          "model_name": "HBoxModel",
          "model_module_version": "1.5.0",
          "state": {
            "_view_name": "HBoxView",
            "_dom_classes": [],
            "_model_name": "HBoxModel",
            "_view_module": "@jupyter-widgets/controls",
            "_model_module_version": "1.5.0",
            "_view_count": null,
            "_view_module_version": "1.5.0",
            "box_style": "",
            "layout": "IPY_MODEL_90d0285888d14f24a8d58ffe1957a9e6",
            "_model_module": "@jupyter-widgets/controls",
            "children": [
              "IPY_MODEL_9f8f43f1119e40f39f59a7590e30ce43",
              "IPY_MODEL_873aae59b66743f4a78fd9f1c4aa34d2",
              "IPY_MODEL_85fbaec654794a9d982afe7d6024e7cc"
            ]
          }
        },
        "90d0285888d14f24a8d58ffe1957a9e6": {
          "model_module": "@jupyter-widgets/base",
          "model_name": "LayoutModel",
          "model_module_version": "1.2.0",
          "state": {
            "_view_name": "LayoutView",
            "grid_template_rows": null,
            "right": null,
            "justify_content": null,
            "_view_module": "@jupyter-widgets/base",
            "overflow": null,
            "_model_module_version": "1.2.0",
            "_view_count": null,
            "flex_flow": null,
            "width": null,
            "min_width": null,
            "border": null,
            "align_items": null,
            "bottom": null,
            "_model_module": "@jupyter-widgets/base",
            "top": null,
            "grid_column": null,
            "overflow_y": null,
            "overflow_x": null,
            "grid_auto_flow": null,
            "grid_area": null,
            "grid_template_columns": null,
            "flex": null,
            "_model_name": "LayoutModel",
            "justify_items": null,
            "grid_row": null,
            "max_height": null,
            "align_content": null,
            "visibility": null,
            "align_self": null,
            "height": null,
            "min_height": null,
            "padding": null,
            "grid_auto_rows": null,
            "grid_gap": null,
            "max_width": null,
            "order": null,
            "_view_module_version": "1.2.0",
            "grid_template_areas": null,
            "object_position": null,
            "object_fit": null,
            "grid_auto_columns": null,
            "margin": null,
            "display": null,
            "left": null
          }
        },
        "9f8f43f1119e40f39f59a7590e30ce43": {
          "model_module": "@jupyter-widgets/controls",
          "model_name": "HTMLModel",
          "model_module_version": "1.5.0",
          "state": {
            "_view_name": "HTMLView",
            "style": "IPY_MODEL_977cf05eeabc457496e6cb2903ceaaee",
            "_dom_classes": [],
            "description": "",
            "_model_name": "HTMLModel",
            "placeholder": "​",
            "_view_module": "@jupyter-widgets/controls",
            "_model_module_version": "1.5.0",
            "value": "100%",
            "_view_count": null,
            "_view_module_version": "1.5.0",
            "description_tooltip": null,
            "_model_module": "@jupyter-widgets/controls",
            "layout": "IPY_MODEL_62a6458ee484446e96305d982f75eb3a"
          }
        },
        "873aae59b66743f4a78fd9f1c4aa34d2": {
          "model_module": "@jupyter-widgets/controls",
          "model_name": "FloatProgressModel",
          "model_module_version": "1.5.0",
          "state": {
            "_view_name": "ProgressView",
            "style": "IPY_MODEL_fc45804f805944eab6b10e0cef39145b",
            "_dom_classes": [],
            "description": "",
            "_model_name": "FloatProgressModel",
            "bar_style": "success",
            "max": 993,
            "_view_module": "@jupyter-widgets/controls",
            "_model_module_version": "1.5.0",
            "value": 993,
            "_view_count": null,
            "_view_module_version": "1.5.0",
            "orientation": "horizontal",
            "min": 0,
            "description_tooltip": null,
            "_model_module": "@jupyter-widgets/controls",
            "layout": "IPY_MODEL_53e17ec4231b42f29091111782e417ef"
          }
        },
        "85fbaec654794a9d982afe7d6024e7cc": {
          "model_module": "@jupyter-widgets/controls",
          "model_name": "HTMLModel",
          "model_module_version": "1.5.0",
          "state": {
            "_view_name": "HTMLView",
            "style": "IPY_MODEL_e2ba3b5693cd4c4793dbd76db9e8d949",
            "_dom_classes": [],
            "description": "",
            "_model_name": "HTMLModel",
            "placeholder": "​",
            "_view_module": "@jupyter-widgets/controls",
            "_model_module_version": "1.5.0",
            "value": " 993/993 [00:11&lt;00:00, 111.85sentence/s]",
            "_view_count": null,
            "_view_module_version": "1.5.0",
            "description_tooltip": null,
            "_model_module": "@jupyter-widgets/controls",
            "layout": "IPY_MODEL_d887beccfeaa43dcb2dbfc7980ea55f1"
          }
        },
        "977cf05eeabc457496e6cb2903ceaaee": {
          "model_module": "@jupyter-widgets/controls",
          "model_name": "DescriptionStyleModel",
          "model_module_version": "1.5.0",
          "state": {
            "_view_name": "StyleView",
            "_model_name": "DescriptionStyleModel",
            "description_width": "",
            "_view_module": "@jupyter-widgets/base",
            "_model_module_version": "1.5.0",
            "_view_count": null,
            "_view_module_version": "1.2.0",
            "_model_module": "@jupyter-widgets/controls"
          }
        },
        "62a6458ee484446e96305d982f75eb3a": {
          "model_module": "@jupyter-widgets/base",
          "model_name": "LayoutModel",
          "model_module_version": "1.2.0",
          "state": {
            "_view_name": "LayoutView",
            "grid_template_rows": null,
            "right": null,
            "justify_content": null,
            "_view_module": "@jupyter-widgets/base",
            "overflow": null,
            "_model_module_version": "1.2.0",
            "_view_count": null,
            "flex_flow": null,
            "width": null,
            "min_width": null,
            "border": null,
            "align_items": null,
            "bottom": null,
            "_model_module": "@jupyter-widgets/base",
            "top": null,
            "grid_column": null,
            "overflow_y": null,
            "overflow_x": null,
            "grid_auto_flow": null,
            "grid_area": null,
            "grid_template_columns": null,
            "flex": null,
            "_model_name": "LayoutModel",
            "justify_items": null,
            "grid_row": null,
            "max_height": null,
            "align_content": null,
            "visibility": null,
            "align_self": null,
            "height": null,
            "min_height": null,
            "padding": null,
            "grid_auto_rows": null,
            "grid_gap": null,
            "max_width": null,
            "order": null,
            "_view_module_version": "1.2.0",
            "grid_template_areas": null,
            "object_position": null,
            "object_fit": null,
            "grid_auto_columns": null,
            "margin": null,
            "display": null,
            "left": null
          }
        },
        "fc45804f805944eab6b10e0cef39145b": {
          "model_module": "@jupyter-widgets/controls",
          "model_name": "ProgressStyleModel",
          "model_module_version": "1.5.0",
          "state": {
            "_view_name": "StyleView",
            "_model_name": "ProgressStyleModel",
            "description_width": "",
            "_view_module": "@jupyter-widgets/base",
            "_model_module_version": "1.5.0",
            "_view_count": null,
            "_view_module_version": "1.2.0",
            "bar_color": null,
            "_model_module": "@jupyter-widgets/controls"
          }
        },
        "53e17ec4231b42f29091111782e417ef": {
          "model_module": "@jupyter-widgets/base",
          "model_name": "LayoutModel",
          "model_module_version": "1.2.0",
          "state": {
            "_view_name": "LayoutView",
            "grid_template_rows": null,
            "right": null,
            "justify_content": null,
            "_view_module": "@jupyter-widgets/base",
            "overflow": null,
            "_model_module_version": "1.2.0",
            "_view_count": null,
            "flex_flow": null,
            "width": null,
            "min_width": null,
            "border": null,
            "align_items": null,
            "bottom": null,
            "_model_module": "@jupyter-widgets/base",
            "top": null,
            "grid_column": null,
            "overflow_y": null,
            "overflow_x": null,
            "grid_auto_flow": null,
            "grid_area": null,
            "grid_template_columns": null,
            "flex": null,
            "_model_name": "LayoutModel",
            "justify_items": null,
            "grid_row": null,
            "max_height": null,
            "align_content": null,
            "visibility": null,
            "align_self": null,
            "height": null,
            "min_height": null,
            "padding": null,
            "grid_auto_rows": null,
            "grid_gap": null,
            "max_width": null,
            "order": null,
            "_view_module_version": "1.2.0",
            "grid_template_areas": null,
            "object_position": null,
            "object_fit": null,
            "grid_auto_columns": null,
            "margin": null,
            "display": null,
            "left": null
          }
        },
        "e2ba3b5693cd4c4793dbd76db9e8d949": {
          "model_module": "@jupyter-widgets/controls",
          "model_name": "DescriptionStyleModel",
          "model_module_version": "1.5.0",
          "state": {
            "_view_name": "StyleView",
            "_model_name": "DescriptionStyleModel",
            "description_width": "",
            "_view_module": "@jupyter-widgets/base",
            "_model_module_version": "1.5.0",
            "_view_count": null,
            "_view_module_version": "1.2.0",
            "_model_module": "@jupyter-widgets/controls"
          }
        },
        "d887beccfeaa43dcb2dbfc7980ea55f1": {
          "model_module": "@jupyter-widgets/base",
          "model_name": "LayoutModel",
          "model_module_version": "1.2.0",
          "state": {
            "_view_name": "LayoutView",
            "grid_template_rows": null,
            "right": null,
            "justify_content": null,
            "_view_module": "@jupyter-widgets/base",
            "overflow": null,
            "_model_module_version": "1.2.0",
            "_view_count": null,
            "flex_flow": null,
            "width": null,
            "min_width": null,
            "border": null,
            "align_items": null,
            "bottom": null,
            "_model_module": "@jupyter-widgets/base",
            "top": null,
            "grid_column": null,
            "overflow_y": null,
            "overflow_x": null,
            "grid_auto_flow": null,
            "grid_area": null,
            "grid_template_columns": null,
            "flex": null,
            "_model_name": "LayoutModel",
            "justify_items": null,
            "grid_row": null,
            "max_height": null,
            "align_content": null,
            "visibility": null,
            "align_self": null,
            "height": null,
            "min_height": null,
            "padding": null,
            "grid_auto_rows": null,
            "grid_gap": null,
            "max_width": null,
            "order": null,
            "_view_module_version": "1.2.0",
            "grid_template_areas": null,
            "object_position": null,
            "object_fit": null,
            "grid_auto_columns": null,
            "margin": null,
            "display": null,
            "left": null
          }
        },
        "9eb1dbb593b84df4801f97246767f492": {
          "model_module": "@jupyter-widgets/controls",
          "model_name": "HBoxModel",
          "model_module_version": "1.5.0",
          "state": {
            "_view_name": "HBoxView",
            "_dom_classes": [],
            "_model_name": "HBoxModel",
            "_view_module": "@jupyter-widgets/controls",
            "_model_module_version": "1.5.0",
            "_view_count": null,
            "_view_module_version": "1.5.0",
            "box_style": "",
            "layout": "IPY_MODEL_23d8f6d4c9d34792bf03d57c43b191bc",
            "_model_module": "@jupyter-widgets/controls",
            "children": [
              "IPY_MODEL_117f713ccd0746d190a7fef451dff1e5",
              "IPY_MODEL_85c7f9f13fa543adabb46bce4ecf3cd3",
              "IPY_MODEL_199a1b382ae2470cba7c190becb994e1"
            ]
          }
        },
        "23d8f6d4c9d34792bf03d57c43b191bc": {
          "model_module": "@jupyter-widgets/base",
          "model_name": "LayoutModel",
          "model_module_version": "1.2.0",
          "state": {
            "_view_name": "LayoutView",
            "grid_template_rows": null,
            "right": null,
            "justify_content": null,
            "_view_module": "@jupyter-widgets/base",
            "overflow": null,
            "_model_module_version": "1.2.0",
            "_view_count": null,
            "flex_flow": null,
            "width": null,
            "min_width": null,
            "border": null,
            "align_items": null,
            "bottom": null,
            "_model_module": "@jupyter-widgets/base",
            "top": null,
            "grid_column": null,
            "overflow_y": null,
            "overflow_x": null,
            "grid_auto_flow": null,
            "grid_area": null,
            "grid_template_columns": null,
            "flex": null,
            "_model_name": "LayoutModel",
            "justify_items": null,
            "grid_row": null,
            "max_height": null,
            "align_content": null,
            "visibility": null,
            "align_self": null,
            "height": null,
            "min_height": null,
            "padding": null,
            "grid_auto_rows": null,
            "grid_gap": null,
            "max_width": null,
            "order": null,
            "_view_module_version": "1.2.0",
            "grid_template_areas": null,
            "object_position": null,
            "object_fit": null,
            "grid_auto_columns": null,
            "margin": null,
            "display": null,
            "left": null
          }
        },
        "117f713ccd0746d190a7fef451dff1e5": {
          "model_module": "@jupyter-widgets/controls",
          "model_name": "HTMLModel",
          "model_module_version": "1.5.0",
          "state": {
            "_view_name": "HTMLView",
            "style": "IPY_MODEL_018a7eddae79463c92fda250ee5dd8cb",
            "_dom_classes": [],
            "description": "",
            "_model_name": "HTMLModel",
            "placeholder": "​",
            "_view_module": "@jupyter-widgets/controls",
            "_model_module_version": "1.5.0",
            "value": "100%",
            "_view_count": null,
            "_view_module_version": "1.5.0",
            "description_tooltip": null,
            "_model_module": "@jupyter-widgets/controls",
            "layout": "IPY_MODEL_588845c443514167ba5669367e17d1e7"
          }
        },
        "85c7f9f13fa543adabb46bce4ecf3cd3": {
          "model_module": "@jupyter-widgets/controls",
          "model_name": "FloatProgressModel",
          "model_module_version": "1.5.0",
          "state": {
            "_view_name": "ProgressView",
            "style": "IPY_MODEL_4ec4eabf0e354bbb97e9554e6629113a",
            "_dom_classes": [],
            "description": "",
            "_model_name": "FloatProgressModel",
            "bar_style": "success",
            "max": 9476,
            "_view_module": "@jupyter-widgets/controls",
            "_model_module_version": "1.5.0",
            "value": 9476,
            "_view_count": null,
            "_view_module_version": "1.5.0",
            "orientation": "horizontal",
            "min": 0,
            "description_tooltip": null,
            "_model_module": "@jupyter-widgets/controls",
            "layout": "IPY_MODEL_8b3c9a395a864159b64c0955d60c4ffe"
          }
        },
        "199a1b382ae2470cba7c190becb994e1": {
          "model_module": "@jupyter-widgets/controls",
          "model_name": "HTMLModel",
          "model_module_version": "1.5.0",
          "state": {
            "_view_name": "HTMLView",
            "style": "IPY_MODEL_ab7f2ef652214dd8839f0574a4c044b9",
            "_dom_classes": [],
            "description": "",
            "_model_name": "HTMLModel",
            "placeholder": "​",
            "_view_module": "@jupyter-widgets/controls",
            "_model_module_version": "1.5.0",
            "value": " 9476/9476 [01:34&lt;00:00, 126.31sentence/s]",
            "_view_count": null,
            "_view_module_version": "1.5.0",
            "description_tooltip": null,
            "_model_module": "@jupyter-widgets/controls",
            "layout": "IPY_MODEL_3b6fbccddcf5438395b9338b5623554b"
          }
        },
        "018a7eddae79463c92fda250ee5dd8cb": {
          "model_module": "@jupyter-widgets/controls",
          "model_name": "DescriptionStyleModel",
          "model_module_version": "1.5.0",
          "state": {
            "_view_name": "StyleView",
            "_model_name": "DescriptionStyleModel",
            "description_width": "",
            "_view_module": "@jupyter-widgets/base",
            "_model_module_version": "1.5.0",
            "_view_count": null,
            "_view_module_version": "1.2.0",
            "_model_module": "@jupyter-widgets/controls"
          }
        },
        "588845c443514167ba5669367e17d1e7": {
          "model_module": "@jupyter-widgets/base",
          "model_name": "LayoutModel",
          "model_module_version": "1.2.0",
          "state": {
            "_view_name": "LayoutView",
            "grid_template_rows": null,
            "right": null,
            "justify_content": null,
            "_view_module": "@jupyter-widgets/base",
            "overflow": null,
            "_model_module_version": "1.2.0",
            "_view_count": null,
            "flex_flow": null,
            "width": null,
            "min_width": null,
            "border": null,
            "align_items": null,
            "bottom": null,
            "_model_module": "@jupyter-widgets/base",
            "top": null,
            "grid_column": null,
            "overflow_y": null,
            "overflow_x": null,
            "grid_auto_flow": null,
            "grid_area": null,
            "grid_template_columns": null,
            "flex": null,
            "_model_name": "LayoutModel",
            "justify_items": null,
            "grid_row": null,
            "max_height": null,
            "align_content": null,
            "visibility": null,
            "align_self": null,
            "height": null,
            "min_height": null,
            "padding": null,
            "grid_auto_rows": null,
            "grid_gap": null,
            "max_width": null,
            "order": null,
            "_view_module_version": "1.2.0",
            "grid_template_areas": null,
            "object_position": null,
            "object_fit": null,
            "grid_auto_columns": null,
            "margin": null,
            "display": null,
            "left": null
          }
        },
        "4ec4eabf0e354bbb97e9554e6629113a": {
          "model_module": "@jupyter-widgets/controls",
          "model_name": "ProgressStyleModel",
          "model_module_version": "1.5.0",
          "state": {
            "_view_name": "StyleView",
            "_model_name": "ProgressStyleModel",
            "description_width": "",
            "_view_module": "@jupyter-widgets/base",
            "_model_module_version": "1.5.0",
            "_view_count": null,
            "_view_module_version": "1.2.0",
            "bar_color": null,
            "_model_module": "@jupyter-widgets/controls"
          }
        },
        "8b3c9a395a864159b64c0955d60c4ffe": {
          "model_module": "@jupyter-widgets/base",
          "model_name": "LayoutModel",
          "model_module_version": "1.2.0",
          "state": {
            "_view_name": "LayoutView",
            "grid_template_rows": null,
            "right": null,
            "justify_content": null,
            "_view_module": "@jupyter-widgets/base",
            "overflow": null,
            "_model_module_version": "1.2.0",
            "_view_count": null,
            "flex_flow": null,
            "width": null,
            "min_width": null,
            "border": null,
            "align_items": null,
            "bottom": null,
            "_model_module": "@jupyter-widgets/base",
            "top": null,
            "grid_column": null,
            "overflow_y": null,
            "overflow_x": null,
            "grid_auto_flow": null,
            "grid_area": null,
            "grid_template_columns": null,
            "flex": null,
            "_model_name": "LayoutModel",
            "justify_items": null,
            "grid_row": null,
            "max_height": null,
            "align_content": null,
            "visibility": null,
            "align_self": null,
            "height": null,
            "min_height": null,
            "padding": null,
            "grid_auto_rows": null,
            "grid_gap": null,
            "max_width": null,
            "order": null,
            "_view_module_version": "1.2.0",
            "grid_template_areas": null,
            "object_position": null,
            "object_fit": null,
            "grid_auto_columns": null,
            "margin": null,
            "display": null,
            "left": null
          }
        },
        "ab7f2ef652214dd8839f0574a4c044b9": {
          "model_module": "@jupyter-widgets/controls",
          "model_name": "DescriptionStyleModel",
          "model_module_version": "1.5.0",
          "state": {
            "_view_name": "StyleView",
            "_model_name": "DescriptionStyleModel",
            "description_width": "",
            "_view_module": "@jupyter-widgets/base",
            "_model_module_version": "1.5.0",
            "_view_count": null,
            "_view_module_version": "1.2.0",
            "_model_module": "@jupyter-widgets/controls"
          }
        },
        "3b6fbccddcf5438395b9338b5623554b": {
          "model_module": "@jupyter-widgets/base",
          "model_name": "LayoutModel",
          "model_module_version": "1.2.0",
          "state": {
            "_view_name": "LayoutView",
            "grid_template_rows": null,
            "right": null,
            "justify_content": null,
            "_view_module": "@jupyter-widgets/base",
            "overflow": null,
            "_model_module_version": "1.2.0",
            "_view_count": null,
            "flex_flow": null,
            "width": null,
            "min_width": null,
            "border": null,
            "align_items": null,
            "bottom": null,
            "_model_module": "@jupyter-widgets/base",
            "top": null,
            "grid_column": null,
            "overflow_y": null,
            "overflow_x": null,
            "grid_auto_flow": null,
            "grid_area": null,
            "grid_template_columns": null,
            "flex": null,
            "_model_name": "LayoutModel",
            "justify_items": null,
            "grid_row": null,
            "max_height": null,
            "align_content": null,
            "visibility": null,
            "align_self": null,
            "height": null,
            "min_height": null,
            "padding": null,
            "grid_auto_rows": null,
            "grid_gap": null,
            "max_width": null,
            "order": null,
            "_view_module_version": "1.2.0",
            "grid_template_areas": null,
            "object_position": null,
            "object_fit": null,
            "grid_auto_columns": null,
            "margin": null,
            "display": null,
            "left": null
          }
        }
      }
    }
  },
  "nbformat": 4,
  "nbformat_minor": 0
}