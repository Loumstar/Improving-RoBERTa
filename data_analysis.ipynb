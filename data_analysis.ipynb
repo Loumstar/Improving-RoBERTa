{
 "cells": [
  {
   "cell_type": "markdown",
   "metadata": {},
   "source": [
    "# NLP Coursework Data Analysis"
   ]
  },
  {
   "cell_type": "markdown",
   "metadata": {},
   "source": [
    "## Setup"
   ]
  },
  {
   "cell_type": "markdown",
   "metadata": {},
   "source": [
    "## Imports"
   ]
  },
  {
   "cell_type": "code",
   "execution_count": 2,
   "metadata": {},
   "outputs": [
    {
     "name": "stderr",
     "output_type": "stream",
     "text": [
      "[nltk_data] Downloading package stopwords to\n",
      "[nltk_data]     /Users/louismanestar/nltk_data...\n",
      "[nltk_data]   Package stopwords is already up-to-date!\n",
      "[nltk_data] Downloading package omw-1.4 to\n",
      "[nltk_data]     /Users/louismanestar/nltk_data...\n",
      "[nltk_data]   Package omw-1.4 is already up-to-date!\n",
      "[nltk_data] Downloading package wordnet to\n",
      "[nltk_data]     /Users/louismanestar/nltk_data...\n",
      "[nltk_data]   Package wordnet is already up-to-date!\n",
      "[nltk_data] Downloading package punkt to\n",
      "[nltk_data]     /Users/louismanestar/nltk_data...\n",
      "[nltk_data]   Package punkt is already up-to-date!\n"
     ]
    }
   ],
   "source": [
    "import nltk\n",
    "import re\n",
    "import string\n",
    "import json\n",
    "\n",
    "import pandas as pd\n",
    "import numpy as np\n",
    "\n",
    "from tqdm import tqdm\n",
    "from urllib import request\n",
    "from operator import itemgetter\n",
    "from matplotlib import pyplot as plt\n",
    "\n",
    "nltk.download('stopwords')\n",
    "nltk.download('omw-1.4')\n",
    "nltk.download('wordnet')\n",
    "nltk.download('punkt')\n",
    "\n",
    "from nltk.corpus import stopwords\n",
    "from nltk.tokenize import wordpunct_tokenize\n",
    "from nltk.stem import WordNetLemmatizer"
   ]
  },
  {
   "cell_type": "markdown",
   "metadata": {},
   "source": [
    "### Load Dataset"
   ]
  },
  {
   "cell_type": "code",
   "execution_count": 3,
   "metadata": {},
   "outputs": [
    {
     "name": "stdout",
     "output_type": "stream",
     "text": [
      "Fetching https://raw.githubusercontent.com/Perez-AlmendrosC/dontpatronizeme/master/semeval-2022/dont_patronize_me.py\n"
     ]
    }
   ],
   "source": [
    "module_url = f\"https://raw.githubusercontent.com/Perez-AlmendrosC/dontpatronizeme/master/semeval-2022/dont_patronize_me.py\"\n",
    "module_name = module_url.split('/')[-1]\n",
    "\n",
    "print(f'Fetching {module_url}')\n",
    "with request.urlopen(module_url) as f, open(module_name,'w') as outf:\n",
    "  a = f.read()\n",
    "  outf.write(a.decode('utf-8'))"
   ]
  },
  {
   "cell_type": "code",
   "execution_count": 4,
   "metadata": {},
   "outputs": [
    {
     "name": "stdout",
     "output_type": "stream",
     "text": [
      "Whole dataset info:\n",
      "(10465, 7)\n",
      "Index(['par_id', 'art_id', 'keyword', 'country', 'text', 'label',\n",
      "       'orig_label'],\n",
      "      dtype='object')\n",
      "Patronising and Unpatronising shapes:\n",
      "(993, 7) (9472, 7)\n"
     ]
    }
   ],
   "source": [
    "from dont_patronize_me import DontPatronizeMe\n",
    "\n",
    "dpm = DontPatronizeMe('.', '.')\n",
    "dpm.load_task1()\n",
    "\n",
    "df = dpm.train_task1_df\n",
    "\n",
    "print(\"Whole dataset info:\")\n",
    "print(df.shape)\n",
    "print(df.columns)\n",
    "\n",
    "patr_df = df.loc[df.label == 1]\n",
    "unpatr_df = df.loc[df.label == 0]\n",
    "\n",
    "patr_df_length = patr_df.shape[0]\n",
    "unpatr_df_length = unpatr_df.shape[0]\n",
    "\n",
    "print(\"Patronising and Unpatronising shapes:\")\n",
    "print(patr_df.shape, unpatr_df.shape)"
   ]
  },
  {
   "cell_type": "markdown",
   "metadata": {},
   "source": [
    "## Data Analysis"
   ]
  },
  {
   "cell_type": "markdown",
   "metadata": {},
   "source": [
    "### General Info"
   ]
  },
  {
   "cell_type": "markdown",
   "metadata": {},
   "source": [
    "#### Balance of Classes"
   ]
  },
  {
   "cell_type": "code",
   "execution_count": 5,
   "metadata": {},
   "outputs": [],
   "source": [
    "def get_binary_label_distribution(df, axis):\n",
    "    _, _, [patch0, patch1] = axis.hist(df.label.map(int), \n",
    "                                       bins=[-0.5, 0.5, 1.5])\n",
    "\n",
    "    patch0.set_facecolor(\"tab:blue\")\n",
    "    patch1.set_facecolor(\"tab:orange\")\n",
    "\n",
    "    axis.set_xticks([0, 1], labels=[\"Unpatronising\", \"Patronising\"])\n",
    "\n",
    "def get_multi_label_distribution(df, axis):\n",
    "    _, _, patches = axis.hist(df.orig_label.map(int), \n",
    "                    bins=[-0.5, 0.5, 1.5, 2.5, 3.5, 4.5])\n",
    "\n",
    "    colours = [\"tab:blue\", \"tab:orange\", \"tab:green\", \"tab:red\", \"tab:purple\"]\n",
    "\n",
    "    for patch, colour in zip(patches, colours):\n",
    "        patch.set_facecolor(colour)"
   ]
  },
  {
   "cell_type": "code",
   "execution_count": 6,
   "metadata": {},
   "outputs": [
    {
     "data": {
      "text/plain": [
       "Text(0.5, 0, 'Levels of condescension')"
      ]
     },
     "execution_count": 6,
     "metadata": {},
     "output_type": "execute_result"
    },
    {
     "data": {
      "image/png": "[encoded data removed]",
      "text/plain": [
       "<Figure size 792x288 with 2 Axes>"
      ]
     },
     "metadata": {
      "needs_background": "light"
     },
     "output_type": "display_data"
    }
   ],
   "source": [
    "figure, (binary_ax, multi_ax) = plt.subplots(1, 2)\n",
    "\n",
    "figure.suptitle(\"Distribution of patronising classs\")\n",
    "figure.set_size_inches((11, 4))\n",
    "\n",
    "get_binary_label_distribution(df, binary_ax)\n",
    "\n",
    "binary_ax.set_ylabel(\"Frequency\")\n",
    "binary_ax.set_xlabel(\"Class\")\n",
    "\n",
    "get_multi_label_distribution(df, multi_ax)\n",
    "\n",
    "multi_ax.set_ylabel(\"Frequency\")\n",
    "multi_ax.set_xlabel(\"Levels of condescension\")"
   ]
  },
  {
   "cell_type": "markdown",
   "metadata": {},
   "source": [
    "#### Distribution of Languages"
   ]
  },
  {
   "cell_type": "code",
   "execution_count": 7,
   "metadata": {},
   "outputs": [
    {
     "data": {
      "text/plain": [
       "Text(0.5, 0, 'Country')"
      ]
     },
     "execution_count": 7,
     "metadata": {},
     "output_type": "execute_result"
    },
    {
     "data": {
      "image/png": "[encoded data removed]",
      "text/plain": [
       "<Figure size 504x288 with 1 Axes>"
      ]
     },
     "metadata": {
      "needs_background": "light"
     },
     "output_type": "display_data"
    }
   ],
   "source": [
    "figure, axis = plt.subplots()\n",
    "\n",
    "figure.set_size_inches((7, 4))\n",
    "\n",
    "labels, counts = np.unique(df.country, return_counts=True)\n",
    "\n",
    "label_counts = list(zip(labels, counts))\n",
    "label_counts.sort(key=itemgetter(1), reverse=True)\n",
    "labels_sorted, counts_sorted = zip(*label_counts)\n",
    "\n",
    "axis.bar(np.arange(len(counts)), counts_sorted, tick_label=labels_sorted)\n",
    "\n",
    "axis.set_title(\"Distribution of source-text countries\")\n",
    "axis.set_ylabel(\"Frequency\")\n",
    "axis.set_xlabel(\"Country\")"
   ]
  },
  {
   "cell_type": "markdown",
   "metadata": {},
   "source": [
    "### Distribution of Categories"
   ]
  },
  {
   "cell_type": "code",
   "execution_count": 8,
   "metadata": {},
   "outputs": [
    {
     "data": {
      "text/plain": [
       "Text(0.5, 0, 'Category')"
      ]
     },
     "execution_count": 8,
     "metadata": {},
     "output_type": "execute_result"
    },
    {
     "data": {
      "image/png": "[encoded data removed]",
      "text/plain": [
       "<Figure size 504x288 with 1 Axes>"
      ]
     },
     "metadata": {
      "needs_background": "light"
     },
     "output_type": "display_data"
    }
   ],
   "source": [
    "figure, axis = plt.subplots()\n",
    "\n",
    "figure.set_size_inches((7, 4))\n",
    "\n",
    "labels, counts = np.unique(df.keyword, return_counts=True)\n",
    "\n",
    "label_counts = list(zip(labels, counts))\n",
    "label_counts.sort(key=itemgetter(1), reverse=True)\n",
    "labels_sorted, counts_sorted = zip(*label_counts)\n",
    "\n",
    "axis.bar(np.arange(len(counts)), counts_sorted, tick_label=labels_sorted)\n",
    "\n",
    "axis.tick_params(axis='x', labelrotation=30)\n",
    "\n",
    "axis.set_title(\"Distribution of categories\")\n",
    "axis.set_ylabel(\"Frequency\")\n",
    "axis.set_xlabel(\"Category\")"
   ]
  },
  {
   "cell_type": "markdown",
   "metadata": {},
   "source": [
    "## Text Analysis"
   ]
  },
  {
   "cell_type": "markdown",
   "metadata": {},
   "source": [
    "#### Average Character Length"
   ]
  },
  {
   "cell_type": "code",
   "execution_count": 9,
   "metadata": {},
   "outputs": [
    {
     "name": "stdout",
     "output_type": "stream",
     "text": [
      "Average number of characters for\n",
      "\t- patronising class: 288.45\n",
      "\t- unpatronising class: 265.38\n"
     ]
    },
    {
     "data": {
      "text/plain": [
       "<matplotlib.legend.Legend at 0x29a530a00>"
      ]
     },
     "execution_count": 9,
     "metadata": {},
     "output_type": "execute_result"
    },
    {
     "data": {
      "image/png": "[encoded data removed]",
      "text/plain": [
       "<Figure size 432x360 with 1 Axes>"
      ]
     },
     "metadata": {
      "needs_background": "light"
     },
     "output_type": "display_data"
    }
   ],
   "source": [
    "unpatr_series = unpatr_df.text.str.len()\n",
    "patr_series = patr_df.text.str.len()\n",
    "\n",
    "print(f\"Average number of characters for\"\n",
    "      f\"\\n\\t- patronising class: {patr_series.mean():.2f}\"\n",
    "      f\"\\n\\t- unpatronising class: {unpatr_series.mean():.2f}\")\n",
    "\n",
    "(unpatr_counts, unpatr_bins) = np.histogram(unpatr_series, bins=100, range=(0, 2000))\n",
    "(patr_counts, patr_bins) = np.histogram(patr_series, bins=100, range=(0, 2000))\n",
    "\n",
    "figure, axis = plt.subplots()\n",
    "figure.set_size_inches((6, 5))\n",
    "\n",
    "axis.hist(unpatr_bins[:-1], unpatr_bins, alpha=1, label=\"Unpatronising class\",\n",
    "          weights=unpatr_counts / unpatr_df_length)\n",
    "\n",
    "axis.hist(patr_bins[:-1], patr_bins, alpha=0.75, label=\"Patronising class\",\n",
    "          weights=patr_counts / patr_df_length)\n",
    "\n",
    "axis.set_title(\"Distribution of character lengths\")\n",
    "axis.set_ylabel(\"Frequency %\")\n",
    "axis.set_xlabel(\"Character Length\")\n",
    "axis.set_xlim((0, 2000))\n",
    "axis.legend()"
   ]
  },
  {
   "cell_type": "markdown",
   "metadata": {},
   "source": [
    "#### Average Number of Words"
   ]
  },
  {
   "cell_type": "code",
   "execution_count": 10,
   "metadata": {},
   "outputs": [
    {
     "name": "stdout",
     "output_type": "stream",
     "text": [
      "Average number of words for\n",
      "\t- patronising class: 53.62\n",
      "\t- unpatronising class: 47.87\n",
      "Average word length for\n",
      "\t- patronising class: 4.43\n",
      "\t- unpatronising class: 4.62\n"
     ]
    },
    {
     "name": "stderr",
     "output_type": "stream",
     "text": [
      "/Users/louismanestar/.pyenv/versions/3.8.12/lib/python3.8/site-packages/numpy/core/fromnumeric.py:3474: RuntimeWarning: Mean of empty slice.\n",
      "  return _methods._mean(a, axis=axis, dtype=dtype,\n",
      "/Users/louismanestar/.pyenv/versions/3.8.12/lib/python3.8/site-packages/numpy/core/_methods.py:189: RuntimeWarning: invalid value encountered in double_scalars\n",
      "  ret = ret.dtype.type(ret / rcount)\n"
     ]
    },
    {
     "data": {
      "text/plain": [
       "<matplotlib.legend.Legend at 0x29aa9f730>"
      ]
     },
     "execution_count": 10,
     "metadata": {},
     "output_type": "execute_result"
    },
    {
     "data": {
      "image/png": "[encoded data removed]",
      "text/plain": [
       "<Figure size 864x360 with 2 Axes>"
      ]
     },
     "metadata": {
      "needs_background": "light"
     },
     "output_type": "display_data"
    }
   ],
   "source": [
    "def get_list_length(x):\n",
    "    if type(x) != list:\n",
    "        x = [str(x)]\n",
    "\n",
    "    return len(x)\n",
    "\n",
    "unpatr_series = unpatr_df.text.str.split().map(get_list_length)\n",
    "patr_series = patr_df.text.str.split().map(get_list_length)\n",
    "\n",
    "print(f\"Average number of words for\"\n",
    "      f\"\\n\\t- patronising class: {patr_series.mean():.2f}\"\n",
    "      f\"\\n\\t- unpatronising class: {unpatr_series.mean():.2f}\")\n",
    "\n",
    "(unpatr_counts, unpatr_bins) = np.histogram(unpatr_series, bins=100, range=(0, 500))\n",
    "(patr_counts, patr_bins) = np.histogram(patr_series, bins=100, range=(0, 500))\n",
    "\n",
    "figure, (axis1, axis2) = plt.subplots(1, 2)\n",
    "figure.set_size_inches((12, 5))\n",
    "\n",
    "axis1.hist(unpatr_bins[:-1], unpatr_bins, alpha=1, label=\"Unpatronising class\",\n",
    "          weights=unpatr_counts / unpatr_df_length)\n",
    "\n",
    "axis1.hist(patr_bins[:-1], patr_bins, alpha=0.75, label=\"Patronising class\",\n",
    "          weights=patr_counts / patr_df_length)\n",
    "\n",
    "axis1.set_title(\"Distribution of number of words\")\n",
    "axis1.set_ylabel(\"Frequency %\")\n",
    "axis1.set_xlabel(\"Number of Words\")\n",
    "axis1.set_xlim((0, 500))\n",
    "axis1.legend()\n",
    "\n",
    "\n",
    "def mean_item_length(x):\n",
    "    if type(x) != list:\n",
    "        x = [str(x)]\n",
    "    \n",
    "    lengths = list(map(len, x))\n",
    "    return np.mean(lengths)\n",
    "\n",
    "unpatr_series = unpatr_df.text.str.split().map(mean_item_length)\n",
    "patr_series = patr_df.text.str.split().map(mean_item_length)\n",
    "\n",
    "print(f\"Average word length for\"\n",
    "      f\"\\n\\t- patronising class: {patr_series.mean():.2f}\"\n",
    "      f\"\\n\\t- unpatronising class: {unpatr_series.mean():.2f}\")\n",
    "\n",
    "(unpatr_counts, unpatr_bins) = np.histogram(unpatr_series, bins=100, range=(0, 10))\n",
    "(patr_counts, patr_bins) = np.histogram(patr_series, bins=100, range=(0, 10))\n",
    "\n",
    "axis2.hist(unpatr_bins[:-1], unpatr_bins, alpha=1, label=\"Unpatronising class\",\n",
    "          weights=unpatr_counts / unpatr_df_length)\n",
    "\n",
    "axis2.hist(patr_bins[:-1], patr_bins, alpha=0.75, label=\"Patronising class\",\n",
    "          weights=patr_counts / patr_df_length)\n",
    "\n",
    "axis2.set_title(\"Distribution of word length\")\n",
    "axis2.set_ylabel(\"Frequency %\")\n",
    "axis2.set_xlabel(\"Word Length\")\n",
    "axis2.set_xlim((0, 10))\n",
    "axis2.legend()"
   ]
  },
  {
   "cell_type": "markdown",
   "metadata": {},
   "source": [
    "#### Average Word Length"
   ]
  },
  {
   "cell_type": "code",
   "execution_count": 11,
   "metadata": {},
   "outputs": [
    {
     "name": "stdout",
     "output_type": "stream",
     "text": [
      "Average word length for\n",
      "\t- patronising dataset: 4.43\n",
      "\t- unpatronising dataset: 4.62\n"
     ]
    },
    {
     "data": {
      "text/plain": [
       "<matplotlib.legend.Legend at 0x29a6aae50>"
      ]
     },
     "execution_count": 11,
     "metadata": {},
     "output_type": "execute_result"
    },
    {
     "data": {
      "image/png": "[encoded data removed]",
      "text/plain": [
       "<Figure size 432x360 with 1 Axes>"
      ]
     },
     "metadata": {
      "needs_background": "light"
     },
     "output_type": "display_data"
    }
   ],
   "source": [
    "def mean_item_length(x):\n",
    "    if type(x) != list:\n",
    "        x = [str(x)]\n",
    "    \n",
    "    lengths = list(map(len, x))\n",
    "    return np.mean(lengths)\n",
    "\n",
    "unpatr_series = unpatr_df.text.str.split().map(mean_item_length)\n",
    "patr_series = patr_df.text.str.split().map(mean_item_length)\n",
    "\n",
    "print(f\"Average word length for\"\n",
    "      f\"\\n\\t- patronising dataset: {patr_series.mean():.2f}\"\n",
    "      f\"\\n\\t- unpatronising dataset: {unpatr_series.mean():.2f}\")\n",
    "\n",
    "(unpatr_counts, unpatr_bins) = np.histogram(unpatr_series, bins=100, range=(0, 10))\n",
    "(patr_counts, patr_bins) = np.histogram(patr_series, bins=100, range=(0, 10))\n",
    "\n",
    "figure, axis2 = plt.subplots()\n",
    "figure.set_size_inches((6, 5))\n",
    "\n",
    "axis2.hist(unpatr_bins[:-1], unpatr_bins, alpha=1, label=\"Unpatronising Dataset\",\n",
    "          weights=unpatr_counts / unpatr_df_length)\n",
    "\n",
    "axis2.hist(patr_bins[:-1], patr_bins, alpha=0.75, label=\"Patronising Dataset\",\n",
    "          weights=patr_counts / patr_df_length)\n",
    "\n",
    "axis2.set_title(\"Distribution of word length\")\n",
    "axis2.set_ylabel(\"Frequency %\")\n",
    "axis2.set_xlabel(\"Word Length\")\n",
    "axis2.set_xlim((0, 10))\n",
    "axis2.legend()"
   ]
  },
  {
   "cell_type": "markdown",
   "metadata": {},
   "source": [
    "### $ n $-gram Analysis"
   ]
  },
  {
   "cell_type": "code",
   "execution_count": 12,
   "metadata": {},
   "outputs": [
    {
     "name": "stderr",
     "output_type": "stream",
     "text": [
      "100%|██████████| 993/993 [00:03<00:00, 270.69sentence/s]\n",
      "100%|██████████| 9472/9472 [00:25<00:00, 368.28sentence/s]\n"
     ]
    }
   ],
   "source": [
    "punct_regex = re.compile(r'[\\s\\,\\/\\.\\']')\n",
    "lemmatizer = WordNetLemmatizer()\n",
    "\n",
    "def remove_stop_words(token):\n",
    "    return token not in stopwords.words(\"english\")\n",
    "\n",
    "def remove_punctuation(token):\n",
    "    return not any(map(lambda s: s in string.punctuation, token))\n",
    "\n",
    "def lemmatize(word):\n",
    "    return lemmatizer.lemmatize(word, pos=\"v\")\n",
    "\n",
    "def get_tokenized_corpus(corpus):\n",
    "    tokenized_with_punct_and_stops = list()\n",
    "    tokenized_corpus = list()\n",
    "\n",
    "    for sentence in tqdm(corpus, unit=\"sentence\"):\n",
    "        tokens = wordpunct_tokenize(sentence)\n",
    "        tokens = list(map(lemmatize, tokens))\n",
    "\n",
    "        tokenized_with_punct_and_stops.append(tokens)\n",
    "\n",
    "        tokens = filter(remove_punctuation, tokens)\n",
    "        tokens = filter(remove_stop_words, tokens)\n",
    "\n",
    "        tokenized_corpus.append(list(tokens))\n",
    "        \n",
    "    return {\n",
    "        \"no_punct_or_stops\": tokenized_corpus, \n",
    "        \"lemmatized_only\": tokenized_with_punct_and_stops\n",
    "    }\n",
    "\n",
    "patr_corpus = get_tokenized_corpus(patr_df[\"text\"])\n",
    "unpatr_corpus = get_tokenized_corpus(unpatr_df[\"text\"])\n",
    "\n",
    "complete_corpus = {\n",
    "    \"no_punct_or_stops\": patr_corpus[\"no_punct_or_stops\"] \\\n",
    "        + unpatr_corpus[\"no_punct_or_stops\"], \n",
    "    \"lemmatized_only\": patr_corpus[\"lemmatized_only\"] \\\n",
    "        + unpatr_corpus[\"lemmatized_only\"]\n",
    "}\n",
    "\n",
    "\"\"\"\n",
    "with open(\"corpus/tokenised_corpus.json\", \"w\") as f:\n",
    "    json.dump(complete_corpus, f, indent=4)\n",
    "\n",
    "with open(\"corpus/patronising_tokenised_corpus.json\", \"w\") as f:\n",
    "    json.dump(patr_corpus, f, indent=4)\n",
    "\n",
    "with open(\"corpus/unpatronising_tokenised_corpus.json\", \"w\") as f:\n",
    "    json.dump(unpatr_corpus, f, indent=4)\n",
    "\"\"\"\n",
    "\n",
    "patr_corpus = patr_corpus.get(\"no_punct_or_stops\")\n",
    "unpatr_corpus = unpatr_corpus.get(\"no_punct_or_stops\")"
   ]
  },
  {
   "cell_type": "code",
   "execution_count": 13,
   "metadata": {},
   "outputs": [],
   "source": [
    "def get_n_gram_frequency(n, sentences, rounding=4):\n",
    "    n_grams = dict()\n",
    "\n",
    "    for i, sentence in enumerate(sentences):\n",
    "        for j in range(len(sentence) + 1 - n):\n",
    "            n_gram = \" \".join(sentence[j:j+n]).lower()\n",
    "\n",
    "            if n_gram in n_grams:\n",
    "                n_grams[n_gram] += 1\n",
    "            else:\n",
    "                n_grams[n_gram] = 1\n",
    "\n",
    "            \"\"\"\n",
    "            if n_gram in n_grams:\n",
    "                n_grams[n_gram][\"count\"] += 1\n",
    "                n_grams[n_gram][\"refs\"].append((i, j))\n",
    "            else:\n",
    "                n_grams[n_gram] = {\n",
    "                    \"count\": 1,\n",
    "                    \"refs\": [(i, j)]\n",
    "                }\n",
    "            \"\"\"\n",
    "    \n",
    "    for key, val in n_grams.items():\n",
    "        n_grams[key] = round(val, rounding)\n",
    "    \n",
    "    return n_grams\n",
    "\n",
    "def to_tuple(dictionary):\n",
    "    return list(zip(dictionary.keys(), dictionary.values()))\n",
    "    \"\"\"\n",
    "    keys = dictionary.keys()\n",
    "\n",
    "    counts = map(itemgetter(\"count\"), dictionary.values())\n",
    "    refs = map(itemgetter(\"refs\"), dictionary.values())\n",
    "    \n",
    "    return list(zip(keys, counts, refs))\n",
    "    \"\"\"\n",
    "\n",
    "\n",
    "def find_matching_n_grams(corpus_a, corpus_b, n, k=25, rounding=4):\n",
    "    a_n_grams = get_n_gram_frequency(n, corpus_a, rounding=rounding)\n",
    "    b_n_grams = get_n_gram_frequency(n, corpus_b, rounding=rounding)\n",
    "\n",
    "    common_a_n_grams = sorted(to_tuple(a_n_grams), \n",
    "                              key=itemgetter(1),\n",
    "                              reverse=True)[:k]\n",
    "\n",
    "    common_b_n_grams = sorted(to_tuple(b_n_grams), \n",
    "                              key=itemgetter(1),\n",
    "                              reverse=True)[:k]\n",
    "\n",
    "    common_a_strings = set(map(itemgetter(0), common_a_n_grams))\n",
    "    common_b_strings = set(map(itemgetter(0), common_b_n_grams))\n",
    "\n",
    "    common_n_grams = set.intersection(common_a_strings, common_b_strings)\n",
    "    common_a_not_b = common_a_strings.difference(common_b_strings)\n",
    "    common_b_not_a = common_b_strings.difference(common_a_strings)\n",
    "\n",
    "    def common_n_gram_counts(n_gram):\n",
    "        a_count = a_n_grams.get(n_gram, 0)\n",
    "        b_count = b_n_grams.get(n_gram, 0)\n",
    "        \n",
    "        if b_count != 0:\n",
    "            ratio = (len(corpus_b) * a_count) / (len(corpus_a) * b_count)\n",
    "            ratio = round(ratio, rounding)\n",
    "        else:\n",
    "            ratio = None\n",
    "        return (n_gram, a_count, b_count, ratio)\n",
    "\n",
    "    common_n_grams = list(map(common_n_gram_counts, common_n_grams))\n",
    "    common_a_not_b = list(map(common_n_gram_counts, common_a_not_b))\n",
    "    common_b_not_a = list(map(common_n_gram_counts, common_b_not_a))\n",
    "\n",
    "    return common_n_grams, common_a_not_b, common_b_not_a"
   ]
  },
  {
   "cell_type": "code",
   "execution_count": 14,
   "metadata": {},
   "outputs": [
    {
     "name": "stdout",
     "output_type": "stream",
     "text": [
      "Common 1-grams between patronising and non-patronising datasets\n",
      "[('would', 90, 724, 1.1858), ('work', 98, 690, 1.3548), ('families', 212, 1129, 1.7912), ('people', 260, 1602, 1.5481), ('the', 244, 2850, 0.8167), ('children', 199, 840, 2.2598), ('vulnerable', 97, 1107, 0.8358), ('refugees', 95, 871, 1.0404), ('poor', 234, 956, 2.3348), ('i', 222, 1250, 1.6941), ('homeless', 177, 858, 1.9678), ('disable', 104, 1033, 0.9603), ('many', 92, 697, 1.2591), ('need', 275, 1419, 1.8486), ('women', 146, 1572, 0.8859), ('say', 244, 2539, 0.9167), ('make', 105, 836, 1.1981)]\n",
      "Common 1-grams in the patronising dataset but not in the non-patronising dataset.\n",
      "[('live', 161, 593, 2.5898), ('help', 192, 551, 3.3239), ('come', 90, 546, 1.5723), ('get', 88, 490, 1.7131), ('give', 135, 433, 2.974), ('we', 93, 446, 1.989), ('life', 99, 253, 3.7326), ('n', 89, 635, 1.3369)]\n",
      "Common 1-grams in the non-patronising dataset but not in the patronising dataset.\n",
      "[('one', 79, 874, 0.8622), ('new', 62, 746, 0.7928), ('country', 86, 665, 1.2336), ('also', 80, 904, 0.8441), ('year', 58, 689, 0.803), ('it', 88, 675, 1.2436), ('immigrants', 44, 1250, 0.3358), ('government', 79, 773, 0.9749)]\n",
      "Common 2-grams between patronising and non-patronising datasets\n",
      "[('u s', 8, 145, 0.5263), ('people need', 28, 85, 3.1422), ('he say', 17, 135, 1.2012), ('sri lanka', 8, 100, 0.7631), ('i think', 19, 81, 2.2375), ('poor families', 150, 771, 1.8558), ('homeless people', 26, 110, 2.2546), ('disable people', 11, 104, 1.0089), ('men women', 12, 90, 1.2718), ('year old', 11, 121, 0.8672), ('women children', 11, 74, 1.4179), ('ca n', 16, 71, 2.1496)]\n",
      "Common 2-grams in the patronising dataset but not in the non-patronising dataset.\n",
      "[('health care', 9, 35, 2.4528), ('need say', 8, 20, 3.8155), ('we need', 11, 33, 3.1796), ('help people', 10, 18, 5.2993), ('help need', 21, 29, 6.9074), ('vulnerable people', 11, 47, 2.2325), ('come poor', 12, 39, 2.935), ('let us', 11, 7, 14.9895), ('hope hopeless', 10, 0, None), ('i n', 12, 59, 1.9401), ('give hope', 8, 1, 76.3102), ('children poor', 21, 63, 3.1796), ('hundreds thousands', 10, 28, 3.4067)]\n",
      "Common 2-grams in the non-patronising dataset but not in the patronising dataset.\n",
      "[('new york', 5, 100, 0.4769), ('asylum seekers', 5, 69, 0.6912), ('anti immigrant', 0, 80, 0.0), ('hong kong', 6, 97, 0.59), ('united states', 7, 154, 0.4336), ('illegal immigrants', 3, 303, 0.0944), ('000 people', 4, 68, 0.5611), ('donald trump', 5, 93, 0.5128), ('refugee camp', 7, 93, 0.718), ('migrant workers', 3, 69, 0.4147), ('per cent', 6, 160, 0.3577), ('new zealand', 2, 72, 0.265), ('last year', 8, 122, 0.6255)]\n",
      "Common 3-grams between patronising and non-patronising datasets\n",
      "[('poor families live', 3, 12, 2.3847), ('help poor families', 5, 21, 2.2711), ('children poor families', 21, 62, 3.2309), ('students poor families', 3, 32, 0.8943), ('many poor families', 4, 29, 1.3157), ('come poor families', 11, 38, 2.7612)]\n",
      "Common 3-grams in the patronising dataset but not in the non-patronising dataset.\n",
      "[('urban poor families', 3, 11, 2.6015), ('think poor families', 3, 2, 14.3082), ('children come poor', 3, 5, 5.7233), ('bring smile face', 3, 0, None), ('united states illegally', 3, 3, 9.5388), ('states illegally children', 3, 1, 28.6163), ('bring united states', 4, 6, 6.3592), ('help people need', 4, 6, 6.3592), ('say we need', 3, 0, None), ('kid poor families', 3, 2, 14.3082), ('put food table', 3, 0, None), ('give hope hopeless', 5, 0, None), ('i ca n', 3, 4, 7.1541), ('live poverty line', 3, 1, 28.6163), ('poor families pay', 3, 2, 14.3082), ('poor families get', 3, 5, 5.7233), ('hundreds thousands refugees', 3, 6, 4.7694), ('say i think', 3, 4, 7.1541), ('food poor families', 3, 0, None)]\n",
      "Common 3-grams in the non-patronising dataset but not in the patronising dataset.\n",
      "[('million people need', 0, 15, 0.0), ('muslim majority countries', 0, 13, 0.0), ('president barack obama', 1, 16, 0.5962), ('chancellor angela merkel', 0, 13, 0.0), ('president donald trump', 2, 53, 0.36), ('day disable list', 0, 15, 0.0), ('high commissioner refugees', 2, 14, 1.3627), ('need humanitarian assistance', 0, 19, 0.0), ('belong poor families', 2, 15, 1.2718), ('refugees asylum seekers', 2, 13, 1.4675), ('un refugee agency', 2, 29, 0.6578), ('us president donald', 0, 19, 0.0), ('more gt gt', 0, 15, 0.0), ('million poor families', 0, 13, 0.0), ('work poor families', 0, 15, 0.0), ('papua new guinea', 0, 12, 0.0), ('world war ii', 0, 17, 0.0), ('dar es salaam', 1, 16, 0.5962), ('h email friend', 1, 17, 0.5611)]\n",
      "Common 4-grams between patronising and non-patronising datasets\n",
      "[('un high commissioner refugees', 2, 8, 2.3847), ('deferred action childhood arrivals', 2, 6, 3.1796)]\n",
      "Common 4-grams in the patronising dataset but not in the non-patronising dataset.\n",
      "[('immigrants bring united states', 2, 3, 6.3592), ('force live refugee camp', 2, 0, None), ('education children poor families', 2, 1, 19.0775), ('childhood arrivals daca program', 2, 0, None), ('muslim orthodox hindu catholic', 2, 0, None), ('joseph golden age home', 2, 0, None), ('st joseph golden age', 2, 0, None), ('poor families rural areas', 2, 5, 3.8155), ('for jobless hopeless zimbabweans', 2, 0, None), ('children come poor families', 3, 5, 5.7233), ('feet muslim orthodox hindu', 2, 0, None), ('jobless hopeless zimbabweans nothing', 2, 0, None), ('united states illegally children', 3, 1, 28.6163), ('action childhood arrivals daca', 2, 2, 9.5388), ('zimbabweans nothing much cheer', 2, 0, None), ('hopeless zimbabweans nothing much', 2, 0, None), ('orthodox hindu catholic refugees', 2, 0, None), ('i think poor families', 2, 0, None), ('wash kiss feet muslim', 2, 0, None), ('help poor families pay', 2, 2, 9.5388), ('bring united states illegally', 3, 1, 28.6163), ('kiss feet muslim orthodox', 2, 0, None), ('dreamers bring united states', 2, 0, None)]\n",
      "Common 4-grams in the non-patronising dataset but not in the patronising dataset.\n",
      "[('president donald trump executive', 0, 7, 0.0), ('by continue use site', 0, 6, 0.0), ('the un refugee agency', 0, 10, 0.0), ('continue use site consent', 0, 6, 0.0), ('u n refugee agency', 0, 6, 0.0), ('us president donald trump', 0, 19, 0.0), ('un refugee agency unhcr', 1, 7, 1.3627), ('what hong kong free', 0, 6, 0.0), ('use site consent use', 0, 6, 0.0), ('10 day disable list', 0, 7, 0.0), ('high commissioner refugees unhcr', 0, 6, 0.0), ('immigrant alternative germany afd', 0, 6, 0.0), ('million people need humanitarian', 0, 8, 0.0), ('anti immigrant alternative germany', 0, 6, 0.0), ('since world war ii', 0, 6, 0.0), ('h what hong kong', 0, 6, 0.0), ('site consent use cookies', 0, 6, 0.0), ('seven muslim majority countries', 0, 9, 0.0), ('people need humanitarian assistance', 0, 9, 0.0), ('united nations refugee agency', 1, 6, 1.5898), ('donald trump executive order', 0, 8, 0.0), ('hong kong free press', 0, 6, 0.0), ('german chancellor angela merkel', 0, 7, 0.0)]\n"
     ]
    },
    {
     "data": {
      "text/plain": [
       "'\\nwith open(\"results/n_gram_analysis\", \"w\") as f:\\n    json.dump(n_gram_analysis, f, indent=4)\\n'"
      ]
     },
     "execution_count": 14,
     "metadata": {},
     "output_type": "execute_result"
    }
   ],
   "source": [
    "n_gram_analysis = dict()\n",
    "\n",
    "for n in range(1, 5):\n",
    "    common_n_grams, common_a_not_b, \\\n",
    "    common_b_not_a = find_matching_n_grams(patr_corpus, unpatr_corpus, n)\n",
    "\n",
    "    \"\"\"\n",
    "    n_gram_analysis[n] = {\n",
    "        \"common_n_grams\": common_n_grams,\n",
    "        \"common_a_not_b\": common_a_not_b,\n",
    "        \"common_b_not_a\": common_b_not_a\n",
    "    }\n",
    "    \"\"\"\n",
    "\n",
    "    print(f\"Common {n}-grams between patronising and non-patronising datasets\")\n",
    "    print(common_n_grams)\n",
    "\n",
    "    print(f\"Common {n}-grams in the patronising dataset but not in the non-patronising dataset.\")\n",
    "    print(common_a_not_b)\n",
    "\n",
    "    print(f\"Common {n}-grams in the non-patronising dataset but not in the patronising dataset.\")\n",
    "    print(common_b_not_a)\n",
    "\n",
    "\"\"\"\n",
    "with open(\"results/n_gram_analysis\", \"w\") as f:\n",
    "    json.dump(n_gram_analysis, f, indent=4)\n",
    "\"\"\""
   ]
  }
 ],
 "metadata": {
  "interpreter": {
   "hash": "70ac0554d1fc8138b49fb10ebdd30b195d37745d25bc3607903881c8af422237"
  },
  "kernelspec": {
   "display_name": "Python 3 (ipykernel)",
   "language": "python",
   "name": "python3"
  },
  "language_info": {
   "codemirror_mode": {
    "name": "ipython",
    "version": 3
   },
   "file_extension": ".py",
   "mimetype": "text/x-python",
   "name": "python",
   "nbconvert_exporter": "python",
   "pygments_lexer": "ipython3",
   "version": "3.8.12"
  },
  "orig_nbformat": 4
 },
 "nbformat": 4,
 "nbformat_minor": 2
}
