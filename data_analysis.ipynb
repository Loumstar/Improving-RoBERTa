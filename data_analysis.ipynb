{
 "cells": [
  {
   "cell_type": "code",
   "execution_count": 9,
   "metadata": {},
   "outputs": [],
   "source": [
    "import csv\n",
    "import numpy as np\n",
    "\n",
    "from matplotlib import pyplot as plot\n",
    "from operator import itemgetter"
   ]
  },
  {
   "cell_type": "code",
   "execution_count": 15,
   "metadata": {},
   "outputs": [],
   "source": [
    "fields = [\"idx\", \"id\", \"category\", \"language\", \"text\", \"score\"]\n",
    "\n",
    "with open(\"data/dontpatronizeme_pcl.tsv\", \"r\") as f:\n",
    "    reader = csv.DictReader(f, delimiter=\"\\t\", fieldnames=fields)\n",
    "    dataset = list(reader)\n",
    "\n",
    "def attribute_series(attr, dataset):\n",
    "    return list(map(itemgetter(attr), dataset))"
   ]
  },
  {
   "cell_type": "code",
   "execution_count": 16,
   "metadata": {},
   "outputs": [
    {
     "data": {
      "image/png": "[encoded data removed]",
      "text/plain": [
       "<Figure size 432x288 with 1 Axes>"
      ]
     },
     "metadata": {
      "needs_background": "light"
     },
     "output_type": "display_data"
    }
   ],
   "source": [
    "languages = attribute_series(\"language\", dataset)\n",
    "langauge_bins = np.unique(languages)\n",
    "\n",
    "plot.hist(languages, np.arange(len(langauge_bins)))\n",
    "plot.show()"
   ]
  },
  {
   "cell_type": "code",
   "execution_count": 18,
   "metadata": {},
   "outputs": [
    {
     "data": {
      "image/png": "[encoded data removed]",
      "text/plain": [
       "<Figure size 432x288 with 1 Axes>"
      ]
     },
     "metadata": {
      "needs_background": "light"
     },
     "output_type": "display_data"
    }
   ],
   "source": [
    "scores = attribute_series(\"score\", dataset)\n",
    "score_bins = np.unique(scores)\n",
    "\n",
    "plot.hist(scores, np.arange(3))\n",
    "plot.show()"
   ]
  }
 ],
 "metadata": {
  "interpreter": {
   "hash": "70ac0554d1fc8138b49fb10ebdd30b195d37745d25bc3607903881c8af422237"
  },
  "kernelspec": {
   "display_name": "Python 3.8.12 64-bit ('3.8.12')",
   "language": "python",
   "name": "python3"
  },
  "language_info": {
   "codemirror_mode": {
    "name": "ipython",
    "version": 3
   },
   "file_extension": ".py",
   "mimetype": "text/x-python",
   "name": "python",
   "nbconvert_exporter": "python",
   "pygments_lexer": "ipython3",
   "version": "3.8.12"
  },
  "orig_nbformat": 4
 },
 "nbformat": 4,
 "nbformat_minor": 2
}
