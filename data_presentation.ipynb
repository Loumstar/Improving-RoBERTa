{
 "cells": [
  {
   "cell_type": "code",
   "execution_count": 1,
   "metadata": {},
   "outputs": [],
   "source": [
    "import pandas as pd\n",
    "import numpy as np\n",
    "\n",
    "from matplotlib import pyplot as plt\n",
    "from sklearn.metrics import f1_score\n",
    "from operator import itemgetter"
   ]
  },
  {
   "cell_type": "code",
   "execution_count": 2,
   "metadata": {},
   "outputs": [
    {
     "name": "stdout",
     "output_type": "stream",
     "text": [
      "(2094, 9)\n",
      "   index  par_id                                               text  label  \\\n",
      "0    422    8627  More than 100,000 people have signed an online...    0.0   \n",
      "1   1305    9591  The organizers of the event , which attracted ...    0.0   \n",
      "2   1983   10344  Sadio Mane 's injury may be the break Alex Oxl...    0.0   \n",
      "3   1722   10061  Dr Thomas Kway , coordinator of HIV care and t...    0.0   \n",
      "4   1699   10038  There are also a growing number of the homeles...    0.0   \n",
      "\n",
      "         keyword country  intensity  length  prediction  \n",
      "0       disabled      hk          0   406.0         0.0  \n",
      "1        migrant      ie          0   320.0         0.0  \n",
      "2        in-need      gh          0    84.0         0.0  \n",
      "3  poor-families      tz          0   213.0         0.0  \n",
      "4       homeless      my          0   172.0         0.0  \n"
     ]
    }
   ],
   "source": [
    "annotated_test_dataset = pd.read_csv(\"data/annotated_test_dataset.csv\")\n",
    "\n",
    "print(annotated_test_dataset.shape)\n",
    "print(annotated_test_dataset.head())"
   ]
  },
  {
   "cell_type": "markdown",
   "metadata": {},
   "source": [
    "### Analysis of F1 score with different intensities"
   ]
  },
  {
   "cell_type": "code",
   "execution_count": 3,
   "metadata": {},
   "outputs": [],
   "source": [
    "def get_intensity_histograms(df, intensity, axis):\n",
    "    intensity_df = df.loc[df.intensity.map(int) == intensity]\n",
    "    series = intensity_df.prediction.map(int)\n",
    "    _, _, [patch0, patch1] = axis.hist(series, bins=[-0.5, 0.5, 1.5])\n",
    "\n",
    "    patch0.set_facecolor(\"tab:blue\")\n",
    "    patch1.set_facecolor(\"tab:orange\")\n",
    "\n",
    "    axis.set_xticks([0, 1], labels=[\"Unpatronising\", \"Patronising\"])"
   ]
  },
  {
   "cell_type": "code",
   "execution_count": 4,
   "metadata": {},
   "outputs": [
    {
     "data": {
      "image/png": "[encoded data removed]",
      "text/plain": [
       "<Figure size 576x288 with 2 Axes>"
      ]
     },
     "metadata": {
      "needs_background": "light"
     },
     "output_type": "display_data"
    },
    {
     "data": {
      "image/png": "[encoded data removed]",
      "text/plain": [
       "<Figure size 864x288 with 3 Axes>"
      ]
     },
     "metadata": {
      "needs_background": "light"
     },
     "output_type": "display_data"
    }
   ],
   "source": [
    "figure_unpatr, (axis0, axis1) = plt.subplots(1, 2)\n",
    "\n",
    "figure_unpatr.set_size_inches((8, 4))\n",
    "figure_unpatr.suptitle(\"Model predictions for different patronising intensities\")\n",
    "\n",
    "axis0.set_ylabel(\"Predictions\")\n",
    "axis1.set_ylabel(\"Predictions\")\n",
    "\n",
    "axis0.set_title(\"Intensity = 0\")\n",
    "axis1.set_title(\"Intensity = 1\")\n",
    "\n",
    "series = get_intensity_histograms(annotated_test_dataset, 0, axis0)\n",
    "series = get_intensity_histograms(annotated_test_dataset, 1, axis1)\n",
    "\n",
    "figure_patr, (axis2, axis3, axis4) = plt.subplots(1, 3)\n",
    "\n",
    "figure_patr.set_size_inches(12, 4)\n",
    "figure_patr.suptitle(\"Model predictions for different patronising intensities\")\n",
    "\n",
    "axis2.set_ylabel(\"Predictions\")\n",
    "axis3.set_ylabel(\"Predictions\")\n",
    "axis4.set_ylabel(\"Predictions\")\n",
    "\n",
    "axis2.set_title(\"Intensity = 2\")\n",
    "axis3.set_title(\"Intensity = 3\")\n",
    "axis4.set_title(\"Intensity = 4\")\n",
    "\n",
    "get_intensity_histograms(annotated_test_dataset, 2, axis2)\n",
    "get_intensity_histograms(annotated_test_dataset, 3, axis3)\n",
    "get_intensity_histograms(annotated_test_dataset, 4, axis4)"
   ]
  },
  {
   "cell_type": "code",
   "execution_count": 5,
   "metadata": {},
   "outputs": [],
   "source": [
    "def intensity_f1_score(df):\n",
    "    f1_scores = list()\n",
    "\n",
    "    for intensity in range(5):\n",
    "        intensity_df = df.loc[df.intensity.map(int) == intensity]\n",
    "        labels = intensity_df.label.tolist()\n",
    "        predictions = intensity_df.prediction.tolist()\n",
    "        \n",
    "        score = f1_score(labels, predictions)\n",
    "        f1_scores.append(score)\n",
    "    \n",
    "    return f1_scores"
   ]
  },
  {
   "cell_type": "code",
   "execution_count": 6,
   "metadata": {},
   "outputs": [
    {
     "data": {
      "text/plain": [
       "[0.0, 0.0, 0.56, 0.7972972972972973, 0.8848484848484849]"
      ]
     },
     "execution_count": 6,
     "metadata": {},
     "output_type": "execute_result"
    }
   ],
   "source": [
    "intensity_f1_score(annotated_test_dataset)"
   ]
  },
  {
   "cell_type": "markdown",
   "metadata": {},
   "source": [
    "### Analysis of F1 score with different input lengths"
   ]
  },
  {
   "cell_type": "code",
   "execution_count": 7,
   "metadata": {},
   "outputs": [],
   "source": [
    "def input_length_f1_score(df):\n",
    "    results = list()\n",
    "    \n",
    "    for lb in np.arange(0, 200, 20):\n",
    "        ub = lb + 20\n",
    "        length_df = df.loc[df.length >= lb]\n",
    "        length_df = length_df.loc[length_df.length < ub]\n",
    "\n",
    "        predictions = length_df.prediction.map(int)\n",
    "        labels = length_df.label.map(int)\n",
    "\n",
    "        score = f1_score(labels, predictions)\n",
    "        results.append((score, f\"{lb} <= n < {ub}\"))\n",
    "    \n",
    "    scores, labels = zip(*results)\n",
    "\n",
    "    return list(scores), list(labels)"
   ]
  },
  {
   "cell_type": "code",
   "execution_count": 18,
   "metadata": {},
   "outputs": [
    {
     "name": "stdout",
     "output_type": "stream",
     "text": [
      "[0.0, 0.0, 0.6666666666666666, 0.6, 0.42857142857142855, 0.6666666666666666, 0.7499999999999999, 0.38095238095238093, 0.6153846153846154, 0.46808510638297873]\n"
     ]
    },
    {
     "name": "stderr",
     "output_type": "stream",
     "text": [
      "/Users/louismanestar/.pyenv/versions/3.8.12/lib/python3.8/site-packages/sklearn/metrics/_classification.py:1580: UndefinedMetricWarning: F-score is ill-defined and being set to 0.0 due to no true nor predicted samples. Use `zero_division` parameter to control this behavior.\n",
      "  _warn_prf(average, \"true nor predicted\", \"F-score is\", len(true_sum))\n",
      "/Users/louismanestar/.pyenv/versions/3.8.12/lib/python3.8/site-packages/sklearn/metrics/_classification.py:1580: UndefinedMetricWarning: F-score is ill-defined and being set to 0.0 due to no true nor predicted samples. Use `zero_division` parameter to control this behavior.\n",
      "  _warn_prf(average, \"true nor predicted\", \"F-score is\", len(true_sum))\n"
     ]
    },
    {
     "data": {
      "text/plain": [
       "Text(0, 0.5, 'F1 Score')"
      ]
     },
     "execution_count": 18,
     "metadata": {},
     "output_type": "execute_result"
    },
    {
     "data": {
      "image/png": "[encoded data removed]",
      "text/plain": [
       "<Figure size 504x288 with 1 Axes>"
      ]
     },
     "metadata": {
      "needs_background": "light"
     },
     "output_type": "display_data"
    }
   ],
   "source": [
    "scores, labels = input_length_f1_score(annotated_test_dataset)\n",
    "\n",
    "figure, axis = plt.subplots()\n",
    "figure.set_size_inches((7, 4))\n",
    "\n",
    "print(scores)\n",
    "\n",
    "axis.bar(np.arange(10, 210, 20), scores, width=20)\n",
    "\n",
    "axis.set_xlim(40, 200)\n",
    "axis.set_ylim(0, 1)\n",
    "\n",
    "axis.set_title(\"Variation of F1 score for examples with different numbers of words\")\n",
    "axis.set_xlabel(\"Number of words\")\n",
    "axis.set_ylabel(\"F1 Score\")"
   ]
  },
  {
   "cell_type": "markdown",
   "metadata": {},
   "source": [
    "### Analysis of F1 score with different categories"
   ]
  },
  {
   "cell_type": "code",
   "execution_count": 9,
   "metadata": {},
   "outputs": [],
   "source": [
    "def categories_f1_score(df):\n",
    "    results = list()\n",
    "    \n",
    "    for category in np.unique(df.keyword):\n",
    "        category_df = df.loc[df.keyword == category]\n",
    "        predictions = category_df.prediction\n",
    "        labels = category_df.label\n",
    "\n",
    "        score = f1_score(labels, predictions)\n",
    "        results.append((score, category))\n",
    "    \n",
    "    results.sort(key=itemgetter(0), reverse=True)\n",
    "    scores, labels = zip(*results)\n",
    "\n",
    "    return list(scores), list(labels)"
   ]
  },
  {
   "cell_type": "code",
   "execution_count": 17,
   "metadata": {},
   "outputs": [
    {
     "data": {
      "text/plain": [
       "Text(0, 0.5, 'F1 Score')"
      ]
     },
     "execution_count": 17,
     "metadata": {},
     "output_type": "execute_result"
    },
    {
     "data": {
      "image/png": "[encoded data removed]",
      "text/plain": [
       "<Figure size 504x288 with 1 Axes>"
      ]
     },
     "metadata": {
      "needs_background": "light"
     },
     "output_type": "display_data"
    }
   ],
   "source": [
    "figure, axis = plt.subplots()\n",
    "figure.set_size_inches((7, 4))\n",
    "\n",
    "scores, labels = categories_f1_score(annotated_test_dataset)\n",
    "axis.bar(np.arange(len(labels)), scores, tick_label=labels)\n",
    "\n",
    "axis.set_ylim(0, 1)\n",
    "axis.tick_params(axis='x', labelrotation=30)\n",
    "\n",
    "axis.set_title(\"Variation of F1 score with category\")\n",
    "axis.set_xlabel(\"Category\")\n",
    "axis.set_ylabel(\"F1 Score\")"
   ]
  },
  {
   "cell_type": "markdown",
   "metadata": {},
   "source": [
    "### Analysis of F1 score with different countries"
   ]
  },
  {
   "cell_type": "code",
   "execution_count": 11,
   "metadata": {},
   "outputs": [],
   "source": [
    "def country_f1_score(df):\n",
    "    results = list()\n",
    "    \n",
    "    for country in np.unique(df.country):\n",
    "        country_df = df.loc[df.country == country]\n",
    "        predictions = country_df.prediction\n",
    "        labels = country_df.label\n",
    "\n",
    "        score = f1_score(labels, predictions)\n",
    "        results.append((score, country))\n",
    "    \n",
    "    results.sort(key=itemgetter(0), reverse=True)\n",
    "    scores, labels = zip(*results)\n",
    "\n",
    "    return list(scores), list(labels)"
   ]
  },
  {
   "cell_type": "code",
   "execution_count": 13,
   "metadata": {},
   "outputs": [
    {
     "data": {
      "text/plain": [
       "Text(0, 0.5, 'F1 Score')"
      ]
     },
     "execution_count": 13,
     "metadata": {},
     "output_type": "execute_result"
    },
    {
     "data": {
      "image/png": "[encoded data removed]",
      "text/plain": [
       "<Figure size 576x360 with 1 Axes>"
      ]
     },
     "metadata": {
      "needs_background": "light"
     },
     "output_type": "display_data"
    }
   ],
   "source": [
    "figure, axis = plt.subplots()\n",
    "figure.set_size_inches((7, 4))\n",
    "\n",
    "scores, labels = country_f1_score(annotated_test_dataset)\n",
    "axis.bar(np.arange(len(labels)), scores, tick_label=labels)\n",
    "\n",
    "axis.set_ylim(0, 1)\n",
    "\n",
    "axis.set_title(\"Variation of F1 score with country\")\n",
    "axis.set_xlabel(\"Country\")\n",
    "axis.set_ylabel(\"F1 Score\")"
   ]
  }
 ],
 "metadata": {
  "interpreter": {
   "hash": "70ac0554d1fc8138b49fb10ebdd30b195d37745d25bc3607903881c8af422237"
  },
  "kernelspec": {
   "display_name": "Python 3.8.12 64-bit ('3.8.12')",
   "language": "python",
   "name": "python3"
  },
  "language_info": {
   "codemirror_mode": {
    "name": "ipython",
    "version": 3
   },
   "file_extension": ".py",
   "mimetype": "text/x-python",
   "name": "python",
   "nbconvert_exporter": "python",
   "pygments_lexer": "ipython3",
   "version": "3.8.12"
  },
  "orig_nbformat": 4
 },
 "nbformat": 4,
 "nbformat_minor": 2
}
